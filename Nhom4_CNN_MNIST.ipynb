{
  "cells": [
    {
      "cell_type": "markdown",
      "metadata": {
        "id": "FmxQlAD79rdo"
      },
      "source": [
        "# Deep Neural Network for MNIST Classification\n",
        "The dataset is called MNIST and refers to handwritten digit recognition.\n",
        "The dataset provides 70,000 images (28x28 pixels) of handwritten digits (1 digit per image)."
      ]
    },
    {
      "cell_type": "markdown",
      "source": [
        "## Evaluation:\n",
        "Dũng: 100%\n",
        "\n",
        "Đài: 100%\n",
        "\n",
        "Hoàng: 95%\n",
        "\n",
        "Ngọc: 90%\n",
        "\n",
        "Thiên: 90%\n",
        "\n",
        "Sơn: 85%\n",
        "\n",
        "Hiếu: 80%"
      ],
      "metadata": {
        "id": "ih7tfs3e69lS"
      }
    },
    {
      "cell_type": "code",
      "execution_count": null,
      "metadata": {
        "colab": {
          "base_uri": "https://localhost:8080/"
        },
        "id": "jU8kV_VwMmFK",
        "outputId": "f1702e02-4008-4b53-c016-6ee3dd0864d4"
      },
      "outputs": [
        {
          "output_type": "stream",
          "name": "stdout",
          "text": [
            "Mounted at /content/drive\n"
          ]
        }
      ],
      "source": [
        "from google.colab import drive\n",
        "drive.mount('/content/drive')"
      ]
    },
    {
      "cell_type": "markdown",
      "metadata": {
        "id": "NTPURBARrJk5"
      },
      "source": [
        "## Import library"
      ]
    },
    {
      "cell_type": "code",
      "execution_count": null,
      "metadata": {
        "id": "V70aJ1nGqyw9"
      },
      "outputs": [],
      "source": [
        "import pandas as pd\n",
        "import numpy as np\n",
        "import matplotlib.pyplot as plt\n",
        "import matplotlib_inline.backend_inline\n",
        "matplotlib_inline.backend_inline.set_matplotlib_formats('svg')\n",
        "\n",
        "import tensorflow as tf\n",
        "import tensorflow_datasets as tfds\n",
        "from tensorflow.keras.models import Sequential\n",
        "from tensorflow.keras.layers import Dense, Conv2D, MaxPool2D, Flatten\n",
        "\n",
        "from sklearn.metrics import classification_report,confusion_matrix\n",
        "from sklearn.metrics import ConfusionMatrixDisplay"
      ]
    },
    {
      "cell_type": "markdown",
      "metadata": {
        "id": "UzcpWMNMrl3S"
      },
      "source": [
        "## Load MNIST datasets"
      ]
    },
    {
      "cell_type": "code",
      "execution_count": null,
      "metadata": {
        "id": "bQJ1OePSrllg",
        "colab": {
          "base_uri": "https://localhost:8080/",
          "height": 104,
          "referenced_widgets": [
            "0de357e37dac4edcaebd6eb0feda354e",
            "5ca9d32409c043e7b20c60e5c5411fea",
            "a2edb30edce84dcd905d3230e3af3171",
            "6d3335c9e0bd40ddb2775ad1d20ef8de",
            "cac722b188034d25a98e56f8b052e1c0",
            "c24536014b4f4745a3fa40b068fcba23",
            "db523fc7da7a46408d7933e6fa0d3fcc",
            "41db21e0ef964fe1ad21c896ea754966",
            "cc7d55ff9401482393693880336726bf",
            "ef5e613104924911bcd971b51ed58223",
            "df11bff3046f45b0b21699eae879c5bf"
          ]
        },
        "outputId": "d2e3913d-3ff9-4ad9-a9e2-2e93bff5cd34"
      },
      "outputs": [
        {
          "output_type": "stream",
          "name": "stdout",
          "text": [
            "Downloading and preparing dataset 11.06 MiB (download: 11.06 MiB, generated: 21.00 MiB, total: 32.06 MiB) to /root/tensorflow_datasets/mnist/3.0.1...\n"
          ]
        },
        {
          "output_type": "display_data",
          "data": {
            "text/plain": [
              "Dl Completed...:   0%|          | 0/5 [00:00<?, ? file/s]"
            ],
            "application/vnd.jupyter.widget-view+json": {
              "version_major": 2,
              "version_minor": 0,
              "model_id": "0de357e37dac4edcaebd6eb0feda354e"
            }
          },
          "metadata": {}
        },
        {
          "output_type": "stream",
          "name": "stdout",
          "text": [
            "Dataset mnist downloaded and prepared to /root/tensorflow_datasets/mnist/3.0.1. Subsequent calls will reuse this data.\n"
          ]
        }
      ],
      "source": [
        "mnist_dataset, mnist_info = tfds.load(name='mnist', with_info=True, as_supervised=True)"
      ]
    },
    {
      "cell_type": "markdown",
      "metadata": {
        "id": "zVDi6ev6vX2N"
      },
      "source": [
        "## Dataset Information and Data Processing\n"
      ]
    },
    {
      "cell_type": "code",
      "execution_count": null,
      "metadata": {
        "colab": {
          "base_uri": "https://localhost:8080/"
        },
        "id": "J0RqsWEYvLvE",
        "outputId": "bbb34e5e-ab47-4fc2-d7a6-c9696c7c098a"
      },
      "outputs": [
        {
          "output_type": "execute_result",
          "data": {
            "text/plain": [
              "tfds.core.DatasetInfo(\n",
              "    name='mnist',\n",
              "    full_name='mnist/3.0.1',\n",
              "    description=\"\"\"\n",
              "    The MNIST database of handwritten digits.\n",
              "    \"\"\",\n",
              "    homepage='http://yann.lecun.com/exdb/mnist/',\n",
              "    data_dir='/root/tensorflow_datasets/mnist/incomplete.6GLIGY_3.0.1/',\n",
              "    file_format=tfrecord,\n",
              "    download_size=11.06 MiB,\n",
              "    dataset_size=21.00 MiB,\n",
              "    features=FeaturesDict({\n",
              "        'image': Image(shape=(28, 28, 1), dtype=uint8),\n",
              "        'label': ClassLabel(shape=(), dtype=int64, num_classes=10),\n",
              "    }),\n",
              "    supervised_keys=('image', 'label'),\n",
              "    disable_shuffling=False,\n",
              "    splits={\n",
              "        'test': <SplitInfo num_examples=10000, num_shards=1>,\n",
              "        'train': <SplitInfo num_examples=60000, num_shards=1>,\n",
              "    },\n",
              "    citation=\"\"\"@article{lecun2010mnist,\n",
              "      title={MNIST handwritten digit database},\n",
              "      author={LeCun, Yann and Cortes, Corinna and Burges, CJ},\n",
              "      journal={ATT Labs [Online]. Available: http://yann.lecun.com/exdb/mnist},\n",
              "      volume={2},\n",
              "      year={2010}\n",
              "    }\"\"\",\n",
              ")"
            ]
          },
          "metadata": {},
          "execution_count": 7
        }
      ],
      "source": [
        "mnist_info"
      ]
    },
    {
      "cell_type": "code",
      "execution_count": null,
      "metadata": {
        "id": "--csczMN8kTA"
      },
      "outputs": [],
      "source": [
        "mnist_train, mnist_test = mnist_dataset['train'], mnist_dataset['test']\n",
        "\n",
        "# Trích một phần dữ liệu của train làm vadilation, chiếm 0.15 trong tập training\n",
        "num_validation_samples = 0.1 * mnist_info.splits['train'].num_examples\n",
        "num_validation_samples = tf.cast(num_validation_samples, tf.int64)\n",
        "\n",
        "num_test_samples = mnist_info.splits['test'].num_examples\n",
        "num_test_samples = tf.cast(num_test_samples, tf.int64)\n",
        "\n",
        "def scale(image, label):\n",
        "    image = tf.cast(image, tf.float32)\n",
        "    image /= 255.\n",
        "    return image, label\n",
        "\n",
        "scaled_train_and_validation_data = mnist_train.map(scale)\n",
        "\n",
        "test_data = mnist_test.map(scale)"
      ]
    },
    {
      "cell_type": "markdown",
      "metadata": {
        "id": "Difl3uyU_Y2c"
      },
      "source": [
        "### Train spilit into Validation"
      ]
    },
    {
      "cell_type": "code",
      "execution_count": null,
      "metadata": {
        "id": "VZzVBEHL_WO1"
      },
      "outputs": [],
      "source": [
        "# Xáo trộn dữ liệu, và tiến hành tách\n",
        "BUFFER_SIZE = 10000\n",
        "\n",
        "shuffled_train_and_validation_data = scaled_train_and_validation_data.shuffle(BUFFER_SIZE)\n",
        "\n",
        "validation_data = shuffled_train_and_validation_data.take(num_validation_samples)\n",
        "train_data = shuffled_train_and_validation_data.skip(num_validation_samples)\n"
      ]
    },
    {
      "cell_type": "code",
      "execution_count": null,
      "metadata": {
        "colab": {
          "base_uri": "https://localhost:8080/"
        },
        "id": "6APW-C-H9SFg",
        "outputId": "e5ffaddf-a553-42d4-ad1c-1972c57846c1"
      },
      "outputs": [
        {
          "output_type": "stream",
          "name": "stdout",
          "text": [
            "tf.Tensor(54000, shape=(), dtype=int64) Ty le : 0.7714285714285715 \n",
            "tf.Tensor(6000, shape=(), dtype=int64) Ty le : 0.08571428571428572\n",
            "tf.Tensor(10000, shape=(), dtype=int64) Ty le : 0.14285714285714285\n"
          ]
        }
      ],
      "source": [
        "# Số lượng và tỷ lệ giữa các phần\n",
        "datasetsum = (mnist_info.splits['train'].num_examples+mnist_info.splits['test'].num_examples)\n",
        "# Số lượng tập training\n",
        "print(mnist_info.splits['train'].num_examples - num_validation_samples,f\"Ty le : {(mnist_info.splits['train'].num_examples - num_validation_samples)/datasetsum} \")\n",
        "# Số lượng tập validation\n",
        "print(num_validation_samples,f\"Ty le : {num_validation_samples/datasetsum}\")\n",
        "# Số lượng tập test\n",
        "print(num_test_samples,f\"Ty le : {num_test_samples/datasetsum}\")"
      ]
    },
    {
      "cell_type": "code",
      "execution_count": null,
      "metadata": {
        "id": "MkI5GvPEC3DD"
      },
      "outputs": [],
      "source": [
        "BATCH_SIZE = 100\n",
        "\n",
        "train_data = train_data.batch(BATCH_SIZE)\n",
        "validation_data = validation_data.batch(num_validation_samples)\n",
        "test_data = test_data.batch(num_test_samples)\n",
        "\n",
        "validation_inputs, validation_targets = next(iter(validation_data))\n",
        "test_inputs, test_targets = next(iter(test_data))"
      ]
    },
    {
      "cell_type": "code",
      "source": [
        "validation_inputs.shape"
      ],
      "metadata": {
        "colab": {
          "base_uri": "https://localhost:8080/"
        },
        "id": "1Er8HqAT28t4",
        "outputId": "328d4b29-5c07-42db-aebe-e61c3b51a5aa"
      },
      "execution_count": null,
      "outputs": [
        {
          "output_type": "execute_result",
          "data": {
            "text/plain": [
              "TensorShape([6000, 28, 28, 1])"
            ]
          },
          "metadata": {},
          "execution_count": 12
        }
      ]
    },
    {
      "cell_type": "code",
      "source": [
        "test_inputs.shape"
      ],
      "metadata": {
        "colab": {
          "base_uri": "https://localhost:8080/"
        },
        "id": "MaAGrIsc8p87",
        "outputId": "467b69b0-1d3e-4d09-f26f-2274fc78945a"
      },
      "execution_count": null,
      "outputs": [
        {
          "output_type": "execute_result",
          "data": {
            "text/plain": [
              "TensorShape([10000, 28, 28, 1])"
            ]
          },
          "metadata": {},
          "execution_count": 13
        }
      ]
    },
    {
      "cell_type": "markdown",
      "metadata": {
        "id": "rjNGk3nPB3e0"
      },
      "source": [
        "## Visualize Dataset"
      ]
    },
    {
      "cell_type": "code",
      "execution_count": null,
      "metadata": {
        "colab": {
          "base_uri": "https://localhost:8080/",
          "height": 512
        },
        "id": "UCOVPtmNtU_y",
        "outputId": "c81d127d-7f49-4af6-c706-c6e1dbd92e7b"
      },
      "outputs": [
        {
          "output_type": "display_data",
          "data": {
            "text/plain": [
              "<Figure size 1300x600 with 21 Axes>"
            ],
            "image/svg+xml": "<?xml version=\"1.0\" encoding=\"utf-8\" standalone=\"no\"?>\n<!DOCTYPE svg PUBLIC \"-//W3C//DTD SVG 1.1//EN\"\n  \"http://www.w3.org/Graphics/SVG/1.1/DTD/svg11.dtd\">\n<svg xmlns:xlink=\"http://www.w3.org/1999/xlink\" width=\"739.8pt\" height=\"352.786246pt\" viewBox=\"0 0 739.8 352.786246\" xmlns=\"http://www.w3.org/2000/svg\" version=\"1.1\">\n <metadata>\n  <rdf:RDF xmlns:dc=\"http://purl.org/dc/elements/1.1/\" xmlns:cc=\"http://creativecommons.org/ns#\" xmlns:rdf=\"http://www.w3.org/1999/02/22-rdf-syntax-ns#\">\n   <cc:Work>\n    <dc:type rdf:resource=\"http://purl.org/dc/dcmitype/StillImage\"/>\n    <dc:date>2024-06-13T14:14:11.196994</dc:date>\n    <dc:format>image/svg+xml</dc:format>\n    <dc:creator>\n     <cc:Agent>\n      <dc:title>Matplotlib v3.7.1, https://matplotlib.org/</dc:title>\n     </cc:Agent>\n    </dc:creator>\n   </cc:Work>\n  </rdf:RDF>\n </metadata>\n <defs>\n  <style type=\"text/css\">*{stroke-linejoin: round; stroke-linecap: butt}</style>\n </defs>\n <g id=\"figure_1\">\n  <g id=\"patch_1\">\n   <path d=\"M 0 352.786246 \nL 739.8 352.786246 \nL 739.8 0 \nL 0 0 \nz\n\" style=\"fill: #ffffff\"/>\n  </g>\n  <g id=\"axes_1\">\n   <g id=\"patch_2\">\n    <path d=\"M 7.2 110.78154 \nL 95.663415 110.78154 \nL 95.663415 22.318125 \nL 7.2 22.318125 \nz\n\" style=\"fill: #ffffff\"/>\n   </g>\n   <g clip-path=\"url(#p353f3bf99c)\">\n    <image xlink:href=\"data:image/png;base64,\niVBORw0KGgoAAAANSUhEUgAAAHsAAAB7CAYAAABUx/9/AAAEtklEQVR4nO2dSyh9QRzH53rlEXmVLGRzN1YkFjZKeZTy2Eis2LFSUmyUJCUpiTyzwQKxEBaW9uRdFsojCwuKkjziv/7NnNxzzv+ce6++38/uO83MGT6mmXvunCOglPpRBIKYSA+AhA/KBoKygaBsICgbCMoGgrKBoGwgKBsIygaCsoGgbCAoGwjKBoKygaBsICgbiDi/Ok5KShK5v7/fqFNRUeHX5QU9PT0in56eGnVeXl7CMpZIwpkNBGUDQdlABJRPp0uHh4dF7u3t9eMyrtje3jbK5ubmRN7Z2QnXcMIGZzYQlA0EZQPh2Zrd3t4usr4GxsRE99/V19eXyCcnJ0ad0dFRkdfW1nwdk9dEtwHiKZQNBGUDQdlAeLZBu7y8FDkYDDru4+Pjwyh7fX0VOSMjQ+SHhwejTU5OjuNr20HfxA0MDIi8vLxstLm7u/NlLG7gzAaCsoGgbCA8W7N/fmQ339/fIdscHh6KPDMzY9S5uroSuaSkROS9vT2jTXV1tcgFBQUit7W1hRybG/b3942ycB3QsANnNhCUDQRlA0HZQHi2QdM3ZPqGzYqlpSWR/do4xcfHi5ybm2vU0b/Rqq2tNeokJyf/eh39potSSk1MTIi8srJi1Dk6Ovq1X6/gzAaCsoGgbCB8eyIkmvj8/BT59vbWqNPc3CxyR0eHUaevr0/k1NRUkdPT04023d3dImdmZhp1Ojs7Rbb6QsgLOLOBoGwgKBuIiH7O1p+mbGhoMOrc3Nz838B8RH86dGRkxFU/hYWFIp+dnbke029wZgNB2UBQNhCUDYRnG7SmpiaR9VMnVjccdC4uLoyyxsZGkfWTK5EkJSVF5KqqKqPOxsZGyH66urpE3traEtnqJpAbOLOBoGwgKBsI316z0dLSIrL+CK9SoQ8DKKXU4OCgyOPj4yI/Pz87H5wNysvLjTJ9jT44OBC5rKzMaLO5uen42sfHxyIXFxc77sMKzmwgKBsIygaCsoHwbYOmU1dXZ5TpNxxiY2ND9qN/IzQ/P2/UmZycdDg6k+vra6MsLy/vv/t1g53fix04s4GgbCAoG4iwrdlW6DclioqKHPdh9RTG/f29yKWlpSI/Pj6G7Hd3d9coq6mpcTg6b+CaTRxD2UBQNhARfSJEf3JyenraqJOYmChyQkKCyHFx5o+Qn58v8sLCgsjv7+9GG32Nfnt7sxixc6ampkTWX+2llFKtra2eXCsUnNlAUDYQlA0EZQMR0ZsqdtC/QNFf6K5v2KKN9fV1kfVTuHbgTRXiGMoGgrKBiPo1W0c/tWp1UMHO0yd/Ca7ZxDGUDQRlA/Hn1mydyspKo0x/XeXY2JjI+iutlLL3eV0/KBEIBET2am3V4ZpNHEPZQFA2EJQNxJ/foLkhLS3NKBsaGgrZbnFxUeTs7GyRV1dXjTZe3ODhBo04hrKBoGwgINdsv6ivrzfK9JOtWVlZRp3z83ORZ2dnRdZPqLqFMxsIygaCsoGgbCC4QfMZ/b/sBoNBo47+upGnpydfxsKZDQRlA0HZQHDNBoIzGwjKBoKygaBsICgbCMoGgrKBoGwgKBsIygaCsoGgbCAoGwjKBoKygaBsICgbCMoGgrKBoGwgKBuIfxICBO9WQrMiAAAAAElFTkSuQmCC\" id=\"imagefc670d675c\" transform=\"scale(1 -1) translate(0 -88.56)\" x=\"7.2\" y=\"-22.22154\" width=\"88.56\" height=\"88.56\"/>\n   </g>\n   <g id=\"matplotlib.axis_1\"/>\n   <g id=\"matplotlib.axis_2\"/>\n   <g id=\"patch_3\">\n    <path d=\"M 7.2 110.78154 \nL 7.2 22.318125 \n\" style=\"fill: none; stroke: #000000; stroke-width: 0.8; stroke-linejoin: miter; stroke-linecap: square\"/>\n   </g>\n   <g id=\"patch_4\">\n    <path d=\"M 95.663415 110.78154 \nL 95.663415 22.318125 \n\" style=\"fill: none; stroke: #000000; stroke-width: 0.8; stroke-linejoin: miter; stroke-linecap: square\"/>\n   </g>\n   <g id=\"patch_5\">\n    <path d=\"M 7.2 110.78154 \nL 95.663415 110.78154 \n\" style=\"fill: none; stroke: #000000; stroke-width: 0.8; stroke-linejoin: miter; stroke-linecap: square\"/>\n   </g>\n   <g id=\"patch_6\">\n    <path d=\"M 7.2 22.318125 \nL 95.663415 22.318125 \n\" style=\"fill: none; stroke: #000000; stroke-width: 0.8; stroke-linejoin: miter; stroke-linecap: square\"/>\n   </g>\n   <g id=\"text_1\">\n    <!-- The letter \"0\" -->\n    <g transform=\"translate(10.899832 16.318125) scale(0.12 -0.12)\">\n     <defs>\n      <path id=\"DejaVuSans-54\" d=\"M -19 4666 \nL 3928 4666 \nL 3928 4134 \nL 2272 4134 \nL 2272 0 \nL 1638 0 \nL 1638 4134 \nL -19 4134 \nL -19 4666 \nz\n\" transform=\"scale(0.015625)\"/>\n      <path id=\"DejaVuSans-68\" d=\"M 3513 2113 \nL 3513 0 \nL 2938 0 \nL 2938 2094 \nQ 2938 2591 2744 2837 \nQ 2550 3084 2163 3084 \nQ 1697 3084 1428 2787 \nQ 1159 2491 1159 1978 \nL 1159 0 \nL 581 0 \nL 581 4863 \nL 1159 4863 \nL 1159 2956 \nQ 1366 3272 1645 3428 \nQ 1925 3584 2291 3584 \nQ 2894 3584 3203 3211 \nQ 3513 2838 3513 2113 \nz\n\" transform=\"scale(0.015625)\"/>\n      <path id=\"DejaVuSans-65\" d=\"M 3597 1894 \nL 3597 1613 \nL 953 1613 \nQ 991 1019 1311 708 \nQ 1631 397 2203 397 \nQ 2534 397 2845 478 \nQ 3156 559 3463 722 \nL 3463 178 \nQ 3153 47 2828 -22 \nQ 2503 -91 2169 -91 \nQ 1331 -91 842 396 \nQ 353 884 353 1716 \nQ 353 2575 817 3079 \nQ 1281 3584 2069 3584 \nQ 2775 3584 3186 3129 \nQ 3597 2675 3597 1894 \nz\nM 3022 2063 \nQ 3016 2534 2758 2815 \nQ 2500 3097 2075 3097 \nQ 1594 3097 1305 2825 \nQ 1016 2553 972 2059 \nL 3022 2063 \nz\n\" transform=\"scale(0.015625)\"/>\n      <path id=\"DejaVuSans-20\" transform=\"scale(0.015625)\"/>\n      <path id=\"DejaVuSans-6c\" d=\"M 603 4863 \nL 1178 4863 \nL 1178 0 \nL 603 0 \nL 603 4863 \nz\n\" transform=\"scale(0.015625)\"/>\n      <path id=\"DejaVuSans-74\" d=\"M 1172 4494 \nL 1172 3500 \nL 2356 3500 \nL 2356 3053 \nL 1172 3053 \nL 1172 1153 \nQ 1172 725 1289 603 \nQ 1406 481 1766 481 \nL 2356 481 \nL 2356 0 \nL 1766 0 \nQ 1100 0 847 248 \nQ 594 497 594 1153 \nL 594 3053 \nL 172 3053 \nL 172 3500 \nL 594 3500 \nL 594 4494 \nL 1172 4494 \nz\n\" transform=\"scale(0.015625)\"/>\n      <path id=\"DejaVuSans-72\" d=\"M 2631 2963 \nQ 2534 3019 2420 3045 \nQ 2306 3072 2169 3072 \nQ 1681 3072 1420 2755 \nQ 1159 2438 1159 1844 \nL 1159 0 \nL 581 0 \nL 581 3500 \nL 1159 3500 \nL 1159 2956 \nQ 1341 3275 1631 3429 \nQ 1922 3584 2338 3584 \nQ 2397 3584 2469 3576 \nQ 2541 3569 2628 3553 \nL 2631 2963 \nz\n\" transform=\"scale(0.015625)\"/>\n      <path id=\"DejaVuSans-22\" d=\"M 1147 4666 \nL 1147 2931 \nL 616 2931 \nL 616 4666 \nL 1147 4666 \nz\nM 2328 4666 \nL 2328 2931 \nL 1797 2931 \nL 1797 4666 \nL 2328 4666 \nz\n\" transform=\"scale(0.015625)\"/>\n      <path id=\"DejaVuSans-30\" d=\"M 2034 4250 \nQ 1547 4250 1301 3770 \nQ 1056 3291 1056 2328 \nQ 1056 1369 1301 889 \nQ 1547 409 2034 409 \nQ 2525 409 2770 889 \nQ 3016 1369 3016 2328 \nQ 3016 3291 2770 3770 \nQ 2525 4250 2034 4250 \nz\nM 2034 4750 \nQ 2819 4750 3233 4129 \nQ 3647 3509 3647 2328 \nQ 3647 1150 3233 529 \nQ 2819 -91 2034 -91 \nQ 1250 -91 836 529 \nQ 422 1150 422 2328 \nQ 422 3509 836 4129 \nQ 1250 4750 2034 4750 \nz\n\" transform=\"scale(0.015625)\"/>\n     </defs>\n     <use xlink:href=\"#DejaVuSans-54\"/>\n     <use xlink:href=\"#DejaVuSans-68\" x=\"61.083984\"/>\n     <use xlink:href=\"#DejaVuSans-65\" x=\"124.462891\"/>\n     <use xlink:href=\"#DejaVuSans-20\" x=\"185.986328\"/>\n     <use xlink:href=\"#DejaVuSans-6c\" x=\"217.773438\"/>\n     <use xlink:href=\"#DejaVuSans-65\" x=\"245.556641\"/>\n     <use xlink:href=\"#DejaVuSans-74\" x=\"307.080078\"/>\n     <use xlink:href=\"#DejaVuSans-74\" x=\"346.289062\"/>\n     <use xlink:href=\"#DejaVuSans-65\" x=\"385.498047\"/>\n     <use xlink:href=\"#DejaVuSans-72\" x=\"447.021484\"/>\n     <use xlink:href=\"#DejaVuSans-20\" x=\"488.134766\"/>\n     <use xlink:href=\"#DejaVuSans-22\" x=\"519.921875\"/>\n     <use xlink:href=\"#DejaVuSans-30\" x=\"565.917969\"/>\n     <use xlink:href=\"#DejaVuSans-22\" x=\"629.541016\"/>\n    </g>\n   </g>\n  </g>\n  <g id=\"axes_2\">\n   <g id=\"patch_7\">\n    <path d=\"M 113.356098 110.78154 \nL 201.819512 110.78154 \nL 201.819512 22.318125 \nL 113.356098 22.318125 \nz\n\" style=\"fill: #ffffff\"/>\n   </g>\n   <g clip-path=\"url(#p80b35e1ab0)\">\n    <image xlink:href=\"data:image/png;base64,\niVBORw0KGgoAAAANSUhEUgAAAHsAAAB7CAYAAABUx/9/AAADxklEQVR4nO2dvyv1URzHz+VhQBn9WAwmhQGDlN2iLMTiH1AMbAaKQcpCMimMJLFZUEoZKEoyGPwYFJuN8CzP8vl+vj3u/T7Xfe6979dre5/O8T31up/O6Trfe1IhhK8AEpT87wlA7kC2EMgWAtlCIFsIZAuBbCGQLQSyhUC2EMgWAtlCIFsIZAuBbCGQLQSyhUC2EMgWAtlCIFuIX0kGlZT4z8jw8LDJXV1dJjc3N7sxLy8vJh8fH7s+e3t7JtfU1Jh8fX3txjw/P7s2oLKlQLYQyBYiFRK8EbK+vu7ahoaGTN7Z2TH56uoq08fE0tnZaXJTU5Pr8/r6avLi4qLJu7u7bozCOk9lC4FsIZAtBLKFSLRB6+/vd22np6cm39/fJ55UJtTV1bm2gYEBk8fHx02uqKhwYxYWFkyem5tzfb6+CvvtZipbCGQLgWwhEq3ZhUZlZaXJ09PTrs/Y2JjJMzMzrk9cWyFBZQuBbCGQLQSyhZDYoKXD6OioydEvWUIIoaOjw+SLi4sfnVO2obKFQLYQyBYi0enSYmRzc9PkwcFB1yd6SoY1G/IWZAuBbCFYs//w9PRkctxbL7k6kPFTUNlCIFsIZAuBbCHyfoO2urpqcktLy7djbm5uTD45OTH58PDQjWlvbzc5+mpwCCHc3t5+++x8hsoWAtlCIFuIvD+80NfXZ3JPT4/J0bU2HVpbW11beXm5yVtbW67P/Py8yW9vbyZfXl5mPJdcQmULgWwhkC0EsoXI+w3aT1BfX/9tW3d3t+szOTlpcnV1tckrKytuzNramsnn5+fpTjPrUNlCIFsIZAshuWYnpaqqyuTe3l6Tp6am3JjGxkaTt7e3XZ+JiQmTHx8fk07xr1DZQiBbCGQLwZqdRUpLS13b7OysydH1OYQQzs7OTI6+eZItqGwhkC0EsoVAthB5f7o0G5SVlZn8+fnp+nx8fPzzc1KplGvb3983OW7z1dDQ8M/PTgcqWwhkC4FsIYpyzY6eFF1eXja5trbWjTk4OMj4OdHfRI2ehA0hhLa2NpPjDi/k6jdRqWwhkC0EsoUoyn+EjIyMmLy0tJTx37i7u3NtGxsbJkcvio1eJBtH3GV27+/vGc4uGVS2EMgWAtlCIFuIotygRW/VjV7adnR05MZEv+x4eHhwfaK39xYaVLYQyBYC2UIU5ZoN8VDZQiBbCGQLgWwhkC0EsoVAthDIFgLZQiBbCGQLgWwhkC0EsoVAthDIFgLZQiBbCGQLgWwhkC0EsoVAthDIFgLZQiBbCGQLgWwhkC0EsoX4DRuztn18DXS5AAAAAElFTkSuQmCC\" id=\"image142c1a681d\" transform=\"scale(1 -1) translate(0 -88.56)\" x=\"113.356098\" y=\"-22.22154\" width=\"88.56\" height=\"88.56\"/>\n   </g>\n   <g id=\"matplotlib.axis_3\"/>\n   <g id=\"matplotlib.axis_4\"/>\n   <g id=\"patch_8\">\n    <path d=\"M 113.356098 110.78154 \nL 113.356098 22.318125 \n\" style=\"fill: none; stroke: #000000; stroke-width: 0.8; stroke-linejoin: miter; stroke-linecap: square\"/>\n   </g>\n   <g id=\"patch_9\">\n    <path d=\"M 201.819512 110.78154 \nL 201.819512 22.318125 \n\" style=\"fill: none; stroke: #000000; stroke-width: 0.8; stroke-linejoin: miter; stroke-linecap: square\"/>\n   </g>\n   <g id=\"patch_10\">\n    <path d=\"M 113.356098 110.78154 \nL 201.819512 110.78154 \n\" style=\"fill: none; stroke: #000000; stroke-width: 0.8; stroke-linejoin: miter; stroke-linecap: square\"/>\n   </g>\n   <g id=\"patch_11\">\n    <path d=\"M 113.356098 22.318125 \nL 201.819512 22.318125 \n\" style=\"fill: none; stroke: #000000; stroke-width: 0.8; stroke-linejoin: miter; stroke-linecap: square\"/>\n   </g>\n   <g id=\"text_2\">\n    <!-- The letter \"3\" -->\n    <g transform=\"translate(117.05593 16.318125) scale(0.12 -0.12)\">\n     <defs>\n      <path id=\"DejaVuSans-33\" d=\"M 2597 2516 \nQ 3050 2419 3304 2112 \nQ 3559 1806 3559 1356 \nQ 3559 666 3084 287 \nQ 2609 -91 1734 -91 \nQ 1441 -91 1130 -33 \nQ 819 25 488 141 \nL 488 750 \nQ 750 597 1062 519 \nQ 1375 441 1716 441 \nQ 2309 441 2620 675 \nQ 2931 909 2931 1356 \nQ 2931 1769 2642 2001 \nQ 2353 2234 1838 2234 \nL 1294 2234 \nL 1294 2753 \nL 1863 2753 \nQ 2328 2753 2575 2939 \nQ 2822 3125 2822 3475 \nQ 2822 3834 2567 4026 \nQ 2313 4219 1838 4219 \nQ 1578 4219 1281 4162 \nQ 984 4106 628 3988 \nL 628 4550 \nQ 988 4650 1302 4700 \nQ 1616 4750 1894 4750 \nQ 2613 4750 3031 4423 \nQ 3450 4097 3450 3541 \nQ 3450 3153 3228 2886 \nQ 3006 2619 2597 2516 \nz\n\" transform=\"scale(0.015625)\"/>\n     </defs>\n     <use xlink:href=\"#DejaVuSans-54\"/>\n     <use xlink:href=\"#DejaVuSans-68\" x=\"61.083984\"/>\n     <use xlink:href=\"#DejaVuSans-65\" x=\"124.462891\"/>\n     <use xlink:href=\"#DejaVuSans-20\" x=\"185.986328\"/>\n     <use xlink:href=\"#DejaVuSans-6c\" x=\"217.773438\"/>\n     <use xlink:href=\"#DejaVuSans-65\" x=\"245.556641\"/>\n     <use xlink:href=\"#DejaVuSans-74\" x=\"307.080078\"/>\n     <use xlink:href=\"#DejaVuSans-74\" x=\"346.289062\"/>\n     <use xlink:href=\"#DejaVuSans-65\" x=\"385.498047\"/>\n     <use xlink:href=\"#DejaVuSans-72\" x=\"447.021484\"/>\n     <use xlink:href=\"#DejaVuSans-20\" x=\"488.134766\"/>\n     <use xlink:href=\"#DejaVuSans-22\" x=\"519.921875\"/>\n     <use xlink:href=\"#DejaVuSans-33\" x=\"565.917969\"/>\n     <use xlink:href=\"#DejaVuSans-22\" x=\"629.541016\"/>\n    </g>\n   </g>\n  </g>\n  <g id=\"axes_3\">\n   <g id=\"patch_12\">\n    <path d=\"M 219.512195 110.78154 \nL 307.97561 110.78154 \nL 307.97561 22.318125 \nL 219.512195 22.318125 \nz\n\" style=\"fill: #ffffff\"/>\n   </g>\n   <g clip-path=\"url(#p2c53fdf9b3)\">\n    <image xlink:href=\"data:image/png;base64,\niVBORw0KGgoAAAANSUhEUgAAAHsAAAB7CAYAAABUx/9/AAADl0lEQVR4nO3dPy9kXxzH8TMoJIRIFCJEp9PQ8AhEFIjGI6DQewwqIqJRChWNqFApJAoSjVCJREShIf4kEmGr3y/5njNrZs0598zu5/3qvnfv7D2b957c2ZlZU3LOfTlIaMi9ABSH2EKILYTYQogthNhCiC2E2EKILYTYQogthNhCiC2E2EKILYTYQogtpCn3Av51c3NzZl5bWwvO2dnZMfPMzEyStbCzhRBbCLGFlByfLo1maGgoOHZ8fGzmpqbwadLXl02wsLBg5uXl5QirY2dLIbYQYgvhnh2R/+9l55ybnJys+LiXlxcz9/b2mvn5+bmmdf2HnS2E2EKILYTYQngjJKK2trYfPc5/0STWEzIfO1sIsYUQWwj37IK9v78Hx87Pzwu5NjtbCLGFEFsIsYXwrlcNBgcHzby/vx+c09HRYea7u7vgnL6+vrgL+w12thBiCyG2kMJeVGlvbw+OdXV1mfnt7S045/b2NtmaatXf329m//5cztbWVqrlVMTOFkJsIcQWkuye3dLSYubNzc3gnLGxMTPf398H5xweHsZdmHOuVCoFx/z/lVGN8fHxiud8fHyY+ezs7I+vEws7WwixhRBbCLGFJHsjZH5+3swrKyspLvMjsZ6gVePy8tLMAwMDSa5TDXa2EGILIbaQZC+q+PfFcvfJXBoawr/jn5+fhV0rl/pZCZIjthBiCyG2kGQvqjw+Ppq5tbW14mM2NjaCY/47YQcHB2YeGRkJHrO4uPjtdUZHR4Nj/idDy50zMTFh5tnZ2W+v4xwvqiATYgshtpC6umcPDw8Hx05PT2MtqWZTU1Nm3t7ervgY7tnIgthCiC2E2EKILYTYQogthNhC+DloidXTp2rZ2UKILYTYQrLes4+Ojsx8dXWVaSXpPDw85F7C/9jZQogthNhCst6zl5aWzOx/mdnf5vX1NTjmf4gjJ3a2EGILIbYQYguJ9gRtenrazM3NzWZ+enoKHnNxcRHr8oXo7Oz89tfL/Xn8F45yYmcLIbYQYguJds/u7u42c2Njo5l3d3eDx9zc3MS6fCF6enpyL6Em7GwhxBZCbCHEFhLtCdrq6qqZ/W+Tvb6+jnWpbCp9G+7e3l4xC/khdrYQYgshtpBkn1RZX19P9VvXDf/nsZ6cnGRaSXXY2UKILYTYQviydCHsbCHEFkJsIcQWQmwhxBZCbCHEFkJsIcQWQmwhxBZCbCHEFkJsIcQWQmwhvwCrZKvZ4z71GAAAAABJRU5ErkJggg==\" id=\"image9614cc6019\" transform=\"scale(1 -1) translate(0 -88.56)\" x=\"219.512195\" y=\"-22.22154\" width=\"88.56\" height=\"88.56\"/>\n   </g>\n   <g id=\"matplotlib.axis_5\"/>\n   <g id=\"matplotlib.axis_6\"/>\n   <g id=\"patch_13\">\n    <path d=\"M 219.512195 110.78154 \nL 219.512195 22.318125 \n\" style=\"fill: none; stroke: #000000; stroke-width: 0.8; stroke-linejoin: miter; stroke-linecap: square\"/>\n   </g>\n   <g id=\"patch_14\">\n    <path d=\"M 307.97561 110.78154 \nL 307.97561 22.318125 \n\" style=\"fill: none; stroke: #000000; stroke-width: 0.8; stroke-linejoin: miter; stroke-linecap: square\"/>\n   </g>\n   <g id=\"patch_15\">\n    <path d=\"M 219.512195 110.78154 \nL 307.97561 110.78154 \n\" style=\"fill: none; stroke: #000000; stroke-width: 0.8; stroke-linejoin: miter; stroke-linecap: square\"/>\n   </g>\n   <g id=\"patch_16\">\n    <path d=\"M 219.512195 22.318125 \nL 307.97561 22.318125 \n\" style=\"fill: none; stroke: #000000; stroke-width: 0.8; stroke-linejoin: miter; stroke-linecap: square\"/>\n   </g>\n   <g id=\"text_3\">\n    <!-- The letter \"4\" -->\n    <g transform=\"translate(223.212027 16.318125) scale(0.12 -0.12)\">\n     <defs>\n      <path id=\"DejaVuSans-34\" d=\"M 2419 4116 \nL 825 1625 \nL 2419 1625 \nL 2419 4116 \nz\nM 2253 4666 \nL 3047 4666 \nL 3047 1625 \nL 3713 1625 \nL 3713 1100 \nL 3047 1100 \nL 3047 0 \nL 2419 0 \nL 2419 1100 \nL 313 1100 \nL 313 1709 \nL 2253 4666 \nz\n\" transform=\"scale(0.015625)\"/>\n     </defs>\n     <use xlink:href=\"#DejaVuSans-54\"/>\n     <use xlink:href=\"#DejaVuSans-68\" x=\"61.083984\"/>\n     <use xlink:href=\"#DejaVuSans-65\" x=\"124.462891\"/>\n     <use xlink:href=\"#DejaVuSans-20\" x=\"185.986328\"/>\n     <use xlink:href=\"#DejaVuSans-6c\" x=\"217.773438\"/>\n     <use xlink:href=\"#DejaVuSans-65\" x=\"245.556641\"/>\n     <use xlink:href=\"#DejaVuSans-74\" x=\"307.080078\"/>\n     <use xlink:href=\"#DejaVuSans-74\" x=\"346.289062\"/>\n     <use xlink:href=\"#DejaVuSans-65\" x=\"385.498047\"/>\n     <use xlink:href=\"#DejaVuSans-72\" x=\"447.021484\"/>\n     <use xlink:href=\"#DejaVuSans-20\" x=\"488.134766\"/>\n     <use xlink:href=\"#DejaVuSans-22\" x=\"519.921875\"/>\n     <use xlink:href=\"#DejaVuSans-34\" x=\"565.917969\"/>\n     <use xlink:href=\"#DejaVuSans-22\" x=\"629.541016\"/>\n    </g>\n   </g>\n  </g>\n  <g id=\"axes_4\">\n   <g id=\"patch_17\">\n    <path d=\"M 325.668293 110.78154 \nL 414.131707 110.78154 \nL 414.131707 22.318125 \nL 325.668293 22.318125 \nz\n\" style=\"fill: #ffffff\"/>\n   </g>\n   <g clip-path=\"url(#pf5571dcabd)\">\n    <image xlink:href=\"data:image/png;base64,\niVBORw0KGgoAAAANSUhEUgAAAHsAAAB7CAYAAABUx/9/AAAElElEQVR4nO2dTyh0URjG74gkFGIzGyUpWSBKiWKj/ImFFFLCxsaCDQsWWCjKhrIQG0skFiaiFMmCQslOZKFYiYTCt/3e897MvdO48+d5frvndObco9/3ds4399w7PsuyfiwCQUKkJ0C8g7KBoGwgEr26kN/vV22Hh4ci5+bmqj6np6cij4+PixwIBMIwOwxY2UBQNhCUDQRlA+GzPPpSpbi4WLWdnZ25Hufj40Pkzs5O1Wdzc9P1uAiwsoGgbCAoGwjP1uy8vDzVdnJyInJWVlbQcXw+n8gvLy+qT09Pj8gbGxtOphj3sLKBoGwgKBsIygbCsw2aHbW1tSKvrq6qPhkZGSKbG7SfHz3919dXkefm5kQeGxtzM824gZUNBGUDQdlARHTNNhkcHFRtExMTIqelpYn8/f0ddNz393eR9/f3VZ/m5mYnU4xpWNlAUDYQlA1EVK3ZdiwvL4vc3d0tst3/s0MhMdGzg7YRg5UNBGUDQdlAUDYQUb8r6e3tFTkhQf777OrqCst1cnJyRH56egrLuNEEKxsIygaCsoGI+i9VTJKTk0Wen59XfczTpU64uLgQuampSfV5eHhwPW40wcoGgrKBoGwgKBuImNugmaSkpKi2vb09kSsqKoKOY55atXucuKWlReRY27CxsoGgbCAoG4iYX7PtKCkpEXlnZ0fk7Oxs9RnzBovdqdXR0VGRp6amQpxhZGBlA0HZQFA2EHG5Zpu0tbWJvLi4qPqkp6eL7OTU6sjIiMizs7Oqj5MnVryClQ0EZQNB2UBQNhAQGzSToqIi1XZ5eSlyKI8V2b2f9erqyvU4fwUrGwjKBoKygYBcs+2Ynp4WeWhoyPUYd3d3qm14eFjktbU11+OGC1Y2EJQNBGUDQdlAeLZBy8zMVG2NjY0i39zcqD7Hx8d/Nqf/SUpKEnl9fV31aWhocD2u+TfV1dWpPre3t67HDQVWNhCUDQRlA/Fna3ZqaqrI29vbqk9VVZXI5jtGLcuynp+fRZ6cnBR5YWEh1Cn+Sn5+vmrb3d0V2e5XgU3MU6tHR0eqT3V1tcvZhQYrGwjKBoKygfBszT44OFB9SktLXY/r5DdCzJsNdjcoghEIBFTb29ubyFtbWyLbPWlizvfx8VH1qa+vF/n8/NzpNF3BygaCsoGgbCAoGwjPboR0dHSotpWVFdfjONmghUIkxzVf11FZWSny/f19WObCygaCsoGgbCA8W7PNR2Ity7La29tFnpmZUX3MH22LxzXbZGlpSeSBgQHV5/Pz0/VcWNlAUDYQlA1EVD0RUlBQoNrMV2KUl5eL3NfXpz5zfX3963X6+/tVm3mQorCw8NcxnBKOvYDf71dtdjdUgsHKBoKygaBsICgbiKjaoNlhnngxcygbFTvML33M61iWPk3a2toadNyamhqRy8rKgn7GyfvVvr6+go5jwsoGgrKBoGwgon7NJuGDlQ0EZQNB2UBQNhCUDQRlA0HZQFA2EJQNBGUDQdlAUDYQlA0EZQNB2UBQNhCUDQRlA0HZQFA2EJQNBGUDQdlAUDYQlA0EZQNB2UBQNhCUDQRlA/EPX8QEIsdyJiEAAAAASUVORK5CYII=\" id=\"imaged2fdadf041\" transform=\"scale(1 -1) translate(0 -88.56)\" x=\"325.668293\" y=\"-22.22154\" width=\"88.56\" height=\"88.56\"/>\n   </g>\n   <g id=\"matplotlib.axis_7\"/>\n   <g id=\"matplotlib.axis_8\"/>\n   <g id=\"patch_18\">\n    <path d=\"M 325.668293 110.78154 \nL 325.668293 22.318125 \n\" style=\"fill: none; stroke: #000000; stroke-width: 0.8; stroke-linejoin: miter; stroke-linecap: square\"/>\n   </g>\n   <g id=\"patch_19\">\n    <path d=\"M 414.131707 110.78154 \nL 414.131707 22.318125 \n\" style=\"fill: none; stroke: #000000; stroke-width: 0.8; stroke-linejoin: miter; stroke-linecap: square\"/>\n   </g>\n   <g id=\"patch_20\">\n    <path d=\"M 325.668293 110.78154 \nL 414.131707 110.78154 \n\" style=\"fill: none; stroke: #000000; stroke-width: 0.8; stroke-linejoin: miter; stroke-linecap: square\"/>\n   </g>\n   <g id=\"patch_21\">\n    <path d=\"M 325.668293 22.318125 \nL 414.131707 22.318125 \n\" style=\"fill: none; stroke: #000000; stroke-width: 0.8; stroke-linejoin: miter; stroke-linecap: square\"/>\n   </g>\n   <g id=\"text_4\">\n    <!-- The letter \"7\" -->\n    <g transform=\"translate(329.368125 16.318125) scale(0.12 -0.12)\">\n     <defs>\n      <path id=\"DejaVuSans-37\" d=\"M 525 4666 \nL 3525 4666 \nL 3525 4397 \nL 1831 0 \nL 1172 0 \nL 2766 4134 \nL 525 4134 \nL 525 4666 \nz\n\" transform=\"scale(0.015625)\"/>\n     </defs>\n     <use xlink:href=\"#DejaVuSans-54\"/>\n     <use xlink:href=\"#DejaVuSans-68\" x=\"61.083984\"/>\n     <use xlink:href=\"#DejaVuSans-65\" x=\"124.462891\"/>\n     <use xlink:href=\"#DejaVuSans-20\" x=\"185.986328\"/>\n     <use xlink:href=\"#DejaVuSans-6c\" x=\"217.773438\"/>\n     <use xlink:href=\"#DejaVuSans-65\" x=\"245.556641\"/>\n     <use xlink:href=\"#DejaVuSans-74\" x=\"307.080078\"/>\n     <use xlink:href=\"#DejaVuSans-74\" x=\"346.289062\"/>\n     <use xlink:href=\"#DejaVuSans-65\" x=\"385.498047\"/>\n     <use xlink:href=\"#DejaVuSans-72\" x=\"447.021484\"/>\n     <use xlink:href=\"#DejaVuSans-20\" x=\"488.134766\"/>\n     <use xlink:href=\"#DejaVuSans-22\" x=\"519.921875\"/>\n     <use xlink:href=\"#DejaVuSans-37\" x=\"565.917969\"/>\n     <use xlink:href=\"#DejaVuSans-22\" x=\"629.541016\"/>\n    </g>\n   </g>\n  </g>\n  <g id=\"axes_5\">\n   <g id=\"patch_22\">\n    <path d=\"M 431.82439 110.78154 \nL 520.287805 110.78154 \nL 520.287805 22.318125 \nL 431.82439 22.318125 \nz\n\" style=\"fill: #ffffff\"/>\n   </g>\n   <g clip-path=\"url(#p544195f118)\">\n    <image xlink:href=\"data:image/png;base64,\niVBORw0KGgoAAAANSUhEUgAAAHsAAAB7CAYAAABUx/9/AAAElUlEQVR4nO2dyyt1URjG1+HLxC0zlAFlIIWBgQklQwYmmDAwcTeQhORSQhkoCWVGMRByyfUPMJCBSAbqEIoRKdfE943f9e7OOfg4e/c8v9mzvetY9fO2tr33WdtnjPlrCAQR4Z4A+T0oGwjKBoKygaBsICgbCMoGgrKBoGwgKBsIygaCsoH4E+4JBCMuLk7ktbU1kfPz89WY09NTkefn50VeWVlRY/b39786Rc/AzgaCsoGgbCAoGwifcfmTKn19fSL39PSIfH5+rsY8Pz+LnJGRIbLf71djWltbRXY6ifM67GwgKBsIygbC9RdVdnd3RX58fBR5cXFRjenv7xe5t7dX5JaWFjXGvvBSUVGhapaXlwPO1e2ws4GgbCAoGwjX/59tc3R0JPLt7a2qKSkpEfnh4UHktrY2Naa9vV3k+/t7VVNQUCDy1dVV4Mm6DHY2EJQNBGUDQdlAuP6iis3c3JzIAwMDqmZ4eFjk+vr6gD83xpjIyMign9vZ2SlyY2Nj4Mm6DHY2EJQNBGUD4bk1e2RkROSEhARVY6/Rk5OTIh8eHqoxJycnQX93ZmZmKFN0LexsICgbCMoGgrKB8NwJ2uvrq8gTExOqprS0VOSpqSmRm5qa1JicnJxvz83tsLOBoGwgKBsIz63ZNhcXF+rY5uamyM3NzSLv7e0F/dy3tzd1bGtr65OzcxfsbCAoGwjKBsJzT5faVFVVqWPT09Of/pzLy0uRy8rKVE0oa72bYWcDQdlAUDYQlA2E50/QnE6asrKyRLa30Ojo6FBjbm5uRM7Ly1M17+/vX5mia2BnA0HZQFA2EJ67EZKYmChyWlqaqrG/ojs+Pi5yTEyMGjM0NCSy00MRtbW1Ic/TjbCzgaBsICgbCMoGwnMXVZKTk0U+Pj5WNRER8m/YPolz2i9lYWFB5OLiYlVj79Wyvb0deLIug50NBGUDQdlAeG7NtnG6EZKbmytyV1eXyPYFFGP0Gr20tKRqDg4ORLb3RbO/reI22NlAUDYQlA2E526E2Kyurqpj9ppdXl4u8svLixpjr7/2HuXGGDM4OCjy6OioyHV1dYEnG2bY2UBQNhCUDQRlA+H5iypJSUnq2MbGhsjZ2dlBP8d+CmV2dlbV2F/ZTU1NFdnpjb9OL5kLF+xsICgbCMoGwvMXVa6vr9Uxe1sNe9uN6OhoNSYlJUXkp6cnVWO/HG59fV3kmZkZNca+WBNO2NlAUDYQlA2E5//PDgX7XR5jY2Oqxn5wsbq6WtXEx8eLbK/ZTttp2d8GdXpA8rdgZwNB2UBQNhCUDQTECZr9gradnR1VU1hYKPLd3Z2qiY2NFfns7Ezk9PR0NcZ+GVx3d3fgyf4g7GwgKBsIygbC8zdCQsHe0qqyslLV2PudFhUVqRqfzyeyvV3Hx8eHGuP3+0Oe50/DzgaCsoGgbCAoGwiIiypfoaamRh2z75ZFRUWJbL/N1xhjGhoa/u/EvgE7GwjKBoKygeCaDQQ7GwjKBoKygaBsICgbCMoGgrKBoGwgKBsIygaCsoGgbCAoGwjKBoKygaBsICgbCMoGgrKBoGwgKBuIf0HwCIEJMzn3AAAAAElFTkSuQmCC\" id=\"image9744c992cb\" transform=\"scale(1 -1) translate(0 -88.56)\" x=\"431.82439\" y=\"-22.22154\" width=\"88.56\" height=\"88.56\"/>\n   </g>\n   <g id=\"matplotlib.axis_9\"/>\n   <g id=\"matplotlib.axis_10\"/>\n   <g id=\"patch_23\">\n    <path d=\"M 431.82439 110.78154 \nL 431.82439 22.318125 \n\" style=\"fill: none; stroke: #000000; stroke-width: 0.8; stroke-linejoin: miter; stroke-linecap: square\"/>\n   </g>\n   <g id=\"patch_24\">\n    <path d=\"M 520.287805 110.78154 \nL 520.287805 22.318125 \n\" style=\"fill: none; stroke: #000000; stroke-width: 0.8; stroke-linejoin: miter; stroke-linecap: square\"/>\n   </g>\n   <g id=\"patch_25\">\n    <path d=\"M 431.82439 110.78154 \nL 520.287805 110.78154 \n\" style=\"fill: none; stroke: #000000; stroke-width: 0.8; stroke-linejoin: miter; stroke-linecap: square\"/>\n   </g>\n   <g id=\"patch_26\">\n    <path d=\"M 431.82439 22.318125 \nL 520.287805 22.318125 \n\" style=\"fill: none; stroke: #000000; stroke-width: 0.8; stroke-linejoin: miter; stroke-linecap: square\"/>\n   </g>\n   <g id=\"text_5\">\n    <!-- The letter \"8\" -->\n    <g transform=\"translate(435.524223 16.318125) scale(0.12 -0.12)\">\n     <defs>\n      <path id=\"DejaVuSans-38\" d=\"M 2034 2216 \nQ 1584 2216 1326 1975 \nQ 1069 1734 1069 1313 \nQ 1069 891 1326 650 \nQ 1584 409 2034 409 \nQ 2484 409 2743 651 \nQ 3003 894 3003 1313 \nQ 3003 1734 2745 1975 \nQ 2488 2216 2034 2216 \nz\nM 1403 2484 \nQ 997 2584 770 2862 \nQ 544 3141 544 3541 \nQ 544 4100 942 4425 \nQ 1341 4750 2034 4750 \nQ 2731 4750 3128 4425 \nQ 3525 4100 3525 3541 \nQ 3525 3141 3298 2862 \nQ 3072 2584 2669 2484 \nQ 3125 2378 3379 2068 \nQ 3634 1759 3634 1313 \nQ 3634 634 3220 271 \nQ 2806 -91 2034 -91 \nQ 1263 -91 848 271 \nQ 434 634 434 1313 \nQ 434 1759 690 2068 \nQ 947 2378 1403 2484 \nz\nM 1172 3481 \nQ 1172 3119 1398 2916 \nQ 1625 2713 2034 2713 \nQ 2441 2713 2670 2916 \nQ 2900 3119 2900 3481 \nQ 2900 3844 2670 4047 \nQ 2441 4250 2034 4250 \nQ 1625 4250 1398 4047 \nQ 1172 3844 1172 3481 \nz\n\" transform=\"scale(0.015625)\"/>\n     </defs>\n     <use xlink:href=\"#DejaVuSans-54\"/>\n     <use xlink:href=\"#DejaVuSans-68\" x=\"61.083984\"/>\n     <use xlink:href=\"#DejaVuSans-65\" x=\"124.462891\"/>\n     <use xlink:href=\"#DejaVuSans-20\" x=\"185.986328\"/>\n     <use xlink:href=\"#DejaVuSans-6c\" x=\"217.773438\"/>\n     <use xlink:href=\"#DejaVuSans-65\" x=\"245.556641\"/>\n     <use xlink:href=\"#DejaVuSans-74\" x=\"307.080078\"/>\n     <use xlink:href=\"#DejaVuSans-74\" x=\"346.289062\"/>\n     <use xlink:href=\"#DejaVuSans-65\" x=\"385.498047\"/>\n     <use xlink:href=\"#DejaVuSans-72\" x=\"447.021484\"/>\n     <use xlink:href=\"#DejaVuSans-20\" x=\"488.134766\"/>\n     <use xlink:href=\"#DejaVuSans-22\" x=\"519.921875\"/>\n     <use xlink:href=\"#DejaVuSans-38\" x=\"565.917969\"/>\n     <use xlink:href=\"#DejaVuSans-22\" x=\"629.541016\"/>\n    </g>\n   </g>\n  </g>\n  <g id=\"axes_6\">\n   <g id=\"patch_27\">\n    <path d=\"M 537.980488 110.78154 \nL 626.443902 110.78154 \nL 626.443902 22.318125 \nL 537.980488 22.318125 \nz\n\" style=\"fill: #ffffff\"/>\n   </g>\n   <g clip-path=\"url(#pfa9279a644)\">\n    <image xlink:href=\"data:image/png;base64,\niVBORw0KGgoAAAANSUhEUgAAAHsAAAB7CAYAAABUx/9/AAADp0lEQVR4nO2dLUhkURiGz6wrWEwGQRBBg00Qiz/BIoLYBEEYf0GTIAhiEcQqajJZNYkGTRaDQbCJxSQmwSaGCYIobtnyne/uorN3nDn7Pk97L+foBw8f59w7c88UQggfAST4Ue0C4PtAthDIFuJntQv4KgcHBybX19e7MYuLiyY/PT1VtKZUoLOFQLYQyBYC2UIUQmIPVR4fH01ubm52YyYmJkw+OjqqaE2pQGcLgWwhkC1Ecmv20tKSyVtbW25MqVQyubW11eSXl5f8C0sAOlsIZAuBbCGQLURyG7SYm5sbd62rq8vkmZkZk+NPzlSgs4VAthDIFiL5NbtYLLpr+/v7Jh8fH5s8NTXl5ry+vuZbWA1CZwuBbCGQLUTya3ZdXZ27dn5+bvLg4KDJo6Ojbs7Z2Vm+hdUgdLYQyBYC2UIgW4jkN2hZDA0NmXx6emry/f29mxNv2h4eHvIvrMrQ2UIgWwhkC/FfrtkxGxsbJq+vr7sx29vbJq+urlaypKpAZwuBbCGQLQSyhZDYoLW0tJh8e3vrxry/v5vc2dnpxqR+NgudLQSyhUC2EMmdg1YO8dEcu7u7bsza2prJ8/Pzbszm5ma+hX0zdLYQyBYC2UJI3GfHxPfdIYRwfX1t8sXFhRsTH7mVGnS2EMgWAtlCIFsIyQ1aFjs7OyYvLy+7McPDwybHrxnVOnS2EMgWAtlCSHwQ8hnihyofH34rs7KyYjJrNtQsyBYC2UIgWwgeqvwmPpsl60dkRkZGTJ6dnTX58PAw97ryhM4WAtlCIFsI1uw/MD4+7q7Fa3L8Zkl3d7eb8/b2lm9h/wCdLQSyhUC2EKzZX2Bvb8/khYUFk8fGxtyck5OTSpb0JehsIZAtBLKFQLYQyW/Qent73bW7uzuT8zoeo6enx+TLy0uTn5+f3ZysV42qBZ0tBLKFQLYQya3Z8UOK+AsFIYQwOTlpctYXEfJgbm7O5KxjODo6OkwulUoVqeUz0NlCIFsIZAtR82t2fJ8a39u2tbW5OfH9bvx7H1lve3yGQqFgckNDg8lNTU1uDms2VAVkC4FsIZAtRM1v0GIaGxtN7uvrc2Pa29tN7u/vN7ncDdr09PRf/87V1ZWbMzAwUNb/qgR0thDIFgLZQiS3ZkP50NlCIFsIZAuBbCGQLQSyhUC2EMgWAtlCIFsIZAuBbCGQLQSyhUC2EMgWAtlCIFsIZAuBbCGQLQSyhUC2EMgWAtlCIFsIZAuBbCGQLQSyhfgFT/i7cb3zsqEAAAAASUVORK5CYII=\" id=\"imagea03510c71b\" transform=\"scale(1 -1) translate(0 -88.56)\" x=\"537.980488\" y=\"-22.22154\" width=\"88.56\" height=\"88.56\"/>\n   </g>\n   <g id=\"matplotlib.axis_11\"/>\n   <g id=\"matplotlib.axis_12\"/>\n   <g id=\"patch_28\">\n    <path d=\"M 537.980488 110.78154 \nL 537.980488 22.318125 \n\" style=\"fill: none; stroke: #000000; stroke-width: 0.8; stroke-linejoin: miter; stroke-linecap: square\"/>\n   </g>\n   <g id=\"patch_29\">\n    <path d=\"M 626.443902 110.78154 \nL 626.443902 22.318125 \n\" style=\"fill: none; stroke: #000000; stroke-width: 0.8; stroke-linejoin: miter; stroke-linecap: square\"/>\n   </g>\n   <g id=\"patch_30\">\n    <path d=\"M 537.980488 110.78154 \nL 626.443902 110.78154 \n\" style=\"fill: none; stroke: #000000; stroke-width: 0.8; stroke-linejoin: miter; stroke-linecap: square\"/>\n   </g>\n   <g id=\"patch_31\">\n    <path d=\"M 537.980488 22.318125 \nL 626.443902 22.318125 \n\" style=\"fill: none; stroke: #000000; stroke-width: 0.8; stroke-linejoin: miter; stroke-linecap: square\"/>\n   </g>\n   <g id=\"text_6\">\n    <!-- The letter \"7\" -->\n    <g transform=\"translate(541.68032 16.318125) scale(0.12 -0.12)\">\n     <use xlink:href=\"#DejaVuSans-54\"/>\n     <use xlink:href=\"#DejaVuSans-68\" x=\"61.083984\"/>\n     <use xlink:href=\"#DejaVuSans-65\" x=\"124.462891\"/>\n     <use xlink:href=\"#DejaVuSans-20\" x=\"185.986328\"/>\n     <use xlink:href=\"#DejaVuSans-6c\" x=\"217.773438\"/>\n     <use xlink:href=\"#DejaVuSans-65\" x=\"245.556641\"/>\n     <use xlink:href=\"#DejaVuSans-74\" x=\"307.080078\"/>\n     <use xlink:href=\"#DejaVuSans-74\" x=\"346.289062\"/>\n     <use xlink:href=\"#DejaVuSans-65\" x=\"385.498047\"/>\n     <use xlink:href=\"#DejaVuSans-72\" x=\"447.021484\"/>\n     <use xlink:href=\"#DejaVuSans-20\" x=\"488.134766\"/>\n     <use xlink:href=\"#DejaVuSans-22\" x=\"519.921875\"/>\n     <use xlink:href=\"#DejaVuSans-37\" x=\"565.917969\"/>\n     <use xlink:href=\"#DejaVuSans-22\" x=\"629.541016\"/>\n    </g>\n   </g>\n  </g>\n  <g id=\"axes_7\">\n   <g id=\"patch_32\">\n    <path d=\"M 644.136585 110.78154 \nL 732.6 110.78154 \nL 732.6 22.318125 \nL 644.136585 22.318125 \nz\n\" style=\"fill: #ffffff\"/>\n   </g>\n   <g clip-path=\"url(#pf924dd567a)\">\n    <image xlink:href=\"data:image/png;base64,\niVBORw0KGgoAAAANSUhEUgAAAHsAAAB7CAYAAABUx/9/AAAEUElEQVR4nO2dTSh8XxzG7/DHQpGFLIgIiY2SDRtLsVQWFhopWXhZ2IooZaG8xCysSDZKWVkoOykLexYWFt6SIiliZv67X7/v+Z7c350Zc+54ns/uOZ1z7qlP385x73Un4nle0iMQ5LleAMkelA0EZQNB2UBQNhCUDQRlA0HZQFA2EJQNBGUDQdlAUDYQlA0EZQNB2UBQNhD/uV7A30QiEdU2MjIiciwWS/s6x8fHqq23t1fkr68v1SeZzO2XeljZQFA2EJQNRMQL0dul9fX1qu3y8tLBSjxve3tbtT08PIhsnh9ubm7UmEQikdmFpQErGwjKBoKygXC6Z5eUlIh8cnKi+rS0tGRrOWnT3Nys2lydOWywsoGgbCAoGwjKBsLpg5C+vj6RUzmMXVxcqLaDgwORh4aGRC4sLFRjysrKAl/bZHp6WrVFo1GR4/F42tdJFVY2EJQNBGUD4fSmysbGhsijo6OB5zD3fc/Te7ZJZWWlatvb2xO5ra1N9SkoKAi2OE/faHF5k4WVDQRlA0HZQFA2EKF6u/RfeHx8FNl2U8UP2xslnZ2dIp+fn6s+ra2tga81NjYm8vj4eOA5MgUrGwjKBoKygci5PTvXeHp6cr2EP7CygaBsICgbiJzbs8vLy0VuampSfVL52/un8Hsok01Y2UBQNhCUDQRlA+H0gHZ7e+vy8llheHhYZD4IIVmBsoGgbCCc7tlLS0sid3R0qD7d3d3fzlFdXZ3RNf1mWNlAUDYQlA0EZQPh9ID28fEh8unpqerjd0AbHBxUbWtra+kt7JfCygaCsoGgbCBC9abK7u6uapufn/92TGNjo2ozb87YzgJ+bG1tqbaVlZXA84QJVjYQlA0EZQMRqj377u5OtR0eHorc09MjcnFxsRozNTUlcip79s7OjmqbmJgQua6uLvC8LmFlA0HZQFA2EJQNRKgOaOaDEc/zvMXFRZHNA5oN8xuoFRUVIps/7GLj+flZtb2/v/uOCzOsbCAoGwjKBiJUe7aNq6srka+vr0WuqalRYxoaGkQeGBgQeXl52fe6trdWS0tLfceFGVY2EJQNBGUDEfo9+/7+XuSzszORbXu2ycLCgshvb2+qz+bmpsi2lxds3yn3Y319PfCYn4KVDQRlA0HZQFA2EKE/oJnMzs6K3N7ervrU1taKXFRUJPLq6qoak0zK38XJ1A2Ul5eXjMyTCVjZQFA2EJQNhNMfccsEtv8ImZubE7m/v993ns/PT5Hz8nQd5OfnfzvH5OSkaovFYiInEgnftfwUrGwgKBsIygaCsoHI+QOaDfMgdXR0JHJXV1dK8+7v74tsfpfU9jTN5YHMhJUNBGUDQdlA5NyDkH8hHo+LbH5eKxqNqjEzMzMiV1VV+c77+vqa4grdwMoGgrKBoGwgfuXf2cQOKxsIygaCsoGgbCAoGwjKBoKygaBsICgbCMoGgrKBoGwgKBsIygaCsoGgbCAoG4j/AROR17VeVpdrAAAAAElFTkSuQmCC\" id=\"image6e3b9ad59f\" transform=\"scale(1 -1) translate(0 -88.56)\" x=\"644.136585\" y=\"-22.22154\" width=\"88.56\" height=\"88.56\"/>\n   </g>\n   <g id=\"matplotlib.axis_13\"/>\n   <g id=\"matplotlib.axis_14\"/>\n   <g id=\"patch_33\">\n    <path d=\"M 644.136585 110.78154 \nL 644.136585 22.318125 \n\" style=\"fill: none; stroke: #000000; stroke-width: 0.8; stroke-linejoin: miter; stroke-linecap: square\"/>\n   </g>\n   <g id=\"patch_34\">\n    <path d=\"M 732.6 110.78154 \nL 732.6 22.318125 \n\" style=\"fill: none; stroke: #000000; stroke-width: 0.8; stroke-linejoin: miter; stroke-linecap: square\"/>\n   </g>\n   <g id=\"patch_35\">\n    <path d=\"M 644.136585 110.78154 \nL 732.6 110.78154 \n\" style=\"fill: none; stroke: #000000; stroke-width: 0.8; stroke-linejoin: miter; stroke-linecap: square\"/>\n   </g>\n   <g id=\"patch_36\">\n    <path d=\"M 644.136585 22.318125 \nL 732.6 22.318125 \n\" style=\"fill: none; stroke: #000000; stroke-width: 0.8; stroke-linejoin: miter; stroke-linecap: square\"/>\n   </g>\n   <g id=\"text_7\">\n    <!-- The letter \"0\" -->\n    <g transform=\"translate(647.836418 16.318125) scale(0.12 -0.12)\">\n     <use xlink:href=\"#DejaVuSans-54\"/>\n     <use xlink:href=\"#DejaVuSans-68\" x=\"61.083984\"/>\n     <use xlink:href=\"#DejaVuSans-65\" x=\"124.462891\"/>\n     <use xlink:href=\"#DejaVuSans-20\" x=\"185.986328\"/>\n     <use xlink:href=\"#DejaVuSans-6c\" x=\"217.773438\"/>\n     <use xlink:href=\"#DejaVuSans-65\" x=\"245.556641\"/>\n     <use xlink:href=\"#DejaVuSans-74\" x=\"307.080078\"/>\n     <use xlink:href=\"#DejaVuSans-74\" x=\"346.289062\"/>\n     <use xlink:href=\"#DejaVuSans-65\" x=\"385.498047\"/>\n     <use xlink:href=\"#DejaVuSans-72\" x=\"447.021484\"/>\n     <use xlink:href=\"#DejaVuSans-20\" x=\"488.134766\"/>\n     <use xlink:href=\"#DejaVuSans-22\" x=\"519.921875\"/>\n     <use xlink:href=\"#DejaVuSans-30\" x=\"565.917969\"/>\n     <use xlink:href=\"#DejaVuSans-22\" x=\"629.541016\"/>\n    </g>\n   </g>\n  </g>\n  <g id=\"axes_8\">\n   <g id=\"patch_37\">\n    <path d=\"M 7.2 228.183893 \nL 95.663415 228.183893 \nL 95.663415 139.720478 \nL 7.2 139.720478 \nz\n\" style=\"fill: #ffffff\"/>\n   </g>\n   <g clip-path=\"url(#pfa9b8c5f36)\">\n    <image xlink:href=\"data:image/png;base64,\niVBORw0KGgoAAAANSUhEUgAAAHsAAAB7CAYAAABUx/9/AAADqklEQVR4nO2cvS9sQRiHz95osEQk/gCFRCc6nSASEg3xkdWJRq9SqjREyaokCp//AJEo2UooRCURCgkqH1EQt7mFd+bk7r3ZYc85v+fpfpOZzZs8eTOzZ05OLoqizwgk+FXtAuDnQLYQyBYC2UIgWwhkC4FsIZAtBLKFQLYQyBYC2ULUVLuArxQKBW9sYWHB5IODA5Pn5ua8NY+Pj2ELywh0thDIFgLZQiBbiEQd0I6Pj8vOmZ6eNvn09NSbs7KyEqymLEFnC4FsIZAtRKL27Le3t38a+8rU1JQ3trGxYfLz83NlhWUEOlsIZAuBbCEStWff3d15Y8Vi0eTFxUWTm5ubvTWjo6Mmr6+vV15cBqCzhUC2EMgWAtlCJOqAFod7OfLy8mJya2urt2ZwcNBk9yHLx8dHoOrSBZ0tBLKFQLYQuShln9nY3d01eWRkpOyazs5Ok8/Pz4PWlBbobCGQLQSyhUC2EKk7oHV1dZm8v7/vzcnn8ya7t2l9fX3emsvLywDVJRs6WwhkC4FsIVK3Z7vs7e15Y8PDw39ds7297Y1NTk4Gqymp0NlCIFsIZAuR+j27rq7OG7u6ujK5paXFZPcFiCiKosbGxrCFJRA6WwhkC4FsIZAtROLfLi3H6+urN/b5ac+cuVzO5IaGBm/NzMyMyaurqwGqSxZ0thDIFgLZQqR+z47j6OjI5ImJibJrent7TWbPhlSDbCGQLQSyhUj9rVccHR0dJi8tLZnsHsaiyP9WWn9/vzenVCoFqK560NlCIFsIZAuRyYcqZ2dnJt/f35ddU19fb/Ls7Kw3Z3x8vLLCqgydLQSyhUC2EJn8n+3S3t5u8sXFhTfHfeHh6enJmzM/P2/y8vJygOp+DjpbCGQLgWwhkC1EJh+quLif0NjZ2fHmjI2NmRz3Bqr7iY+0QWcLgWwhkC2ExJ7tcnh46I25e3YcAwMDJhcKBZM3NzcrK+ybobOFQLYQyBZC4iLEpba21hvb2toyeWhoqOzvuBcqPT093pyHh4f/rO77oLOFQLYQyBYC2UJIHtDiaGpqMvnk5MSb09bWZvLNzY3J3d3d3prr6+vKiwsEnS0EsoVAthCSFyFxvL+/mxz3dmnaobOFQLYQyBYC2UJwQPuD+5mNtbU1b06xWDTZfahye3sbvrCA0NlCIFsIZAvBRYgQdLYQyBYC2UIgWwhkC4FsIZAtBLKFQLYQyBYC2UIgWwhkC4FsIZAtBLKFQLYQyBYC2UIgWwhkC/Eb3WCzbQ/8d1gAAAAASUVORK5CYII=\" id=\"image09a60e5c7b\" transform=\"scale(1 -1) translate(0 -88.56)\" x=\"7.2\" y=\"-139.623893\" width=\"88.56\" height=\"88.56\"/>\n   </g>\n   <g id=\"matplotlib.axis_15\"/>\n   <g id=\"matplotlib.axis_16\"/>\n   <g id=\"patch_38\">\n    <path d=\"M 7.2 228.183893 \nL 7.2 139.720478 \n\" style=\"fill: none; stroke: #000000; stroke-width: 0.8; stroke-linejoin: miter; stroke-linecap: square\"/>\n   </g>\n   <g id=\"patch_39\">\n    <path d=\"M 95.663415 228.183893 \nL 95.663415 139.720478 \n\" style=\"fill: none; stroke: #000000; stroke-width: 0.8; stroke-linejoin: miter; stroke-linecap: square\"/>\n   </g>\n   <g id=\"patch_40\">\n    <path d=\"M 7.2 228.183893 \nL 95.663415 228.183893 \n\" style=\"fill: none; stroke: #000000; stroke-width: 0.8; stroke-linejoin: miter; stroke-linecap: square\"/>\n   </g>\n   <g id=\"patch_41\">\n    <path d=\"M 7.2 139.720478 \nL 95.663415 139.720478 \n\" style=\"fill: none; stroke: #000000; stroke-width: 0.8; stroke-linejoin: miter; stroke-linecap: square\"/>\n   </g>\n   <g id=\"text_8\">\n    <!-- The letter \"1\" -->\n    <g transform=\"translate(10.899832 133.720478) scale(0.12 -0.12)\">\n     <defs>\n      <path id=\"DejaVuSans-31\" d=\"M 794 531 \nL 1825 531 \nL 1825 4091 \nL 703 3866 \nL 703 4441 \nL 1819 4666 \nL 2450 4666 \nL 2450 531 \nL 3481 531 \nL 3481 0 \nL 794 0 \nL 794 531 \nz\n\" transform=\"scale(0.015625)\"/>\n     </defs>\n     <use xlink:href=\"#DejaVuSans-54\"/>\n     <use xlink:href=\"#DejaVuSans-68\" x=\"61.083984\"/>\n     <use xlink:href=\"#DejaVuSans-65\" x=\"124.462891\"/>\n     <use xlink:href=\"#DejaVuSans-20\" x=\"185.986328\"/>\n     <use xlink:href=\"#DejaVuSans-6c\" x=\"217.773438\"/>\n     <use xlink:href=\"#DejaVuSans-65\" x=\"245.556641\"/>\n     <use xlink:href=\"#DejaVuSans-74\" x=\"307.080078\"/>\n     <use xlink:href=\"#DejaVuSans-74\" x=\"346.289062\"/>\n     <use xlink:href=\"#DejaVuSans-65\" x=\"385.498047\"/>\n     <use xlink:href=\"#DejaVuSans-72\" x=\"447.021484\"/>\n     <use xlink:href=\"#DejaVuSans-20\" x=\"488.134766\"/>\n     <use xlink:href=\"#DejaVuSans-22\" x=\"519.921875\"/>\n     <use xlink:href=\"#DejaVuSans-31\" x=\"565.917969\"/>\n     <use xlink:href=\"#DejaVuSans-22\" x=\"629.541016\"/>\n    </g>\n   </g>\n  </g>\n  <g id=\"axes_9\">\n   <g id=\"patch_42\">\n    <path d=\"M 113.356098 228.183893 \nL 201.819512 228.183893 \nL 201.819512 139.720478 \nL 113.356098 139.720478 \nz\n\" style=\"fill: #ffffff\"/>\n   </g>\n   <g clip-path=\"url(#p7c97d71509)\">\n    <image xlink:href=\"data:image/png;base64,\niVBORw0KGgoAAAANSUhEUgAAAHsAAAB7CAYAAABUx/9/AAAFJUlEQVR4nO2dTSi1TRzGxxt6JEI+QikpKVYUFgqFIllIig12ykdYUSwoZSdKPja+spAIxeIQsSA7sZCwILJhI6J8vaun3v/MnfscbpzzXtdvd00z9xn9mmbcZ2aOn1LqXREI/vntDpCfg7KBoGwgKBsIygaCsoGgbCAoGwjKBoKygaBsICgbCP/f7sB/CQgIMMpcLpfIubm5Ire3txttBgcHRX56enKgd74PRzYQlA0EZQNB2UB41QLNz8/PKDs7OxNZX6D19fUZbY6Pj0VeWlpyoHe+D0c2EJQNBGUD4ae8fHepPkevra2J7O9vLjsmJydFrqurc75jPghHNhCUDQRlA+H1c7bOxsaGyHl5eUad93f5JzU2Noo8PDzseL98AY5sICgbCMoGgrKB8LkFWnh4uMhbW1tGnbS0NJGvr69F1l/UKKXU6empA73zbjiygaBsICgbCJ+bs3VqamqMsvHx8Q/bXFxcGGVJSUkiv76+fq1jXghHNhCUDQRlA0HZQPj8Au3Pnz9G2dTUlMgVFRW2zxkaGhK5tbXVqPPy8uJh77wLjmwgKBsIygbC5+dsK1JSUkTe3NwUOSYmxvYZVVVVRtns7OzXOvbLcGQDQdlAUDYQjs3Z+fn5Ind1dYmsn8ZUSqmDg4Mvf+7l5aVRpv/v3dTUJHJ2drbtc+/u7oyyq6urD9s8Pj4aZb29vSIvLi4adfTdsN8FRzYQlA0EZQNB2UA4ds1GZWWlyPqxHKtjOk5QXV1tlOkLP32x9fDwYLQJDg4WOTQ01KhjVWbH/Py8yMnJyUadn9rZypENBGUDQdlAOPZSJSMjQ+TV1VWRo6KibJ9hNZfaffkQGBholO3u7n742ZGRkUabuLg4kcvLyz/8XKWU2t7eFrmzs9OoMz09LXJhYaFRh3M2cRzKBoKygaBsIL5tp4r+kkW/8F0ppaKjo22fs7y8LHJbW5vI5+fnRpvPHN2JiIgQeW9vz6ijHxHSv62qr6832hwdHYlsdfTIquw74MgGgrKBoGwgfmx3qT7fKWXu4tDneSv0HS8FBQVGHat53FOsTpHMzMyIrP+Azc3NjdHGnXXJT8GRDQRlA0HZQPzqiRD9S4yysjKjztzcnMj6/7ZWX57oP+ym3z9+f3/vUT//0t3dLbK+g9Zql2h/f7/IHR0dRp3n5+dP9cdTOLKBoGwgKBsIygbCq47sWl2ZoR8rmpiYENmdHTALCwsiu3PthhVBQUEiu3Odh75oKyoqMuqsr69/qj+ewpENBGUDQdlAeNWc7Q4JCQkir6ysGHVSU1NF1l9atLS0GG1GRkZEducYrX6dh77bVClzJ6vV/ejFxcUiPz092X72Z+DIBoKygaBsIHxuztbJysoyygYGBkTOzMy0fY6+WXBsbMzjvlhd37Gzs2Pbrra2VmT9/3en4MgGgrKBoGwgKBsIn1+gWREWFiZyQ0ODyD09PUYb/S7x5uZmo46+aNNfvISEhBht9vf3RU5MTDTquFwukUtKSkR+e3sz2nwGjmwgKBsIygbifzln21FaWmqUjY6OihwbG2vUycnJEVl/YaL/KKxSSp2cnIisnxZVytztmp6eLrJT13BwZANB2UBQNhCUDQTkAs2K+Ph4ka12rR4eHorsznUe+qLOameNftRX/5bu9vbW9nPcgSMbCMoGgrKB4JwNBEc2EJQNBGUDQdlAUDYQlA0EZQNB2UBQNhCUDQRlA0HZQFA2EJQNBGUDQdlAUDYQlA0EZQNB2UBQNhD/AmlBP7A9RaWsAAAAAElFTkSuQmCC\" id=\"image1aa6526ba7\" transform=\"scale(1 -1) translate(0 -88.56)\" x=\"113.356098\" y=\"-139.623893\" width=\"88.56\" height=\"88.56\"/>\n   </g>\n   <g id=\"matplotlib.axis_17\"/>\n   <g id=\"matplotlib.axis_18\"/>\n   <g id=\"patch_43\">\n    <path d=\"M 113.356098 228.183893 \nL 113.356098 139.720478 \n\" style=\"fill: none; stroke: #000000; stroke-width: 0.8; stroke-linejoin: miter; stroke-linecap: square\"/>\n   </g>\n   <g id=\"patch_44\">\n    <path d=\"M 201.819512 228.183893 \nL 201.819512 139.720478 \n\" style=\"fill: none; stroke: #000000; stroke-width: 0.8; stroke-linejoin: miter; stroke-linecap: square\"/>\n   </g>\n   <g id=\"patch_45\">\n    <path d=\"M 113.356098 228.183893 \nL 201.819512 228.183893 \n\" style=\"fill: none; stroke: #000000; stroke-width: 0.8; stroke-linejoin: miter; stroke-linecap: square\"/>\n   </g>\n   <g id=\"patch_46\">\n    <path d=\"M 113.356098 139.720478 \nL 201.819512 139.720478 \n\" style=\"fill: none; stroke: #000000; stroke-width: 0.8; stroke-linejoin: miter; stroke-linecap: square\"/>\n   </g>\n   <g id=\"text_9\">\n    <!-- The letter \"4\" -->\n    <g transform=\"translate(117.05593 133.720478) scale(0.12 -0.12)\">\n     <use xlink:href=\"#DejaVuSans-54\"/>\n     <use xlink:href=\"#DejaVuSans-68\" x=\"61.083984\"/>\n     <use xlink:href=\"#DejaVuSans-65\" x=\"124.462891\"/>\n     <use xlink:href=\"#DejaVuSans-20\" x=\"185.986328\"/>\n     <use xlink:href=\"#DejaVuSans-6c\" x=\"217.773438\"/>\n     <use xlink:href=\"#DejaVuSans-65\" x=\"245.556641\"/>\n     <use xlink:href=\"#DejaVuSans-74\" x=\"307.080078\"/>\n     <use xlink:href=\"#DejaVuSans-74\" x=\"346.289062\"/>\n     <use xlink:href=\"#DejaVuSans-65\" x=\"385.498047\"/>\n     <use xlink:href=\"#DejaVuSans-72\" x=\"447.021484\"/>\n     <use xlink:href=\"#DejaVuSans-20\" x=\"488.134766\"/>\n     <use xlink:href=\"#DejaVuSans-22\" x=\"519.921875\"/>\n     <use xlink:href=\"#DejaVuSans-34\" x=\"565.917969\"/>\n     <use xlink:href=\"#DejaVuSans-22\" x=\"629.541016\"/>\n    </g>\n   </g>\n  </g>\n  <g id=\"axes_10\">\n   <g id=\"patch_47\">\n    <path d=\"M 219.512195 228.183893 \nL 307.97561 228.183893 \nL 307.97561 139.720478 \nL 219.512195 139.720478 \nz\n\" style=\"fill: #ffffff\"/>\n   </g>\n   <g clip-path=\"url(#p6b0202b685)\">\n    <image xlink:href=\"data:image/png;base64,\niVBORw0KGgoAAAANSUhEUgAAAHsAAAB7CAYAAABUx/9/AAAEHUlEQVR4nO2dvy97URjGL0EYdPEjUgZJKxISUpOImjoQpFulk0FEYmAyMZkkVhYJiaTaxeAPkDTxYyAWGx0w1GZSgkgwv+e90eC2vcfzfLbn5Jx83/h839zm3NPTKsdxPh0CQXWlCyDlg7KBoGwgaipdQDGWlpZEXltbEzmXy6k1fX19Ir+/v3tfmIWws4GgbCAoGwjKBqLK8fmmSl1dncgvLy9F10xPT4ucSqU8rclW2NlAUDYQlA2E75/Z1dXy/+PBwYHI4+Pjas3l5aXIIyMjIj89PXlTnGWws4GgbCAoGwjKBsL3b70+Pj5EPjw8FNntA1p/f7/I8Xhc5L29PY+qswt2NhCUDQRlA+H7TRWT2tpakff399WciYkJkR8fH0WORCJqzd3d3d+L8znsbCAoGwjKBsK6Z7bJ4OCgGjs9Pf12zcbGhhpbXFz0rCa/ws4GgrKBoGwgKBsI378IKcbNzY0au76+Frm7u1vk4eFhtSYQCIhsbsT8B9jZQFA2EJQNhPWbKm60t7eLfHR0JHJnZ6das7W1JfL8/Lya8/lp95+KnQ0EZQNB2UBQNhD/8gOaifmVocnJyaJr6uvr1Zjtd7Ows4GgbCAoGwiIZ3ZbW5vIZ2dnak5HR4fIoVBIzbH9BCo7GwjKBoKygYB4ZpssLy+rsdXVVZHNAxCO4zg9PT0lq6kcsLOBoGwgKBsIygbC+tOlvyGfzxed09XVpcaSyaTImUzGs5rKATsbCMoGgrKBgNxUaWhoUGPmdR2jo6NqztXVlci9vb3eFlZi2NlAUDYQlA0EZQMB+QHNDfNuluPjYzXHvOh+c3NT5IWFBe8L8xB2NhCUDQRlA1G2Z7bbNyxaWlqKrru/vxfZvH+8VLy9vamxmhr53sj84ZmBgYGS1vRX2NlAUDYQlA1E2Q4vrK+vqzG3qyxMhoaGRH59ff02O477ydCfsr29rcbm5uZENl+oNDY2qjWFQuHPtXgFOxsIygaCsoGgbCDKtqkyNTWlxlZWVkT+zddrnp+f1djJyYnI6XRa5IuLC7XGPIXidpoll8uJHAwGRd7Z2VFrZmdn1VilYGcDQdlAUDYQFT280NTUJLLb1RbmgYHd3V2Rw+Hwj//dh4cHNXZ7eyuy21UciURC5NbWVpGz2axaE4vFflxfqWBnA0HZQFA2ENYdOGxubhbZ7Tk/MzMjsnl9pfms9Qo+s4lvoGwgKBsIygbCums2zA0Rtw0Sc0PE/IG2SCSi1oyNjYkcjUbVHPPUjPkDMefn5y4V+wd2NhCUDQRlA2Hdpgr5PexsICgbCMoGgrKBoGwgKBsIygaCsoGgbCAoGwjKBoKygaBsICgbCMoGgrKBoGwgKBsIygaCsoGgbCAoGwjKBoKygaBsICgbCMoGgrKBoGwgKBuILxHR0A4IigXkAAAAAElFTkSuQmCC\" id=\"image1a2bb1a2f1\" transform=\"scale(1 -1) translate(0 -88.56)\" x=\"219.512195\" y=\"-139.623893\" width=\"88.56\" height=\"88.56\"/>\n   </g>\n   <g id=\"matplotlib.axis_19\"/>\n   <g id=\"matplotlib.axis_20\"/>\n   <g id=\"patch_48\">\n    <path d=\"M 219.512195 228.183893 \nL 219.512195 139.720478 \n\" style=\"fill: none; stroke: #000000; stroke-width: 0.8; stroke-linejoin: miter; stroke-linecap: square\"/>\n   </g>\n   <g id=\"patch_49\">\n    <path d=\"M 307.97561 228.183893 \nL 307.97561 139.720478 \n\" style=\"fill: none; stroke: #000000; stroke-width: 0.8; stroke-linejoin: miter; stroke-linecap: square\"/>\n   </g>\n   <g id=\"patch_50\">\n    <path d=\"M 219.512195 228.183893 \nL 307.97561 228.183893 \n\" style=\"fill: none; stroke: #000000; stroke-width: 0.8; stroke-linejoin: miter; stroke-linecap: square\"/>\n   </g>\n   <g id=\"patch_51\">\n    <path d=\"M 219.512195 139.720478 \nL 307.97561 139.720478 \n\" style=\"fill: none; stroke: #000000; stroke-width: 0.8; stroke-linejoin: miter; stroke-linecap: square\"/>\n   </g>\n   <g id=\"text_10\">\n    <!-- The letter \"7\" -->\n    <g transform=\"translate(223.212027 133.720478) scale(0.12 -0.12)\">\n     <use xlink:href=\"#DejaVuSans-54\"/>\n     <use xlink:href=\"#DejaVuSans-68\" x=\"61.083984\"/>\n     <use xlink:href=\"#DejaVuSans-65\" x=\"124.462891\"/>\n     <use xlink:href=\"#DejaVuSans-20\" x=\"185.986328\"/>\n     <use xlink:href=\"#DejaVuSans-6c\" x=\"217.773438\"/>\n     <use xlink:href=\"#DejaVuSans-65\" x=\"245.556641\"/>\n     <use xlink:href=\"#DejaVuSans-74\" x=\"307.080078\"/>\n     <use xlink:href=\"#DejaVuSans-74\" x=\"346.289062\"/>\n     <use xlink:href=\"#DejaVuSans-65\" x=\"385.498047\"/>\n     <use xlink:href=\"#DejaVuSans-72\" x=\"447.021484\"/>\n     <use xlink:href=\"#DejaVuSans-20\" x=\"488.134766\"/>\n     <use xlink:href=\"#DejaVuSans-22\" x=\"519.921875\"/>\n     <use xlink:href=\"#DejaVuSans-37\" x=\"565.917969\"/>\n     <use xlink:href=\"#DejaVuSans-22\" x=\"629.541016\"/>\n    </g>\n   </g>\n  </g>\n  <g id=\"axes_11\">\n   <g id=\"patch_52\">\n    <path d=\"M 325.668293 228.183893 \nL 414.131707 228.183893 \nL 414.131707 139.720478 \nL 325.668293 139.720478 \nz\n\" style=\"fill: #ffffff\"/>\n   </g>\n   <g clip-path=\"url(#pce098c25a1)\">\n    <image xlink:href=\"data:image/png;base64,\niVBORw0KGgoAAAANSUhEUgAAAHsAAAB7CAYAAABUx/9/AAADRElEQVR4nO3cvyt1cRzA8XMfjygD+ZEBhWJiYRKFYpRMMspfYLco/4JB2ZXBxsDG32AUA4pBUSjL88yf833iXpz73Ov9fm2f2znOt959c5ybU8qy7E8mhF//ewGqHmODGBvE2CDGBjE2iLFBjA1ibBBjgxgbxNggxgYxNoixQYwNYmwQY4MYG8TYIMYGMTaIsUGMDWJskN/VulCpVEo+6+zsDPPi4mJyzOnpaZjv7u7C/Pj4+A2rY3BngxgbxNggxgYp7AZteHg4zDs7O8kxMzMzFf/ct7e3MB8fHyfH7O/vh/nw8DDMDw8PFV/3J3BngxgbxNggpayg12ycnJyEeWRkJL147kFLa2trckxzc/OX1/L6+hrm0dHR5JiLi4svX6fWubNBjA1ibBBjgxT2UOXo6CjM8/PzyTENDQ1hHhoaSo7p6OgIc/6GbWVlJTlnbW0tzI2Nje/OFO5sEGODGBuksIcq1TI3N5d8ln+gk/9iZHl5udA11Sp3NoixQYwNUne/s6empsK8t7eXHPP8/BzmsbGxML+8vHz/wuqAOxvE2CDGBjE2SNX+/eezWlpawry9vR3m3t7e5JzV1dUwU2/I8tzZIMYGMTZIzT9U6erqCvP9/f2H51xeXoZ5cHDwW9dUr9zZIMYGMTaIsUGMDWJsEGODGBuk5r8Iyb8SI/+utI2NjeScg4ODQtdUr9zZIMYGMTZIzX8R8hmzs7NhXlhYCPPNzU1yzvn5eZifnp4+vM7V1VWYb29vy1zh/+HOBjE2iLFBjA1S8w9VPqO/vz/M6+vrhVwnfxOX/7ejf8m/HD/Lsuzs7CzMS0tLYd7c3EzO2d3dLWeJgTsbxNggxgb5kQ9V8q/cam9vD3NPT09yTltbW5gnJiaSY/Kv9JicnAxzU1NTJcss2/X1dfJZX19fxT/HnQ1ibBBjg/zI39nVkn8/end3d3LM9PR0mMfHx5NjBgYG3r1O/u/wLMuyra2tcpYYuLNBjA1ibBBjg3iDBuLOBjE2iLFBjA1ibBBjgxgbxNggxgYxNoixQYwNYmwQY4MYG8TYIMYGMTaIsUGMDWJsEGODGBvE2CDGBjE2iLFBjA1ibBBjgxgbxNggxgYxNshfMWt/IR8Yg40AAAAASUVORK5CYII=\" id=\"imagea0a88facf8\" transform=\"scale(1 -1) translate(0 -88.56)\" x=\"325.668293\" y=\"-139.623893\" width=\"88.56\" height=\"88.56\"/>\n   </g>\n   <g id=\"matplotlib.axis_21\"/>\n   <g id=\"matplotlib.axis_22\"/>\n   <g id=\"patch_53\">\n    <path d=\"M 325.668293 228.183893 \nL 325.668293 139.720478 \n\" style=\"fill: none; stroke: #000000; stroke-width: 0.8; stroke-linejoin: miter; stroke-linecap: square\"/>\n   </g>\n   <g id=\"patch_54\">\n    <path d=\"M 414.131707 228.183893 \nL 414.131707 139.720478 \n\" style=\"fill: none; stroke: #000000; stroke-width: 0.8; stroke-linejoin: miter; stroke-linecap: square\"/>\n   </g>\n   <g id=\"patch_55\">\n    <path d=\"M 325.668293 228.183893 \nL 414.131707 228.183893 \n\" style=\"fill: none; stroke: #000000; stroke-width: 0.8; stroke-linejoin: miter; stroke-linecap: square\"/>\n   </g>\n   <g id=\"patch_56\">\n    <path d=\"M 325.668293 139.720478 \nL 414.131707 139.720478 \n\" style=\"fill: none; stroke: #000000; stroke-width: 0.8; stroke-linejoin: miter; stroke-linecap: square\"/>\n   </g>\n   <g id=\"text_11\">\n    <!-- The letter \"5\" -->\n    <g transform=\"translate(329.368125 133.720478) scale(0.12 -0.12)\">\n     <defs>\n      <path id=\"DejaVuSans-35\" d=\"M 691 4666 \nL 3169 4666 \nL 3169 4134 \nL 1269 4134 \nL 1269 2991 \nQ 1406 3038 1543 3061 \nQ 1681 3084 1819 3084 \nQ 2600 3084 3056 2656 \nQ 3513 2228 3513 1497 \nQ 3513 744 3044 326 \nQ 2575 -91 1722 -91 \nQ 1428 -91 1123 -41 \nQ 819 9 494 109 \nL 494 744 \nQ 775 591 1075 516 \nQ 1375 441 1709 441 \nQ 2250 441 2565 725 \nQ 2881 1009 2881 1497 \nQ 2881 1984 2565 2268 \nQ 2250 2553 1709 2553 \nQ 1456 2553 1204 2497 \nQ 953 2441 691 2322 \nL 691 4666 \nz\n\" transform=\"scale(0.015625)\"/>\n     </defs>\n     <use xlink:href=\"#DejaVuSans-54\"/>\n     <use xlink:href=\"#DejaVuSans-68\" x=\"61.083984\"/>\n     <use xlink:href=\"#DejaVuSans-65\" x=\"124.462891\"/>\n     <use xlink:href=\"#DejaVuSans-20\" x=\"185.986328\"/>\n     <use xlink:href=\"#DejaVuSans-6c\" x=\"217.773438\"/>\n     <use xlink:href=\"#DejaVuSans-65\" x=\"245.556641\"/>\n     <use xlink:href=\"#DejaVuSans-74\" x=\"307.080078\"/>\n     <use xlink:href=\"#DejaVuSans-74\" x=\"346.289062\"/>\n     <use xlink:href=\"#DejaVuSans-65\" x=\"385.498047\"/>\n     <use xlink:href=\"#DejaVuSans-72\" x=\"447.021484\"/>\n     <use xlink:href=\"#DejaVuSans-20\" x=\"488.134766\"/>\n     <use xlink:href=\"#DejaVuSans-22\" x=\"519.921875\"/>\n     <use xlink:href=\"#DejaVuSans-35\" x=\"565.917969\"/>\n     <use xlink:href=\"#DejaVuSans-22\" x=\"629.541016\"/>\n    </g>\n   </g>\n  </g>\n  <g id=\"axes_12\">\n   <g id=\"patch_57\">\n    <path d=\"M 431.82439 228.183893 \nL 520.287805 228.183893 \nL 520.287805 139.720478 \nL 431.82439 139.720478 \nz\n\" style=\"fill: #ffffff\"/>\n   </g>\n   <g clip-path=\"url(#pfb877f0ea4)\">\n    <image xlink:href=\"data:image/png;base64,\niVBORw0KGgoAAAANSUhEUgAAAHsAAAB7CAYAAABUx/9/AAAE20lEQVR4nO2dzSt8XxzHz0gWHiKy87BhaYiVBUIKKQ9loSRlYYmSv0BZsJAFCyVWdqLIwoaNJE8bGySPKVEzxcICv/Xnc27NndO98zW/9/u1e09nzj31cvqcuffcI2KM+TUEgox/PQCSOigbCMoGgrKBoGwgKBsIygaCsoGgbCAoGwjKBoKygaBsICgbCMoGgrKBoGwgMsPquLa2VuS9vT2rTX5+ftL9RiIRkX9/E2+0icViIk9PT1tt5ufnkx5LusGZDQRlA0HZQIRWs5uamkR2qc9BUVBQIPLc3JzVRq8xFhcXrTZHR0eBjivVcGYDQdlAUDYQERPSGyG3t7cil5WVBdKvy+9sl37f3t6sNsPDwyLv7u4Gcu1UwZkNBGUDQdlAUDYQoS3Qvr+/RXZdSMXjcZE/Pz8T9ltcXCxyVlZWwuv4Wfi9v7+LvLGxIbLXA5bn5+eE104VnNlAUDYQlA1EaDVb17yfnx+nfg4ODkRuaWlJ+J2BgQGRp6amRI5Go9Z3MjLk373reDV9fX0ib21tBdKvC5zZQFA2EJQNBGUD8edvqmhaW1tF1gs4P3R3d1ufjY+Pi9zQ0JB0v17omzWDg4NWm/X19UCulQjObCAoGwjKBiK0mn1+fi5yVVVVIP3qNzcmJycD6TcvL09kvTvWGGNWVlZELiwsTNivrtn6QY4xxjQ2Nop8cXGRsF8XOLOBoGwgKBuI0Gr2xMSEyLOzs4H0+/LyInJvb6/V5uTkJJBrabq6ukT2U8P9bIrY3t4WeWRkRGS9acIVzmwgKBsIygaCsoFIuwWaXvA8PDxYbfr7+0VO1YJtc3PTauPyupJesPX09CQ9Ni84s4GgbCAoG4jQanZdXZ3IQR2N5WcX6OHhochBbUTQlJaWinx3d2e1cdm1+vT0JHJ5eXnyg/OAMxsIygaCsoGgbCBCOwft9PRU5NHRUauNy65KvcDxuklxfHwsckVFhcg3NzdJX9eLx8dHkfWrPsbYr/X6uamSk5Mjsj6jzRhjzs7O/AxRwJkNBGUDQdlAhFazNTs7O9Znq6urIutzxlwZGxsTWb9FUlNTE8h1srOzRfaq2S7os1b17lNjWLNJAigbCMoGIrQHIX7Qb2Ho36TGGNPc3Cyyy2aAr68vkb3qnX678uPjw2qzsLAgcmVlpchev4ddxvv6+iqyfqhkjL3L1g+c2UBQNhCUDQRlA/FPF2iajo4O6zP9sEQv6oI6vuP6+lpkr8Pl6+vrk+7XZYF2eXkpcnV1ddLX9YIzGwjKBoKygfhTNdsLfdzF/v6+yEGdMRrW2aV++r2/vxe5vb1d5Kurq2DGEkgvJC2gbCAoG4g/X7M1uoZ7nd+dm5ubdL+p+udwy8vLVpuZmRmRdQ0PCs5sICgbCMoGgrKBSLsFmsbr4cna2prILmeMBrVA0+eYLy0tWW302exhwZkNBGUDQdlApH3N9iKsM0ZdyMxM2Us3CeHMBoKygaBsICgbiP/lAk2jb2R0dnZabUpKSkR2WaDF43Hrs6KioqT7CQvObCAoGwjKBgKiZvtBn48ejUatNkNDQyLHYjGR29rarO+4HIcRFpzZQFA2EJQNBGs2EJzZQFA2EJQNBGUDQdlAUDYQlA0EZQNB2UBQNhCUDQRlA0HZQFA2EJQNBGUDQdlA/AfFC04y8tHgKwAAAABJRU5ErkJggg==\" id=\"imagea0e2c3c8b8\" transform=\"scale(1 -1) translate(0 -88.56)\" x=\"431.82439\" y=\"-139.623893\" width=\"88.56\" height=\"88.56\"/>\n   </g>\n   <g id=\"matplotlib.axis_23\"/>\n   <g id=\"matplotlib.axis_24\"/>\n   <g id=\"patch_58\">\n    <path d=\"M 431.82439 228.183893 \nL 431.82439 139.720478 \n\" style=\"fill: none; stroke: #000000; stroke-width: 0.8; stroke-linejoin: miter; stroke-linecap: square\"/>\n   </g>\n   <g id=\"patch_59\">\n    <path d=\"M 520.287805 228.183893 \nL 520.287805 139.720478 \n\" style=\"fill: none; stroke: #000000; stroke-width: 0.8; stroke-linejoin: miter; stroke-linecap: square\"/>\n   </g>\n   <g id=\"patch_60\">\n    <path d=\"M 431.82439 228.183893 \nL 520.287805 228.183893 \n\" style=\"fill: none; stroke: #000000; stroke-width: 0.8; stroke-linejoin: miter; stroke-linecap: square\"/>\n   </g>\n   <g id=\"patch_61\">\n    <path d=\"M 431.82439 139.720478 \nL 520.287805 139.720478 \n\" style=\"fill: none; stroke: #000000; stroke-width: 0.8; stroke-linejoin: miter; stroke-linecap: square\"/>\n   </g>\n   <g id=\"text_12\">\n    <!-- The letter \"0\" -->\n    <g transform=\"translate(435.524223 133.720478) scale(0.12 -0.12)\">\n     <use xlink:href=\"#DejaVuSans-54\"/>\n     <use xlink:href=\"#DejaVuSans-68\" x=\"61.083984\"/>\n     <use xlink:href=\"#DejaVuSans-65\" x=\"124.462891\"/>\n     <use xlink:href=\"#DejaVuSans-20\" x=\"185.986328\"/>\n     <use xlink:href=\"#DejaVuSans-6c\" x=\"217.773438\"/>\n     <use xlink:href=\"#DejaVuSans-65\" x=\"245.556641\"/>\n     <use xlink:href=\"#DejaVuSans-74\" x=\"307.080078\"/>\n     <use xlink:href=\"#DejaVuSans-74\" x=\"346.289062\"/>\n     <use xlink:href=\"#DejaVuSans-65\" x=\"385.498047\"/>\n     <use xlink:href=\"#DejaVuSans-72\" x=\"447.021484\"/>\n     <use xlink:href=\"#DejaVuSans-20\" x=\"488.134766\"/>\n     <use xlink:href=\"#DejaVuSans-22\" x=\"519.921875\"/>\n     <use xlink:href=\"#DejaVuSans-30\" x=\"565.917969\"/>\n     <use xlink:href=\"#DejaVuSans-22\" x=\"629.541016\"/>\n    </g>\n   </g>\n  </g>\n  <g id=\"axes_13\">\n   <g id=\"patch_62\">\n    <path d=\"M 537.980488 228.183893 \nL 626.443902 228.183893 \nL 626.443902 139.720478 \nL 537.980488 139.720478 \nz\n\" style=\"fill: #ffffff\"/>\n   </g>\n   <g clip-path=\"url(#p2a2d04c0cd)\">\n    <image xlink:href=\"data:image/png;base64,\niVBORw0KGgoAAAANSUhEUgAAAHsAAAB7CAYAAABUx/9/AAACzUlEQVR4nO3d7a3aMBhAYVN1C7jMAczBxxzAHMAcwBwI5oBB6O+8uAVUBeyc8/zLFaipjqwkTmJ6KaV7EsKvb++APsfYIMYG+f3tHfhfPz8/D3+7Xq///E6v12trd4rmyAYxNoixQYwNUv0J2mazefqZ4XD4gT0pnyMbxNggxgap/ph9Pp8f/jabzRrbt9vtU7tTNEc2iLFBjA1ibJBOnqBFo9GosX25XNranaI5skGMDWJskF7q4NOl93vzvxSP65PJ5JO7UwxHNoixQYwNUv11dk48Ro/H4y/tSVkc2SDGBjE2iLFBOnmCdjweG9vxBC33ROp6vW51n0rgyAYxNoixQTp5IyS+xhtf4c09bUp4a8SRDWJsEGODGBukkydo0Xw+b2zv9/uHzywWi8b24XBodZ++wZENYmwQY4MgjtlRbp20OBHTxbXSHNkgxgYxNgjymB2vu1N6vPaOD0D87Xs1cWSDGBvE2CDGBkGeoOXEGx9xLbWUHp9SrW25Dkc2iLFBjA3SyTdC4hsfuR+NiQaDwdPPbLfbxnZty3U4skGMDWJsEGODVDepEtchfWXt0rbUNsniyAYxNoixQaqbVMndoIhWq1Vje7fbvf3v5CZiTqdTY7u2SRZHNoixQYwNUt119rO1xFNq79j5bPmO0p9IdWSDGBvE2CDGBqluUuWb4vppcfJmuVx+cnfe5sgGMTaIsUGqO2bH42bux17iZEe8EfLKjZHcZMh0On37OyVxZIMYG8TYINXdCIk3I3K/9/HsAYfczZN4zZxbf7zf7ze248MLOSUtseXIBjE2iLFBjA1S3QnaK+JbI/FEKjcREydrXnnNN/JJFRXD2CDGBunkMVt5jmwQY4MYG8TYIMYGMTaIsUGMDWJsEGODGBvE2CDGBjE2iLFBjA1ibBBjgxgbxNggxgYxNoixQYwNYmwQY4MYG8TYIMYGMTbIHwU7ikLzzjkIAAAAAElFTkSuQmCC\" id=\"imageef329ffcd7\" transform=\"scale(1 -1) translate(0 -88.56)\" x=\"537.980488\" y=\"-139.623893\" width=\"88.56\" height=\"88.56\"/>\n   </g>\n   <g id=\"matplotlib.axis_25\"/>\n   <g id=\"matplotlib.axis_26\"/>\n   <g id=\"patch_63\">\n    <path d=\"M 537.980488 228.183893 \nL 537.980488 139.720478 \n\" style=\"fill: none; stroke: #000000; stroke-width: 0.8; stroke-linejoin: miter; stroke-linecap: square\"/>\n   </g>\n   <g id=\"patch_64\">\n    <path d=\"M 626.443902 228.183893 \nL 626.443902 139.720478 \n\" style=\"fill: none; stroke: #000000; stroke-width: 0.8; stroke-linejoin: miter; stroke-linecap: square\"/>\n   </g>\n   <g id=\"patch_65\">\n    <path d=\"M 537.980488 228.183893 \nL 626.443902 228.183893 \n\" style=\"fill: none; stroke: #000000; stroke-width: 0.8; stroke-linejoin: miter; stroke-linecap: square\"/>\n   </g>\n   <g id=\"patch_66\">\n    <path d=\"M 537.980488 139.720478 \nL 626.443902 139.720478 \n\" style=\"fill: none; stroke: #000000; stroke-width: 0.8; stroke-linejoin: miter; stroke-linecap: square\"/>\n   </g>\n   <g id=\"text_13\">\n    <!-- The letter \"9\" -->\n    <g transform=\"translate(541.68032 133.720478) scale(0.12 -0.12)\">\n     <defs>\n      <path id=\"DejaVuSans-39\" d=\"M 703 97 \nL 703 672 \nQ 941 559 1184 500 \nQ 1428 441 1663 441 \nQ 2288 441 2617 861 \nQ 2947 1281 2994 2138 \nQ 2813 1869 2534 1725 \nQ 2256 1581 1919 1581 \nQ 1219 1581 811 2004 \nQ 403 2428 403 3163 \nQ 403 3881 828 4315 \nQ 1253 4750 1959 4750 \nQ 2769 4750 3195 4129 \nQ 3622 3509 3622 2328 \nQ 3622 1225 3098 567 \nQ 2575 -91 1691 -91 \nQ 1453 -91 1209 -44 \nQ 966 3 703 97 \nz\nM 1959 2075 \nQ 2384 2075 2632 2365 \nQ 2881 2656 2881 3163 \nQ 2881 3666 2632 3958 \nQ 2384 4250 1959 4250 \nQ 1534 4250 1286 3958 \nQ 1038 3666 1038 3163 \nQ 1038 2656 1286 2365 \nQ 1534 2075 1959 2075 \nz\n\" transform=\"scale(0.015625)\"/>\n     </defs>\n     <use xlink:href=\"#DejaVuSans-54\"/>\n     <use xlink:href=\"#DejaVuSans-68\" x=\"61.083984\"/>\n     <use xlink:href=\"#DejaVuSans-65\" x=\"124.462891\"/>\n     <use xlink:href=\"#DejaVuSans-20\" x=\"185.986328\"/>\n     <use xlink:href=\"#DejaVuSans-6c\" x=\"217.773438\"/>\n     <use xlink:href=\"#DejaVuSans-65\" x=\"245.556641\"/>\n     <use xlink:href=\"#DejaVuSans-74\" x=\"307.080078\"/>\n     <use xlink:href=\"#DejaVuSans-74\" x=\"346.289062\"/>\n     <use xlink:href=\"#DejaVuSans-65\" x=\"385.498047\"/>\n     <use xlink:href=\"#DejaVuSans-72\" x=\"447.021484\"/>\n     <use xlink:href=\"#DejaVuSans-20\" x=\"488.134766\"/>\n     <use xlink:href=\"#DejaVuSans-22\" x=\"519.921875\"/>\n     <use xlink:href=\"#DejaVuSans-39\" x=\"565.917969\"/>\n     <use xlink:href=\"#DejaVuSans-22\" x=\"629.541016\"/>\n    </g>\n   </g>\n  </g>\n  <g id=\"axes_14\">\n   <g id=\"patch_67\">\n    <path d=\"M 644.136585 228.183893 \nL 732.6 228.183893 \nL 732.6 139.720478 \nL 644.136585 139.720478 \nz\n\" style=\"fill: #ffffff\"/>\n   </g>\n   <g clip-path=\"url(#pb4336e9e4a)\">\n    <image xlink:href=\"data:image/png;base64,\niVBORw0KGgoAAAANSUhEUgAAAHsAAAB7CAYAAABUx/9/AAAENklEQVR4nO2dzSs1YRjG7/Mm5LDxmWyUUMpONjZWlBJKJP8B+SqRhbK1sKLYsFQSpRQbspGFFVbKQvlYIBs2vvJu3/u55zWOOR8zruu3u6Znxq1fd8+cM888JyYin0Ig+JPpAkj6oGwgKBsIygaCsoGgbCAoGwjKBoKygaBsICgbCMoGgrKBoGwgKBsIygaCsoHIynQBQampqTHHpqenVW5qalK5srLSnPP09KTy+vq6GTM1NaXy/f39d8sMBexsICgbCMoGIiYRW106Ozur8sDAgBkTj8dVPj4+Vvnz0/7LFRUVX2YRO683NjaqfH5+7lFxeGBnA0HZQFA2EJGbszc3N1X2+jzsztEXFxe+13U/e8/Pz5sxzc3NX16jp6fHHNvZ2fH92+mCnQ0EZQNB2UBQNhCRu0FLF+7DExGR9vZ2lUdHR1V+fX0159TV1al8fX0dvLgfws4GgrKBoGwgIr94IVUcHh6aY5eXlyq7D0v6+/vNObm5uUmtKwjsbCAoGwjKBoKygeANWgLc3NxkuoRAsLOBoGwgKBsIztkBaGhoUPn5+dmMeXl5SVc5vrCzgaBsICgbCM7Z/6G0tNQcc99Gqa2tVbmjo8Occ3V1ldzCAsDOBoKygaBsICgbiNDfoOXl5ansviZbX1+f8DWLiorMsdbWVpXLysrMmPLycpW3t7dV3tvbS7iWdMLOBoKygaBsIEI1Z3ttbbG/v69ydXW173VisZjKt7e3X15TROT9/V1lr9Wlq6urKofpddzvwM4GgrKBoGwgKBuIUN2guV9aiHjvM/ovW1tb5tjMzIzKJycnQcr6NbCzgaBsICgbiNBvs9HS0qKy317iInZFZ1dXl8q7u7tJqi5asLOBoGwgKBuI0M/ZLtnZ2Sq721WJiCwsLKicn5+v8srKijlnfHxc5be3t5+WGFrY2UBQNhCUDQRlAxG5G7TvUFxcrPLk5KTKg4OD5pzl5WWVx8bGzBh3NUvUYGcDQdlAUDYQv3LO9sNrPp6bm1O5r6/PjFlbW0tZTemAnQ0EZQNB2UBAztnu53ARkbOzM5WzsuxazJKSkpTVlA7Y2UBQNhCUDQRlA5GyN0LcH0KZmJgwYwoLC1U+OjoyYzY2NlROxsMId+WKiEhOTo7Kd3d3gf9O2GBnA0HZQFA2ECmbs+PxuMpeP2bW29ur8vDwsBnjzvXuytDHx8eEa+nu7jZjPj4+VO7s7PS9btRgZwNB2UBQNhCUDURGn3q5T5+WlpbMmLa2NpUfHh5U9trTrKCgQGX31+mrqqrMOSMjIyovLi56VBxt2NlAUDYQlA1E6FequPPt0NCQyl5fkJyenqrs7l3qvv0hInJwcPDDCqMDOxsIygaCsoEI/ZxNkgc7GwjKBoKygaBsICgbCMoGgrKBoGwgKBsIygaCsoGgbCAoGwjKBoKygaBsICgbiL/w3MoLlY4kMAAAAABJRU5ErkJggg==\" id=\"imageea8afa3869\" transform=\"scale(1 -1) translate(0 -88.56)\" x=\"644.136585\" y=\"-139.623893\" width=\"88.56\" height=\"88.56\"/>\n   </g>\n   <g id=\"matplotlib.axis_27\"/>\n   <g id=\"matplotlib.axis_28\"/>\n   <g id=\"patch_68\">\n    <path d=\"M 644.136585 228.183893 \nL 644.136585 139.720478 \n\" style=\"fill: none; stroke: #000000; stroke-width: 0.8; stroke-linejoin: miter; stroke-linecap: square\"/>\n   </g>\n   <g id=\"patch_69\">\n    <path d=\"M 732.6 228.183893 \nL 732.6 139.720478 \n\" style=\"fill: none; stroke: #000000; stroke-width: 0.8; stroke-linejoin: miter; stroke-linecap: square\"/>\n   </g>\n   <g id=\"patch_70\">\n    <path d=\"M 644.136585 228.183893 \nL 732.6 228.183893 \n\" style=\"fill: none; stroke: #000000; stroke-width: 0.8; stroke-linejoin: miter; stroke-linecap: square\"/>\n   </g>\n   <g id=\"patch_71\">\n    <path d=\"M 644.136585 139.720478 \nL 732.6 139.720478 \n\" style=\"fill: none; stroke: #000000; stroke-width: 0.8; stroke-linejoin: miter; stroke-linecap: square\"/>\n   </g>\n   <g id=\"text_14\">\n    <!-- The letter \"3\" -->\n    <g transform=\"translate(647.836418 133.720478) scale(0.12 -0.12)\">\n     <use xlink:href=\"#DejaVuSans-54\"/>\n     <use xlink:href=\"#DejaVuSans-68\" x=\"61.083984\"/>\n     <use xlink:href=\"#DejaVuSans-65\" x=\"124.462891\"/>\n     <use xlink:href=\"#DejaVuSans-20\" x=\"185.986328\"/>\n     <use xlink:href=\"#DejaVuSans-6c\" x=\"217.773438\"/>\n     <use xlink:href=\"#DejaVuSans-65\" x=\"245.556641\"/>\n     <use xlink:href=\"#DejaVuSans-74\" x=\"307.080078\"/>\n     <use xlink:href=\"#DejaVuSans-74\" x=\"346.289062\"/>\n     <use xlink:href=\"#DejaVuSans-65\" x=\"385.498047\"/>\n     <use xlink:href=\"#DejaVuSans-72\" x=\"447.021484\"/>\n     <use xlink:href=\"#DejaVuSans-20\" x=\"488.134766\"/>\n     <use xlink:href=\"#DejaVuSans-22\" x=\"519.921875\"/>\n     <use xlink:href=\"#DejaVuSans-33\" x=\"565.917969\"/>\n     <use xlink:href=\"#DejaVuSans-22\" x=\"629.541016\"/>\n    </g>\n   </g>\n  </g>\n  <g id=\"axes_15\">\n   <g id=\"patch_72\">\n    <path d=\"M 7.2 345.586246 \nL 95.663415 345.586246 \nL 95.663415 257.122831 \nL 7.2 257.122831 \nz\n\" style=\"fill: #ffffff\"/>\n   </g>\n   <g clip-path=\"url(#pb6cad9265f)\">\n    <image xlink:href=\"data:image/png;base64,\niVBORw0KGgoAAAANSUhEUgAAAHsAAAB7CAYAAABUx/9/AAACY0lEQVR4nO3dUW7CMBAA0aTqvYCTASeDm9HfdlmVYDl4k5n3V6RWqUaWLccJ8zRNj0kIX6MvQJ9jbBBjg3yPvoDfLpfL02fn8/nf35nneaWr2R9HNoixQYwNYmyQeSq0qfJ4vH8pLtCWc2SDGBvE2CClNlVaZBsx2WdyZKMYG8TYIMYGKbVAu16vT5+9uut1OBzWupzdcWSDGBvE2CClboQcj8enz26329t/536///n5dDo1XtG+OLJBjA1ibJBSc3YmzuMtc3ics+OcTuHIBjE2iLFBjA1SfoEWxQVathHzSrZAI2y8OLJBjA1ibJDNzdlRtsnSMo9H2Ry+9c0YRzaIsUGMDWJskM0v0Hqdblli63fPHNkgxgYxNsjm5+xMj9MtmThHxydYqs/hjmwQY4MYG2SXc3YUX7vx6snQVtVf0+XIBjE2iLFBjA2CWKBFLS+xX6L6qVVHNoixQYwNgpyzM2vdPIk3S0a+V9WRDWJsEGODGBuk1LtLR4obItkGSY/HikZyZIMYG8TYIG6qvKHlS+aikY8CO7JBjA1ibJDNzdlLbiTEgwjZd4/00OuU6qdOpTqyQYwNYmwQY4OUWqCt9U6z6lygqTtjgxgbZOjhhbhBQpifM/H/XuvGiCMbxNggxgZBHDiMN0KyL1gfuV7w8IK6MzaIsUGMDTL0RkjLY7IjH4GN1xt/bj254o0QdWdsEGODlDq8oHU5skGMDWJsEGODGBvE2CDGBjE2iLFBjA1ibBBjgxgbxNggxgYxNoixQYwNYmwQY4MYG8TYIMYGMTaIsUGMDWJsEGODGBvE2CA/AEF7YJ3xLPAAAAAASUVORK5CYII=\" id=\"image4e53bb8c0b\" transform=\"scale(1 -1) translate(0 -88.56)\" x=\"7.2\" y=\"-257.026246\" width=\"88.56\" height=\"88.56\"/>\n   </g>\n   <g id=\"matplotlib.axis_29\"/>\n   <g id=\"matplotlib.axis_30\"/>\n   <g id=\"patch_73\">\n    <path d=\"M 7.2 345.586246 \nL 7.2 257.122831 \n\" style=\"fill: none; stroke: #000000; stroke-width: 0.8; stroke-linejoin: miter; stroke-linecap: square\"/>\n   </g>\n   <g id=\"patch_74\">\n    <path d=\"M 95.663415 345.586246 \nL 95.663415 257.122831 \n\" style=\"fill: none; stroke: #000000; stroke-width: 0.8; stroke-linejoin: miter; stroke-linecap: square\"/>\n   </g>\n   <g id=\"patch_75\">\n    <path d=\"M 7.2 345.586246 \nL 95.663415 345.586246 \n\" style=\"fill: none; stroke: #000000; stroke-width: 0.8; stroke-linejoin: miter; stroke-linecap: square\"/>\n   </g>\n   <g id=\"patch_76\">\n    <path d=\"M 7.2 257.122831 \nL 95.663415 257.122831 \n\" style=\"fill: none; stroke: #000000; stroke-width: 0.8; stroke-linejoin: miter; stroke-linecap: square\"/>\n   </g>\n   <g id=\"text_15\">\n    <!-- The letter \"7\" -->\n    <g transform=\"translate(10.899832 251.122831) scale(0.12 -0.12)\">\n     <use xlink:href=\"#DejaVuSans-54\"/>\n     <use xlink:href=\"#DejaVuSans-68\" x=\"61.083984\"/>\n     <use xlink:href=\"#DejaVuSans-65\" x=\"124.462891\"/>\n     <use xlink:href=\"#DejaVuSans-20\" x=\"185.986328\"/>\n     <use xlink:href=\"#DejaVuSans-6c\" x=\"217.773438\"/>\n     <use xlink:href=\"#DejaVuSans-65\" x=\"245.556641\"/>\n     <use xlink:href=\"#DejaVuSans-74\" x=\"307.080078\"/>\n     <use xlink:href=\"#DejaVuSans-74\" x=\"346.289062\"/>\n     <use xlink:href=\"#DejaVuSans-65\" x=\"385.498047\"/>\n     <use xlink:href=\"#DejaVuSans-72\" x=\"447.021484\"/>\n     <use xlink:href=\"#DejaVuSans-20\" x=\"488.134766\"/>\n     <use xlink:href=\"#DejaVuSans-22\" x=\"519.921875\"/>\n     <use xlink:href=\"#DejaVuSans-37\" x=\"565.917969\"/>\n     <use xlink:href=\"#DejaVuSans-22\" x=\"629.541016\"/>\n    </g>\n   </g>\n  </g>\n  <g id=\"axes_16\">\n   <g id=\"patch_77\">\n    <path d=\"M 113.356098 345.586246 \nL 201.819512 345.586246 \nL 201.819512 257.122831 \nL 113.356098 257.122831 \nz\n\" style=\"fill: #ffffff\"/>\n   </g>\n   <g clip-path=\"url(#p72442fcbaa)\">\n    <image xlink:href=\"data:image/png;base64,\niVBORw0KGgoAAAANSUhEUgAAAHsAAAB7CAYAAABUx/9/AAAET0lEQVR4nO2dTSg1URjHz0XJR7GwYcHKRpSPBUkpLLBU7LGxkiI7JQslhISdhYUVK3VLEguWvhYsFQuKhRUhH+/u7X3OMzlz73vdOzP//2/3n86ZOfXzNGfmzD1ixphvQyDIyvQASPqgbCAoGwjKBoKygaBsICgbCMoGgrKBoGwgKBsIygYiJ9MD+JeWlhZ1LB6Pi1xQUCDy97dex7m5uRF5a2tL5Pn5edXn4eHB9zjDCisbCMoGgrKBoGwgYiaDX6pUV1eLfHh4qNoUFxeLHIvFRH58fFR9SkpKfrzu1dWVOtbe3u48b9hhZQNB2UBQNhAZfamSm5srck5O4sOZnJxUxz4/P0WenZ0VuaqqSvWZmJgQeXh4OOGxBB1WNhCUDQRlA5HR52ybzc1Ndayvr09k+zl7enpa9bHvv2dnZyLX1NSoPvZCSFlZ2c+DDSGsbCAoGwjKBoKygQjUBK2hoUEdsxdHCgsLRT4/P1d96urqRB4aGhJ5ZWVF9Xl+fha5qalJtfFaQAkTrGwgKBsIygYiUPdsL9bX10Xu7e0VOS8vT/Wxvy7d2NgQ2X7pYox+WXNxcaHa1NfX/zzYgMPKBoKygaBsICgbiMBP0GzGx8dF9lr1SgZO0EikoGwgKBuIQP1k1w9LS0siV1ZWqjb9/f3pGk6oYGUDQdlAUDYQoXvOtikvL1fHjo+PRS4tLXWex37Ovr29VW2am5tFvr+/9zPEwMDKBoKygaBsICgbiNBP0Lyora0VeXd3V2SvbTiysuTf/dfXl2rT2dkp8t7eXpIjzAysbCAoGwjKBiJ0CyF+eHl5Edne39Rrv1P7Hu3Vxt4+6+DgQOSPj4+ExpluWNlAUDYQlA0EZQMRyQma/RNd116mfhkbGxP56elJ5JmZmZRc57dgZQNB2UBQNhCRvGd77U3qYnt7W+Senh5nn7a2NpEXFhZUm/f394TH8luwsoGgbCAoG4hI3rOTYWRkROTr62vVxn7OthdG1tbWVJ/BwcH/H1yKYGUDQdlAUDYQlA1EJL8utb8m7ejocPZpbGwU+e7uTrU5OjoSuaKiwnne7OxsZ5t0wcoGgrKBoGwgIvlSxc/XpDbd3d0iT01NqTb23uZePxe22dnZEdnee9UYY15fX53nSQWsbCAoGwjKBiKSz9n2osbc3Jyzz9vbm8gDAwOqTVFRkcirq6vO89rbd4yOjqo2i4uLzvOkAlY2EJQNBGUDQdlARHKCZv8zuP39fZHtfwRnjJ5I+XkR44cg7WPOygaCsoGgbCAiuRBycnIi8vLyssj2SxdjjMnPz//NIf3l8vIyLdfxgpUNBGUDQdlAUDYQkXyp4qKrq0sdi8fjInvtXZoM9p5sra2tqs3p6WlKruWClQ0EZQNB2UBA3rNRYWUDQdlAUDYQlA0EZQNB2UBQNhCUDQRlA0HZQFA2EJQNBGUDQdlAUDYQlA0EZQNB2UBQNhCUDQRlA/EHIVPlv4+aPsoAAAAASUVORK5CYII=\" id=\"imagebfa3797d11\" transform=\"scale(1 -1) translate(0 -88.56)\" x=\"113.356098\" y=\"-257.026246\" width=\"88.56\" height=\"88.56\"/>\n   </g>\n   <g id=\"matplotlib.axis_31\"/>\n   <g id=\"matplotlib.axis_32\"/>\n   <g id=\"patch_78\">\n    <path d=\"M 113.356098 345.586246 \nL 113.356098 257.122831 \n\" style=\"fill: none; stroke: #000000; stroke-width: 0.8; stroke-linejoin: miter; stroke-linecap: square\"/>\n   </g>\n   <g id=\"patch_79\">\n    <path d=\"M 201.819512 345.586246 \nL 201.819512 257.122831 \n\" style=\"fill: none; stroke: #000000; stroke-width: 0.8; stroke-linejoin: miter; stroke-linecap: square\"/>\n   </g>\n   <g id=\"patch_80\">\n    <path d=\"M 113.356098 345.586246 \nL 201.819512 345.586246 \n\" style=\"fill: none; stroke: #000000; stroke-width: 0.8; stroke-linejoin: miter; stroke-linecap: square\"/>\n   </g>\n   <g id=\"patch_81\">\n    <path d=\"M 113.356098 257.122831 \nL 201.819512 257.122831 \n\" style=\"fill: none; stroke: #000000; stroke-width: 0.8; stroke-linejoin: miter; stroke-linecap: square\"/>\n   </g>\n   <g id=\"text_16\">\n    <!-- The letter \"8\" -->\n    <g transform=\"translate(117.05593 251.122831) scale(0.12 -0.12)\">\n     <use xlink:href=\"#DejaVuSans-54\"/>\n     <use xlink:href=\"#DejaVuSans-68\" x=\"61.083984\"/>\n     <use xlink:href=\"#DejaVuSans-65\" x=\"124.462891\"/>\n     <use xlink:href=\"#DejaVuSans-20\" x=\"185.986328\"/>\n     <use xlink:href=\"#DejaVuSans-6c\" x=\"217.773438\"/>\n     <use xlink:href=\"#DejaVuSans-65\" x=\"245.556641\"/>\n     <use xlink:href=\"#DejaVuSans-74\" x=\"307.080078\"/>\n     <use xlink:href=\"#DejaVuSans-74\" x=\"346.289062\"/>\n     <use xlink:href=\"#DejaVuSans-65\" x=\"385.498047\"/>\n     <use xlink:href=\"#DejaVuSans-72\" x=\"447.021484\"/>\n     <use xlink:href=\"#DejaVuSans-20\" x=\"488.134766\"/>\n     <use xlink:href=\"#DejaVuSans-22\" x=\"519.921875\"/>\n     <use xlink:href=\"#DejaVuSans-38\" x=\"565.917969\"/>\n     <use xlink:href=\"#DejaVuSans-22\" x=\"629.541016\"/>\n    </g>\n   </g>\n  </g>\n  <g id=\"axes_17\">\n   <g id=\"patch_82\">\n    <path d=\"M 219.512195 345.586246 \nL 307.97561 345.586246 \nL 307.97561 257.122831 \nL 219.512195 257.122831 \nz\n\" style=\"fill: #ffffff\"/>\n   </g>\n   <g clip-path=\"url(#p7c67229250)\">\n    <image xlink:href=\"data:image/png;base64,\niVBORw0KGgoAAAANSUhEUgAAAHsAAAB7CAYAAABUx/9/AAADzklEQVR4nO2cPUsrQRSGN34hiIVgpVZiI4qFhZViBMUm2KVJmT8hWNpY+he0FAVtLERULLQQ7CwUiwgqoqD4gV+IeJs0Z2a54ZrsOt73ebp3mM0eeDzMxsxOJoqirwgkqPvpAiA9kC0EsoVAthDIFgLZQiBbCGQLgWwhkC0EsoVAthANP11AKGxvb5uczWa9OcPDwybv7+8nWVLNobOFQLYQyBYC2ULwgFamq6vL5NvbW2/O4+NjWuUkAp0tBLKFQLYQrNllzs7OTG5vb/fmXF9fp1RNMtDZQiBbCGQLwZpdZmVlxeSJiQlvTnNzc1rlJAKdLQSyhUC2EMgWgge0MoeHhyZ/fflvMnd3d5t8fn6eaE21hs4WAtlCIFsI1uwyQ0NDFecMDg6avLu7m1Q5iUBnC4FsIZAtBLKFCP4BbWxszOTZ2dmK12xtbZns/vNjeXnZu+bg4KDi546Ojpo8Pz9f8ZqQoLOFQLYQyBYiEwV0dmlbW5s35u76dH+giHtLw327w+Xy8tIb29jYMLlYLHpz9vb2TB4ZGfnrfUKDzhYC2UIgW4igvmc3NPjltLa2mux+t52ZmfGu6e/vN9n9kWN6etq7Jm6N/t+gs4VAthDIFgLZQgT1gPYd3t/fvTF3p6ibFxYWvGsmJydNXlpaqr64wKCzhUC2EMgW4tet2X19fVV/xuvrqze2trZmctyPJS0tLSY3Njaa/PHxUXVtSUJnC4FsIZAtBLKFCOoB7eXlxRtzd6r09vamUsvR0ZE3lsvlTHbPSru6ukq0pmqhs4VAthDIFiKoNfv5+dkbW19fN3lqaiqVWo6Pj70xd83+bdDZQiBbCGQLEdSaHYd7pmhaa/bd3V3FOQMDAybzPRuCAdlCIFsIZAsR/APa6empyZ2dnSbHHQK/ublZ9X13dnYqzsnn8ya7r/2GBp0tBLKFQLYQwa/ZLnV19u9zfHzcm1OLNfvh4cEbc98+6enpqfo+aUJnC4FsIZAtRFBHY8XR0dFh8sXFhcknJyfeNUltSlxdXTXZPcorm80mct9aQWcLgWwhkC0EsoUI/p8qb29vJt/f35vc1NSUWi2lUsnkuLNWQ4bOFgLZQiBbiODXbHeX5+Lioslp7TaNIv8ojkKhYLJ7zmoURdHT01OSJf0TdLYQyBYC2UIgW4jgH9Bc5ubmTL65uUnt3p+fnybX19ebnMlkUqvlO9DZQiBbCGQLEfxOFagddLYQyBYC2UIgWwhkC4FsIZAtBLKFQLYQyBYC2UIgWwhkC4FsIZAtBLKFQLYQyBYC2UIgWwhkC/EH0VW7yDNa+H8AAAAASUVORK5CYII=\" id=\"imagea5918716f5\" transform=\"scale(1 -1) translate(0 -88.56)\" x=\"219.512195\" y=\"-257.026246\" width=\"88.56\" height=\"88.56\"/>\n   </g>\n   <g id=\"matplotlib.axis_33\"/>\n   <g id=\"matplotlib.axis_34\"/>\n   <g id=\"patch_83\">\n    <path d=\"M 219.512195 345.586246 \nL 219.512195 257.122831 \n\" style=\"fill: none; stroke: #000000; stroke-width: 0.8; stroke-linejoin: miter; stroke-linecap: square\"/>\n   </g>\n   <g id=\"patch_84\">\n    <path d=\"M 307.97561 345.586246 \nL 307.97561 257.122831 \n\" style=\"fill: none; stroke: #000000; stroke-width: 0.8; stroke-linejoin: miter; stroke-linecap: square\"/>\n   </g>\n   <g id=\"patch_85\">\n    <path d=\"M 219.512195 345.586246 \nL 307.97561 345.586246 \n\" style=\"fill: none; stroke: #000000; stroke-width: 0.8; stroke-linejoin: miter; stroke-linecap: square\"/>\n   </g>\n   <g id=\"patch_86\">\n    <path d=\"M 219.512195 257.122831 \nL 307.97561 257.122831 \n\" style=\"fill: none; stroke: #000000; stroke-width: 0.8; stroke-linejoin: miter; stroke-linecap: square\"/>\n   </g>\n   <g id=\"text_17\">\n    <!-- The letter \"4\" -->\n    <g transform=\"translate(223.212027 251.122831) scale(0.12 -0.12)\">\n     <use xlink:href=\"#DejaVuSans-54\"/>\n     <use xlink:href=\"#DejaVuSans-68\" x=\"61.083984\"/>\n     <use xlink:href=\"#DejaVuSans-65\" x=\"124.462891\"/>\n     <use xlink:href=\"#DejaVuSans-20\" x=\"185.986328\"/>\n     <use xlink:href=\"#DejaVuSans-6c\" x=\"217.773438\"/>\n     <use xlink:href=\"#DejaVuSans-65\" x=\"245.556641\"/>\n     <use xlink:href=\"#DejaVuSans-74\" x=\"307.080078\"/>\n     <use xlink:href=\"#DejaVuSans-74\" x=\"346.289062\"/>\n     <use xlink:href=\"#DejaVuSans-65\" x=\"385.498047\"/>\n     <use xlink:href=\"#DejaVuSans-72\" x=\"447.021484\"/>\n     <use xlink:href=\"#DejaVuSans-20\" x=\"488.134766\"/>\n     <use xlink:href=\"#DejaVuSans-22\" x=\"519.921875\"/>\n     <use xlink:href=\"#DejaVuSans-34\" x=\"565.917969\"/>\n     <use xlink:href=\"#DejaVuSans-22\" x=\"629.541016\"/>\n    </g>\n   </g>\n  </g>\n  <g id=\"axes_18\">\n   <g id=\"patch_87\">\n    <path d=\"M 325.668293 345.586246 \nL 414.131707 345.586246 \nL 414.131707 257.122831 \nL 325.668293 257.122831 \nz\n\" style=\"fill: #ffffff\"/>\n   </g>\n   <g clip-path=\"url(#pafc5314883)\">\n    <image xlink:href=\"data:image/png;base64,\niVBORw0KGgoAAAANSUhEUgAAAHsAAAB7CAYAAABUx/9/AAADtUlEQVR4nO2dO0szQRhGJ/IhKAQEQRBvjYKlFl4Q0crOUsQfEME/kcYfYGljrYUWVjZWIigWooWXQmwUtbPxVqr1OzNJzLrJrt9zTvdMZpKBw8ssszubgnPuy4EELVlPAJoHsoVAthDIFgLZQiBbCGQLgWwhkC0EsoVAthDIFuJf1hP4ywwPD5t8eXkZ9Jmenjb55OSkoXOqBpUtBLKFQLYQyBaCC7RfUC6XTX57ewv6xNqygsoWAtlCIFsI1uw6WFpaqpqPj4+DMbGNlqygsoVAthDIFoI1uw66u7tNLhQKJre05Lt28j07SBVkC4FsIZAtBBdodTAzM2Py15c97XxwcNDE2dQPlS0EsoVAthAFx2s2fszd3Z3J7e3tJo+OjgZjHh4eGjqneqCyhUC2EMgWAtlCsKlSgd7e3qCtra3N5I+PD5PzdDEWg8oWAtlCIFsI1uwKTE1NBW2dnZ0mPz4+Nms6qUBlC4FsIZAtBGt2BfwHE2JtsT55hsoWAtlCIFsIZAuR2gWav+GwuLho8uzsbKLvPTs7M/nw8NDk19fXYMzV1VWi3/rfobKFQLYQyBYi0Zrtr8/OObezs2Oyf3rCP97q3M82JRYWFqp+T2zNvri4MNlf9/f394Mxe3t7Jg8ODtac21+DyhYC2UIgWwhkC5Ho+M/k5GTQdnR0VHXM+/t70LaxsWGyfyHlnHPr6+smF4tFk5Pcefr8/Azanp6eTO7q6gr6tLa2mvzy8mLyxMREMObm5qbu+TUKKlsIZAuBbCESbarc398Hbf7Nh/7+fpM7OjqS/JTb3Nys+vn8/HzQNjQ0ZHKpVDI5dtqjp6en5lx4UgX+DMgWAtlCpPaajb6+PpO3traqZuec297eNvn5+TmNqdRkZGQkaPPX+dXV1Zp9/BMhAwMDv59cA6GyhUC2EMgWAtlCNOw9aMvLyyavra0Ffebm5kzO8h9ofWI3dvwbHVygQW5BthDIFqJhR3b9BxP8pzedCx8YyBOxp2H9tlifPENlC4FsIZAtRNNes5Hn9TlG7P8+xsfHTebhBcgtyBYC2UIgWwjeg1aB8/PzrKeQOlS2EMgWAtlC8CduFYi9SmR3d9fksbExk09PT4MxKysrJmf52i4qWwhkC4FsIZAtBJsqFYgdRSqXyyb7d8aur6+DMbe3t6nO6zdQ2UIgWwhkC8GmihBUthDIFgLZQiBbCGQLgWwhkC0EsoVAthDIFgLZQiBbCGQLgWwhkC0EsoVAthDIFgLZQiBbCGQL8Q13gMdKA27uSQAAAABJRU5ErkJggg==\" id=\"imagecd835d2017\" transform=\"scale(1 -1) translate(0 -88.56)\" x=\"325.668293\" y=\"-257.026246\" width=\"88.56\" height=\"88.56\"/>\n   </g>\n   <g id=\"matplotlib.axis_35\"/>\n   <g id=\"matplotlib.axis_36\"/>\n   <g id=\"patch_88\">\n    <path d=\"M 325.668293 345.586246 \nL 325.668293 257.122831 \n\" style=\"fill: none; stroke: #000000; stroke-width: 0.8; stroke-linejoin: miter; stroke-linecap: square\"/>\n   </g>\n   <g id=\"patch_89\">\n    <path d=\"M 414.131707 345.586246 \nL 414.131707 257.122831 \n\" style=\"fill: none; stroke: #000000; stroke-width: 0.8; stroke-linejoin: miter; stroke-linecap: square\"/>\n   </g>\n   <g id=\"patch_90\">\n    <path d=\"M 325.668293 345.586246 \nL 414.131707 345.586246 \n\" style=\"fill: none; stroke: #000000; stroke-width: 0.8; stroke-linejoin: miter; stroke-linecap: square\"/>\n   </g>\n   <g id=\"patch_91\">\n    <path d=\"M 325.668293 257.122831 \nL 414.131707 257.122831 \n\" style=\"fill: none; stroke: #000000; stroke-width: 0.8; stroke-linejoin: miter; stroke-linecap: square\"/>\n   </g>\n   <g id=\"text_18\">\n    <!-- The letter \"4\" -->\n    <g transform=\"translate(329.368125 251.122831) scale(0.12 -0.12)\">\n     <use xlink:href=\"#DejaVuSans-54\"/>\n     <use xlink:href=\"#DejaVuSans-68\" x=\"61.083984\"/>\n     <use xlink:href=\"#DejaVuSans-65\" x=\"124.462891\"/>\n     <use xlink:href=\"#DejaVuSans-20\" x=\"185.986328\"/>\n     <use xlink:href=\"#DejaVuSans-6c\" x=\"217.773438\"/>\n     <use xlink:href=\"#DejaVuSans-65\" x=\"245.556641\"/>\n     <use xlink:href=\"#DejaVuSans-74\" x=\"307.080078\"/>\n     <use xlink:href=\"#DejaVuSans-74\" x=\"346.289062\"/>\n     <use xlink:href=\"#DejaVuSans-65\" x=\"385.498047\"/>\n     <use xlink:href=\"#DejaVuSans-72\" x=\"447.021484\"/>\n     <use xlink:href=\"#DejaVuSans-20\" x=\"488.134766\"/>\n     <use xlink:href=\"#DejaVuSans-22\" x=\"519.921875\"/>\n     <use xlink:href=\"#DejaVuSans-34\" x=\"565.917969\"/>\n     <use xlink:href=\"#DejaVuSans-22\" x=\"629.541016\"/>\n    </g>\n   </g>\n  </g>\n  <g id=\"axes_19\">\n   <g id=\"patch_92\">\n    <path d=\"M 431.82439 345.586246 \nL 520.287805 345.586246 \nL 520.287805 257.122831 \nL 431.82439 257.122831 \nz\n\" style=\"fill: #ffffff\"/>\n   </g>\n   <g clip-path=\"url(#p97b2d6822c)\">\n    <image xlink:href=\"data:image/png;base64,\niVBORw0KGgoAAAANSUhEUgAAAHsAAAB7CAYAAABUx/9/AAAEJ0lEQVR4nO2dOywtURSGt1dBg1B5NCQI4lEJhYhOoVB4FBrR6VQoVBKJUiI6BYlEQkLUFBKNQkFOQqLQEBGvhNBIuPXaa44xd/aeOff+/9etnbXPrJPPyh7z2CfPGPNtCAT5aRdAkoOygaBsICgbCMoGgrKBoGwgKBsIygaCsoGgbCAoG4jCtAv4l9jc3BTx6OioiMfGxtScnZ0drzVFgZ0NBGUDQdlAUDYQeYZPqgRSVlamxs7Pz0VcVVUl4kwmo+Z0dHS4LCsW7GwgKBsIygaCF1Wy0NnZqcbsNdqmublZjQ0NDYl4d3c3XmExYGcDQdlAUDYQXLOz0N/fH3nO/f29Gru+vnZRjhPY2UBQNhCUDQRlA8ETtBg8PT2JuK2tTeW8vLwkVU4o7GwgKBsIygaCa3YWGhsbQ3NWV1dFnEvrcxDsbCAoGwjKBoKygeAJWhZubm5Cc6qrqxOoxB3sbCAoGwjKBsLbml1eXi7i+vp6lVNbWyviq6ur0M+9vb0Vsa8LGe/v76E5xcXFXo7tC3Y2EJQNBGUD4W3N3tjYEPHAwICTz724uBDx3d2dyllfXxfx6+tr5OMMDw9HnpPrsLOBoGwgKBsIygbC2zYb9pYULS0tPg7zK/Lz5d/019eXk8+1L7zYr+caY8zh4aGTY7mAnQ0EZQNB2UB4u6hydHQk4qAtKMbHx0W8tbWlcoqKikQ8NTUVuZbe3l4Rt7e3h86xb+QYY0xpaamIS0pKRLy3t6fm2FtzvL29hR7bF+xsICgbCMoGgrKB8HaCdnZ2FppTU1MTmvP5+Sni5eXlyLX8zZyFhQU1Njc3J+KZmRkRB+3DMjIyIuK1tbXItbiCnQ0EZQNB2UCk+kZIQ0NDmof/kdbWVjX28PAgYnsf0pWVFTVnYmLCbWExYGcDQdlAUDYQ3h5esG9gPD8/qxz7AYe+vj6VY/+fnRRLS0tqbHp6WsQ9PT0iPj09VXMKC+VpUVrfxxh2NhSUDQRlA0HZQHi7qGKfiHx/6/PArq4uEQe9IrS/v++2sF9SUVGhxuynVAsKCkQc9B3TPCGzYWcDQdlAUDYQObU1VtBrsmmt2f8j7GwgKBsIygYisTXb3pvbGH1jIZd4fHwMzZmcnBTxycmJr3KcwM4GgrKBoGwgKBuIxE7QZmdn1Zj9ymt3d3dozsfHh9vCsvCbH4Sxn6yprKxUOU1NTSI+Pj6OVVcc2NlAUDYQlA1EqjdC5ufnRTw4OKhyklqjbTKZjBqz66urqxPx9va2mrO4uOi2sBiws4GgbCAoGwjKBsLb6z//OkE/0HZwcPDjnKC9Sy8vL53VFBd2NhCUDQRlA8E1Gwh2NhCUDQRlA0HZQFA2EJQNBGUDQdlAUDYQlA0EZQNB2UBQNhCUDQRlA0HZQFA2EJQNBGUDQdlAUDYQfwCjksNR0cW+qAAAAABJRU5ErkJggg==\" id=\"image5c7dc79ed7\" transform=\"scale(1 -1) translate(0 -88.56)\" x=\"431.82439\" y=\"-257.026246\" width=\"88.56\" height=\"88.56\"/>\n   </g>\n   <g id=\"matplotlib.axis_37\"/>\n   <g id=\"matplotlib.axis_38\"/>\n   <g id=\"patch_93\">\n    <path d=\"M 431.82439 345.586246 \nL 431.82439 257.122831 \n\" style=\"fill: none; stroke: #000000; stroke-width: 0.8; stroke-linejoin: miter; stroke-linecap: square\"/>\n   </g>\n   <g id=\"patch_94\">\n    <path d=\"M 520.287805 345.586246 \nL 520.287805 257.122831 \n\" style=\"fill: none; stroke: #000000; stroke-width: 0.8; stroke-linejoin: miter; stroke-linecap: square\"/>\n   </g>\n   <g id=\"patch_95\">\n    <path d=\"M 431.82439 345.586246 \nL 520.287805 345.586246 \n\" style=\"fill: none; stroke: #000000; stroke-width: 0.8; stroke-linejoin: miter; stroke-linecap: square\"/>\n   </g>\n   <g id=\"patch_96\">\n    <path d=\"M 431.82439 257.122831 \nL 520.287805 257.122831 \n\" style=\"fill: none; stroke: #000000; stroke-width: 0.8; stroke-linejoin: miter; stroke-linecap: square\"/>\n   </g>\n   <g id=\"text_19\">\n    <!-- The letter \"4\" -->\n    <g transform=\"translate(435.524223 251.122831) scale(0.12 -0.12)\">\n     <use xlink:href=\"#DejaVuSans-54\"/>\n     <use xlink:href=\"#DejaVuSans-68\" x=\"61.083984\"/>\n     <use xlink:href=\"#DejaVuSans-65\" x=\"124.462891\"/>\n     <use xlink:href=\"#DejaVuSans-20\" x=\"185.986328\"/>\n     <use xlink:href=\"#DejaVuSans-6c\" x=\"217.773438\"/>\n     <use xlink:href=\"#DejaVuSans-65\" x=\"245.556641\"/>\n     <use xlink:href=\"#DejaVuSans-74\" x=\"307.080078\"/>\n     <use xlink:href=\"#DejaVuSans-74\" x=\"346.289062\"/>\n     <use xlink:href=\"#DejaVuSans-65\" x=\"385.498047\"/>\n     <use xlink:href=\"#DejaVuSans-72\" x=\"447.021484\"/>\n     <use xlink:href=\"#DejaVuSans-20\" x=\"488.134766\"/>\n     <use xlink:href=\"#DejaVuSans-22\" x=\"519.921875\"/>\n     <use xlink:href=\"#DejaVuSans-34\" x=\"565.917969\"/>\n     <use xlink:href=\"#DejaVuSans-22\" x=\"629.541016\"/>\n    </g>\n   </g>\n  </g>\n  <g id=\"axes_20\">\n   <g id=\"patch_97\">\n    <path d=\"M 537.980488 345.586246 \nL 626.443902 345.586246 \nL 626.443902 257.122831 \nL 537.980488 257.122831 \nz\n\" style=\"fill: #ffffff\"/>\n   </g>\n   <g clip-path=\"url(#p2dca786b83)\">\n    <image xlink:href=\"data:image/png;base64,\niVBORw0KGgoAAAANSUhEUgAAAHsAAAB7CAYAAABUx/9/AAAD00lEQVR4nO2dO0skQRRGe3QxEYzGREFEZTDXQARDRRATjcRQYQITMwURI3+CRmZGJmKkICaCgSAqCIKRyQgD4qS+H5tu9e3deXb19H7nZPdSXVVw5lI9/ajOBEHwE4AELUlPAPyBbCGQLQSyhUC2EMgWAtlCIFsIZAuBbCGQLQSyhUC2EMgWAtlCIFsIZAvxK+kJ/MnAwIDJ3d3dJTCTxjEzM+PEJycnps3r66sTf39/xzIXKlsIZAuBbCESXbNbW1udOJvNJjST+Njf3y/bZnx83Ilvb2+d+OnpyRxTy7pOZQuBbCGQLUQm8PRGSH9/v8l1dnY68dnZmY+pND2FQsGJh4eHTZtSqVR1v1S2EMgWAtlCIFsIbydoPz92mK+vLx9Dp45cLufE9/f3DemXyhYC2UIgWwhvN0Ki1myIZmhoyIkfHh5Mm/f396r7pbKFQLYQyBYC2UJ4u6gS9WRFI56ijHqK4+rqqu5+oxgcHHTinp6eWMYJ09XVZXKPj49V90NlC4FsIZAthLeLKplMJpZ+Ly4uTG56ejqWsRYWFpx4YmLCiUdGRswx3d3ddY87NTVlcru7u078+flZth8qWwhkC4FsIVL/P/vo6Mjk4lqzy7G0tGRyKysrThz1n7kWOjo6nPj5+bnsMVS2EMgWAtlCIFuIptpmI+1sbW2ZXPiCSKNO0GqByhYC2UIgW4jUr9lRrwKHL2TUwunpqcmdn5/X3W+SUNlCIFsIZAuBbCFSf4IWfr01CIJgc3Oz7n7X1tZMrtwJ2tzcnMlF7ceaFFS2EMgWAtlCpP7p0iQJr9EbGxumTV9fX93jrK+vm9zHx0fV/VDZQiBbCGQLwdZYf+Hy8tLkbm5unHhsbMyJ4/pPzVucUDXIFgLZQiBbiNS//vM/sry87MQ7OzumTfjDb5VAZQuBbCGQLYS3NXt2dtbk9vb2fAydOthvHOoG2UIgWwhvDy8cHx/7Gip1LC4uOnGxWIxlHCpbCGQLgWwhkC2EtxO0qH26wl+Pjdq/u5Ivy6ed6+trJ355eYllHCpbCGQLgWwhvN0IqYS2tjaTm5ycdOK0r+Hz8/Mmd3Bw4MRvb2+xjE1lC4FsIZAtBLKFaKoTtN7eXpMLb22RzWY9zaZ68vm8yR0eHjpxqVQybWr5Ym4tUNlCIFsIZAvRVGt2S4v97bW3tzvx6OioE0d9ECZMeIuP7e1t02Z1dbWSKf6TqBsYlXxczRdUthDIFgLZQjTVmg3xQmULgWwhkC0EsoVAthDIFgLZQiBbCGQLgWwhkC0EsoVAthDIFgLZQiBbCGQL8Rv1mtSvCIXQwAAAAABJRU5ErkJggg==\" id=\"image692c819a0b\" transform=\"scale(1 -1) translate(0 -88.56)\" x=\"537.980488\" y=\"-257.026246\" width=\"88.56\" height=\"88.56\"/>\n   </g>\n   <g id=\"matplotlib.axis_39\"/>\n   <g id=\"matplotlib.axis_40\"/>\n   <g id=\"patch_98\">\n    <path d=\"M 537.980488 345.586246 \nL 537.980488 257.122831 \n\" style=\"fill: none; stroke: #000000; stroke-width: 0.8; stroke-linejoin: miter; stroke-linecap: square\"/>\n   </g>\n   <g id=\"patch_99\">\n    <path d=\"M 626.443902 345.586246 \nL 626.443902 257.122831 \n\" style=\"fill: none; stroke: #000000; stroke-width: 0.8; stroke-linejoin: miter; stroke-linecap: square\"/>\n   </g>\n   <g id=\"patch_100\">\n    <path d=\"M 537.980488 345.586246 \nL 626.443902 345.586246 \n\" style=\"fill: none; stroke: #000000; stroke-width: 0.8; stroke-linejoin: miter; stroke-linecap: square\"/>\n   </g>\n   <g id=\"patch_101\">\n    <path d=\"M 537.980488 257.122831 \nL 626.443902 257.122831 \n\" style=\"fill: none; stroke: #000000; stroke-width: 0.8; stroke-linejoin: miter; stroke-linecap: square\"/>\n   </g>\n   <g id=\"text_20\">\n    <!-- The letter \"0\" -->\n    <g transform=\"translate(541.68032 251.122831) scale(0.12 -0.12)\">\n     <use xlink:href=\"#DejaVuSans-54\"/>\n     <use xlink:href=\"#DejaVuSans-68\" x=\"61.083984\"/>\n     <use xlink:href=\"#DejaVuSans-65\" x=\"124.462891\"/>\n     <use xlink:href=\"#DejaVuSans-20\" x=\"185.986328\"/>\n     <use xlink:href=\"#DejaVuSans-6c\" x=\"217.773438\"/>\n     <use xlink:href=\"#DejaVuSans-65\" x=\"245.556641\"/>\n     <use xlink:href=\"#DejaVuSans-74\" x=\"307.080078\"/>\n     <use xlink:href=\"#DejaVuSans-74\" x=\"346.289062\"/>\n     <use xlink:href=\"#DejaVuSans-65\" x=\"385.498047\"/>\n     <use xlink:href=\"#DejaVuSans-72\" x=\"447.021484\"/>\n     <use xlink:href=\"#DejaVuSans-20\" x=\"488.134766\"/>\n     <use xlink:href=\"#DejaVuSans-22\" x=\"519.921875\"/>\n     <use xlink:href=\"#DejaVuSans-30\" x=\"565.917969\"/>\n     <use xlink:href=\"#DejaVuSans-22\" x=\"629.541016\"/>\n    </g>\n   </g>\n  </g>\n  <g id=\"axes_21\">\n   <g id=\"patch_102\">\n    <path d=\"M 644.136585 345.586246 \nL 732.6 345.586246 \nL 732.6 257.122831 \nL 644.136585 257.122831 \nz\n\" style=\"fill: #ffffff\"/>\n   </g>\n   <g clip-path=\"url(#p7ae5c74eb0)\">\n    <image xlink:href=\"data:image/png;base64,\niVBORw0KGgoAAAANSUhEUgAAAHsAAAB7CAYAAABUx/9/AAAEiUlEQVR4nO2dTSh0XxzHz/AoNqLYSpEUC+WlsELZjIXYkA3KyoKNrKyIYuFtZWGhvKVsvDSllCiKDcNGEVZsJiIv2TzP5r/5nd/tP3eeuTPuPN/vZ/c9nXPn1Mevc+fMuVfAGPPbEAjSfnoCJHlQNhCUDQRlA0HZQFA2EJQNBGUDQdlAUDYQlA0EZQNB2UBQNhCUDQRlA0HZQFA2EJQNBGUDQdlAUDYQlA0EZQNB2UD8+ukJxEt5eblqCwaDIg8PD4uck5MTdUwoFIp/cj6DlQ0EZQNB2UBQNhABk2KP7JaVlYl8enqq+mRlZcV83UgkIvLr62vUMaurqyKHw2HVZ3d3V+SPj4+Y5+YVrGwgKBsIygbC92t2tDX6b9bnZHJ1dSXy2NiY6rOxsZGUubCygaBsICgbCMoGwve/eo2Ojors5obs/f39f6/x8vIS97yMMaaqqkrkpqYm1cf+VW59fV31+fr6Enlra8uD2WlY2UBQNhCUDYSvNlWcTp2cn5+LnJYW/e/TXgNrampEtjc6vCI3N1e12adk7GyMMScnJyLX1dV5O7H/YGUDQdlAUDYQvvqenZ2drdoCgUDM18nMzBR5eXlZ5IqKipiv6Ybn52fVdnx8LPLn56fqU11dLXJRUZHIt7e3HsyOlQ0FZQNB2UBQNhC+ukErLi5OyHVLSkpEnp+fV32GhoZEtjdm3FBQUKDaNjc3RU5PT1d9np6eRPbqhsyGlQ0EZQNB2UD4as2+ubmJecz397dqu7y8FLmyslLk/v5+NcbeaBkfH1d9Hh8fRW5vbxe5t7dXjXFao20uLi6i9vECVjYQlA0EZQNB2UD46gYtIyMj5jFnZ2eqrbW1VeSZmRmRu7q61Jj6+nqR7UdtE8nS0lJSPoeVDQRlA0HZQPjqdKkTR0dHIttrqxONjY0iHx4eijwwMKDGTE1NiezmFKsb3t7eRJ6YmFB91tbWRH54ePDks21Y2UBQNhCUDYSvvmc7sb29LbKbNbutrU3kg4MDkaenp9WY/f19kd2s2fYTIKWlparP3t6eyIk6mOAGVjYQlA0EZQNB2UD4flOls7NT5JWVlahj7u7uRLZfh+H0mA4CrGwgKBsIygbC95sq9o8Y9ispamtr1Rj79Vn2RszOzo5Hs0stWNlAUDYQlA2E779n2/T19Ym8sLAQdYx9GKChoUH1ub+/j2teqQArGwjKBoKygaBsIFLuBs3eMHF6ZUZ3d7fI9qkT+71oxhgzMjIicqJOeP4krGwgKBsIygYi5dZsm8LCQtV2fX0tspunQ4PBoMihUCiuefkRVjYQlA0EZQNB2UCk/A2aEz09PSIvLi5GHWP/6tXc3Kz6/M172vwEKxsIygaCsoH4J9fsvLw8kWdnZ0W2nzJxYnBwULXNzc3FNa+fhpUNBGUDQdlA/JNrtk1+fr7I9uu2jNH/RyQSiag+9tOgqXbAgZUNBGUDQdlAUDYQEDdoNi0tLaptcnJS5HA4rPp0dHQkbE7JgJUNBGUDQdlAQK7ZqLCygaBsICgbCMoGgrKBoGwgKBsIygbiDx3Z9ETcYGyWAAAAAElFTkSuQmCC\" id=\"image87ad63c364\" transform=\"scale(1 -1) translate(0 -88.56)\" x=\"644.136585\" y=\"-257.026246\" width=\"88.56\" height=\"88.56\"/>\n   </g>\n   <g id=\"matplotlib.axis_41\"/>\n   <g id=\"matplotlib.axis_42\"/>\n   <g id=\"patch_103\">\n    <path d=\"M 644.136585 345.586246 \nL 644.136585 257.122831 \n\" style=\"fill: none; stroke: #000000; stroke-width: 0.8; stroke-linejoin: miter; stroke-linecap: square\"/>\n   </g>\n   <g id=\"patch_104\">\n    <path d=\"M 732.6 345.586246 \nL 732.6 257.122831 \n\" style=\"fill: none; stroke: #000000; stroke-width: 0.8; stroke-linejoin: miter; stroke-linecap: square\"/>\n   </g>\n   <g id=\"patch_105\">\n    <path d=\"M 644.136585 345.586246 \nL 732.6 345.586246 \n\" style=\"fill: none; stroke: #000000; stroke-width: 0.8; stroke-linejoin: miter; stroke-linecap: square\"/>\n   </g>\n   <g id=\"patch_106\">\n    <path d=\"M 644.136585 257.122831 \nL 732.6 257.122831 \n\" style=\"fill: none; stroke: #000000; stroke-width: 0.8; stroke-linejoin: miter; stroke-linecap: square\"/>\n   </g>\n   <g id=\"text_21\">\n    <!-- The letter \"6\" -->\n    <g transform=\"translate(647.836418 251.122831) scale(0.12 -0.12)\">\n     <defs>\n      <path id=\"DejaVuSans-36\" d=\"M 2113 2584 \nQ 1688 2584 1439 2293 \nQ 1191 2003 1191 1497 \nQ 1191 994 1439 701 \nQ 1688 409 2113 409 \nQ 2538 409 2786 701 \nQ 3034 994 3034 1497 \nQ 3034 2003 2786 2293 \nQ 2538 2584 2113 2584 \nz\nM 3366 4563 \nL 3366 3988 \nQ 3128 4100 2886 4159 \nQ 2644 4219 2406 4219 \nQ 1781 4219 1451 3797 \nQ 1122 3375 1075 2522 \nQ 1259 2794 1537 2939 \nQ 1816 3084 2150 3084 \nQ 2853 3084 3261 2657 \nQ 3669 2231 3669 1497 \nQ 3669 778 3244 343 \nQ 2819 -91 2113 -91 \nQ 1303 -91 875 529 \nQ 447 1150 447 2328 \nQ 447 3434 972 4092 \nQ 1497 4750 2381 4750 \nQ 2619 4750 2861 4703 \nQ 3103 4656 3366 4563 \nz\n\" transform=\"scale(0.015625)\"/>\n     </defs>\n     <use xlink:href=\"#DejaVuSans-54\"/>\n     <use xlink:href=\"#DejaVuSans-68\" x=\"61.083984\"/>\n     <use xlink:href=\"#DejaVuSans-65\" x=\"124.462891\"/>\n     <use xlink:href=\"#DejaVuSans-20\" x=\"185.986328\"/>\n     <use xlink:href=\"#DejaVuSans-6c\" x=\"217.773438\"/>\n     <use xlink:href=\"#DejaVuSans-65\" x=\"245.556641\"/>\n     <use xlink:href=\"#DejaVuSans-74\" x=\"307.080078\"/>\n     <use xlink:href=\"#DejaVuSans-74\" x=\"346.289062\"/>\n     <use xlink:href=\"#DejaVuSans-65\" x=\"385.498047\"/>\n     <use xlink:href=\"#DejaVuSans-72\" x=\"447.021484\"/>\n     <use xlink:href=\"#DejaVuSans-20\" x=\"488.134766\"/>\n     <use xlink:href=\"#DejaVuSans-22\" x=\"519.921875\"/>\n     <use xlink:href=\"#DejaVuSans-36\" x=\"565.917969\"/>\n     <use xlink:href=\"#DejaVuSans-22\" x=\"629.541016\"/>\n    </g>\n   </g>\n  </g>\n </g>\n <defs>\n  <clipPath id=\"p353f3bf99c\">\n   <rect x=\"7.2\" y=\"22.318125\" width=\"88.463415\" height=\"88.463415\"/>\n  </clipPath>\n  <clipPath id=\"p80b35e1ab0\">\n   <rect x=\"113.356098\" y=\"22.318125\" width=\"88.463415\" height=\"88.463415\"/>\n  </clipPath>\n  <clipPath id=\"p2c53fdf9b3\">\n   <rect x=\"219.512195\" y=\"22.318125\" width=\"88.463415\" height=\"88.463415\"/>\n  </clipPath>\n  <clipPath id=\"pf5571dcabd\">\n   <rect x=\"325.668293\" y=\"22.318125\" width=\"88.463415\" height=\"88.463415\"/>\n  </clipPath>\n  <clipPath id=\"p544195f118\">\n   <rect x=\"431.82439\" y=\"22.318125\" width=\"88.463415\" height=\"88.463415\"/>\n  </clipPath>\n  <clipPath id=\"pfa9279a644\">\n   <rect x=\"537.980488\" y=\"22.318125\" width=\"88.463415\" height=\"88.463415\"/>\n  </clipPath>\n  <clipPath id=\"pf924dd567a\">\n   <rect x=\"644.136585\" y=\"22.318125\" width=\"88.463415\" height=\"88.463415\"/>\n  </clipPath>\n  <clipPath id=\"pfa9b8c5f36\">\n   <rect x=\"7.2\" y=\"139.720478\" width=\"88.463415\" height=\"88.463415\"/>\n  </clipPath>\n  <clipPath id=\"p7c97d71509\">\n   <rect x=\"113.356098\" y=\"139.720478\" width=\"88.463415\" height=\"88.463415\"/>\n  </clipPath>\n  <clipPath id=\"p6b0202b685\">\n   <rect x=\"219.512195\" y=\"139.720478\" width=\"88.463415\" height=\"88.463415\"/>\n  </clipPath>\n  <clipPath id=\"pce098c25a1\">\n   <rect x=\"325.668293\" y=\"139.720478\" width=\"88.463415\" height=\"88.463415\"/>\n  </clipPath>\n  <clipPath id=\"pfb877f0ea4\">\n   <rect x=\"431.82439\" y=\"139.720478\" width=\"88.463415\" height=\"88.463415\"/>\n  </clipPath>\n  <clipPath id=\"p2a2d04c0cd\">\n   <rect x=\"537.980488\" y=\"139.720478\" width=\"88.463415\" height=\"88.463415\"/>\n  </clipPath>\n  <clipPath id=\"pb4336e9e4a\">\n   <rect x=\"644.136585\" y=\"139.720478\" width=\"88.463415\" height=\"88.463415\"/>\n  </clipPath>\n  <clipPath id=\"pb6cad9265f\">\n   <rect x=\"7.2\" y=\"257.122831\" width=\"88.463415\" height=\"88.463415\"/>\n  </clipPath>\n  <clipPath id=\"p72442fcbaa\">\n   <rect x=\"113.356098\" y=\"257.122831\" width=\"88.463415\" height=\"88.463415\"/>\n  </clipPath>\n  <clipPath id=\"p7c67229250\">\n   <rect x=\"219.512195\" y=\"257.122831\" width=\"88.463415\" height=\"88.463415\"/>\n  </clipPath>\n  <clipPath id=\"pafc5314883\">\n   <rect x=\"325.668293\" y=\"257.122831\" width=\"88.463415\" height=\"88.463415\"/>\n  </clipPath>\n  <clipPath id=\"p97b2d6822c\">\n   <rect x=\"431.82439\" y=\"257.122831\" width=\"88.463415\" height=\"88.463415\"/>\n  </clipPath>\n  <clipPath id=\"p2dca786b83\">\n   <rect x=\"537.980488\" y=\"257.122831\" width=\"88.463415\" height=\"88.463415\"/>\n  </clipPath>\n  <clipPath id=\"p7ae5c74eb0\">\n   <rect x=\"644.136585\" y=\"257.122831\" width=\"88.463415\" height=\"88.463415\"/>\n  </clipPath>\n </defs>\n</svg>\n"
          },
          "metadata": {}
        }
      ],
      "source": [
        "fig,axs = plt.subplots(3,7,figsize=(13,6))\n",
        "\n",
        "for i,ax in enumerate(axs.flatten()):\n",
        "\n",
        "  # pick a random pic\n",
        "  whichpic = np.random.randint(num_validation_samples)\n",
        "\n",
        "  # extract the image and its target letter\n",
        "  I = np.squeeze( validation_inputs.numpy()[whichpic,:,:] )\n",
        "  letter = validation_targets.numpy()[whichpic]\n",
        "\n",
        "  # visualize\n",
        "  ax.imshow(I,cmap='gray')\n",
        "  ax.set_title('The letter \"%s\"'%letter)\n",
        "  ax.set_xticks([])\n",
        "  ax.set_yticks([])\n",
        "\n",
        "plt.show()"
      ]
    },
    {
      "cell_type": "markdown",
      "metadata": {
        "id": "9noRhhTcwLLk"
      },
      "source": [
        "## Training Model"
      ]
    },
    {
      "cell_type": "code",
      "execution_count": null,
      "metadata": {
        "id": "WoBUE9RDwQhW"
      },
      "outputs": [],
      "source": [
        "model = Sequential()\n",
        "\n",
        "\n",
        "model.add(Conv2D(filters=32, kernel_size=(3,3),input_shape=(28, 28, 1), activation='relu',))\n",
        "\n",
        "\n",
        "model.add(MaxPool2D(pool_size=(2, 2)))\n",
        "\n",
        "\n",
        "model.add(Flatten())\n",
        "\n",
        "\n",
        "model.add(Dense(128, activation='relu'))\n",
        "\n",
        "\n",
        "model.add(Dense(10, activation='softmax'))\n",
        "\n",
        "\n",
        "model.compile(loss='sparse_categorical_crossentropy',\n",
        "              optimizer='adam',\n",
        "              metrics=['accuracy'])"
      ]
    },
    {
      "cell_type": "code",
      "execution_count": null,
      "metadata": {
        "colab": {
          "base_uri": "https://localhost:8080/"
        },
        "id": "7ADO6vJ0wZfE",
        "outputId": "45d74da7-0d33-4965-c9b3-be512c8481e7"
      },
      "outputs": [
        {
          "output_type": "stream",
          "name": "stdout",
          "text": [
            "Model: \"sequential_1\"\n",
            "_________________________________________________________________\n",
            " Layer (type)                Output Shape              Param #   \n",
            "=================================================================\n",
            " conv2d_1 (Conv2D)           (None, 26, 26, 32)        320       \n",
            "                                                                 \n",
            " max_pooling2d_1 (MaxPoolin  (None, 13, 13, 32)        0         \n",
            " g2D)                                                            \n",
            "                                                                 \n",
            " flatten_1 (Flatten)         (None, 5408)              0         \n",
            "                                                                 \n",
            " dense_2 (Dense)             (None, 128)               692352    \n",
            "                                                                 \n",
            " dense_3 (Dense)             (None, 10)                1290      \n",
            "                                                                 \n",
            "=================================================================\n",
            "Total params: 693962 (2.65 MB)\n",
            "Trainable params: 693962 (2.65 MB)\n",
            "Non-trainable params: 0 (0.00 Byte)\n",
            "_________________________________________________________________\n"
          ]
        }
      ],
      "source": [
        "model.summary()"
      ]
    },
    {
      "cell_type": "code",
      "execution_count": null,
      "metadata": {
        "id": "FVU4HyQ7wkTr"
      },
      "outputs": [],
      "source": [
        "from tensorflow.keras.callbacks import EarlyStopping\n",
        "early_stop = EarlyStopping(monitor='val_loss',patience=2)"
      ]
    },
    {
      "cell_type": "code",
      "execution_count": null,
      "metadata": {
        "colab": {
          "base_uri": "https://localhost:8080/"
        },
        "id": "_t04RusRwqdZ",
        "outputId": "726984cc-be77-47d6-c14a-fb4a301de0f9"
      },
      "outputs": [
        {
          "output_type": "stream",
          "name": "stdout",
          "text": [
            "Epoch 1/100\n",
            "540/540 [==============================] - 32s 56ms/step - loss: 0.2160 - accuracy: 0.9369 - val_loss: 0.0910 - val_accuracy: 0.9747\n",
            "Epoch 2/100\n",
            "540/540 [==============================] - 31s 55ms/step - loss: 0.0698 - accuracy: 0.9785 - val_loss: 0.0662 - val_accuracy: 0.9800\n",
            "Epoch 3/100\n",
            "540/540 [==============================] - 32s 57ms/step - loss: 0.0465 - accuracy: 0.9865 - val_loss: 0.0461 - val_accuracy: 0.9862\n",
            "Epoch 4/100\n",
            "540/540 [==============================] - 30s 54ms/step - loss: 0.0348 - accuracy: 0.9895 - val_loss: 0.0406 - val_accuracy: 0.9877\n",
            "Epoch 5/100\n",
            "540/540 [==============================] - 30s 54ms/step - loss: 0.0268 - accuracy: 0.9918 - val_loss: 0.0325 - val_accuracy: 0.9898\n",
            "Epoch 6/100\n",
            "540/540 [==============================] - 31s 57ms/step - loss: 0.0199 - accuracy: 0.9943 - val_loss: 0.0266 - val_accuracy: 0.9928\n",
            "Epoch 7/100\n",
            "540/540 [==============================] - 31s 56ms/step - loss: 0.0182 - accuracy: 0.9946 - val_loss: 0.0257 - val_accuracy: 0.9917\n",
            "Epoch 8/100\n",
            "540/540 [==============================] - 31s 56ms/step - loss: 0.0127 - accuracy: 0.9966 - val_loss: 0.0162 - val_accuracy: 0.9953\n",
            "Epoch 9/100\n",
            "540/540 [==============================] - 30s 55ms/step - loss: 0.0097 - accuracy: 0.9974 - val_loss: 0.0168 - val_accuracy: 0.9938\n",
            "Epoch 10/100\n",
            "540/540 [==============================] - 28s 51ms/step - loss: 0.0073 - accuracy: 0.9980 - val_loss: 0.0083 - val_accuracy: 0.9985\n",
            "Epoch 11/100\n",
            "540/540 [==============================] - 28s 51ms/step - loss: 0.0061 - accuracy: 0.9985 - val_loss: 0.0091 - val_accuracy: 0.9970\n",
            "Epoch 12/100\n",
            "540/540 [==============================] - 30s 54ms/step - loss: 0.0078 - accuracy: 0.9975 - val_loss: 0.0134 - val_accuracy: 0.9948\n",
            "Epoch 13/100\n",
            "540/540 [==============================] - 30s 54ms/step - loss: 0.0046 - accuracy: 0.9987 - val_loss: 0.0068 - val_accuracy: 0.9977\n",
            "Epoch 14/100\n",
            "540/540 [==============================] - 33s 58ms/step - loss: 0.0046 - accuracy: 0.9987 - val_loss: 0.0085 - val_accuracy: 0.9962\n",
            "Epoch 15/100\n",
            "540/540 [==============================] - 30s 53ms/step - loss: 0.0047 - accuracy: 0.9988 - val_loss: 0.0046 - val_accuracy: 0.9987\n",
            "Epoch 16/100\n",
            "540/540 [==============================] - 30s 54ms/step - loss: 0.0040 - accuracy: 0.9987 - val_loss: 0.0116 - val_accuracy: 0.9953\n",
            "Epoch 17/100\n",
            "540/540 [==============================] - 30s 54ms/step - loss: 0.0033 - accuracy: 0.9991 - val_loss: 0.0020 - val_accuracy: 0.9995\n",
            "Epoch 18/100\n",
            "540/540 [==============================] - 30s 55ms/step - loss: 0.0026 - accuracy: 0.9992 - val_loss: 0.0035 - val_accuracy: 0.9983\n",
            "Epoch 19/100\n",
            "540/540 [==============================] - 29s 52ms/step - loss: 0.0036 - accuracy: 0.9990 - val_loss: 0.0011 - val_accuracy: 0.9997\n",
            "Epoch 20/100\n",
            "540/540 [==============================] - 30s 55ms/step - loss: 7.2510e-04 - accuracy: 0.9999 - val_loss: 5.3170e-04 - val_accuracy: 1.0000\n",
            "Epoch 21/100\n",
            "540/540 [==============================] - 30s 54ms/step - loss: 2.5517e-04 - accuracy: 1.0000 - val_loss: 3.2523e-04 - val_accuracy: 1.0000\n",
            "Epoch 22/100\n",
            "540/540 [==============================] - 30s 54ms/step - loss: 0.0020 - accuracy: 0.9995 - val_loss: 0.0049 - val_accuracy: 0.9983\n",
            "Epoch 23/100\n",
            "540/540 [==============================] - 30s 54ms/step - loss: 0.0060 - accuracy: 0.9980 - val_loss: 0.0036 - val_accuracy: 0.9983\n",
            "Epoch 24/100\n",
            "540/540 [==============================] - 29s 53ms/step - loss: 0.0029 - accuracy: 0.9991 - val_loss: 0.0030 - val_accuracy: 0.9992\n",
            "Epoch 25/100\n",
            "540/540 [==============================] - 31s 54ms/step - loss: 0.0019 - accuracy: 0.9994 - val_loss: 0.0014 - val_accuracy: 0.9997\n",
            "Epoch 26/100\n",
            "540/540 [==============================] - 30s 55ms/step - loss: 2.9483e-04 - accuracy: 0.9999 - val_loss: 6.1322e-04 - val_accuracy: 0.9998\n",
            "Epoch 27/100\n",
            "540/540 [==============================] - 29s 53ms/step - loss: 0.0015 - accuracy: 0.9996 - val_loss: 0.0030 - val_accuracy: 0.9988\n",
            "Epoch 28/100\n",
            "540/540 [==============================] - 30s 54ms/step - loss: 0.0036 - accuracy: 0.9988 - val_loss: 0.0027 - val_accuracy: 0.9993\n",
            "Epoch 29/100\n",
            "540/540 [==============================] - 28s 50ms/step - loss: 0.0018 - accuracy: 0.9996 - val_loss: 0.0016 - val_accuracy: 0.9995\n",
            "Epoch 30/100\n",
            "540/540 [==============================] - 30s 54ms/step - loss: 6.2378e-04 - accuracy: 0.9999 - val_loss: 6.0824e-04 - val_accuracy: 0.9998\n",
            "Epoch 31/100\n",
            "540/540 [==============================] - 30s 55ms/step - loss: 9.4122e-05 - accuracy: 1.0000 - val_loss: 4.3745e-04 - val_accuracy: 0.9998\n",
            "Epoch 32/100\n",
            "540/540 [==============================] - 30s 54ms/step - loss: 9.1699e-04 - accuracy: 0.9998 - val_loss: 0.0040 - val_accuracy: 0.9987\n",
            "Epoch 33/100\n",
            "540/540 [==============================] - 29s 53ms/step - loss: 0.0055 - accuracy: 0.9981 - val_loss: 0.0038 - val_accuracy: 0.9987\n",
            "Epoch 34/100\n",
            "540/540 [==============================] - 29s 52ms/step - loss: 0.0011 - accuracy: 0.9997 - val_loss: 0.0016 - val_accuracy: 0.9997\n",
            "Epoch 35/100\n",
            "540/540 [==============================] - 29s 52ms/step - loss: 1.8628e-04 - accuracy: 1.0000 - val_loss: 3.1938e-04 - val_accuracy: 1.0000\n",
            "Epoch 36/100\n",
            "540/540 [==============================] - 30s 55ms/step - loss: 9.8450e-05 - accuracy: 1.0000 - val_loss: 8.2217e-05 - val_accuracy: 1.0000\n",
            "Epoch 37/100\n",
            "540/540 [==============================] - 30s 54ms/step - loss: 0.0032 - accuracy: 0.9987 - val_loss: 0.0039 - val_accuracy: 0.9988\n",
            "Epoch 38/100\n",
            "540/540 [==============================] - 29s 53ms/step - loss: 0.0018 - accuracy: 0.9994 - val_loss: 6.7265e-04 - val_accuracy: 1.0000\n",
            "Epoch 39/100\n",
            "540/540 [==============================] - 29s 52ms/step - loss: 0.0011 - accuracy: 0.9997 - val_loss: 0.0013 - val_accuracy: 0.9995\n",
            "Epoch 40/100\n",
            "540/540 [==============================] - 29s 52ms/step - loss: 9.9121e-04 - accuracy: 0.9997 - val_loss: 4.4270e-04 - val_accuracy: 0.9998\n",
            "Epoch 41/100\n",
            "540/540 [==============================] - 28s 51ms/step - loss: 7.2351e-04 - accuracy: 0.9998 - val_loss: 0.0020 - val_accuracy: 0.9992\n",
            "Epoch 42/100\n",
            "540/540 [==============================] - 30s 54ms/step - loss: 0.0010 - accuracy: 0.9996 - val_loss: 0.0021 - val_accuracy: 0.9997\n",
            "Epoch 43/100\n",
            "540/540 [==============================] - 29s 53ms/step - loss: 7.3163e-04 - accuracy: 0.9997 - val_loss: 1.9722e-04 - val_accuracy: 1.0000\n",
            "Epoch 44/100\n",
            "540/540 [==============================] - 30s 55ms/step - loss: 9.1387e-05 - accuracy: 1.0000 - val_loss: 2.3256e-04 - val_accuracy: 1.0000\n",
            "Epoch 45/100\n",
            "540/540 [==============================] - 30s 54ms/step - loss: 0.0024 - accuracy: 0.9993 - val_loss: 0.0034 - val_accuracy: 0.9985\n",
            "Epoch 46/100\n",
            "540/540 [==============================] - 30s 53ms/step - loss: 0.0030 - accuracy: 0.9991 - val_loss: 0.0062 - val_accuracy: 0.9975\n",
            "Epoch 47/100\n",
            "540/540 [==============================] - 30s 55ms/step - loss: 0.0014 - accuracy: 0.9995 - val_loss: 4.8334e-04 - val_accuracy: 0.9998\n",
            "Epoch 48/100\n",
            "540/540 [==============================] - 30s 55ms/step - loss: 1.1840e-04 - accuracy: 1.0000 - val_loss: 2.0199e-04 - val_accuracy: 1.0000\n",
            "Epoch 49/100\n",
            "540/540 [==============================] - 30s 55ms/step - loss: 3.1147e-05 - accuracy: 1.0000 - val_loss: 1.3482e-04 - val_accuracy: 1.0000\n",
            "Epoch 50/100\n",
            "540/540 [==============================] - 29s 52ms/step - loss: 1.4733e-05 - accuracy: 1.0000 - val_loss: 9.7170e-05 - val_accuracy: 1.0000\n",
            "Epoch 51/100\n",
            "540/540 [==============================] - 30s 55ms/step - loss: 1.2100e-05 - accuracy: 1.0000 - val_loss: 8.8283e-05 - val_accuracy: 1.0000\n",
            "Epoch 52/100\n",
            "540/540 [==============================] - 31s 56ms/step - loss: 0.0026 - accuracy: 0.9991 - val_loss: 0.0167 - val_accuracy: 0.9952\n",
            "Epoch 53/100\n",
            "540/540 [==============================] - 30s 54ms/step - loss: 0.0016 - accuracy: 0.9995 - val_loss: 3.7825e-04 - val_accuracy: 0.9998\n",
            "Epoch 54/100\n",
            "540/540 [==============================] - 29s 53ms/step - loss: 3.3311e-04 - accuracy: 0.9999 - val_loss: 4.1326e-04 - val_accuracy: 0.9997\n",
            "Epoch 55/100\n",
            "540/540 [==============================] - 31s 55ms/step - loss: 1.0011e-04 - accuracy: 1.0000 - val_loss: 3.1486e-05 - val_accuracy: 1.0000\n",
            "Epoch 56/100\n",
            "540/540 [==============================] - 31s 56ms/step - loss: 1.3095e-05 - accuracy: 1.0000 - val_loss: 1.5745e-05 - val_accuracy: 1.0000\n",
            "Epoch 57/100\n",
            "540/540 [==============================] - 31s 55ms/step - loss: 9.6860e-06 - accuracy: 1.0000 - val_loss: 1.1801e-05 - val_accuracy: 1.0000\n",
            "Epoch 58/100\n",
            "540/540 [==============================] - 30s 54ms/step - loss: 6.6825e-06 - accuracy: 1.0000 - val_loss: 9.5870e-06 - val_accuracy: 1.0000\n",
            "Epoch 59/100\n",
            "540/540 [==============================] - 30s 54ms/step - loss: 5.3791e-06 - accuracy: 1.0000 - val_loss: 7.7849e-06 - val_accuracy: 1.0000\n",
            "Epoch 60/100\n",
            "540/540 [==============================] - 29s 52ms/step - loss: 4.3842e-06 - accuracy: 1.0000 - val_loss: 6.4357e-06 - val_accuracy: 1.0000\n",
            "Epoch 61/100\n",
            "540/540 [==============================] - 30s 55ms/step - loss: 3.4434e-06 - accuracy: 1.0000 - val_loss: 5.3010e-06 - val_accuracy: 1.0000\n",
            "Epoch 62/100\n",
            "540/540 [==============================] - 30s 55ms/step - loss: 2.6190e-06 - accuracy: 1.0000 - val_loss: 4.3685e-06 - val_accuracy: 1.0000\n",
            "Epoch 63/100\n",
            "540/540 [==============================] - 30s 54ms/step - loss: 2.1521e-06 - accuracy: 1.0000 - val_loss: 3.6821e-06 - val_accuracy: 1.0000\n",
            "Epoch 64/100\n",
            "540/540 [==============================] - 31s 56ms/step - loss: 1.7861e-06 - accuracy: 1.0000 - val_loss: 2.8470e-06 - val_accuracy: 1.0000\n",
            "Epoch 65/100\n",
            "540/540 [==============================] - 29s 53ms/step - loss: 1.4026e-06 - accuracy: 1.0000 - val_loss: 2.1959e-06 - val_accuracy: 1.0000\n",
            "Epoch 66/100\n",
            "540/540 [==============================] - 29s 52ms/step - loss: 1.1222e-06 - accuracy: 1.0000 - val_loss: 1.8476e-06 - val_accuracy: 1.0000\n",
            "Epoch 67/100\n",
            "540/540 [==============================] - 30s 55ms/step - loss: 8.4219e-07 - accuracy: 1.0000 - val_loss: 1.4874e-06 - val_accuracy: 1.0000\n",
            "Epoch 68/100\n",
            "540/540 [==============================] - 31s 55ms/step - loss: 6.7783e-07 - accuracy: 1.0000 - val_loss: 1.1698e-06 - val_accuracy: 1.0000\n",
            "Epoch 69/100\n",
            "540/540 [==============================] - 30s 54ms/step - loss: 5.5702e-07 - accuracy: 1.0000 - val_loss: 8.7944e-07 - val_accuracy: 1.0000\n",
            "Epoch 70/100\n",
            "540/540 [==============================] - 29s 53ms/step - loss: 4.4979e-07 - accuracy: 1.0000 - val_loss: 6.8879e-07 - val_accuracy: 1.0000\n",
            "Epoch 71/100\n",
            "540/540 [==============================] - 29s 51ms/step - loss: 3.4850e-07 - accuracy: 1.0000 - val_loss: 5.2574e-07 - val_accuracy: 1.0000\n",
            "Epoch 72/100\n",
            "540/540 [==============================] - 30s 55ms/step - loss: 2.7262e-07 - accuracy: 1.0000 - val_loss: 4.3376e-07 - val_accuracy: 1.0000\n",
            "Epoch 73/100\n",
            "540/540 [==============================] - 30s 55ms/step - loss: 2.1128e-07 - accuracy: 1.0000 - val_loss: 3.6452e-07 - val_accuracy: 1.0000\n",
            "Epoch 74/100\n",
            "540/540 [==============================] - 30s 54ms/step - loss: 1.7114e-07 - accuracy: 1.0000 - val_loss: 3.0609e-07 - val_accuracy: 1.0000\n",
            "Epoch 75/100\n",
            "540/540 [==============================] - 28s 50ms/step - loss: 1.3688e-07 - accuracy: 1.0000 - val_loss: 2.4179e-07 - val_accuracy: 1.0000\n",
            "Epoch 76/100\n",
            "540/540 [==============================] - 30s 54ms/step - loss: 1.1366e-07 - accuracy: 1.0000 - val_loss: 1.8519e-07 - val_accuracy: 1.0000\n",
            "Epoch 77/100\n",
            "540/540 [==============================] - 30s 54ms/step - loss: 9.1292e-08 - accuracy: 1.0000 - val_loss: 1.5092e-07 - val_accuracy: 1.0000\n",
            "Epoch 78/100\n",
            "540/540 [==============================] - 31s 56ms/step - loss: 7.0995e-08 - accuracy: 1.0000 - val_loss: 1.2463e-07 - val_accuracy: 1.0000\n",
            "Epoch 79/100\n",
            "540/540 [==============================] - 28s 51ms/step - loss: 5.8304e-08 - accuracy: 1.0000 - val_loss: 1.0864e-07 - val_accuracy: 1.0000\n",
            "Epoch 80/100\n",
            "540/540 [==============================] - 30s 54ms/step - loss: 4.9907e-08 - accuracy: 1.0000 - val_loss: 8.1857e-08 - val_accuracy: 1.0000\n",
            "Epoch 81/100\n",
            "540/540 [==============================] - 30s 54ms/step - loss: 3.8222e-08 - accuracy: 1.0000 - val_loss: 7.6929e-08 - val_accuracy: 1.0000\n",
            "Epoch 82/100\n",
            "540/540 [==============================] - 30s 55ms/step - loss: 3.1109e-08 - accuracy: 1.0000 - val_loss: 5.4260e-08 - val_accuracy: 1.0000\n",
            "Epoch 83/100\n",
            "540/540 [==============================] - 31s 56ms/step - loss: 2.4701e-08 - accuracy: 1.0000 - val_loss: 4.6988e-08 - val_accuracy: 1.0000\n",
            "Epoch 84/100\n",
            "540/540 [==============================] - 30s 54ms/step - loss: 2.2186e-08 - accuracy: 1.0000 - val_loss: 4.0173e-08 - val_accuracy: 1.0000\n",
            "Epoch 85/100\n",
            "540/540 [==============================] - 28s 52ms/step - loss: 1.8378e-08 - accuracy: 1.0000 - val_loss: 3.1749e-08 - val_accuracy: 1.0000\n",
            "Epoch 86/100\n",
            "540/540 [==============================] - 29s 52ms/step - loss: 1.4117e-08 - accuracy: 1.0000 - val_loss: 2.7021e-08 - val_accuracy: 1.0000\n",
            "Epoch 87/100\n",
            "540/540 [==============================] - 30s 54ms/step - loss: 1.1263e-08 - accuracy: 1.0000 - val_loss: 2.3961e-08 - val_accuracy: 1.0000\n",
            "Epoch 88/100\n",
            "540/540 [==============================] - 31s 55ms/step - loss: 9.6913e-09 - accuracy: 1.0000 - val_loss: 1.7186e-08 - val_accuracy: 1.0000\n",
            "Epoch 89/100\n",
            "540/540 [==============================] - 30s 54ms/step - loss: 8.1901e-09 - accuracy: 1.0000 - val_loss: 1.6391e-08 - val_accuracy: 1.0000\n",
            "Epoch 90/100\n",
            "540/540 [==============================] - 29s 53ms/step - loss: 6.3048e-09 - accuracy: 1.0000 - val_loss: 1.3570e-08 - val_accuracy: 1.0000\n",
            "Epoch 91/100\n",
            "540/540 [==============================] - 29s 52ms/step - loss: 5.9472e-09 - accuracy: 1.0000 - val_loss: 1.0848e-08 - val_accuracy: 1.0000\n",
            "Epoch 92/100\n",
            "540/540 [==============================] - 30s 55ms/step - loss: 4.3136e-09 - accuracy: 1.0000 - val_loss: 9.2983e-09 - val_accuracy: 1.0000\n",
            "Epoch 93/100\n",
            "540/540 [==============================] - 30s 55ms/step - loss: 3.9229e-09 - accuracy: 1.0000 - val_loss: 7.3910e-09 - val_accuracy: 1.0000\n",
            "Epoch 94/100\n",
            "540/540 [==============================] - 30s 55ms/step - loss: 3.4129e-09 - accuracy: 1.0000 - val_loss: 7.1128e-09 - val_accuracy: 1.0000\n",
            "Epoch 95/100\n",
            "540/540 [==============================] - 29s 53ms/step - loss: 2.9317e-09 - accuracy: 1.0000 - val_loss: 6.3777e-09 - val_accuracy: 1.0000\n",
            "Epoch 96/100\n",
            "540/540 [==============================] - 28s 51ms/step - loss: 2.4968e-09 - accuracy: 1.0000 - val_loss: 4.8081e-09 - val_accuracy: 1.0000\n",
            "Epoch 97/100\n",
            "540/540 [==============================] - 30s 53ms/step - loss: 2.2561e-09 - accuracy: 1.0000 - val_loss: 4.4902e-09 - val_accuracy: 1.0000\n",
            "Epoch 98/100\n",
            "540/540 [==============================] - 31s 55ms/step - loss: 1.9383e-09 - accuracy: 1.0000 - val_loss: 3.9736e-09 - val_accuracy: 1.0000\n",
            "Epoch 99/100\n",
            "540/540 [==============================] - 31s 56ms/step - loss: 1.7550e-09 - accuracy: 1.0000 - val_loss: 3.6955e-09 - val_accuracy: 1.0000\n",
            "Epoch 100/100\n",
            "540/540 [==============================] - 30s 54ms/step - loss: 1.5475e-09 - accuracy: 1.0000 - val_loss: 3.1988e-09 - val_accuracy: 1.0000\n"
          ]
        },
        {
          "output_type": "execute_result",
          "data": {
            "text/plain": [
              "<keras.src.callbacks.History at 0x7fbd141f7640>"
            ]
          },
          "metadata": {},
          "execution_count": 45
        }
      ],
      "source": [
        "# model.fit(train_data, epochs = 10, validation_data=(validation_inputs, validation_targets),callbacks=[early_stop])\n",
        "model.fit(train_data, epochs = 100, validation_data=(validation_inputs, validation_targets))"
      ]
    },
    {
      "cell_type": "markdown",
      "metadata": {
        "id": "aUy8L-na1aNm"
      },
      "source": [
        "## Evaluate the Model"
      ]
    },
    {
      "cell_type": "code",
      "execution_count": null,
      "metadata": {
        "colab": {
          "base_uri": "https://localhost:8080/"
        },
        "id": "rNCEM5Ax1X4H",
        "outputId": "d404c19a-e567-4b2c-9cea-0f571a701eff"
      },
      "outputs": [
        {
          "output_type": "execute_result",
          "data": {
            "text/plain": [
              "['loss', 'accuracy']"
            ]
          },
          "metadata": {},
          "execution_count": 46
        }
      ],
      "source": [
        "model.metrics_names"
      ]
    },
    {
      "cell_type": "code",
      "execution_count": null,
      "metadata": {
        "id": "v7AJB5oI2vIR"
      },
      "outputs": [],
      "source": [
        "losses = pd.DataFrame(model.history.history)"
      ]
    },
    {
      "cell_type": "code",
      "execution_count": null,
      "metadata": {
        "colab": {
          "base_uri": "https://localhost:8080/",
          "height": 206
        },
        "id": "FQgI4rD12yHs",
        "outputId": "2f97c5dd-fe92-4b04-83cf-7ffb942e9656"
      },
      "outputs": [
        {
          "output_type": "execute_result",
          "data": {
            "text/plain": [
              "       loss  accuracy  val_loss  val_accuracy\n",
              "0  0.215958  0.936944  0.091025      0.974667\n",
              "1  0.069846  0.978481  0.066167      0.980000\n",
              "2  0.046459  0.986481  0.046120      0.986167\n",
              "3  0.034803  0.989500  0.040628      0.987667\n",
              "4  0.026822  0.991759  0.032497      0.989833"
            ],
            "text/html": [
              "\n",
              "  <div id=\"df-7f2ec795-96d1-49b1-9e5a-403bfd5d9ea4\" class=\"colab-df-container\">\n",
              "    <div>\n",
              "<style scoped>\n",
              "    .dataframe tbody tr th:only-of-type {\n",
              "        vertical-align: middle;\n",
              "    }\n",
              "\n",
              "    .dataframe tbody tr th {\n",
              "        vertical-align: top;\n",
              "    }\n",
              "\n",
              "    .dataframe thead th {\n",
              "        text-align: right;\n",
              "    }\n",
              "</style>\n",
              "<table border=\"1\" class=\"dataframe\">\n",
              "  <thead>\n",
              "    <tr style=\"text-align: right;\">\n",
              "      <th></th>\n",
              "      <th>loss</th>\n",
              "      <th>accuracy</th>\n",
              "      <th>val_loss</th>\n",
              "      <th>val_accuracy</th>\n",
              "    </tr>\n",
              "  </thead>\n",
              "  <tbody>\n",
              "    <tr>\n",
              "      <th>0</th>\n",
              "      <td>0.215958</td>\n",
              "      <td>0.936944</td>\n",
              "      <td>0.091025</td>\n",
              "      <td>0.974667</td>\n",
              "    </tr>\n",
              "    <tr>\n",
              "      <th>1</th>\n",
              "      <td>0.069846</td>\n",
              "      <td>0.978481</td>\n",
              "      <td>0.066167</td>\n",
              "      <td>0.980000</td>\n",
              "    </tr>\n",
              "    <tr>\n",
              "      <th>2</th>\n",
              "      <td>0.046459</td>\n",
              "      <td>0.986481</td>\n",
              "      <td>0.046120</td>\n",
              "      <td>0.986167</td>\n",
              "    </tr>\n",
              "    <tr>\n",
              "      <th>3</th>\n",
              "      <td>0.034803</td>\n",
              "      <td>0.989500</td>\n",
              "      <td>0.040628</td>\n",
              "      <td>0.987667</td>\n",
              "    </tr>\n",
              "    <tr>\n",
              "      <th>4</th>\n",
              "      <td>0.026822</td>\n",
              "      <td>0.991759</td>\n",
              "      <td>0.032497</td>\n",
              "      <td>0.989833</td>\n",
              "    </tr>\n",
              "  </tbody>\n",
              "</table>\n",
              "</div>\n",
              "    <div class=\"colab-df-buttons\">\n",
              "\n",
              "  <div class=\"colab-df-container\">\n",
              "    <button class=\"colab-df-convert\" onclick=\"convertToInteractive('df-7f2ec795-96d1-49b1-9e5a-403bfd5d9ea4')\"\n",
              "            title=\"Convert this dataframe to an interactive table.\"\n",
              "            style=\"display:none;\">\n",
              "\n",
              "  <svg xmlns=\"http://www.w3.org/2000/svg\" height=\"24px\" viewBox=\"0 -960 960 960\">\n",
              "    <path d=\"M120-120v-720h720v720H120Zm60-500h600v-160H180v160Zm220 220h160v-160H400v160Zm0 220h160v-160H400v160ZM180-400h160v-160H180v160Zm440 0h160v-160H620v160ZM180-180h160v-160H180v160Zm440 0h160v-160H620v160Z\"/>\n",
              "  </svg>\n",
              "    </button>\n",
              "\n",
              "  <style>\n",
              "    .colab-df-container {\n",
              "      display:flex;\n",
              "      gap: 12px;\n",
              "    }\n",
              "\n",
              "    .colab-df-convert {\n",
              "      background-color: #E8F0FE;\n",
              "      border: none;\n",
              "      border-radius: 50%;\n",
              "      cursor: pointer;\n",
              "      display: none;\n",
              "      fill: #1967D2;\n",
              "      height: 32px;\n",
              "      padding: 0 0 0 0;\n",
              "      width: 32px;\n",
              "    }\n",
              "\n",
              "    .colab-df-convert:hover {\n",
              "      background-color: #E2EBFA;\n",
              "      box-shadow: 0px 1px 2px rgba(60, 64, 67, 0.3), 0px 1px 3px 1px rgba(60, 64, 67, 0.15);\n",
              "      fill: #174EA6;\n",
              "    }\n",
              "\n",
              "    .colab-df-buttons div {\n",
              "      margin-bottom: 4px;\n",
              "    }\n",
              "\n",
              "    [theme=dark] .colab-df-convert {\n",
              "      background-color: #3B4455;\n",
              "      fill: #D2E3FC;\n",
              "    }\n",
              "\n",
              "    [theme=dark] .colab-df-convert:hover {\n",
              "      background-color: #434B5C;\n",
              "      box-shadow: 0px 1px 3px 1px rgba(0, 0, 0, 0.15);\n",
              "      filter: drop-shadow(0px 1px 2px rgba(0, 0, 0, 0.3));\n",
              "      fill: #FFFFFF;\n",
              "    }\n",
              "  </style>\n",
              "\n",
              "    <script>\n",
              "      const buttonEl =\n",
              "        document.querySelector('#df-7f2ec795-96d1-49b1-9e5a-403bfd5d9ea4 button.colab-df-convert');\n",
              "      buttonEl.style.display =\n",
              "        google.colab.kernel.accessAllowed ? 'block' : 'none';\n",
              "\n",
              "      async function convertToInteractive(key) {\n",
              "        const element = document.querySelector('#df-7f2ec795-96d1-49b1-9e5a-403bfd5d9ea4');\n",
              "        const dataTable =\n",
              "          await google.colab.kernel.invokeFunction('convertToInteractive',\n",
              "                                                    [key], {});\n",
              "        if (!dataTable) return;\n",
              "\n",
              "        const docLinkHtml = 'Like what you see? Visit the ' +\n",
              "          '<a target=\"_blank\" href=https://colab.research.google.com/notebooks/data_table.ipynb>data table notebook</a>'\n",
              "          + ' to learn more about interactive tables.';\n",
              "        element.innerHTML = '';\n",
              "        dataTable['output_type'] = 'display_data';\n",
              "        await google.colab.output.renderOutput(dataTable, element);\n",
              "        const docLink = document.createElement('div');\n",
              "        docLink.innerHTML = docLinkHtml;\n",
              "        element.appendChild(docLink);\n",
              "      }\n",
              "    </script>\n",
              "  </div>\n",
              "\n",
              "\n",
              "<div id=\"df-2456d1cc-8156-4560-86aa-128b3aaeefb5\">\n",
              "  <button class=\"colab-df-quickchart\" onclick=\"quickchart('df-2456d1cc-8156-4560-86aa-128b3aaeefb5')\"\n",
              "            title=\"Suggest charts\"\n",
              "            style=\"display:none;\">\n",
              "\n",
              "<svg xmlns=\"http://www.w3.org/2000/svg\" height=\"24px\"viewBox=\"0 0 24 24\"\n",
              "     width=\"24px\">\n",
              "    <g>\n",
              "        <path d=\"M19 3H5c-1.1 0-2 .9-2 2v14c0 1.1.9 2 2 2h14c1.1 0 2-.9 2-2V5c0-1.1-.9-2-2-2zM9 17H7v-7h2v7zm4 0h-2V7h2v10zm4 0h-2v-4h2v4z\"/>\n",
              "    </g>\n",
              "</svg>\n",
              "  </button>\n",
              "\n",
              "<style>\n",
              "  .colab-df-quickchart {\n",
              "      --bg-color: #E8F0FE;\n",
              "      --fill-color: #1967D2;\n",
              "      --hover-bg-color: #E2EBFA;\n",
              "      --hover-fill-color: #174EA6;\n",
              "      --disabled-fill-color: #AAA;\n",
              "      --disabled-bg-color: #DDD;\n",
              "  }\n",
              "\n",
              "  [theme=dark] .colab-df-quickchart {\n",
              "      --bg-color: #3B4455;\n",
              "      --fill-color: #D2E3FC;\n",
              "      --hover-bg-color: #434B5C;\n",
              "      --hover-fill-color: #FFFFFF;\n",
              "      --disabled-bg-color: #3B4455;\n",
              "      --disabled-fill-color: #666;\n",
              "  }\n",
              "\n",
              "  .colab-df-quickchart {\n",
              "    background-color: var(--bg-color);\n",
              "    border: none;\n",
              "    border-radius: 50%;\n",
              "    cursor: pointer;\n",
              "    display: none;\n",
              "    fill: var(--fill-color);\n",
              "    height: 32px;\n",
              "    padding: 0;\n",
              "    width: 32px;\n",
              "  }\n",
              "\n",
              "  .colab-df-quickchart:hover {\n",
              "    background-color: var(--hover-bg-color);\n",
              "    box-shadow: 0 1px 2px rgba(60, 64, 67, 0.3), 0 1px 3px 1px rgba(60, 64, 67, 0.15);\n",
              "    fill: var(--button-hover-fill-color);\n",
              "  }\n",
              "\n",
              "  .colab-df-quickchart-complete:disabled,\n",
              "  .colab-df-quickchart-complete:disabled:hover {\n",
              "    background-color: var(--disabled-bg-color);\n",
              "    fill: var(--disabled-fill-color);\n",
              "    box-shadow: none;\n",
              "  }\n",
              "\n",
              "  .colab-df-spinner {\n",
              "    border: 2px solid var(--fill-color);\n",
              "    border-color: transparent;\n",
              "    border-bottom-color: var(--fill-color);\n",
              "    animation:\n",
              "      spin 1s steps(1) infinite;\n",
              "  }\n",
              "\n",
              "  @keyframes spin {\n",
              "    0% {\n",
              "      border-color: transparent;\n",
              "      border-bottom-color: var(--fill-color);\n",
              "      border-left-color: var(--fill-color);\n",
              "    }\n",
              "    20% {\n",
              "      border-color: transparent;\n",
              "      border-left-color: var(--fill-color);\n",
              "      border-top-color: var(--fill-color);\n",
              "    }\n",
              "    30% {\n",
              "      border-color: transparent;\n",
              "      border-left-color: var(--fill-color);\n",
              "      border-top-color: var(--fill-color);\n",
              "      border-right-color: var(--fill-color);\n",
              "    }\n",
              "    40% {\n",
              "      border-color: transparent;\n",
              "      border-right-color: var(--fill-color);\n",
              "      border-top-color: var(--fill-color);\n",
              "    }\n",
              "    60% {\n",
              "      border-color: transparent;\n",
              "      border-right-color: var(--fill-color);\n",
              "    }\n",
              "    80% {\n",
              "      border-color: transparent;\n",
              "      border-right-color: var(--fill-color);\n",
              "      border-bottom-color: var(--fill-color);\n",
              "    }\n",
              "    90% {\n",
              "      border-color: transparent;\n",
              "      border-bottom-color: var(--fill-color);\n",
              "    }\n",
              "  }\n",
              "</style>\n",
              "\n",
              "  <script>\n",
              "    async function quickchart(key) {\n",
              "      const quickchartButtonEl =\n",
              "        document.querySelector('#' + key + ' button');\n",
              "      quickchartButtonEl.disabled = true;  // To prevent multiple clicks.\n",
              "      quickchartButtonEl.classList.add('colab-df-spinner');\n",
              "      try {\n",
              "        const charts = await google.colab.kernel.invokeFunction(\n",
              "            'suggestCharts', [key], {});\n",
              "      } catch (error) {\n",
              "        console.error('Error during call to suggestCharts:', error);\n",
              "      }\n",
              "      quickchartButtonEl.classList.remove('colab-df-spinner');\n",
              "      quickchartButtonEl.classList.add('colab-df-quickchart-complete');\n",
              "    }\n",
              "    (() => {\n",
              "      let quickchartButtonEl =\n",
              "        document.querySelector('#df-2456d1cc-8156-4560-86aa-128b3aaeefb5 button');\n",
              "      quickchartButtonEl.style.display =\n",
              "        google.colab.kernel.accessAllowed ? 'block' : 'none';\n",
              "    })();\n",
              "  </script>\n",
              "</div>\n",
              "\n",
              "    </div>\n",
              "  </div>\n"
            ],
            "application/vnd.google.colaboratory.intrinsic+json": {
              "type": "dataframe",
              "variable_name": "losses",
              "summary": "{\n  \"name\": \"losses\",\n  \"rows\": 100,\n  \"fields\": [\n    {\n      \"column\": \"loss\",\n      \"properties\": {\n        \"dtype\": \"number\",\n        \"std\": 0.023340606704565527,\n        \"min\": 1.5475132286724147e-09,\n        \"max\": 0.2159576714038849,\n        \"num_unique_values\": 100,\n        \"samples\": [\n          2.2186121384493163e-08,\n          0.0003331147017888725,\n          3.4850467045544065e-07\n        ],\n        \"semantic_type\": \"\",\n        \"description\": \"\"\n      }\n    },\n    {\n      \"column\": \"accuracy\",\n      \"properties\": {\n        \"dtype\": \"number\",\n        \"std\": 0.00685301829545893,\n        \"min\": 0.9369444251060486,\n        \"max\": 1.0,\n        \"num_unique_values\": 41,\n        \"samples\": [\n          0.9995555281639099,\n          0.998796284198761,\n          0.9974074363708496\n        ],\n        \"semantic_type\": \"\",\n        \"description\": \"\"\n      }\n    },\n    {\n      \"column\": \"val_loss\",\n      \"properties\": {\n        \"dtype\": \"number\",\n        \"std\": 0.013472072815310578,\n        \"min\": 3.1987819060219636e-09,\n        \"max\": 0.09102460741996765,\n        \"num_unique_values\": 100,\n        \"samples\": [\n          4.017345389684124e-08,\n          0.0004132578324060887,\n          5.257426209936966e-07\n        ],\n        \"semantic_type\": \"\",\n        \"description\": \"\"\n      }\n    },\n    {\n      \"column\": \"val_accuracy\",\n      \"properties\": {\n        \"dtype\": \"number\",\n        \"std\": 0.003969418654363777,\n        \"min\": 0.9746666550636292,\n        \"max\": 1.0,\n        \"num_unique_values\": 25,\n        \"samples\": [\n          0.9938333630561829,\n          0.9983333349227905,\n          0.9746666550636292\n        ],\n        \"semantic_type\": \"\",\n        \"description\": \"\"\n      }\n    }\n  ]\n}"
            }
          },
          "metadata": {},
          "execution_count": 48
        }
      ],
      "source": [
        "losses.head()"
      ]
    },
    {
      "cell_type": "code",
      "execution_count": null,
      "metadata": {
        "colab": {
          "base_uri": "https://localhost:8080/",
          "height": 435
        },
        "id": "9yHCLZ794miv",
        "outputId": "5e3b1bd8-752f-431b-f4d9-1ad7590560d9"
      },
      "outputs": [
        {
          "output_type": "execute_result",
          "data": {
            "text/plain": [
              "<Axes: >"
            ]
          },
          "metadata": {},
          "execution_count": 49
        },
        {
          "output_type": "display_data",
          "data": {
            "text/plain": [
              "<Figure size 640x480 with 1 Axes>"
            ],
            "image/svg+xml": "<?xml version=\"1.0\" encoding=\"utf-8\" standalone=\"no\"?>\n<!DOCTYPE svg PUBLIC \"-//W3C//DTD SVG 1.1//EN\"\n  \"http://www.w3.org/Graphics/SVG/1.1/DTD/svg11.dtd\">\n<svg xmlns:xlink=\"http://www.w3.org/1999/xlink\" width=\"400.785625pt\" height=\"297.190125pt\" viewBox=\"0 0 400.785625 297.190125\" xmlns=\"http://www.w3.org/2000/svg\" version=\"1.1\">\n <metadata>\n  <rdf:RDF xmlns:dc=\"http://purl.org/dc/elements/1.1/\" xmlns:cc=\"http://creativecommons.org/ns#\" xmlns:rdf=\"http://www.w3.org/1999/02/22-rdf-syntax-ns#\">\n   <cc:Work>\n    <dc:type rdf:resource=\"http://purl.org/dc/dcmitype/StillImage\"/>\n    <dc:date>2024-06-12T16:08:16.492513</dc:date>\n    <dc:format>image/svg+xml</dc:format>\n    <dc:creator>\n     <cc:Agent>\n      <dc:title>Matplotlib v3.7.1, https://matplotlib.org/</dc:title>\n     </cc:Agent>\n    </dc:creator>\n   </cc:Work>\n  </rdf:RDF>\n </metadata>\n <defs>\n  <style type=\"text/css\">*{stroke-linejoin: round; stroke-linecap: butt}</style>\n </defs>\n <g id=\"figure_1\">\n  <g id=\"patch_1\">\n   <path d=\"M 0 297.190125 \nL 400.785625 297.190125 \nL 400.785625 0 \nL 0 0 \nz\n\" style=\"fill: #ffffff\"/>\n  </g>\n  <g id=\"axes_1\">\n   <g id=\"patch_2\">\n    <path d=\"M 36.465625 273.312 \nL 393.585625 273.312 \nL 393.585625 7.2 \nL 36.465625 7.2 \nz\n\" style=\"fill: #ffffff\"/>\n   </g>\n   <g id=\"matplotlib.axis_1\">\n    <g id=\"xtick_1\">\n     <g id=\"line2d_1\">\n      <defs>\n       <path id=\"mb9f59d0eba\" d=\"M 0 0 \nL 0 3.5 \n\" style=\"stroke: #000000; stroke-width: 0.8\"/>\n      </defs>\n      <g>\n       <use xlink:href=\"#mb9f59d0eba\" x=\"52.698352\" y=\"273.312\" style=\"stroke: #000000; stroke-width: 0.8\"/>\n      </g>\n     </g>\n     <g id=\"text_1\">\n      <!-- 0 -->\n      <g transform=\"translate(49.517102 287.910437) scale(0.1 -0.1)\">\n       <defs>\n        <path id=\"DejaVuSans-30\" d=\"M 2034 4250 \nQ 1547 4250 1301 3770 \nQ 1056 3291 1056 2328 \nQ 1056 1369 1301 889 \nQ 1547 409 2034 409 \nQ 2525 409 2770 889 \nQ 3016 1369 3016 2328 \nQ 3016 3291 2770 3770 \nQ 2525 4250 2034 4250 \nz\nM 2034 4750 \nQ 2819 4750 3233 4129 \nQ 3647 3509 3647 2328 \nQ 3647 1150 3233 529 \nQ 2819 -91 2034 -91 \nQ 1250 -91 836 529 \nQ 422 1150 422 2328 \nQ 422 3509 836 4129 \nQ 1250 4750 2034 4750 \nz\n\" transform=\"scale(0.015625)\"/>\n       </defs>\n       <use xlink:href=\"#DejaVuSans-30\"/>\n      </g>\n     </g>\n    </g>\n    <g id=\"xtick_2\">\n     <g id=\"line2d_2\">\n      <g>\n       <use xlink:href=\"#mb9f59d0eba\" x=\"118.285129\" y=\"273.312\" style=\"stroke: #000000; stroke-width: 0.8\"/>\n      </g>\n     </g>\n     <g id=\"text_2\">\n      <!-- 20 -->\n      <g transform=\"translate(111.922629 287.910437) scale(0.1 -0.1)\">\n       <defs>\n        <path id=\"DejaVuSans-32\" d=\"M 1228 531 \nL 3431 531 \nL 3431 0 \nL 469 0 \nL 469 531 \nQ 828 903 1448 1529 \nQ 2069 2156 2228 2338 \nQ 2531 2678 2651 2914 \nQ 2772 3150 2772 3378 \nQ 2772 3750 2511 3984 \nQ 2250 4219 1831 4219 \nQ 1534 4219 1204 4116 \nQ 875 4013 500 3803 \nL 500 4441 \nQ 881 4594 1212 4672 \nQ 1544 4750 1819 4750 \nQ 2544 4750 2975 4387 \nQ 3406 4025 3406 3419 \nQ 3406 3131 3298 2873 \nQ 3191 2616 2906 2266 \nQ 2828 2175 2409 1742 \nQ 1991 1309 1228 531 \nz\n\" transform=\"scale(0.015625)\"/>\n       </defs>\n       <use xlink:href=\"#DejaVuSans-32\"/>\n       <use xlink:href=\"#DejaVuSans-30\" x=\"63.623047\"/>\n      </g>\n     </g>\n    </g>\n    <g id=\"xtick_3\">\n     <g id=\"line2d_3\">\n      <g>\n       <use xlink:href=\"#mb9f59d0eba\" x=\"183.871906\" y=\"273.312\" style=\"stroke: #000000; stroke-width: 0.8\"/>\n      </g>\n     </g>\n     <g id=\"text_3\">\n      <!-- 40 -->\n      <g transform=\"translate(177.509406 287.910437) scale(0.1 -0.1)\">\n       <defs>\n        <path id=\"DejaVuSans-34\" d=\"M 2419 4116 \nL 825 1625 \nL 2419 1625 \nL 2419 4116 \nz\nM 2253 4666 \nL 3047 4666 \nL 3047 1625 \nL 3713 1625 \nL 3713 1100 \nL 3047 1100 \nL 3047 0 \nL 2419 0 \nL 2419 1100 \nL 313 1100 \nL 313 1709 \nL 2253 4666 \nz\n\" transform=\"scale(0.015625)\"/>\n       </defs>\n       <use xlink:href=\"#DejaVuSans-34\"/>\n       <use xlink:href=\"#DejaVuSans-30\" x=\"63.623047\"/>\n      </g>\n     </g>\n    </g>\n    <g id=\"xtick_4\">\n     <g id=\"line2d_4\">\n      <g>\n       <use xlink:href=\"#mb9f59d0eba\" x=\"249.458683\" y=\"273.312\" style=\"stroke: #000000; stroke-width: 0.8\"/>\n      </g>\n     </g>\n     <g id=\"text_4\">\n      <!-- 60 -->\n      <g transform=\"translate(243.096183 287.910437) scale(0.1 -0.1)\">\n       <defs>\n        <path id=\"DejaVuSans-36\" d=\"M 2113 2584 \nQ 1688 2584 1439 2293 \nQ 1191 2003 1191 1497 \nQ 1191 994 1439 701 \nQ 1688 409 2113 409 \nQ 2538 409 2786 701 \nQ 3034 994 3034 1497 \nQ 3034 2003 2786 2293 \nQ 2538 2584 2113 2584 \nz\nM 3366 4563 \nL 3366 3988 \nQ 3128 4100 2886 4159 \nQ 2644 4219 2406 4219 \nQ 1781 4219 1451 3797 \nQ 1122 3375 1075 2522 \nQ 1259 2794 1537 2939 \nQ 1816 3084 2150 3084 \nQ 2853 3084 3261 2657 \nQ 3669 2231 3669 1497 \nQ 3669 778 3244 343 \nQ 2819 -91 2113 -91 \nQ 1303 -91 875 529 \nQ 447 1150 447 2328 \nQ 447 3434 972 4092 \nQ 1497 4750 2381 4750 \nQ 2619 4750 2861 4703 \nQ 3103 4656 3366 4563 \nz\n\" transform=\"scale(0.015625)\"/>\n       </defs>\n       <use xlink:href=\"#DejaVuSans-36\"/>\n       <use xlink:href=\"#DejaVuSans-30\" x=\"63.623047\"/>\n      </g>\n     </g>\n    </g>\n    <g id=\"xtick_5\">\n     <g id=\"line2d_5\">\n      <g>\n       <use xlink:href=\"#mb9f59d0eba\" x=\"315.04546\" y=\"273.312\" style=\"stroke: #000000; stroke-width: 0.8\"/>\n      </g>\n     </g>\n     <g id=\"text_5\">\n      <!-- 80 -->\n      <g transform=\"translate(308.68296 287.910437) scale(0.1 -0.1)\">\n       <defs>\n        <path id=\"DejaVuSans-38\" d=\"M 2034 2216 \nQ 1584 2216 1326 1975 \nQ 1069 1734 1069 1313 \nQ 1069 891 1326 650 \nQ 1584 409 2034 409 \nQ 2484 409 2743 651 \nQ 3003 894 3003 1313 \nQ 3003 1734 2745 1975 \nQ 2488 2216 2034 2216 \nz\nM 1403 2484 \nQ 997 2584 770 2862 \nQ 544 3141 544 3541 \nQ 544 4100 942 4425 \nQ 1341 4750 2034 4750 \nQ 2731 4750 3128 4425 \nQ 3525 4100 3525 3541 \nQ 3525 3141 3298 2862 \nQ 3072 2584 2669 2484 \nQ 3125 2378 3379 2068 \nQ 3634 1759 3634 1313 \nQ 3634 634 3220 271 \nQ 2806 -91 2034 -91 \nQ 1263 -91 848 271 \nQ 434 634 434 1313 \nQ 434 1759 690 2068 \nQ 947 2378 1403 2484 \nz\nM 1172 3481 \nQ 1172 3119 1398 2916 \nQ 1625 2713 2034 2713 \nQ 2441 2713 2670 2916 \nQ 2900 3119 2900 3481 \nQ 2900 3844 2670 4047 \nQ 2441 4250 2034 4250 \nQ 1625 4250 1398 4047 \nQ 1172 3844 1172 3481 \nz\n\" transform=\"scale(0.015625)\"/>\n       </defs>\n       <use xlink:href=\"#DejaVuSans-38\"/>\n       <use xlink:href=\"#DejaVuSans-30\" x=\"63.623047\"/>\n      </g>\n     </g>\n    </g>\n    <g id=\"xtick_6\">\n     <g id=\"line2d_6\">\n      <g>\n       <use xlink:href=\"#mb9f59d0eba\" x=\"380.632237\" y=\"273.312\" style=\"stroke: #000000; stroke-width: 0.8\"/>\n      </g>\n     </g>\n     <g id=\"text_6\">\n      <!-- 100 -->\n      <g transform=\"translate(371.088487 287.910437) scale(0.1 -0.1)\">\n       <defs>\n        <path id=\"DejaVuSans-31\" d=\"M 794 531 \nL 1825 531 \nL 1825 4091 \nL 703 3866 \nL 703 4441 \nL 1819 4666 \nL 2450 4666 \nL 2450 531 \nL 3481 531 \nL 3481 0 \nL 794 0 \nL 794 531 \nz\n\" transform=\"scale(0.015625)\"/>\n       </defs>\n       <use xlink:href=\"#DejaVuSans-31\"/>\n       <use xlink:href=\"#DejaVuSans-30\" x=\"63.623047\"/>\n       <use xlink:href=\"#DejaVuSans-30\" x=\"127.246094\"/>\n      </g>\n     </g>\n    </g>\n   </g>\n   <g id=\"matplotlib.axis_2\">\n    <g id=\"ytick_1\">\n     <g id=\"line2d_7\">\n      <defs>\n       <path id=\"mca69092614\" d=\"M 0 0 \nL -3.5 0 \n\" style=\"stroke: #000000; stroke-width: 0.8\"/>\n      </defs>\n      <g>\n       <use xlink:href=\"#mca69092614\" x=\"36.465625\" y=\"261.216002\" style=\"stroke: #000000; stroke-width: 0.8\"/>\n      </g>\n     </g>\n     <g id=\"text_7\">\n      <!-- 0.00 -->\n      <g transform=\"translate(7.2 265.01522) scale(0.1 -0.1)\">\n       <defs>\n        <path id=\"DejaVuSans-2e\" d=\"M 684 794 \nL 1344 794 \nL 1344 0 \nL 684 0 \nL 684 794 \nz\n\" transform=\"scale(0.015625)\"/>\n       </defs>\n       <use xlink:href=\"#DejaVuSans-30\"/>\n       <use xlink:href=\"#DejaVuSans-2e\" x=\"63.623047\"/>\n       <use xlink:href=\"#DejaVuSans-30\" x=\"95.410156\"/>\n       <use xlink:href=\"#DejaVuSans-30\" x=\"159.033203\"/>\n      </g>\n     </g>\n    </g>\n    <g id=\"ytick_2\">\n     <g id=\"line2d_8\">\n      <g>\n       <use xlink:href=\"#mca69092614\" x=\"36.465625\" y=\"205.205025\" style=\"stroke: #000000; stroke-width: 0.8\"/>\n      </g>\n     </g>\n     <g id=\"text_8\">\n      <!-- 0.05 -->\n      <g transform=\"translate(7.2 209.004244) scale(0.1 -0.1)\">\n       <defs>\n        <path id=\"DejaVuSans-35\" d=\"M 691 4666 \nL 3169 4666 \nL 3169 4134 \nL 1269 4134 \nL 1269 2991 \nQ 1406 3038 1543 3061 \nQ 1681 3084 1819 3084 \nQ 2600 3084 3056 2656 \nQ 3513 2228 3513 1497 \nQ 3513 744 3044 326 \nQ 2575 -91 1722 -91 \nQ 1428 -91 1123 -41 \nQ 819 9 494 109 \nL 494 744 \nQ 775 591 1075 516 \nQ 1375 441 1709 441 \nQ 2250 441 2565 725 \nQ 2881 1009 2881 1497 \nQ 2881 1984 2565 2268 \nQ 2250 2553 1709 2553 \nQ 1456 2553 1204 2497 \nQ 953 2441 691 2322 \nL 691 4666 \nz\n\" transform=\"scale(0.015625)\"/>\n       </defs>\n       <use xlink:href=\"#DejaVuSans-30\"/>\n       <use xlink:href=\"#DejaVuSans-2e\" x=\"63.623047\"/>\n       <use xlink:href=\"#DejaVuSans-30\" x=\"95.410156\"/>\n       <use xlink:href=\"#DejaVuSans-35\" x=\"159.033203\"/>\n      </g>\n     </g>\n    </g>\n    <g id=\"ytick_3\">\n     <g id=\"line2d_9\">\n      <g>\n       <use xlink:href=\"#mca69092614\" x=\"36.465625\" y=\"149.194048\" style=\"stroke: #000000; stroke-width: 0.8\"/>\n      </g>\n     </g>\n     <g id=\"text_9\">\n      <!-- 0.10 -->\n      <g transform=\"translate(7.2 152.993267) scale(0.1 -0.1)\">\n       <use xlink:href=\"#DejaVuSans-30\"/>\n       <use xlink:href=\"#DejaVuSans-2e\" x=\"63.623047\"/>\n       <use xlink:href=\"#DejaVuSans-31\" x=\"95.410156\"/>\n       <use xlink:href=\"#DejaVuSans-30\" x=\"159.033203\"/>\n      </g>\n     </g>\n    </g>\n    <g id=\"ytick_4\">\n     <g id=\"line2d_10\">\n      <g>\n       <use xlink:href=\"#mca69092614\" x=\"36.465625\" y=\"93.183072\" style=\"stroke: #000000; stroke-width: 0.8\"/>\n      </g>\n     </g>\n     <g id=\"text_10\">\n      <!-- 0.15 -->\n      <g transform=\"translate(7.2 96.982291) scale(0.1 -0.1)\">\n       <use xlink:href=\"#DejaVuSans-30\"/>\n       <use xlink:href=\"#DejaVuSans-2e\" x=\"63.623047\"/>\n       <use xlink:href=\"#DejaVuSans-31\" x=\"95.410156\"/>\n       <use xlink:href=\"#DejaVuSans-35\" x=\"159.033203\"/>\n      </g>\n     </g>\n    </g>\n    <g id=\"ytick_5\">\n     <g id=\"line2d_11\">\n      <g>\n       <use xlink:href=\"#mca69092614\" x=\"36.465625\" y=\"37.172095\" style=\"stroke: #000000; stroke-width: 0.8\"/>\n      </g>\n     </g>\n     <g id=\"text_11\">\n      <!-- 0.20 -->\n      <g transform=\"translate(7.2 40.971314) scale(0.1 -0.1)\">\n       <use xlink:href=\"#DejaVuSans-30\"/>\n       <use xlink:href=\"#DejaVuSans-2e\" x=\"63.623047\"/>\n       <use xlink:href=\"#DejaVuSans-32\" x=\"95.410156\"/>\n       <use xlink:href=\"#DejaVuSans-30\" x=\"159.033203\"/>\n      </g>\n     </g>\n    </g>\n   </g>\n   <g id=\"line2d_12\">\n    <path d=\"M 52.698352 19.296 \nL 55.977691 182.97306 \nL 59.25703 209.171334 \nL 62.536369 222.22939 \nL 65.815708 231.169099 \nL 69.095046 238.883605 \nL 72.374385 240.774166 \nL 75.653724 246.972598 \nL 78.933063 250.358705 \nL 82.212402 253.070252 \nL 85.491741 254.392222 \nL 88.77108 252.518218 \nL 92.050418 256.091451 \nL 95.329757 256.052053 \nL 98.609096 255.932567 \nL 101.888435 256.736617 \nL 105.167774 257.547329 \nL 108.447113 258.265423 \nL 111.726451 257.195151 \nL 115.00579 260.40373 \nL 118.285129 260.930157 \nL 121.564468 259.014502 \nL 124.843807 254.539462 \nL 128.123146 257.925922 \nL 131.402485 259.046357 \nL 134.681823 260.885727 \nL 137.961162 259.56195 \nL 141.240501 257.215235 \nL 144.51984 259.223478 \nL 147.799179 260.517229 \nL 151.078518 261.110564 \nL 154.357856 260.188774 \nL 157.637195 255.092516 \nL 160.916534 260.033433 \nL 164.195873 261.007322 \nL 167.475212 261.105716 \nL 170.754551 257.598511 \nL 174.033889 259.21184 \nL 177.313228 259.953481 \nL 180.592567 260.105624 \nL 183.871906 260.405511 \nL 187.151245 260.090486 \nL 190.430584 260.39642 \nL 193.709923 261.113629 \nL 196.989261 258.524707 \nL 200.2686 257.851017 \nL 203.547939 259.669006 \nL 206.827278 261.083368 \nL 210.106617 261.18111 \nL 213.385956 261.199497 \nL 216.665294 261.202447 \nL 219.944633 258.308145 \nL 223.223972 259.390369 \nL 226.503311 260.84284 \nL 229.78265 261.103857 \nL 233.061989 261.201332 \nL 236.341327 261.205151 \nL 239.620666 261.208516 \nL 242.900005 261.209976 \nL 246.179344 261.21109 \nL 249.458683 261.212144 \nL 252.738022 261.213068 \nL 256.017361 261.213591 \nL 259.296699 261.214001 \nL 262.576038 261.21443 \nL 265.855377 261.214745 \nL 269.134716 261.215058 \nL 272.414055 261.215242 \nL 275.693394 261.215378 \nL 278.972732 261.215498 \nL 282.252071 261.215611 \nL 285.53141 261.215696 \nL 288.810749 261.215765 \nL 292.090088 261.21581 \nL 295.369427 261.215848 \nL 298.648765 261.215874 \nL 301.928104 261.215899 \nL 305.207443 261.215922 \nL 308.486782 261.215936 \nL 311.766121 261.215946 \nL 315.04546 261.215959 \nL 318.324799 261.215967 \nL 321.604137 261.215974 \nL 324.883476 261.215977 \nL 328.162815 261.215981 \nL 331.442154 261.215986 \nL 334.721493 261.215989 \nL 338.000832 261.215991 \nL 341.28017 261.215993 \nL 344.559509 261.215995 \nL 347.838848 261.215995 \nL 351.118187 261.215997 \nL 354.397526 261.215997 \nL 357.676865 261.215998 \nL 360.956204 261.215998 \nL 364.235542 261.215999 \nL 367.514881 261.215999 \nL 370.79422 261.216 \nL 374.073559 261.216 \nL 377.352898 261.216 \n\" clip-path=\"url(#paa3d0670dc)\" style=\"fill: none; stroke: #1f77b4; stroke-width: 1.5; stroke-linecap: square\"/>\n   </g>\n   <g id=\"line2d_13\">\n    <path d=\"M 52.698352 159.248459 \nL 55.977691 187.094548 \nL 59.25703 209.550985 \nL 62.536369 215.703872 \nL 65.815708 224.811877 \nL 69.095046 231.43405 \nL 72.374385 232.400473 \nL 75.653724 243.038914 \nL 78.933063 242.389245 \nL 82.212402 251.868932 \nL 85.491741 251.04174 \nL 88.77108 246.233154 \nL 92.050418 253.620191 \nL 95.329757 251.673263 \nL 98.609096 256.117922 \nL 101.888435 248.18717 \nL 105.167774 259.016147 \nL 108.447113 257.307543 \nL 111.726451 259.940631 \nL 115.00579 260.620375 \nL 118.285129 260.851676 \nL 121.564468 255.745484 \nL 124.843807 257.230845 \nL 128.123146 257.869114 \nL 131.402485 259.654889 \nL 134.681823 260.529056 \nL 137.961162 257.852282 \nL 141.240501 258.245912 \nL 144.51984 259.392123 \nL 147.799179 260.534639 \nL 151.078518 260.725959 \nL 154.357856 256.732678 \nL 157.637195 256.995511 \nL 160.916534 259.37941 \nL 164.195873 260.858224 \nL 167.475212 261.123901 \nL 170.754551 256.837178 \nL 174.033889 260.46249 \nL 177.313228 259.754467 \nL 180.592567 260.720083 \nL 183.871906 258.974578 \nL 187.151245 258.828423 \nL 190.430584 260.995076 \nL 193.709923 260.955489 \nL 196.989261 257.441254 \nL 200.2686 254.256335 \nL 203.547939 260.674558 \nL 206.827278 260.989732 \nL 210.106617 261.064979 \nL 213.385956 261.10715 \nL 216.665294 261.117106 \nL 219.944633 242.541569 \nL 223.223972 260.79228 \nL 226.503311 260.753062 \nL 229.78265 261.180731 \nL 233.061989 261.198364 \nL 236.341327 261.202783 \nL 239.620666 261.205262 \nL 242.900005 261.207281 \nL 246.179344 261.208792 \nL 249.458683 261.210063 \nL 252.738022 261.211108 \nL 256.017361 261.211877 \nL 259.296699 261.212813 \nL 262.576038 261.213542 \nL 265.855377 261.213932 \nL 269.134716 261.214335 \nL 272.414055 261.214691 \nL 275.693394 261.215017 \nL 278.972732 261.21523 \nL 282.252071 261.215413 \nL 285.53141 261.215516 \nL 288.810749 261.215593 \nL 292.090088 261.215659 \nL 295.369427 261.215731 \nL 298.648765 261.215794 \nL 301.928104 261.215833 \nL 305.207443 261.215862 \nL 308.486782 261.21588 \nL 311.766121 261.21591 \nL 315.04546 261.215916 \nL 318.324799 261.215941 \nL 321.604137 261.215949 \nL 324.883476 261.215957 \nL 328.162815 261.215966 \nL 331.442154 261.215971 \nL 334.721493 261.215975 \nL 338.000832 261.215982 \nL 341.28017 261.215983 \nL 344.559509 261.215987 \nL 347.838848 261.21599 \nL 351.118187 261.215991 \nL 354.397526 261.215993 \nL 357.676865 261.215994 \nL 360.956204 261.215995 \nL 364.235542 261.215996 \nL 367.514881 261.215997 \nL 370.79422 261.215997 \nL 374.073559 261.215998 \nL 377.352898 261.215998 \n\" clip-path=\"url(#paa3d0670dc)\" style=\"fill: none; stroke: #ff7f0e; stroke-width: 1.5; stroke-linecap: square\"/>\n   </g>\n   <g id=\"patch_3\">\n    <path d=\"M 36.465625 273.312 \nL 36.465625 7.2 \n\" style=\"fill: none; stroke: #000000; stroke-width: 0.8; stroke-linejoin: miter; stroke-linecap: square\"/>\n   </g>\n   <g id=\"patch_4\">\n    <path d=\"M 393.585625 273.312 \nL 393.585625 7.2 \n\" style=\"fill: none; stroke: #000000; stroke-width: 0.8; stroke-linejoin: miter; stroke-linecap: square\"/>\n   </g>\n   <g id=\"patch_5\">\n    <path d=\"M 36.465625 273.312 \nL 393.585625 273.312 \n\" style=\"fill: none; stroke: #000000; stroke-width: 0.8; stroke-linejoin: miter; stroke-linecap: square\"/>\n   </g>\n   <g id=\"patch_6\">\n    <path d=\"M 36.465625 7.2 \nL 393.585625 7.2 \n\" style=\"fill: none; stroke: #000000; stroke-width: 0.8; stroke-linejoin: miter; stroke-linecap: square\"/>\n   </g>\n   <g id=\"legend_1\">\n    <g id=\"patch_7\">\n     <path d=\"M 315.445 44.834375 \nL 386.585625 44.834375 \nQ 388.585625 44.834375 388.585625 42.834375 \nL 388.585625 14.2 \nQ 388.585625 12.2 386.585625 12.2 \nL 315.445 12.2 \nQ 313.445 12.2 313.445 14.2 \nL 313.445 42.834375 \nQ 313.445 44.834375 315.445 44.834375 \nz\n\" style=\"fill: #ffffff; opacity: 0.8; stroke: #cccccc; stroke-linejoin: miter\"/>\n    </g>\n    <g id=\"line2d_14\">\n     <path d=\"M 317.445 20.298437 \nL 327.445 20.298437 \nL 337.445 20.298437 \n\" style=\"fill: none; stroke: #1f77b4; stroke-width: 1.5; stroke-linecap: square\"/>\n    </g>\n    <g id=\"text_12\">\n     <!-- loss -->\n     <g transform=\"translate(345.445 23.798437) scale(0.1 -0.1)\">\n      <defs>\n       <path id=\"DejaVuSans-6c\" d=\"M 603 4863 \nL 1178 4863 \nL 1178 0 \nL 603 0 \nL 603 4863 \nz\n\" transform=\"scale(0.015625)\"/>\n       <path id=\"DejaVuSans-6f\" d=\"M 1959 3097 \nQ 1497 3097 1228 2736 \nQ 959 2375 959 1747 \nQ 959 1119 1226 758 \nQ 1494 397 1959 397 \nQ 2419 397 2687 759 \nQ 2956 1122 2956 1747 \nQ 2956 2369 2687 2733 \nQ 2419 3097 1959 3097 \nz\nM 1959 3584 \nQ 2709 3584 3137 3096 \nQ 3566 2609 3566 1747 \nQ 3566 888 3137 398 \nQ 2709 -91 1959 -91 \nQ 1206 -91 779 398 \nQ 353 888 353 1747 \nQ 353 2609 779 3096 \nQ 1206 3584 1959 3584 \nz\n\" transform=\"scale(0.015625)\"/>\n       <path id=\"DejaVuSans-73\" d=\"M 2834 3397 \nL 2834 2853 \nQ 2591 2978 2328 3040 \nQ 2066 3103 1784 3103 \nQ 1356 3103 1142 2972 \nQ 928 2841 928 2578 \nQ 928 2378 1081 2264 \nQ 1234 2150 1697 2047 \nL 1894 2003 \nQ 2506 1872 2764 1633 \nQ 3022 1394 3022 966 \nQ 3022 478 2636 193 \nQ 2250 -91 1575 -91 \nQ 1294 -91 989 -36 \nQ 684 19 347 128 \nL 347 722 \nQ 666 556 975 473 \nQ 1284 391 1588 391 \nQ 1994 391 2212 530 \nQ 2431 669 2431 922 \nQ 2431 1156 2273 1281 \nQ 2116 1406 1581 1522 \nL 1381 1569 \nQ 847 1681 609 1914 \nQ 372 2147 372 2553 \nQ 372 3047 722 3315 \nQ 1072 3584 1716 3584 \nQ 2034 3584 2315 3537 \nQ 2597 3491 2834 3397 \nz\n\" transform=\"scale(0.015625)\"/>\n      </defs>\n      <use xlink:href=\"#DejaVuSans-6c\"/>\n      <use xlink:href=\"#DejaVuSans-6f\" x=\"27.783203\"/>\n      <use xlink:href=\"#DejaVuSans-73\" x=\"88.964844\"/>\n      <use xlink:href=\"#DejaVuSans-73\" x=\"141.064453\"/>\n     </g>\n    </g>\n    <g id=\"line2d_15\">\n     <path d=\"M 317.445 34.976562 \nL 327.445 34.976562 \nL 337.445 34.976562 \n\" style=\"fill: none; stroke: #ff7f0e; stroke-width: 1.5; stroke-linecap: square\"/>\n    </g>\n    <g id=\"text_13\">\n     <!-- val_loss -->\n     <g transform=\"translate(345.445 38.476562) scale(0.1 -0.1)\">\n      <defs>\n       <path id=\"DejaVuSans-76\" d=\"M 191 3500 \nL 800 3500 \nL 1894 563 \nL 2988 3500 \nL 3597 3500 \nL 2284 0 \nL 1503 0 \nL 191 3500 \nz\n\" transform=\"scale(0.015625)\"/>\n       <path id=\"DejaVuSans-61\" d=\"M 2194 1759 \nQ 1497 1759 1228 1600 \nQ 959 1441 959 1056 \nQ 959 750 1161 570 \nQ 1363 391 1709 391 \nQ 2188 391 2477 730 \nQ 2766 1069 2766 1631 \nL 2766 1759 \nL 2194 1759 \nz\nM 3341 1997 \nL 3341 0 \nL 2766 0 \nL 2766 531 \nQ 2569 213 2275 61 \nQ 1981 -91 1556 -91 \nQ 1019 -91 701 211 \nQ 384 513 384 1019 \nQ 384 1609 779 1909 \nQ 1175 2209 1959 2209 \nL 2766 2209 \nL 2766 2266 \nQ 2766 2663 2505 2880 \nQ 2244 3097 1772 3097 \nQ 1472 3097 1187 3025 \nQ 903 2953 641 2809 \nL 641 3341 \nQ 956 3463 1253 3523 \nQ 1550 3584 1831 3584 \nQ 2591 3584 2966 3190 \nQ 3341 2797 3341 1997 \nz\n\" transform=\"scale(0.015625)\"/>\n       <path id=\"DejaVuSans-5f\" d=\"M 3263 -1063 \nL 3263 -1509 \nL -63 -1509 \nL -63 -1063 \nL 3263 -1063 \nz\n\" transform=\"scale(0.015625)\"/>\n      </defs>\n      <use xlink:href=\"#DejaVuSans-76\"/>\n      <use xlink:href=\"#DejaVuSans-61\" x=\"59.179688\"/>\n      <use xlink:href=\"#DejaVuSans-6c\" x=\"120.458984\"/>\n      <use xlink:href=\"#DejaVuSans-5f\" x=\"148.242188\"/>\n      <use xlink:href=\"#DejaVuSans-6c\" x=\"198.242188\"/>\n      <use xlink:href=\"#DejaVuSans-6f\" x=\"226.025391\"/>\n      <use xlink:href=\"#DejaVuSans-73\" x=\"287.207031\"/>\n      <use xlink:href=\"#DejaVuSans-73\" x=\"339.306641\"/>\n     </g>\n    </g>\n   </g>\n  </g>\n </g>\n <defs>\n  <clipPath id=\"paa3d0670dc\">\n   <rect x=\"36.465625\" y=\"7.2\" width=\"357.12\" height=\"266.112\"/>\n  </clipPath>\n </defs>\n</svg>\n"
          },
          "metadata": {}
        }
      ],
      "source": [
        "losses[['loss','val_loss']].plot()"
      ]
    },
    {
      "cell_type": "code",
      "execution_count": null,
      "metadata": {
        "colab": {
          "base_uri": "https://localhost:8080/",
          "height": 435
        },
        "id": "3oA1cJ5E4vM0",
        "outputId": "cc6f5055-bf42-400d-85bc-dd1e0d69fbc5"
      },
      "outputs": [
        {
          "output_type": "execute_result",
          "data": {
            "text/plain": [
              "<Axes: >"
            ]
          },
          "metadata": {},
          "execution_count": 50
        },
        {
          "output_type": "display_data",
          "data": {
            "text/plain": [
              "<Figure size 640x480 with 1 Axes>"
            ],
            "image/svg+xml": "<?xml version=\"1.0\" encoding=\"utf-8\" standalone=\"no\"?>\n<!DOCTYPE svg PUBLIC \"-//W3C//DTD SVG 1.1//EN\"\n  \"http://www.w3.org/Graphics/SVG/1.1/DTD/svg11.dtd\">\n<svg xmlns:xlink=\"http://www.w3.org/1999/xlink\" width=\"400.785625pt\" height=\"297.190125pt\" viewBox=\"0 0 400.785625 297.190125\" xmlns=\"http://www.w3.org/2000/svg\" version=\"1.1\">\n <metadata>\n  <rdf:RDF xmlns:dc=\"http://purl.org/dc/elements/1.1/\" xmlns:cc=\"http://creativecommons.org/ns#\" xmlns:rdf=\"http://www.w3.org/1999/02/22-rdf-syntax-ns#\">\n   <cc:Work>\n    <dc:type rdf:resource=\"http://purl.org/dc/dcmitype/StillImage\"/>\n    <dc:date>2024-06-12T16:08:20.811650</dc:date>\n    <dc:format>image/svg+xml</dc:format>\n    <dc:creator>\n     <cc:Agent>\n      <dc:title>Matplotlib v3.7.1, https://matplotlib.org/</dc:title>\n     </cc:Agent>\n    </dc:creator>\n   </cc:Work>\n  </rdf:RDF>\n </metadata>\n <defs>\n  <style type=\"text/css\">*{stroke-linejoin: round; stroke-linecap: butt}</style>\n </defs>\n <g id=\"figure_1\">\n  <g id=\"patch_1\">\n   <path d=\"M 0 297.190125 \nL 400.785625 297.190125 \nL 400.785625 0 \nL 0 0 \nz\n\" style=\"fill: #ffffff\"/>\n  </g>\n  <g id=\"axes_1\">\n   <g id=\"patch_2\">\n    <path d=\"M 36.465625 273.312 \nL 393.585625 273.312 \nL 393.585625 7.2 \nL 36.465625 7.2 \nz\n\" style=\"fill: #ffffff\"/>\n   </g>\n   <g id=\"matplotlib.axis_1\">\n    <g id=\"xtick_1\">\n     <g id=\"line2d_1\">\n      <defs>\n       <path id=\"mf6ea18166c\" d=\"M 0 0 \nL 0 3.5 \n\" style=\"stroke: #000000; stroke-width: 0.8\"/>\n      </defs>\n      <g>\n       <use xlink:href=\"#mf6ea18166c\" x=\"52.698352\" y=\"273.312\" style=\"stroke: #000000; stroke-width: 0.8\"/>\n      </g>\n     </g>\n     <g id=\"text_1\">\n      <!-- 0 -->\n      <g transform=\"translate(49.517102 287.910438) scale(0.1 -0.1)\">\n       <defs>\n        <path id=\"DejaVuSans-30\" d=\"M 2034 4250 \nQ 1547 4250 1301 3770 \nQ 1056 3291 1056 2328 \nQ 1056 1369 1301 889 \nQ 1547 409 2034 409 \nQ 2525 409 2770 889 \nQ 3016 1369 3016 2328 \nQ 3016 3291 2770 3770 \nQ 2525 4250 2034 4250 \nz\nM 2034 4750 \nQ 2819 4750 3233 4129 \nQ 3647 3509 3647 2328 \nQ 3647 1150 3233 529 \nQ 2819 -91 2034 -91 \nQ 1250 -91 836 529 \nQ 422 1150 422 2328 \nQ 422 3509 836 4129 \nQ 1250 4750 2034 4750 \nz\n\" transform=\"scale(0.015625)\"/>\n       </defs>\n       <use xlink:href=\"#DejaVuSans-30\"/>\n      </g>\n     </g>\n    </g>\n    <g id=\"xtick_2\">\n     <g id=\"line2d_2\">\n      <g>\n       <use xlink:href=\"#mf6ea18166c\" x=\"118.285129\" y=\"273.312\" style=\"stroke: #000000; stroke-width: 0.8\"/>\n      </g>\n     </g>\n     <g id=\"text_2\">\n      <!-- 20 -->\n      <g transform=\"translate(111.922629 287.910438) scale(0.1 -0.1)\">\n       <defs>\n        <path id=\"DejaVuSans-32\" d=\"M 1228 531 \nL 3431 531 \nL 3431 0 \nL 469 0 \nL 469 531 \nQ 828 903 1448 1529 \nQ 2069 2156 2228 2338 \nQ 2531 2678 2651 2914 \nQ 2772 3150 2772 3378 \nQ 2772 3750 2511 3984 \nQ 2250 4219 1831 4219 \nQ 1534 4219 1204 4116 \nQ 875 4013 500 3803 \nL 500 4441 \nQ 881 4594 1212 4672 \nQ 1544 4750 1819 4750 \nQ 2544 4750 2975 4387 \nQ 3406 4025 3406 3419 \nQ 3406 3131 3298 2873 \nQ 3191 2616 2906 2266 \nQ 2828 2175 2409 1742 \nQ 1991 1309 1228 531 \nz\n\" transform=\"scale(0.015625)\"/>\n       </defs>\n       <use xlink:href=\"#DejaVuSans-32\"/>\n       <use xlink:href=\"#DejaVuSans-30\" x=\"63.623047\"/>\n      </g>\n     </g>\n    </g>\n    <g id=\"xtick_3\">\n     <g id=\"line2d_3\">\n      <g>\n       <use xlink:href=\"#mf6ea18166c\" x=\"183.871906\" y=\"273.312\" style=\"stroke: #000000; stroke-width: 0.8\"/>\n      </g>\n     </g>\n     <g id=\"text_3\">\n      <!-- 40 -->\n      <g transform=\"translate(177.509406 287.910438) scale(0.1 -0.1)\">\n       <defs>\n        <path id=\"DejaVuSans-34\" d=\"M 2419 4116 \nL 825 1625 \nL 2419 1625 \nL 2419 4116 \nz\nM 2253 4666 \nL 3047 4666 \nL 3047 1625 \nL 3713 1625 \nL 3713 1100 \nL 3047 1100 \nL 3047 0 \nL 2419 0 \nL 2419 1100 \nL 313 1100 \nL 313 1709 \nL 2253 4666 \nz\n\" transform=\"scale(0.015625)\"/>\n       </defs>\n       <use xlink:href=\"#DejaVuSans-34\"/>\n       <use xlink:href=\"#DejaVuSans-30\" x=\"63.623047\"/>\n      </g>\n     </g>\n    </g>\n    <g id=\"xtick_4\">\n     <g id=\"line2d_4\">\n      <g>\n       <use xlink:href=\"#mf6ea18166c\" x=\"249.458683\" y=\"273.312\" style=\"stroke: #000000; stroke-width: 0.8\"/>\n      </g>\n     </g>\n     <g id=\"text_4\">\n      <!-- 60 -->\n      <g transform=\"translate(243.096183 287.910438) scale(0.1 -0.1)\">\n       <defs>\n        <path id=\"DejaVuSans-36\" d=\"M 2113 2584 \nQ 1688 2584 1439 2293 \nQ 1191 2003 1191 1497 \nQ 1191 994 1439 701 \nQ 1688 409 2113 409 \nQ 2538 409 2786 701 \nQ 3034 994 3034 1497 \nQ 3034 2003 2786 2293 \nQ 2538 2584 2113 2584 \nz\nM 3366 4563 \nL 3366 3988 \nQ 3128 4100 2886 4159 \nQ 2644 4219 2406 4219 \nQ 1781 4219 1451 3797 \nQ 1122 3375 1075 2522 \nQ 1259 2794 1537 2939 \nQ 1816 3084 2150 3084 \nQ 2853 3084 3261 2657 \nQ 3669 2231 3669 1497 \nQ 3669 778 3244 343 \nQ 2819 -91 2113 -91 \nQ 1303 -91 875 529 \nQ 447 1150 447 2328 \nQ 447 3434 972 4092 \nQ 1497 4750 2381 4750 \nQ 2619 4750 2861 4703 \nQ 3103 4656 3366 4563 \nz\n\" transform=\"scale(0.015625)\"/>\n       </defs>\n       <use xlink:href=\"#DejaVuSans-36\"/>\n       <use xlink:href=\"#DejaVuSans-30\" x=\"63.623047\"/>\n      </g>\n     </g>\n    </g>\n    <g id=\"xtick_5\">\n     <g id=\"line2d_5\">\n      <g>\n       <use xlink:href=\"#mf6ea18166c\" x=\"315.04546\" y=\"273.312\" style=\"stroke: #000000; stroke-width: 0.8\"/>\n      </g>\n     </g>\n     <g id=\"text_5\">\n      <!-- 80 -->\n      <g transform=\"translate(308.68296 287.910438) scale(0.1 -0.1)\">\n       <defs>\n        <path id=\"DejaVuSans-38\" d=\"M 2034 2216 \nQ 1584 2216 1326 1975 \nQ 1069 1734 1069 1313 \nQ 1069 891 1326 650 \nQ 1584 409 2034 409 \nQ 2484 409 2743 651 \nQ 3003 894 3003 1313 \nQ 3003 1734 2745 1975 \nQ 2488 2216 2034 2216 \nz\nM 1403 2484 \nQ 997 2584 770 2862 \nQ 544 3141 544 3541 \nQ 544 4100 942 4425 \nQ 1341 4750 2034 4750 \nQ 2731 4750 3128 4425 \nQ 3525 4100 3525 3541 \nQ 3525 3141 3298 2862 \nQ 3072 2584 2669 2484 \nQ 3125 2378 3379 2068 \nQ 3634 1759 3634 1313 \nQ 3634 634 3220 271 \nQ 2806 -91 2034 -91 \nQ 1263 -91 848 271 \nQ 434 634 434 1313 \nQ 434 1759 690 2068 \nQ 947 2378 1403 2484 \nz\nM 1172 3481 \nQ 1172 3119 1398 2916 \nQ 1625 2713 2034 2713 \nQ 2441 2713 2670 2916 \nQ 2900 3119 2900 3481 \nQ 2900 3844 2670 4047 \nQ 2441 4250 2034 4250 \nQ 1625 4250 1398 4047 \nQ 1172 3844 1172 3481 \nz\n\" transform=\"scale(0.015625)\"/>\n       </defs>\n       <use xlink:href=\"#DejaVuSans-38\"/>\n       <use xlink:href=\"#DejaVuSans-30\" x=\"63.623047\"/>\n      </g>\n     </g>\n    </g>\n    <g id=\"xtick_6\">\n     <g id=\"line2d_6\">\n      <g>\n       <use xlink:href=\"#mf6ea18166c\" x=\"380.632237\" y=\"273.312\" style=\"stroke: #000000; stroke-width: 0.8\"/>\n      </g>\n     </g>\n     <g id=\"text_6\">\n      <!-- 100 -->\n      <g transform=\"translate(371.088487 287.910438) scale(0.1 -0.1)\">\n       <defs>\n        <path id=\"DejaVuSans-31\" d=\"M 794 531 \nL 1825 531 \nL 1825 4091 \nL 703 3866 \nL 703 4441 \nL 1819 4666 \nL 2450 4666 \nL 2450 531 \nL 3481 531 \nL 3481 0 \nL 794 0 \nL 794 531 \nz\n\" transform=\"scale(0.015625)\"/>\n       </defs>\n       <use xlink:href=\"#DejaVuSans-31\"/>\n       <use xlink:href=\"#DejaVuSans-30\" x=\"63.623047\"/>\n       <use xlink:href=\"#DejaVuSans-30\" x=\"127.246094\"/>\n      </g>\n     </g>\n    </g>\n   </g>\n   <g id=\"matplotlib.axis_2\">\n    <g id=\"ytick_1\">\n     <g id=\"line2d_7\">\n      <defs>\n       <path id=\"m153f348560\" d=\"M 0 0 \nL -3.5 0 \n\" style=\"stroke: #000000; stroke-width: 0.8\"/>\n      </defs>\n      <g>\n       <use xlink:href=\"#m153f348560\" x=\"36.465625\" y=\"249.492934\" style=\"stroke: #000000; stroke-width: 0.8\"/>\n      </g>\n     </g>\n     <g id=\"text_7\">\n      <!-- 0.94 -->\n      <g transform=\"translate(7.2 253.292153) scale(0.1 -0.1)\">\n       <defs>\n        <path id=\"DejaVuSans-2e\" d=\"M 684 794 \nL 1344 794 \nL 1344 0 \nL 684 0 \nL 684 794 \nz\n\" transform=\"scale(0.015625)\"/>\n        <path id=\"DejaVuSans-39\" d=\"M 703 97 \nL 703 672 \nQ 941 559 1184 500 \nQ 1428 441 1663 441 \nQ 2288 441 2617 861 \nQ 2947 1281 2994 2138 \nQ 2813 1869 2534 1725 \nQ 2256 1581 1919 1581 \nQ 1219 1581 811 2004 \nQ 403 2428 403 3163 \nQ 403 3881 828 4315 \nQ 1253 4750 1959 4750 \nQ 2769 4750 3195 4129 \nQ 3622 3509 3622 2328 \nQ 3622 1225 3098 567 \nQ 2575 -91 1691 -91 \nQ 1453 -91 1209 -44 \nQ 966 3 703 97 \nz\nM 1959 2075 \nQ 2384 2075 2632 2365 \nQ 2881 2656 2881 3163 \nQ 2881 3666 2632 3958 \nQ 2384 4250 1959 4250 \nQ 1534 4250 1286 3958 \nQ 1038 3666 1038 3163 \nQ 1038 2656 1286 2365 \nQ 1534 2075 1959 2075 \nz\n\" transform=\"scale(0.015625)\"/>\n       </defs>\n       <use xlink:href=\"#DejaVuSans-30\"/>\n       <use xlink:href=\"#DejaVuSans-2e\" x=\"63.623047\"/>\n       <use xlink:href=\"#DejaVuSans-39\" x=\"95.410156\"/>\n       <use xlink:href=\"#DejaVuSans-34\" x=\"159.033203\"/>\n      </g>\n     </g>\n    </g>\n    <g id=\"ytick_2\">\n     <g id=\"line2d_8\">\n      <g>\n       <use xlink:href=\"#m153f348560\" x=\"36.465625\" y=\"211.126778\" style=\"stroke: #000000; stroke-width: 0.8\"/>\n      </g>\n     </g>\n     <g id=\"text_8\">\n      <!-- 0.95 -->\n      <g transform=\"translate(7.2 214.925997) scale(0.1 -0.1)\">\n       <defs>\n        <path id=\"DejaVuSans-35\" d=\"M 691 4666 \nL 3169 4666 \nL 3169 4134 \nL 1269 4134 \nL 1269 2991 \nQ 1406 3038 1543 3061 \nQ 1681 3084 1819 3084 \nQ 2600 3084 3056 2656 \nQ 3513 2228 3513 1497 \nQ 3513 744 3044 326 \nQ 2575 -91 1722 -91 \nQ 1428 -91 1123 -41 \nQ 819 9 494 109 \nL 494 744 \nQ 775 591 1075 516 \nQ 1375 441 1709 441 \nQ 2250 441 2565 725 \nQ 2881 1009 2881 1497 \nQ 2881 1984 2565 2268 \nQ 2250 2553 1709 2553 \nQ 1456 2553 1204 2497 \nQ 953 2441 691 2322 \nL 691 4666 \nz\n\" transform=\"scale(0.015625)\"/>\n       </defs>\n       <use xlink:href=\"#DejaVuSans-30\"/>\n       <use xlink:href=\"#DejaVuSans-2e\" x=\"63.623047\"/>\n       <use xlink:href=\"#DejaVuSans-39\" x=\"95.410156\"/>\n       <use xlink:href=\"#DejaVuSans-35\" x=\"159.033203\"/>\n      </g>\n     </g>\n    </g>\n    <g id=\"ytick_3\">\n     <g id=\"line2d_9\">\n      <g>\n       <use xlink:href=\"#m153f348560\" x=\"36.465625\" y=\"172.760623\" style=\"stroke: #000000; stroke-width: 0.8\"/>\n      </g>\n     </g>\n     <g id=\"text_9\">\n      <!-- 0.96 -->\n      <g transform=\"translate(7.2 176.559841) scale(0.1 -0.1)\">\n       <use xlink:href=\"#DejaVuSans-30\"/>\n       <use xlink:href=\"#DejaVuSans-2e\" x=\"63.623047\"/>\n       <use xlink:href=\"#DejaVuSans-39\" x=\"95.410156\"/>\n       <use xlink:href=\"#DejaVuSans-36\" x=\"159.033203\"/>\n      </g>\n     </g>\n    </g>\n    <g id=\"ytick_4\">\n     <g id=\"line2d_10\">\n      <g>\n       <use xlink:href=\"#m153f348560\" x=\"36.465625\" y=\"134.394467\" style=\"stroke: #000000; stroke-width: 0.8\"/>\n      </g>\n     </g>\n     <g id=\"text_10\">\n      <!-- 0.97 -->\n      <g transform=\"translate(7.2 138.193686) scale(0.1 -0.1)\">\n       <defs>\n        <path id=\"DejaVuSans-37\" d=\"M 525 4666 \nL 3525 4666 \nL 3525 4397 \nL 1831 0 \nL 1172 0 \nL 2766 4134 \nL 525 4134 \nL 525 4666 \nz\n\" transform=\"scale(0.015625)\"/>\n       </defs>\n       <use xlink:href=\"#DejaVuSans-30\"/>\n       <use xlink:href=\"#DejaVuSans-2e\" x=\"63.623047\"/>\n       <use xlink:href=\"#DejaVuSans-39\" x=\"95.410156\"/>\n       <use xlink:href=\"#DejaVuSans-37\" x=\"159.033203\"/>\n      </g>\n     </g>\n    </g>\n    <g id=\"ytick_5\">\n     <g id=\"line2d_11\">\n      <g>\n       <use xlink:href=\"#m153f348560\" x=\"36.465625\" y=\"96.028311\" style=\"stroke: #000000; stroke-width: 0.8\"/>\n      </g>\n     </g>\n     <g id=\"text_11\">\n      <!-- 0.98 -->\n      <g transform=\"translate(7.2 99.82753) scale(0.1 -0.1)\">\n       <use xlink:href=\"#DejaVuSans-30\"/>\n       <use xlink:href=\"#DejaVuSans-2e\" x=\"63.623047\"/>\n       <use xlink:href=\"#DejaVuSans-39\" x=\"95.410156\"/>\n       <use xlink:href=\"#DejaVuSans-38\" x=\"159.033203\"/>\n      </g>\n     </g>\n    </g>\n    <g id=\"ytick_6\">\n     <g id=\"line2d_12\">\n      <g>\n       <use xlink:href=\"#m153f348560\" x=\"36.465625\" y=\"57.662156\" style=\"stroke: #000000; stroke-width: 0.8\"/>\n      </g>\n     </g>\n     <g id=\"text_12\">\n      <!-- 0.99 -->\n      <g transform=\"translate(7.2 61.461374) scale(0.1 -0.1)\">\n       <use xlink:href=\"#DejaVuSans-30\"/>\n       <use xlink:href=\"#DejaVuSans-2e\" x=\"63.623047\"/>\n       <use xlink:href=\"#DejaVuSans-39\" x=\"95.410156\"/>\n       <use xlink:href=\"#DejaVuSans-39\" x=\"159.033203\"/>\n      </g>\n     </g>\n    </g>\n    <g id=\"ytick_7\">\n     <g id=\"line2d_13\">\n      <g>\n       <use xlink:href=\"#m153f348560\" x=\"36.465625\" y=\"19.296\" style=\"stroke: #000000; stroke-width: 0.8\"/>\n      </g>\n     </g>\n     <g id=\"text_13\">\n      <!-- 1.00 -->\n      <g transform=\"translate(7.2 23.095219) scale(0.1 -0.1)\">\n       <use xlink:href=\"#DejaVuSans-31\"/>\n       <use xlink:href=\"#DejaVuSans-2e\" x=\"63.623047\"/>\n       <use xlink:href=\"#DejaVuSans-30\" x=\"95.410156\"/>\n       <use xlink:href=\"#DejaVuSans-30\" x=\"159.033203\"/>\n      </g>\n     </g>\n    </g>\n   </g>\n   <g id=\"line2d_14\">\n    <path d=\"M 52.698352 261.216 \nL 55.977691 101.854321 \nL 59.25703 71.161334 \nL 62.536369 59.580516 \nL 65.815708 50.912626 \nL 69.095046 41.107966 \nL 72.374385 39.971197 \nL 75.653724 32.297836 \nL 78.933063 29.24267 \nL 82.212402 26.827122 \nL 85.491741 24.908725 \nL 88.77108 28.958649 \nL 92.050418 24.411574 \nL 95.329757 24.411574 \nL 98.609096 23.914195 \nL 101.888435 24.269335 \nL 105.167774 22.706306 \nL 108.447113 22.493177 \nL 111.726451 23.132566 \nL 115.00579 19.65114 \nL 118.285129 19.296 \nL 121.564468 21.285288 \nL 124.843807 26.827122 \nL 128.123146 22.919436 \nL 131.402485 21.782667 \nL 134.681823 19.50913 \nL 137.961162 21.001268 \nL 141.240501 23.843075 \nL 144.51984 21.001268 \nL 147.799179 19.864499 \nL 151.078518 19.296 \nL 154.357856 20.077629 \nL 157.637195 26.542873 \nL 160.916534 20.574779 \nL 164.195873 19.36712 \nL 167.475212 19.296 \nL 170.754551 24.198444 \nL 174.033889 21.569538 \nL 177.313228 20.432769 \nL 180.592567 20.574779 \nL 183.871906 20.148519 \nL 187.151245 20.717018 \nL 190.430584 20.361649 \nL 193.709923 19.296 \nL 196.989261 21.995797 \nL 200.2686 22.919436 \nL 203.547939 21.285288 \nL 206.827278 19.36712 \nL 210.106617 19.296 \nL 213.385956 19.296 \nL 216.665294 19.296 \nL 219.944633 22.564296 \nL 223.223972 21.214397 \nL 226.503311 19.50913 \nL 229.78265 19.43801 \nL 233.061989 19.296 \nL 236.341327 19.296 \nL 239.620666 19.296 \nL 242.900005 19.296 \nL 246.179344 19.296 \nL 249.458683 19.296 \nL 252.738022 19.296 \nL 256.017361 19.296 \nL 259.296699 19.296 \nL 262.576038 19.296 \nL 265.855377 19.296 \nL 269.134716 19.296 \nL 272.414055 19.296 \nL 275.693394 19.296 \nL 278.972732 19.296 \nL 282.252071 19.296 \nL 285.53141 19.296 \nL 288.810749 19.296 \nL 292.090088 19.296 \nL 295.369427 19.296 \nL 298.648765 19.296 \nL 301.928104 19.296 \nL 305.207443 19.296 \nL 308.486782 19.296 \nL 311.766121 19.296 \nL 315.04546 19.296 \nL 318.324799 19.296 \nL 321.604137 19.296 \nL 324.883476 19.296 \nL 328.162815 19.296 \nL 331.442154 19.296 \nL 334.721493 19.296 \nL 338.000832 19.296 \nL 341.28017 19.296 \nL 344.559509 19.296 \nL 347.838848 19.296 \nL 351.118187 19.296 \nL 354.397526 19.296 \nL 357.676865 19.296 \nL 360.956204 19.296 \nL 364.235542 19.296 \nL 367.514881 19.296 \nL 370.79422 19.296 \nL 374.073559 19.296 \nL 377.352898 19.296 \n\" clip-path=\"url(#paa9d4a33e5)\" style=\"fill: none; stroke: #1f77b4; stroke-width: 1.5; stroke-linecap: square\"/>\n   </g>\n   <g id=\"line2d_15\">\n    <path d=\"M 52.698352 116.490305 \nL 55.977691 96.028238 \nL 59.25703 72.369223 \nL 62.536369 66.614259 \nL 65.815708 58.301509 \nL 69.095046 46.79181 \nL 72.374385 51.267766 \nL 75.653724 37.20028 \nL 78.933063 42.955015 \nL 82.212402 25.050964 \nL 85.491741 30.805927 \nL 88.77108 39.118449 \nL 92.050418 28.24814 \nL 95.329757 34.003104 \nL 98.609096 24.411574 \nL 101.888435 37.20028 \nL 105.167774 21.214397 \nL 108.447113 25.690353 \nL 111.726451 20.574779 \nL 115.00579 19.296 \nL 118.285129 19.296 \nL 121.564468 25.690353 \nL 124.843807 25.690353 \nL 128.123146 22.493177 \nL 131.402485 20.574779 \nL 134.681823 19.93539 \nL 137.961162 23.771956 \nL 141.240501 21.853787 \nL 144.51984 21.214397 \nL 147.799179 19.93539 \nL 151.078518 19.93539 \nL 154.357856 24.411574 \nL 157.637195 24.411574 \nL 160.916534 20.574779 \nL 164.195873 19.296 \nL 167.475212 19.296 \nL 170.754551 23.771956 \nL 174.033889 19.296 \nL 177.313228 21.214397 \nL 180.592567 19.93539 \nL 183.871906 22.493177 \nL 187.151245 20.574779 \nL 190.430584 19.296 \nL 193.709923 19.296 \nL 196.989261 25.050964 \nL 200.2686 28.88753 \nL 203.547939 19.93539 \nL 206.827278 19.296 \nL 210.106617 19.296 \nL 213.385956 19.296 \nL 216.665294 19.296 \nL 219.944633 37.83967 \nL 223.223972 19.93539 \nL 226.503311 20.574779 \nL 229.78265 19.296 \nL 233.061989 19.296 \nL 236.341327 19.296 \nL 239.620666 19.296 \nL 242.900005 19.296 \nL 246.179344 19.296 \nL 249.458683 19.296 \nL 252.738022 19.296 \nL 256.017361 19.296 \nL 259.296699 19.296 \nL 262.576038 19.296 \nL 265.855377 19.296 \nL 269.134716 19.296 \nL 272.414055 19.296 \nL 275.693394 19.296 \nL 278.972732 19.296 \nL 282.252071 19.296 \nL 285.53141 19.296 \nL 288.810749 19.296 \nL 292.090088 19.296 \nL 295.369427 19.296 \nL 298.648765 19.296 \nL 301.928104 19.296 \nL 305.207443 19.296 \nL 308.486782 19.296 \nL 311.766121 19.296 \nL 315.04546 19.296 \nL 318.324799 19.296 \nL 321.604137 19.296 \nL 324.883476 19.296 \nL 328.162815 19.296 \nL 331.442154 19.296 \nL 334.721493 19.296 \nL 338.000832 19.296 \nL 341.28017 19.296 \nL 344.559509 19.296 \nL 347.838848 19.296 \nL 351.118187 19.296 \nL 354.397526 19.296 \nL 357.676865 19.296 \nL 360.956204 19.296 \nL 364.235542 19.296 \nL 367.514881 19.296 \nL 370.79422 19.296 \nL 374.073559 19.296 \nL 377.352898 19.296 \n\" clip-path=\"url(#paa9d4a33e5)\" style=\"fill: none; stroke: #ff7f0e; stroke-width: 1.5; stroke-linecap: square\"/>\n   </g>\n   <g id=\"patch_3\">\n    <path d=\"M 36.465625 273.312 \nL 36.465625 7.2 \n\" style=\"fill: none; stroke: #000000; stroke-width: 0.8; stroke-linejoin: miter; stroke-linecap: square\"/>\n   </g>\n   <g id=\"patch_4\">\n    <path d=\"M 393.585625 273.312 \nL 393.585625 7.2 \n\" style=\"fill: none; stroke: #000000; stroke-width: 0.8; stroke-linejoin: miter; stroke-linecap: square\"/>\n   </g>\n   <g id=\"patch_5\">\n    <path d=\"M 36.465625 273.312 \nL 393.585625 273.312 \n\" style=\"fill: none; stroke: #000000; stroke-width: 0.8; stroke-linejoin: miter; stroke-linecap: square\"/>\n   </g>\n   <g id=\"patch_6\">\n    <path d=\"M 36.465625 7.2 \nL 393.585625 7.2 \n\" style=\"fill: none; stroke: #000000; stroke-width: 0.8; stroke-linejoin: miter; stroke-linecap: square\"/>\n   </g>\n   <g id=\"legend_1\">\n    <g id=\"patch_7\">\n     <path d=\"M 289.641875 268.312 \nL 386.585625 268.312 \nQ 388.585625 268.312 388.585625 266.312 \nL 388.585625 237.677625 \nQ 388.585625 235.677625 386.585625 235.677625 \nL 289.641875 235.677625 \nQ 287.641875 235.677625 287.641875 237.677625 \nL 287.641875 266.312 \nQ 287.641875 268.312 289.641875 268.312 \nz\n\" style=\"fill: #ffffff; opacity: 0.8; stroke: #cccccc; stroke-linejoin: miter\"/>\n    </g>\n    <g id=\"line2d_16\">\n     <path d=\"M 291.641875 243.776063 \nL 301.641875 243.776063 \nL 311.641875 243.776063 \n\" style=\"fill: none; stroke: #1f77b4; stroke-width: 1.5; stroke-linecap: square\"/>\n    </g>\n    <g id=\"text_14\">\n     <!-- accuracy -->\n     <g transform=\"translate(319.641875 247.276063) scale(0.1 -0.1)\">\n      <defs>\n       <path id=\"DejaVuSans-61\" d=\"M 2194 1759 \nQ 1497 1759 1228 1600 \nQ 959 1441 959 1056 \nQ 959 750 1161 570 \nQ 1363 391 1709 391 \nQ 2188 391 2477 730 \nQ 2766 1069 2766 1631 \nL 2766 1759 \nL 2194 1759 \nz\nM 3341 1997 \nL 3341 0 \nL 2766 0 \nL 2766 531 \nQ 2569 213 2275 61 \nQ 1981 -91 1556 -91 \nQ 1019 -91 701 211 \nQ 384 513 384 1019 \nQ 384 1609 779 1909 \nQ 1175 2209 1959 2209 \nL 2766 2209 \nL 2766 2266 \nQ 2766 2663 2505 2880 \nQ 2244 3097 1772 3097 \nQ 1472 3097 1187 3025 \nQ 903 2953 641 2809 \nL 641 3341 \nQ 956 3463 1253 3523 \nQ 1550 3584 1831 3584 \nQ 2591 3584 2966 3190 \nQ 3341 2797 3341 1997 \nz\n\" transform=\"scale(0.015625)\"/>\n       <path id=\"DejaVuSans-63\" d=\"M 3122 3366 \nL 3122 2828 \nQ 2878 2963 2633 3030 \nQ 2388 3097 2138 3097 \nQ 1578 3097 1268 2742 \nQ 959 2388 959 1747 \nQ 959 1106 1268 751 \nQ 1578 397 2138 397 \nQ 2388 397 2633 464 \nQ 2878 531 3122 666 \nL 3122 134 \nQ 2881 22 2623 -34 \nQ 2366 -91 2075 -91 \nQ 1284 -91 818 406 \nQ 353 903 353 1747 \nQ 353 2603 823 3093 \nQ 1294 3584 2113 3584 \nQ 2378 3584 2631 3529 \nQ 2884 3475 3122 3366 \nz\n\" transform=\"scale(0.015625)\"/>\n       <path id=\"DejaVuSans-75\" d=\"M 544 1381 \nL 544 3500 \nL 1119 3500 \nL 1119 1403 \nQ 1119 906 1312 657 \nQ 1506 409 1894 409 \nQ 2359 409 2629 706 \nQ 2900 1003 2900 1516 \nL 2900 3500 \nL 3475 3500 \nL 3475 0 \nL 2900 0 \nL 2900 538 \nQ 2691 219 2414 64 \nQ 2138 -91 1772 -91 \nQ 1169 -91 856 284 \nQ 544 659 544 1381 \nz\nM 1991 3584 \nL 1991 3584 \nz\n\" transform=\"scale(0.015625)\"/>\n       <path id=\"DejaVuSans-72\" d=\"M 2631 2963 \nQ 2534 3019 2420 3045 \nQ 2306 3072 2169 3072 \nQ 1681 3072 1420 2755 \nQ 1159 2438 1159 1844 \nL 1159 0 \nL 581 0 \nL 581 3500 \nL 1159 3500 \nL 1159 2956 \nQ 1341 3275 1631 3429 \nQ 1922 3584 2338 3584 \nQ 2397 3584 2469 3576 \nQ 2541 3569 2628 3553 \nL 2631 2963 \nz\n\" transform=\"scale(0.015625)\"/>\n       <path id=\"DejaVuSans-79\" d=\"M 2059 -325 \nQ 1816 -950 1584 -1140 \nQ 1353 -1331 966 -1331 \nL 506 -1331 \nL 506 -850 \nL 844 -850 \nQ 1081 -850 1212 -737 \nQ 1344 -625 1503 -206 \nL 1606 56 \nL 191 3500 \nL 800 3500 \nL 1894 763 \nL 2988 3500 \nL 3597 3500 \nL 2059 -325 \nz\n\" transform=\"scale(0.015625)\"/>\n      </defs>\n      <use xlink:href=\"#DejaVuSans-61\"/>\n      <use xlink:href=\"#DejaVuSans-63\" x=\"61.279297\"/>\n      <use xlink:href=\"#DejaVuSans-63\" x=\"116.259766\"/>\n      <use xlink:href=\"#DejaVuSans-75\" x=\"171.240234\"/>\n      <use xlink:href=\"#DejaVuSans-72\" x=\"234.619141\"/>\n      <use xlink:href=\"#DejaVuSans-61\" x=\"275.732422\"/>\n      <use xlink:href=\"#DejaVuSans-63\" x=\"337.011719\"/>\n      <use xlink:href=\"#DejaVuSans-79\" x=\"391.992188\"/>\n     </g>\n    </g>\n    <g id=\"line2d_17\">\n     <path d=\"M 291.641875 258.454188 \nL 301.641875 258.454188 \nL 311.641875 258.454188 \n\" style=\"fill: none; stroke: #ff7f0e; stroke-width: 1.5; stroke-linecap: square\"/>\n    </g>\n    <g id=\"text_15\">\n     <!-- val_accuracy -->\n     <g transform=\"translate(319.641875 261.954188) scale(0.1 -0.1)\">\n      <defs>\n       <path id=\"DejaVuSans-76\" d=\"M 191 3500 \nL 800 3500 \nL 1894 563 \nL 2988 3500 \nL 3597 3500 \nL 2284 0 \nL 1503 0 \nL 191 3500 \nz\n\" transform=\"scale(0.015625)\"/>\n       <path id=\"DejaVuSans-6c\" d=\"M 603 4863 \nL 1178 4863 \nL 1178 0 \nL 603 0 \nL 603 4863 \nz\n\" transform=\"scale(0.015625)\"/>\n       <path id=\"DejaVuSans-5f\" d=\"M 3263 -1063 \nL 3263 -1509 \nL -63 -1509 \nL -63 -1063 \nL 3263 -1063 \nz\n\" transform=\"scale(0.015625)\"/>\n      </defs>\n      <use xlink:href=\"#DejaVuSans-76\"/>\n      <use xlink:href=\"#DejaVuSans-61\" x=\"59.179688\"/>\n      <use xlink:href=\"#DejaVuSans-6c\" x=\"120.458984\"/>\n      <use xlink:href=\"#DejaVuSans-5f\" x=\"148.242188\"/>\n      <use xlink:href=\"#DejaVuSans-61\" x=\"198.242188\"/>\n      <use xlink:href=\"#DejaVuSans-63\" x=\"259.521484\"/>\n      <use xlink:href=\"#DejaVuSans-63\" x=\"314.501953\"/>\n      <use xlink:href=\"#DejaVuSans-75\" x=\"369.482422\"/>\n      <use xlink:href=\"#DejaVuSans-72\" x=\"432.861328\"/>\n      <use xlink:href=\"#DejaVuSans-61\" x=\"473.974609\"/>\n      <use xlink:href=\"#DejaVuSans-63\" x=\"535.253906\"/>\n      <use xlink:href=\"#DejaVuSans-79\" x=\"590.234375\"/>\n     </g>\n    </g>\n   </g>\n  </g>\n </g>\n <defs>\n  <clipPath id=\"paa9d4a33e5\">\n   <rect x=\"36.465625\" y=\"7.2\" width=\"357.12\" height=\"266.112\"/>\n  </clipPath>\n </defs>\n</svg>\n"
          },
          "metadata": {}
        }
      ],
      "source": [
        "losses[['accuracy','val_accuracy']].plot()"
      ]
    },
    {
      "cell_type": "markdown",
      "source": [
        "Nhận xét: Qúa trình huấn luyện đạt hiệu quả với độ chính xác cao, và không bị overfitting hay underfitting."
      ],
      "metadata": {
        "id": "I-wRngW06sHj"
      }
    },
    {
      "cell_type": "markdown",
      "metadata": {
        "id": "ApPXCsQmFhTq"
      },
      "source": [
        "## Store model"
      ]
    },
    {
      "cell_type": "code",
      "execution_count": null,
      "metadata": {
        "id": "X16ogRZb5MRh"
      },
      "outputs": [],
      "source": [
        "# Save the entire model using HDF5 format\n",
        "model.save('/content/drive/MyDrive/AI/model.keras')"
      ]
    },
    {
      "cell_type": "code",
      "execution_count": null,
      "metadata": {
        "id": "MG_v2hlwN-Tz"
      },
      "outputs": [],
      "source": [
        "# Restore the model\n",
        "restored_model = tf.keras.models.load_model('/content/drive/MyDrive/AI/model.keras')\n",
        "# Use the restored model for predictions or further training"
      ]
    },
    {
      "cell_type": "code",
      "execution_count": null,
      "metadata": {
        "colab": {
          "base_uri": "https://localhost:8080/"
        },
        "id": "Efs6H1fyODUn",
        "outputId": "d28d8fbc-4d05-421b-8064-1a8dd4acca78"
      },
      "outputs": [
        {
          "output_type": "stream",
          "name": "stdout",
          "text": [
            "Model: \"sequential_1\"\n",
            "_________________________________________________________________\n",
            " Layer (type)                Output Shape              Param #   \n",
            "=================================================================\n",
            " conv2d_1 (Conv2D)           (None, 26, 26, 32)        320       \n",
            "                                                                 \n",
            " max_pooling2d_1 (MaxPoolin  (None, 13, 13, 32)        0         \n",
            " g2D)                                                            \n",
            "                                                                 \n",
            " flatten_1 (Flatten)         (None, 5408)              0         \n",
            "                                                                 \n",
            " dense_2 (Dense)             (None, 128)               692352    \n",
            "                                                                 \n",
            " dense_3 (Dense)             (None, 10)                1290      \n",
            "                                                                 \n",
            "=================================================================\n",
            "Total params: 693962 (2.65 MB)\n",
            "Trainable params: 693962 (2.65 MB)\n",
            "Non-trainable params: 0 (0.00 Byte)\n",
            "_________________________________________________________________\n"
          ]
        }
      ],
      "source": [
        "restored_model.summary()"
      ]
    },
    {
      "cell_type": "code",
      "source": [
        "np.argmax(restored_model.predict(test_inputs),axis=1)"
      ],
      "metadata": {
        "colab": {
          "base_uri": "https://localhost:8080/"
        },
        "id": "53QYWygo8ymr",
        "outputId": "3abff431-1603-4e1d-8826-1f06bd50f75e"
      },
      "execution_count": null,
      "outputs": [
        {
          "output_type": "stream",
          "name": "stdout",
          "text": [
            "313/313 [==============================] - 2s 6ms/step\n"
          ]
        },
        {
          "output_type": "execute_result",
          "data": {
            "text/plain": [
              "array([2, 0, 4, ..., 8, 0, 5])"
            ]
          },
          "metadata": {},
          "execution_count": 16
        }
      ]
    },
    {
      "cell_type": "markdown",
      "metadata": {
        "id": "6r96-NbQOJrL"
      },
      "source": [
        "## Store Weight"
      ]
    },
    {
      "cell_type": "code",
      "execution_count": null,
      "metadata": {
        "id": "9TdQE2XqOIMo"
      },
      "outputs": [],
      "source": [
        "# Save the model weights\n",
        "model.save_weights('/content/drive/MyDrive/AI/model_weights.keras')"
      ]
    },
    {
      "cell_type": "code",
      "execution_count": null,
      "metadata": {
        "id": "_Elb1yb7OVS3"
      },
      "outputs": [],
      "source": [
        "# Load the model weights\n",
        "model.load_weights('/content/drive/MyDrive/AI/model_weights.keras')"
      ]
    },
    {
      "cell_type": "markdown",
      "metadata": {
        "id": "Q-FxmiWF1Nb-"
      },
      "source": [
        "## Test the model"
      ]
    },
    {
      "cell_type": "code",
      "execution_count": null,
      "metadata": {
        "colab": {
          "base_uri": "https://localhost:8080/"
        },
        "id": "75cftCT81OtO",
        "outputId": "aaa3ad92-a5e9-4220-a690-8265e2ddf0d6"
      },
      "outputs": [
        {
          "output_type": "stream",
          "name": "stdout",
          "text": [
            "1/1 [==============================] - 3s 3s/step - loss: 0.0967 - accuracy: 0.9891\n"
          ]
        }
      ],
      "source": [
        "test_loss, test_accuracy = model.evaluate(test_data)"
      ]
    },
    {
      "cell_type": "code",
      "execution_count": null,
      "metadata": {
        "colab": {
          "base_uri": "https://localhost:8080/"
        },
        "id": "qjQAuIsd1TMH",
        "outputId": "6a7170bc-dfc8-4fb4-a295-1e2f6b399e38"
      },
      "outputs": [
        {
          "output_type": "stream",
          "name": "stdout",
          "text": [
            "Test loss: 0.10. Test accuracy: 98.91%\n"
          ]
        }
      ],
      "source": [
        "print('Test loss: {0:.2f}. Test accuracy: {1:.2f}%'.format(test_loss, test_accuracy*100.))"
      ]
    },
    {
      "cell_type": "code",
      "execution_count": null,
      "metadata": {
        "colab": {
          "base_uri": "https://localhost:8080/"
        },
        "id": "UN30ENBm5aUx",
        "outputId": "7c3b0399-8e0b-40a4-b31b-24b896161df1"
      },
      "outputs": [
        {
          "output_type": "stream",
          "name": "stdout",
          "text": [
            "313/313 [==============================] - 4s 13ms/step\n"
          ]
        }
      ],
      "source": [
        "yHat = model.predict(test_inputs)"
      ]
    },
    {
      "cell_type": "code",
      "execution_count": null,
      "metadata": {
        "colab": {
          "base_uri": "https://localhost:8080/"
        },
        "id": "AtuEVGBo5p4C",
        "outputId": "969720dd-b442-4826-e26c-94f94e440441"
      },
      "outputs": [
        {
          "output_type": "execute_result",
          "data": {
            "text/plain": [
              "array([[0.0000000e+00, 2.1339460e-37, 9.9999994e-01, ..., 0.0000000e+00,\n",
              "        6.4420332e-34, 0.0000000e+00],\n",
              "       [9.9999994e-01, 0.0000000e+00, 0.0000000e+00, ..., 0.0000000e+00,\n",
              "        4.1413591e-38, 0.0000000e+00],\n",
              "       [0.0000000e+00, 3.0789487e-37, 0.0000000e+00, ..., 4.1046050e-37,\n",
              "        0.0000000e+00, 6.1521840e-29],\n",
              "       ...,\n",
              "       [5.8879112e-34, 0.0000000e+00, 1.0930032e-28, ..., 0.0000000e+00,\n",
              "        9.9999994e-01, 1.6244963e-32],\n",
              "       [9.9999994e-01, 4.4435128e-34, 3.5804990e-28, ..., 7.5059981e-35,\n",
              "        0.0000000e+00, 0.0000000e+00],\n",
              "       [0.0000000e+00, 0.0000000e+00, 0.0000000e+00, ..., 0.0000000e+00,\n",
              "        3.9222423e-25, 2.4855087e-21]], dtype=float32)"
            ]
          },
          "metadata": {},
          "execution_count": 59
        }
      ],
      "source": [
        "yHat"
      ]
    },
    {
      "cell_type": "code",
      "execution_count": null,
      "metadata": {
        "id": "XI3f2dPX6x0R"
      },
      "outputs": [],
      "source": [
        "predictions = np.argmax(yHat,axis=1)"
      ]
    },
    {
      "cell_type": "code",
      "execution_count": null,
      "metadata": {
        "colab": {
          "base_uri": "https://localhost:8080/"
        },
        "id": "RIumEWVX67xg",
        "outputId": "20662511-1641-4dc4-b331-e33ecd15b1bc"
      },
      "outputs": [
        {
          "output_type": "execute_result",
          "data": {
            "text/plain": [
              "array([2, 0, 4, ..., 8, 0, 5])"
            ]
          },
          "metadata": {},
          "execution_count": 61
        }
      ],
      "source": [
        "predictions"
      ]
    },
    {
      "cell_type": "code",
      "execution_count": null,
      "metadata": {
        "colab": {
          "base_uri": "https://localhost:8080/"
        },
        "id": "PbBbZgGM6djq",
        "outputId": "71b0e866-0a0c-49b8-e289-6022b353d307"
      },
      "outputs": [
        {
          "output_type": "execute_result",
          "data": {
            "text/plain": [
              "array([2, 0, 4, ..., 8, 0, 5])"
            ]
          },
          "metadata": {},
          "execution_count": 62
        }
      ],
      "source": [
        "test_targets.numpy()"
      ]
    },
    {
      "cell_type": "code",
      "execution_count": null,
      "metadata": {
        "colab": {
          "base_uri": "https://localhost:8080/"
        },
        "id": "vH8HTdYEOzQG",
        "outputId": "d1efd8f3-8deb-4f13-a819-1144c8160445"
      },
      "outputs": [
        {
          "output_type": "stream",
          "name": "stdout",
          "text": [
            "              precision    recall  f1-score   support\n",
            "\n",
            "           0       0.99      0.99      0.99       980\n",
            "           1       0.99      0.99      0.99      1135\n",
            "           2       0.99      0.99      0.99      1032\n",
            "           3       0.99      0.99      0.99      1010\n",
            "           4       0.99      1.00      0.99       982\n",
            "           5       0.99      0.99      0.99       892\n",
            "           6       0.99      0.99      0.99       958\n",
            "           7       0.99      0.99      0.99      1028\n",
            "           8       0.99      0.99      0.99       974\n",
            "           9       0.99      0.98      0.99      1009\n",
            "\n",
            "    accuracy                           0.99     10000\n",
            "   macro avg       0.99      0.99      0.99     10000\n",
            "weighted avg       0.99      0.99      0.99     10000\n",
            "\n"
          ]
        }
      ],
      "source": [
        "print(classification_report(test_targets.numpy(),predictions))"
      ]
    },
    {
      "cell_type": "markdown",
      "source": [
        "Nhận xét: Độ chính xác trung bình với tập test của mô hình khá cao khoảng 0.99. Các tham số khác precision, recall, f-score cũng khá cao. Chứng tỏ mô hình được train hiệu quả."
      ],
      "metadata": {
        "id": "3yNhVJ0V8fV0"
      }
    },
    {
      "cell_type": "code",
      "execution_count": null,
      "metadata": {
        "colab": {
          "base_uri": "https://localhost:8080/"
        },
        "id": "hoq2x4bq7CMq",
        "outputId": "dad00006-4b88-49e5-8fee-006ee6383431"
      },
      "outputs": [
        {
          "output_type": "execute_result",
          "data": {
            "text/plain": [
              "array([[ 974,    0,    3,    0,    0,    0,    2,    1,    0,    0],\n",
              "       [   0, 1127,    0,    3,    0,    0,    3,    1,    1,    0],\n",
              "       [   2,    2, 1018,    0,    2,    0,    1,    4,    2,    1],\n",
              "       [   0,    0,    2, 1003,    0,    3,    0,    1,    1,    0],\n",
              "       [   0,    0,    0,    0,  978,    0,    0,    1,    0,    3],\n",
              "       [   0,    0,    1,    7,    0,  881,    1,    0,    2,    0],\n",
              "       [   5,    3,    0,    0,    1,    2,  945,    0,    2,    0],\n",
              "       [   1,    1,    6,    0,    0,    0,    0, 1016,    2,    2],\n",
              "       [   4,    0,    1,    2,    0,    2,    1,    1,  960,    3],\n",
              "       [   1,    2,    0,    1,    9,    4,    0,    2,    1,  989]])"
            ]
          },
          "metadata": {},
          "execution_count": 64
        }
      ],
      "source": [
        "confusion_matrix(test_targets.numpy(),predictions)"
      ]
    },
    {
      "cell_type": "code",
      "execution_count": null,
      "metadata": {
        "colab": {
          "base_uri": "https://localhost:8080/",
          "height": 453
        },
        "id": "8GniDY537X4U",
        "outputId": "ec37bf3b-ebd6-414b-e85a-3943ff62d1ad"
      },
      "outputs": [
        {
          "output_type": "execute_result",
          "data": {
            "text/plain": [
              "<sklearn.metrics._plot.confusion_matrix.ConfusionMatrixDisplay at 0x7fbd15aa7d90>"
            ]
          },
          "metadata": {},
          "execution_count": 65
        },
        {
          "output_type": "display_data",
          "data": {
            "text/plain": [
              "<Figure size 640x480 with 2 Axes>"
            ],
            "image/svg+xml": "<?xml version=\"1.0\" encoding=\"utf-8\" standalone=\"no\"?>\n<!DOCTYPE svg PUBLIC \"-//W3C//DTD SVG 1.1//EN\"\n  \"http://www.w3.org/Graphics/SVG/1.1/DTD/svg11.dtd\">\n<svg xmlns:xlink=\"http://www.w3.org/1999/xlink\" width=\"371.164225pt\" height=\"310.86825pt\" viewBox=\"0 0 371.164225 310.86825\" xmlns=\"http://www.w3.org/2000/svg\" version=\"1.1\">\n <metadata>\n  <rdf:RDF xmlns:dc=\"http://purl.org/dc/elements/1.1/\" xmlns:cc=\"http://creativecommons.org/ns#\" xmlns:rdf=\"http://www.w3.org/1999/02/22-rdf-syntax-ns#\">\n   <cc:Work>\n    <dc:type rdf:resource=\"http://purl.org/dc/dcmitype/StillImage\"/>\n    <dc:date>2024-06-12T16:09:00.287255</dc:date>\n    <dc:format>image/svg+xml</dc:format>\n    <dc:creator>\n     <cc:Agent>\n      <dc:title>Matplotlib v3.7.1, https://matplotlib.org/</dc:title>\n     </cc:Agent>\n    </dc:creator>\n   </cc:Work>\n  </rdf:RDF>\n </metadata>\n <defs>\n  <style type=\"text/css\">*{stroke-linejoin: round; stroke-linecap: butt}</style>\n </defs>\n <g id=\"figure_1\">\n  <g id=\"patch_1\">\n   <path d=\"M 0 310.86825 \nL 371.164225 310.86825 \nL 371.164225 0 \nL 0 0 \nz\n\" style=\"fill: #ffffff\"/>\n  </g>\n  <g id=\"axes_1\">\n   <g id=\"patch_2\">\n    <path d=\"M 34.240625 273.312 \nL 300.352625 273.312 \nL 300.352625 7.2 \nL 34.240625 7.2 \nz\n\" style=\"fill: #ffffff\"/>\n   </g>\n   <g clip-path=\"url(#p4323b277d2)\">\n    <image xlink:href=\"data:image/png;base64,\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\" id=\"image04d986f32d\" transform=\"scale(1 -1) translate(0 -266.4)\" x=\"34.240625\" y=\"-6.912\" width=\"266.4\" height=\"266.4\"/>\n   </g>\n   <g id=\"matplotlib.axis_1\">\n    <g id=\"xtick_1\">\n     <g id=\"line2d_1\">\n      <defs>\n       <path id=\"mc9446226ba\" d=\"M 0 0 \nL 0 3.5 \n\" style=\"stroke: #000000; stroke-width: 0.8\"/>\n      </defs>\n      <g>\n       <use xlink:href=\"#mc9446226ba\" x=\"47.546225\" y=\"273.312\" style=\"stroke: #000000; stroke-width: 0.8\"/>\n      </g>\n     </g>\n     <g id=\"text_1\">\n      <!-- 0 -->\n      <g transform=\"translate(44.364975 287.910438) scale(0.1 -0.1)\">\n       <defs>\n        <path id=\"DejaVuSans-30\" d=\"M 2034 4250 \nQ 1547 4250 1301 3770 \nQ 1056 3291 1056 2328 \nQ 1056 1369 1301 889 \nQ 1547 409 2034 409 \nQ 2525 409 2770 889 \nQ 3016 1369 3016 2328 \nQ 3016 3291 2770 3770 \nQ 2525 4250 2034 4250 \nz\nM 2034 4750 \nQ 2819 4750 3233 4129 \nQ 3647 3509 3647 2328 \nQ 3647 1150 3233 529 \nQ 2819 -91 2034 -91 \nQ 1250 -91 836 529 \nQ 422 1150 422 2328 \nQ 422 3509 836 4129 \nQ 1250 4750 2034 4750 \nz\n\" transform=\"scale(0.015625)\"/>\n       </defs>\n       <use xlink:href=\"#DejaVuSans-30\"/>\n      </g>\n     </g>\n    </g>\n    <g id=\"xtick_2\">\n     <g id=\"line2d_2\">\n      <g>\n       <use xlink:href=\"#mc9446226ba\" x=\"74.157425\" y=\"273.312\" style=\"stroke: #000000; stroke-width: 0.8\"/>\n      </g>\n     </g>\n     <g id=\"text_2\">\n      <!-- 1 -->\n      <g transform=\"translate(70.976175 287.910438) scale(0.1 -0.1)\">\n       <defs>\n        <path id=\"DejaVuSans-31\" d=\"M 794 531 \nL 1825 531 \nL 1825 4091 \nL 703 3866 \nL 703 4441 \nL 1819 4666 \nL 2450 4666 \nL 2450 531 \nL 3481 531 \nL 3481 0 \nL 794 0 \nL 794 531 \nz\n\" transform=\"scale(0.015625)\"/>\n       </defs>\n       <use xlink:href=\"#DejaVuSans-31\"/>\n      </g>\n     </g>\n    </g>\n    <g id=\"xtick_3\">\n     <g id=\"line2d_3\">\n      <g>\n       <use xlink:href=\"#mc9446226ba\" x=\"100.768625\" y=\"273.312\" style=\"stroke: #000000; stroke-width: 0.8\"/>\n      </g>\n     </g>\n     <g id=\"text_3\">\n      <!-- 2 -->\n      <g transform=\"translate(97.587375 287.910438) scale(0.1 -0.1)\">\n       <defs>\n        <path id=\"DejaVuSans-32\" d=\"M 1228 531 \nL 3431 531 \nL 3431 0 \nL 469 0 \nL 469 531 \nQ 828 903 1448 1529 \nQ 2069 2156 2228 2338 \nQ 2531 2678 2651 2914 \nQ 2772 3150 2772 3378 \nQ 2772 3750 2511 3984 \nQ 2250 4219 1831 4219 \nQ 1534 4219 1204 4116 \nQ 875 4013 500 3803 \nL 500 4441 \nQ 881 4594 1212 4672 \nQ 1544 4750 1819 4750 \nQ 2544 4750 2975 4387 \nQ 3406 4025 3406 3419 \nQ 3406 3131 3298 2873 \nQ 3191 2616 2906 2266 \nQ 2828 2175 2409 1742 \nQ 1991 1309 1228 531 \nz\n\" transform=\"scale(0.015625)\"/>\n       </defs>\n       <use xlink:href=\"#DejaVuSans-32\"/>\n      </g>\n     </g>\n    </g>\n    <g id=\"xtick_4\">\n     <g id=\"line2d_4\">\n      <g>\n       <use xlink:href=\"#mc9446226ba\" x=\"127.379825\" y=\"273.312\" style=\"stroke: #000000; stroke-width: 0.8\"/>\n      </g>\n     </g>\n     <g id=\"text_4\">\n      <!-- 3 -->\n      <g transform=\"translate(124.198575 287.910438) scale(0.1 -0.1)\">\n       <defs>\n        <path id=\"DejaVuSans-33\" d=\"M 2597 2516 \nQ 3050 2419 3304 2112 \nQ 3559 1806 3559 1356 \nQ 3559 666 3084 287 \nQ 2609 -91 1734 -91 \nQ 1441 -91 1130 -33 \nQ 819 25 488 141 \nL 488 750 \nQ 750 597 1062 519 \nQ 1375 441 1716 441 \nQ 2309 441 2620 675 \nQ 2931 909 2931 1356 \nQ 2931 1769 2642 2001 \nQ 2353 2234 1838 2234 \nL 1294 2234 \nL 1294 2753 \nL 1863 2753 \nQ 2328 2753 2575 2939 \nQ 2822 3125 2822 3475 \nQ 2822 3834 2567 4026 \nQ 2313 4219 1838 4219 \nQ 1578 4219 1281 4162 \nQ 984 4106 628 3988 \nL 628 4550 \nQ 988 4650 1302 4700 \nQ 1616 4750 1894 4750 \nQ 2613 4750 3031 4423 \nQ 3450 4097 3450 3541 \nQ 3450 3153 3228 2886 \nQ 3006 2619 2597 2516 \nz\n\" transform=\"scale(0.015625)\"/>\n       </defs>\n       <use xlink:href=\"#DejaVuSans-33\"/>\n      </g>\n     </g>\n    </g>\n    <g id=\"xtick_5\">\n     <g id=\"line2d_5\">\n      <g>\n       <use xlink:href=\"#mc9446226ba\" x=\"153.991025\" y=\"273.312\" style=\"stroke: #000000; stroke-width: 0.8\"/>\n      </g>\n     </g>\n     <g id=\"text_5\">\n      <!-- 4 -->\n      <g transform=\"translate(150.809775 287.910438) scale(0.1 -0.1)\">\n       <defs>\n        <path id=\"DejaVuSans-34\" d=\"M 2419 4116 \nL 825 1625 \nL 2419 1625 \nL 2419 4116 \nz\nM 2253 4666 \nL 3047 4666 \nL 3047 1625 \nL 3713 1625 \nL 3713 1100 \nL 3047 1100 \nL 3047 0 \nL 2419 0 \nL 2419 1100 \nL 313 1100 \nL 313 1709 \nL 2253 4666 \nz\n\" transform=\"scale(0.015625)\"/>\n       </defs>\n       <use xlink:href=\"#DejaVuSans-34\"/>\n      </g>\n     </g>\n    </g>\n    <g id=\"xtick_6\">\n     <g id=\"line2d_6\">\n      <g>\n       <use xlink:href=\"#mc9446226ba\" x=\"180.602225\" y=\"273.312\" style=\"stroke: #000000; stroke-width: 0.8\"/>\n      </g>\n     </g>\n     <g id=\"text_6\">\n      <!-- 5 -->\n      <g transform=\"translate(177.420975 287.910438) scale(0.1 -0.1)\">\n       <defs>\n        <path id=\"DejaVuSans-35\" d=\"M 691 4666 \nL 3169 4666 \nL 3169 4134 \nL 1269 4134 \nL 1269 2991 \nQ 1406 3038 1543 3061 \nQ 1681 3084 1819 3084 \nQ 2600 3084 3056 2656 \nQ 3513 2228 3513 1497 \nQ 3513 744 3044 326 \nQ 2575 -91 1722 -91 \nQ 1428 -91 1123 -41 \nQ 819 9 494 109 \nL 494 744 \nQ 775 591 1075 516 \nQ 1375 441 1709 441 \nQ 2250 441 2565 725 \nQ 2881 1009 2881 1497 \nQ 2881 1984 2565 2268 \nQ 2250 2553 1709 2553 \nQ 1456 2553 1204 2497 \nQ 953 2441 691 2322 \nL 691 4666 \nz\n\" transform=\"scale(0.015625)\"/>\n       </defs>\n       <use xlink:href=\"#DejaVuSans-35\"/>\n      </g>\n     </g>\n    </g>\n    <g id=\"xtick_7\">\n     <g id=\"line2d_7\">\n      <g>\n       <use xlink:href=\"#mc9446226ba\" x=\"207.213425\" y=\"273.312\" style=\"stroke: #000000; stroke-width: 0.8\"/>\n      </g>\n     </g>\n     <g id=\"text_7\">\n      <!-- 6 -->\n      <g transform=\"translate(204.032175 287.910438) scale(0.1 -0.1)\">\n       <defs>\n        <path id=\"DejaVuSans-36\" d=\"M 2113 2584 \nQ 1688 2584 1439 2293 \nQ 1191 2003 1191 1497 \nQ 1191 994 1439 701 \nQ 1688 409 2113 409 \nQ 2538 409 2786 701 \nQ 3034 994 3034 1497 \nQ 3034 2003 2786 2293 \nQ 2538 2584 2113 2584 \nz\nM 3366 4563 \nL 3366 3988 \nQ 3128 4100 2886 4159 \nQ 2644 4219 2406 4219 \nQ 1781 4219 1451 3797 \nQ 1122 3375 1075 2522 \nQ 1259 2794 1537 2939 \nQ 1816 3084 2150 3084 \nQ 2853 3084 3261 2657 \nQ 3669 2231 3669 1497 \nQ 3669 778 3244 343 \nQ 2819 -91 2113 -91 \nQ 1303 -91 875 529 \nQ 447 1150 447 2328 \nQ 447 3434 972 4092 \nQ 1497 4750 2381 4750 \nQ 2619 4750 2861 4703 \nQ 3103 4656 3366 4563 \nz\n\" transform=\"scale(0.015625)\"/>\n       </defs>\n       <use xlink:href=\"#DejaVuSans-36\"/>\n      </g>\n     </g>\n    </g>\n    <g id=\"xtick_8\">\n     <g id=\"line2d_8\">\n      <g>\n       <use xlink:href=\"#mc9446226ba\" x=\"233.824625\" y=\"273.312\" style=\"stroke: #000000; stroke-width: 0.8\"/>\n      </g>\n     </g>\n     <g id=\"text_8\">\n      <!-- 7 -->\n      <g transform=\"translate(230.643375 287.910438) scale(0.1 -0.1)\">\n       <defs>\n        <path id=\"DejaVuSans-37\" d=\"M 525 4666 \nL 3525 4666 \nL 3525 4397 \nL 1831 0 \nL 1172 0 \nL 2766 4134 \nL 525 4134 \nL 525 4666 \nz\n\" transform=\"scale(0.015625)\"/>\n       </defs>\n       <use xlink:href=\"#DejaVuSans-37\"/>\n      </g>\n     </g>\n    </g>\n    <g id=\"xtick_9\">\n     <g id=\"line2d_9\">\n      <g>\n       <use xlink:href=\"#mc9446226ba\" x=\"260.435825\" y=\"273.312\" style=\"stroke: #000000; stroke-width: 0.8\"/>\n      </g>\n     </g>\n     <g id=\"text_9\">\n      <!-- 8 -->\n      <g transform=\"translate(257.254575 287.910438) scale(0.1 -0.1)\">\n       <defs>\n        <path id=\"DejaVuSans-38\" d=\"M 2034 2216 \nQ 1584 2216 1326 1975 \nQ 1069 1734 1069 1313 \nQ 1069 891 1326 650 \nQ 1584 409 2034 409 \nQ 2484 409 2743 651 \nQ 3003 894 3003 1313 \nQ 3003 1734 2745 1975 \nQ 2488 2216 2034 2216 \nz\nM 1403 2484 \nQ 997 2584 770 2862 \nQ 544 3141 544 3541 \nQ 544 4100 942 4425 \nQ 1341 4750 2034 4750 \nQ 2731 4750 3128 4425 \nQ 3525 4100 3525 3541 \nQ 3525 3141 3298 2862 \nQ 3072 2584 2669 2484 \nQ 3125 2378 3379 2068 \nQ 3634 1759 3634 1313 \nQ 3634 634 3220 271 \nQ 2806 -91 2034 -91 \nQ 1263 -91 848 271 \nQ 434 634 434 1313 \nQ 434 1759 690 2068 \nQ 947 2378 1403 2484 \nz\nM 1172 3481 \nQ 1172 3119 1398 2916 \nQ 1625 2713 2034 2713 \nQ 2441 2713 2670 2916 \nQ 2900 3119 2900 3481 \nQ 2900 3844 2670 4047 \nQ 2441 4250 2034 4250 \nQ 1625 4250 1398 4047 \nQ 1172 3844 1172 3481 \nz\n\" transform=\"scale(0.015625)\"/>\n       </defs>\n       <use xlink:href=\"#DejaVuSans-38\"/>\n      </g>\n     </g>\n    </g>\n    <g id=\"xtick_10\">\n     <g id=\"line2d_10\">\n      <g>\n       <use xlink:href=\"#mc9446226ba\" x=\"287.047025\" y=\"273.312\" style=\"stroke: #000000; stroke-width: 0.8\"/>\n      </g>\n     </g>\n     <g id=\"text_10\">\n      <!-- 9 -->\n      <g transform=\"translate(283.865775 287.910438) scale(0.1 -0.1)\">\n       <defs>\n        <path id=\"DejaVuSans-39\" d=\"M 703 97 \nL 703 672 \nQ 941 559 1184 500 \nQ 1428 441 1663 441 \nQ 2288 441 2617 861 \nQ 2947 1281 2994 2138 \nQ 2813 1869 2534 1725 \nQ 2256 1581 1919 1581 \nQ 1219 1581 811 2004 \nQ 403 2428 403 3163 \nQ 403 3881 828 4315 \nQ 1253 4750 1959 4750 \nQ 2769 4750 3195 4129 \nQ 3622 3509 3622 2328 \nQ 3622 1225 3098 567 \nQ 2575 -91 1691 -91 \nQ 1453 -91 1209 -44 \nQ 966 3 703 97 \nz\nM 1959 2075 \nQ 2384 2075 2632 2365 \nQ 2881 2656 2881 3163 \nQ 2881 3666 2632 3958 \nQ 2384 4250 1959 4250 \nQ 1534 4250 1286 3958 \nQ 1038 3666 1038 3163 \nQ 1038 2656 1286 2365 \nQ 1534 2075 1959 2075 \nz\n\" transform=\"scale(0.015625)\"/>\n       </defs>\n       <use xlink:href=\"#DejaVuSans-39\"/>\n      </g>\n     </g>\n    </g>\n    <g id=\"text_11\">\n     <!-- Predicted label -->\n     <g transform=\"translate(130.144281 301.588562) scale(0.1 -0.1)\">\n      <defs>\n       <path id=\"DejaVuSans-50\" d=\"M 1259 4147 \nL 1259 2394 \nL 2053 2394 \nQ 2494 2394 2734 2622 \nQ 2975 2850 2975 3272 \nQ 2975 3691 2734 3919 \nQ 2494 4147 2053 4147 \nL 1259 4147 \nz\nM 628 4666 \nL 2053 4666 \nQ 2838 4666 3239 4311 \nQ 3641 3956 3641 3272 \nQ 3641 2581 3239 2228 \nQ 2838 1875 2053 1875 \nL 1259 1875 \nL 1259 0 \nL 628 0 \nL 628 4666 \nz\n\" transform=\"scale(0.015625)\"/>\n       <path id=\"DejaVuSans-72\" d=\"M 2631 2963 \nQ 2534 3019 2420 3045 \nQ 2306 3072 2169 3072 \nQ 1681 3072 1420 2755 \nQ 1159 2438 1159 1844 \nL 1159 0 \nL 581 0 \nL 581 3500 \nL 1159 3500 \nL 1159 2956 \nQ 1341 3275 1631 3429 \nQ 1922 3584 2338 3584 \nQ 2397 3584 2469 3576 \nQ 2541 3569 2628 3553 \nL 2631 2963 \nz\n\" transform=\"scale(0.015625)\"/>\n       <path id=\"DejaVuSans-65\" d=\"M 3597 1894 \nL 3597 1613 \nL 953 1613 \nQ 991 1019 1311 708 \nQ 1631 397 2203 397 \nQ 2534 397 2845 478 \nQ 3156 559 3463 722 \nL 3463 178 \nQ 3153 47 2828 -22 \nQ 2503 -91 2169 -91 \nQ 1331 -91 842 396 \nQ 353 884 353 1716 \nQ 353 2575 817 3079 \nQ 1281 3584 2069 3584 \nQ 2775 3584 3186 3129 \nQ 3597 2675 3597 1894 \nz\nM 3022 2063 \nQ 3016 2534 2758 2815 \nQ 2500 3097 2075 3097 \nQ 1594 3097 1305 2825 \nQ 1016 2553 972 2059 \nL 3022 2063 \nz\n\" transform=\"scale(0.015625)\"/>\n       <path id=\"DejaVuSans-64\" d=\"M 2906 2969 \nL 2906 4863 \nL 3481 4863 \nL 3481 0 \nL 2906 0 \nL 2906 525 \nQ 2725 213 2448 61 \nQ 2172 -91 1784 -91 \nQ 1150 -91 751 415 \nQ 353 922 353 1747 \nQ 353 2572 751 3078 \nQ 1150 3584 1784 3584 \nQ 2172 3584 2448 3432 \nQ 2725 3281 2906 2969 \nz\nM 947 1747 \nQ 947 1113 1208 752 \nQ 1469 391 1925 391 \nQ 2381 391 2643 752 \nQ 2906 1113 2906 1747 \nQ 2906 2381 2643 2742 \nQ 2381 3103 1925 3103 \nQ 1469 3103 1208 2742 \nQ 947 2381 947 1747 \nz\n\" transform=\"scale(0.015625)\"/>\n       <path id=\"DejaVuSans-69\" d=\"M 603 3500 \nL 1178 3500 \nL 1178 0 \nL 603 0 \nL 603 3500 \nz\nM 603 4863 \nL 1178 4863 \nL 1178 4134 \nL 603 4134 \nL 603 4863 \nz\n\" transform=\"scale(0.015625)\"/>\n       <path id=\"DejaVuSans-63\" d=\"M 3122 3366 \nL 3122 2828 \nQ 2878 2963 2633 3030 \nQ 2388 3097 2138 3097 \nQ 1578 3097 1268 2742 \nQ 959 2388 959 1747 \nQ 959 1106 1268 751 \nQ 1578 397 2138 397 \nQ 2388 397 2633 464 \nQ 2878 531 3122 666 \nL 3122 134 \nQ 2881 22 2623 -34 \nQ 2366 -91 2075 -91 \nQ 1284 -91 818 406 \nQ 353 903 353 1747 \nQ 353 2603 823 3093 \nQ 1294 3584 2113 3584 \nQ 2378 3584 2631 3529 \nQ 2884 3475 3122 3366 \nz\n\" transform=\"scale(0.015625)\"/>\n       <path id=\"DejaVuSans-74\" d=\"M 1172 4494 \nL 1172 3500 \nL 2356 3500 \nL 2356 3053 \nL 1172 3053 \nL 1172 1153 \nQ 1172 725 1289 603 \nQ 1406 481 1766 481 \nL 2356 481 \nL 2356 0 \nL 1766 0 \nQ 1100 0 847 248 \nQ 594 497 594 1153 \nL 594 3053 \nL 172 3053 \nL 172 3500 \nL 594 3500 \nL 594 4494 \nL 1172 4494 \nz\n\" transform=\"scale(0.015625)\"/>\n       <path id=\"DejaVuSans-20\" transform=\"scale(0.015625)\"/>\n       <path id=\"DejaVuSans-6c\" d=\"M 603 4863 \nL 1178 4863 \nL 1178 0 \nL 603 0 \nL 603 4863 \nz\n\" transform=\"scale(0.015625)\"/>\n       <path id=\"DejaVuSans-61\" d=\"M 2194 1759 \nQ 1497 1759 1228 1600 \nQ 959 1441 959 1056 \nQ 959 750 1161 570 \nQ 1363 391 1709 391 \nQ 2188 391 2477 730 \nQ 2766 1069 2766 1631 \nL 2766 1759 \nL 2194 1759 \nz\nM 3341 1997 \nL 3341 0 \nL 2766 0 \nL 2766 531 \nQ 2569 213 2275 61 \nQ 1981 -91 1556 -91 \nQ 1019 -91 701 211 \nQ 384 513 384 1019 \nQ 384 1609 779 1909 \nQ 1175 2209 1959 2209 \nL 2766 2209 \nL 2766 2266 \nQ 2766 2663 2505 2880 \nQ 2244 3097 1772 3097 \nQ 1472 3097 1187 3025 \nQ 903 2953 641 2809 \nL 641 3341 \nQ 956 3463 1253 3523 \nQ 1550 3584 1831 3584 \nQ 2591 3584 2966 3190 \nQ 3341 2797 3341 1997 \nz\n\" transform=\"scale(0.015625)\"/>\n       <path id=\"DejaVuSans-62\" d=\"M 3116 1747 \nQ 3116 2381 2855 2742 \nQ 2594 3103 2138 3103 \nQ 1681 3103 1420 2742 \nQ 1159 2381 1159 1747 \nQ 1159 1113 1420 752 \nQ 1681 391 2138 391 \nQ 2594 391 2855 752 \nQ 3116 1113 3116 1747 \nz\nM 1159 2969 \nQ 1341 3281 1617 3432 \nQ 1894 3584 2278 3584 \nQ 2916 3584 3314 3078 \nQ 3713 2572 3713 1747 \nQ 3713 922 3314 415 \nQ 2916 -91 2278 -91 \nQ 1894 -91 1617 61 \nQ 1341 213 1159 525 \nL 1159 0 \nL 581 0 \nL 581 4863 \nL 1159 4863 \nL 1159 2969 \nz\n\" transform=\"scale(0.015625)\"/>\n      </defs>\n      <use xlink:href=\"#DejaVuSans-50\"/>\n      <use xlink:href=\"#DejaVuSans-72\" x=\"58.552734\"/>\n      <use xlink:href=\"#DejaVuSans-65\" x=\"97.416016\"/>\n      <use xlink:href=\"#DejaVuSans-64\" x=\"158.939453\"/>\n      <use xlink:href=\"#DejaVuSans-69\" x=\"222.416016\"/>\n      <use xlink:href=\"#DejaVuSans-63\" x=\"250.199219\"/>\n      <use xlink:href=\"#DejaVuSans-74\" x=\"305.179688\"/>\n      <use xlink:href=\"#DejaVuSans-65\" x=\"344.388672\"/>\n      <use xlink:href=\"#DejaVuSans-64\" x=\"405.912109\"/>\n      <use xlink:href=\"#DejaVuSans-20\" x=\"469.388672\"/>\n      <use xlink:href=\"#DejaVuSans-6c\" x=\"501.175781\"/>\n      <use xlink:href=\"#DejaVuSans-61\" x=\"528.958984\"/>\n      <use xlink:href=\"#DejaVuSans-62\" x=\"590.238281\"/>\n      <use xlink:href=\"#DejaVuSans-65\" x=\"653.714844\"/>\n      <use xlink:href=\"#DejaVuSans-6c\" x=\"715.238281\"/>\n     </g>\n    </g>\n   </g>\n   <g id=\"matplotlib.axis_2\">\n    <g id=\"ytick_1\">\n     <g id=\"line2d_11\">\n      <defs>\n       <path id=\"mcf5a2a29ad\" d=\"M 0 0 \nL -3.5 0 \n\" style=\"stroke: #000000; stroke-width: 0.8\"/>\n      </defs>\n      <g>\n       <use xlink:href=\"#mcf5a2a29ad\" x=\"34.240625\" y=\"20.5056\" style=\"stroke: #000000; stroke-width: 0.8\"/>\n      </g>\n     </g>\n     <g id=\"text_12\">\n      <!-- 0 -->\n      <g transform=\"translate(20.878125 24.304819) scale(0.1 -0.1)\">\n       <use xlink:href=\"#DejaVuSans-30\"/>\n      </g>\n     </g>\n    </g>\n    <g id=\"ytick_2\">\n     <g id=\"line2d_12\">\n      <g>\n       <use xlink:href=\"#mcf5a2a29ad\" x=\"34.240625\" y=\"47.1168\" style=\"stroke: #000000; stroke-width: 0.8\"/>\n      </g>\n     </g>\n     <g id=\"text_13\">\n      <!-- 1 -->\n      <g transform=\"translate(20.878125 50.916019) scale(0.1 -0.1)\">\n       <use xlink:href=\"#DejaVuSans-31\"/>\n      </g>\n     </g>\n    </g>\n    <g id=\"ytick_3\">\n     <g id=\"line2d_13\">\n      <g>\n       <use xlink:href=\"#mcf5a2a29ad\" x=\"34.240625\" y=\"73.728\" style=\"stroke: #000000; stroke-width: 0.8\"/>\n      </g>\n     </g>\n     <g id=\"text_14\">\n      <!-- 2 -->\n      <g transform=\"translate(20.878125 77.527219) scale(0.1 -0.1)\">\n       <use xlink:href=\"#DejaVuSans-32\"/>\n      </g>\n     </g>\n    </g>\n    <g id=\"ytick_4\">\n     <g id=\"line2d_14\">\n      <g>\n       <use xlink:href=\"#mcf5a2a29ad\" x=\"34.240625\" y=\"100.3392\" style=\"stroke: #000000; stroke-width: 0.8\"/>\n      </g>\n     </g>\n     <g id=\"text_15\">\n      <!-- 3 -->\n      <g transform=\"translate(20.878125 104.138419) scale(0.1 -0.1)\">\n       <use xlink:href=\"#DejaVuSans-33\"/>\n      </g>\n     </g>\n    </g>\n    <g id=\"ytick_5\">\n     <g id=\"line2d_15\">\n      <g>\n       <use xlink:href=\"#mcf5a2a29ad\" x=\"34.240625\" y=\"126.9504\" style=\"stroke: #000000; stroke-width: 0.8\"/>\n      </g>\n     </g>\n     <g id=\"text_16\">\n      <!-- 4 -->\n      <g transform=\"translate(20.878125 130.749619) scale(0.1 -0.1)\">\n       <use xlink:href=\"#DejaVuSans-34\"/>\n      </g>\n     </g>\n    </g>\n    <g id=\"ytick_6\">\n     <g id=\"line2d_16\">\n      <g>\n       <use xlink:href=\"#mcf5a2a29ad\" x=\"34.240625\" y=\"153.5616\" style=\"stroke: #000000; stroke-width: 0.8\"/>\n      </g>\n     </g>\n     <g id=\"text_17\">\n      <!-- 5 -->\n      <g transform=\"translate(20.878125 157.360819) scale(0.1 -0.1)\">\n       <use xlink:href=\"#DejaVuSans-35\"/>\n      </g>\n     </g>\n    </g>\n    <g id=\"ytick_7\">\n     <g id=\"line2d_17\">\n      <g>\n       <use xlink:href=\"#mcf5a2a29ad\" x=\"34.240625\" y=\"180.1728\" style=\"stroke: #000000; stroke-width: 0.8\"/>\n      </g>\n     </g>\n     <g id=\"text_18\">\n      <!-- 6 -->\n      <g transform=\"translate(20.878125 183.972019) scale(0.1 -0.1)\">\n       <use xlink:href=\"#DejaVuSans-36\"/>\n      </g>\n     </g>\n    </g>\n    <g id=\"ytick_8\">\n     <g id=\"line2d_18\">\n      <g>\n       <use xlink:href=\"#mcf5a2a29ad\" x=\"34.240625\" y=\"206.784\" style=\"stroke: #000000; stroke-width: 0.8\"/>\n      </g>\n     </g>\n     <g id=\"text_19\">\n      <!-- 7 -->\n      <g transform=\"translate(20.878125 210.583219) scale(0.1 -0.1)\">\n       <use xlink:href=\"#DejaVuSans-37\"/>\n      </g>\n     </g>\n    </g>\n    <g id=\"ytick_9\">\n     <g id=\"line2d_19\">\n      <g>\n       <use xlink:href=\"#mcf5a2a29ad\" x=\"34.240625\" y=\"233.3952\" style=\"stroke: #000000; stroke-width: 0.8\"/>\n      </g>\n     </g>\n     <g id=\"text_20\">\n      <!-- 8 -->\n      <g transform=\"translate(20.878125 237.194419) scale(0.1 -0.1)\">\n       <use xlink:href=\"#DejaVuSans-38\"/>\n      </g>\n     </g>\n    </g>\n    <g id=\"ytick_10\">\n     <g id=\"line2d_20\">\n      <g>\n       <use xlink:href=\"#mcf5a2a29ad\" x=\"34.240625\" y=\"260.0064\" style=\"stroke: #000000; stroke-width: 0.8\"/>\n      </g>\n     </g>\n     <g id=\"text_21\">\n      <!-- 9 -->\n      <g transform=\"translate(20.878125 263.805619) scale(0.1 -0.1)\">\n       <use xlink:href=\"#DejaVuSans-39\"/>\n      </g>\n     </g>\n    </g>\n    <g id=\"text_22\">\n     <!-- True label -->\n     <g transform=\"translate(14.798437 164.555219) rotate(-90) scale(0.1 -0.1)\">\n      <defs>\n       <path id=\"DejaVuSans-54\" d=\"M -19 4666 \nL 3928 4666 \nL 3928 4134 \nL 2272 4134 \nL 2272 0 \nL 1638 0 \nL 1638 4134 \nL -19 4134 \nL -19 4666 \nz\n\" transform=\"scale(0.015625)\"/>\n       <path id=\"DejaVuSans-75\" d=\"M 544 1381 \nL 544 3500 \nL 1119 3500 \nL 1119 1403 \nQ 1119 906 1312 657 \nQ 1506 409 1894 409 \nQ 2359 409 2629 706 \nQ 2900 1003 2900 1516 \nL 2900 3500 \nL 3475 3500 \nL 3475 0 \nL 2900 0 \nL 2900 538 \nQ 2691 219 2414 64 \nQ 2138 -91 1772 -91 \nQ 1169 -91 856 284 \nQ 544 659 544 1381 \nz\nM 1991 3584 \nL 1991 3584 \nz\n\" transform=\"scale(0.015625)\"/>\n      </defs>\n      <use xlink:href=\"#DejaVuSans-54\"/>\n      <use xlink:href=\"#DejaVuSans-72\" x=\"46.333984\"/>\n      <use xlink:href=\"#DejaVuSans-75\" x=\"87.447266\"/>\n      <use xlink:href=\"#DejaVuSans-65\" x=\"150.826172\"/>\n      <use xlink:href=\"#DejaVuSans-20\" x=\"212.349609\"/>\n      <use xlink:href=\"#DejaVuSans-6c\" x=\"244.136719\"/>\n      <use xlink:href=\"#DejaVuSans-61\" x=\"271.919922\"/>\n      <use xlink:href=\"#DejaVuSans-62\" x=\"333.199219\"/>\n      <use xlink:href=\"#DejaVuSans-65\" x=\"396.675781\"/>\n      <use xlink:href=\"#DejaVuSans-6c\" x=\"458.199219\"/>\n     </g>\n    </g>\n   </g>\n   <g id=\"patch_3\">\n    <path d=\"M 34.240625 273.312 \nL 34.240625 7.2 \n\" style=\"fill: none; stroke: #000000; stroke-width: 0.8; stroke-linejoin: miter; stroke-linecap: square\"/>\n   </g>\n   <g id=\"patch_4\">\n    <path d=\"M 300.352625 273.312 \nL 300.352625 7.2 \n\" style=\"fill: none; stroke: #000000; stroke-width: 0.8; stroke-linejoin: miter; stroke-linecap: square\"/>\n   </g>\n   <g id=\"patch_5\">\n    <path d=\"M 34.240625 273.312 \nL 300.352625 273.312 \n\" style=\"fill: none; stroke: #000000; stroke-width: 0.8; stroke-linejoin: miter; stroke-linecap: square\"/>\n   </g>\n   <g id=\"patch_6\">\n    <path d=\"M 34.240625 7.2 \nL 300.352625 7.2 \n\" style=\"fill: none; stroke: #000000; stroke-width: 0.8; stroke-linejoin: miter; stroke-linecap: square\"/>\n   </g>\n   <g id=\"text_23\">\n    <!-- 974 -->\n    <g style=\"fill: #440154\" transform=\"translate(38.002475 23.264975) scale(0.1 -0.1)\">\n     <use xlink:href=\"#DejaVuSans-39\"/>\n     <use xlink:href=\"#DejaVuSans-37\" x=\"63.623047\"/>\n     <use xlink:href=\"#DejaVuSans-34\" x=\"127.246094\"/>\n    </g>\n   </g>\n   <g id=\"text_24\">\n    <!-- 0 -->\n    <g style=\"fill: #fde725\" transform=\"translate(70.976175 23.264975) scale(0.1 -0.1)\">\n     <use xlink:href=\"#DejaVuSans-30\"/>\n    </g>\n   </g>\n   <g id=\"text_25\">\n    <!-- 3 -->\n    <g style=\"fill: #fde725\" transform=\"translate(97.587375 23.264975) scale(0.1 -0.1)\">\n     <use xlink:href=\"#DejaVuSans-33\"/>\n    </g>\n   </g>\n   <g id=\"text_26\">\n    <!-- 0 -->\n    <g style=\"fill: #fde725\" transform=\"translate(124.198575 23.264975) scale(0.1 -0.1)\">\n     <use xlink:href=\"#DejaVuSans-30\"/>\n    </g>\n   </g>\n   <g id=\"text_27\">\n    <!-- 0 -->\n    <g style=\"fill: #fde725\" transform=\"translate(150.809775 23.264975) scale(0.1 -0.1)\">\n     <use xlink:href=\"#DejaVuSans-30\"/>\n    </g>\n   </g>\n   <g id=\"text_28\">\n    <!-- 0 -->\n    <g style=\"fill: #fde725\" transform=\"translate(177.420975 23.264975) scale(0.1 -0.1)\">\n     <use xlink:href=\"#DejaVuSans-30\"/>\n    </g>\n   </g>\n   <g id=\"text_29\">\n    <!-- 2 -->\n    <g style=\"fill: #fde725\" transform=\"translate(204.032175 23.264975) scale(0.1 -0.1)\">\n     <use xlink:href=\"#DejaVuSans-32\"/>\n    </g>\n   </g>\n   <g id=\"text_30\">\n    <!-- 1 -->\n    <g style=\"fill: #fde725\" transform=\"translate(230.643375 23.264975) scale(0.1 -0.1)\">\n     <use xlink:href=\"#DejaVuSans-31\"/>\n    </g>\n   </g>\n   <g id=\"text_31\">\n    <!-- 0 -->\n    <g style=\"fill: #fde725\" transform=\"translate(257.254575 23.264975) scale(0.1 -0.1)\">\n     <use xlink:href=\"#DejaVuSans-30\"/>\n    </g>\n   </g>\n   <g id=\"text_32\">\n    <!-- 0 -->\n    <g style=\"fill: #fde725\" transform=\"translate(283.865775 23.264975) scale(0.1 -0.1)\">\n     <use xlink:href=\"#DejaVuSans-30\"/>\n    </g>\n   </g>\n   <g id=\"text_33\">\n    <!-- 0 -->\n    <g style=\"fill: #fde725\" transform=\"translate(44.364975 49.876175) scale(0.1 -0.1)\">\n     <use xlink:href=\"#DejaVuSans-30\"/>\n    </g>\n   </g>\n   <g id=\"text_34\">\n    <!-- 1127 -->\n    <g style=\"fill: #440154\" transform=\"translate(61.432425 49.876175) scale(0.1 -0.1)\">\n     <use xlink:href=\"#DejaVuSans-31\"/>\n     <use xlink:href=\"#DejaVuSans-31\" x=\"63.623047\"/>\n     <use xlink:href=\"#DejaVuSans-32\" x=\"127.246094\"/>\n     <use xlink:href=\"#DejaVuSans-37\" x=\"190.869141\"/>\n    </g>\n   </g>\n   <g id=\"text_35\">\n    <!-- 0 -->\n    <g style=\"fill: #fde725\" transform=\"translate(97.587375 49.876175) scale(0.1 -0.1)\">\n     <use xlink:href=\"#DejaVuSans-30\"/>\n    </g>\n   </g>\n   <g id=\"text_36\">\n    <!-- 3 -->\n    <g style=\"fill: #fde725\" transform=\"translate(124.198575 49.876175) scale(0.1 -0.1)\">\n     <use xlink:href=\"#DejaVuSans-33\"/>\n    </g>\n   </g>\n   <g id=\"text_37\">\n    <!-- 0 -->\n    <g style=\"fill: #fde725\" transform=\"translate(150.809775 49.876175) scale(0.1 -0.1)\">\n     <use xlink:href=\"#DejaVuSans-30\"/>\n    </g>\n   </g>\n   <g id=\"text_38\">\n    <!-- 0 -->\n    <g style=\"fill: #fde725\" transform=\"translate(177.420975 49.876175) scale(0.1 -0.1)\">\n     <use xlink:href=\"#DejaVuSans-30\"/>\n    </g>\n   </g>\n   <g id=\"text_39\">\n    <!-- 3 -->\n    <g style=\"fill: #fde725\" transform=\"translate(204.032175 49.876175) scale(0.1 -0.1)\">\n     <use xlink:href=\"#DejaVuSans-33\"/>\n    </g>\n   </g>\n   <g id=\"text_40\">\n    <!-- 1 -->\n    <g style=\"fill: #fde725\" transform=\"translate(230.643375 49.876175) scale(0.1 -0.1)\">\n     <use xlink:href=\"#DejaVuSans-31\"/>\n    </g>\n   </g>\n   <g id=\"text_41\">\n    <!-- 1 -->\n    <g style=\"fill: #fde725\" transform=\"translate(257.254575 49.876175) scale(0.1 -0.1)\">\n     <use xlink:href=\"#DejaVuSans-31\"/>\n    </g>\n   </g>\n   <g id=\"text_42\">\n    <!-- 0 -->\n    <g style=\"fill: #fde725\" transform=\"translate(283.865775 49.876175) scale(0.1 -0.1)\">\n     <use xlink:href=\"#DejaVuSans-30\"/>\n    </g>\n   </g>\n   <g id=\"text_43\">\n    <!-- 2 -->\n    <g style=\"fill: #fde725\" transform=\"translate(44.364975 76.487375) scale(0.1 -0.1)\">\n     <use xlink:href=\"#DejaVuSans-32\"/>\n    </g>\n   </g>\n   <g id=\"text_44\">\n    <!-- 2 -->\n    <g style=\"fill: #fde725\" transform=\"translate(70.976175 76.487375) scale(0.1 -0.1)\">\n     <use xlink:href=\"#DejaVuSans-32\"/>\n    </g>\n   </g>\n   <g id=\"text_45\">\n    <!-- 1018 -->\n    <g style=\"fill: #440154\" transform=\"translate(88.043625 76.487375) scale(0.1 -0.1)\">\n     <use xlink:href=\"#DejaVuSans-31\"/>\n     <use xlink:href=\"#DejaVuSans-30\" x=\"63.623047\"/>\n     <use xlink:href=\"#DejaVuSans-31\" x=\"127.246094\"/>\n     <use xlink:href=\"#DejaVuSans-38\" x=\"190.869141\"/>\n    </g>\n   </g>\n   <g id=\"text_46\">\n    <!-- 0 -->\n    <g style=\"fill: #fde725\" transform=\"translate(124.198575 76.487375) scale(0.1 -0.1)\">\n     <use xlink:href=\"#DejaVuSans-30\"/>\n    </g>\n   </g>\n   <g id=\"text_47\">\n    <!-- 2 -->\n    <g style=\"fill: #fde725\" transform=\"translate(150.809775 76.487375) scale(0.1 -0.1)\">\n     <use xlink:href=\"#DejaVuSans-32\"/>\n    </g>\n   </g>\n   <g id=\"text_48\">\n    <!-- 0 -->\n    <g style=\"fill: #fde725\" transform=\"translate(177.420975 76.487375) scale(0.1 -0.1)\">\n     <use xlink:href=\"#DejaVuSans-30\"/>\n    </g>\n   </g>\n   <g id=\"text_49\">\n    <!-- 1 -->\n    <g style=\"fill: #fde725\" transform=\"translate(204.032175 76.487375) scale(0.1 -0.1)\">\n     <use xlink:href=\"#DejaVuSans-31\"/>\n    </g>\n   </g>\n   <g id=\"text_50\">\n    <!-- 4 -->\n    <g style=\"fill: #fde725\" transform=\"translate(230.643375 76.487375) scale(0.1 -0.1)\">\n     <use xlink:href=\"#DejaVuSans-34\"/>\n    </g>\n   </g>\n   <g id=\"text_51\">\n    <!-- 2 -->\n    <g style=\"fill: #fde725\" transform=\"translate(257.254575 76.487375) scale(0.1 -0.1)\">\n     <use xlink:href=\"#DejaVuSans-32\"/>\n    </g>\n   </g>\n   <g id=\"text_52\">\n    <!-- 1 -->\n    <g style=\"fill: #fde725\" transform=\"translate(283.865775 76.487375) scale(0.1 -0.1)\">\n     <use xlink:href=\"#DejaVuSans-31\"/>\n    </g>\n   </g>\n   <g id=\"text_53\">\n    <!-- 0 -->\n    <g style=\"fill: #fde725\" transform=\"translate(44.364975 103.098575) scale(0.1 -0.1)\">\n     <use xlink:href=\"#DejaVuSans-30\"/>\n    </g>\n   </g>\n   <g id=\"text_54\">\n    <!-- 0 -->\n    <g style=\"fill: #fde725\" transform=\"translate(70.976175 103.098575) scale(0.1 -0.1)\">\n     <use xlink:href=\"#DejaVuSans-30\"/>\n    </g>\n   </g>\n   <g id=\"text_55\">\n    <!-- 2 -->\n    <g style=\"fill: #fde725\" transform=\"translate(97.587375 103.098575) scale(0.1 -0.1)\">\n     <use xlink:href=\"#DejaVuSans-32\"/>\n    </g>\n   </g>\n   <g id=\"text_56\">\n    <!-- 1003 -->\n    <g style=\"fill: #440154\" transform=\"translate(114.654825 103.098575) scale(0.1 -0.1)\">\n     <use xlink:href=\"#DejaVuSans-31\"/>\n     <use xlink:href=\"#DejaVuSans-30\" x=\"63.623047\"/>\n     <use xlink:href=\"#DejaVuSans-30\" x=\"127.246094\"/>\n     <use xlink:href=\"#DejaVuSans-33\" x=\"190.869141\"/>\n    </g>\n   </g>\n   <g id=\"text_57\">\n    <!-- 0 -->\n    <g style=\"fill: #fde725\" transform=\"translate(150.809775 103.098575) scale(0.1 -0.1)\">\n     <use xlink:href=\"#DejaVuSans-30\"/>\n    </g>\n   </g>\n   <g id=\"text_58\">\n    <!-- 3 -->\n    <g style=\"fill: #fde725\" transform=\"translate(177.420975 103.098575) scale(0.1 -0.1)\">\n     <use xlink:href=\"#DejaVuSans-33\"/>\n    </g>\n   </g>\n   <g id=\"text_59\">\n    <!-- 0 -->\n    <g style=\"fill: #fde725\" transform=\"translate(204.032175 103.098575) scale(0.1 -0.1)\">\n     <use xlink:href=\"#DejaVuSans-30\"/>\n    </g>\n   </g>\n   <g id=\"text_60\">\n    <!-- 1 -->\n    <g style=\"fill: #fde725\" transform=\"translate(230.643375 103.098575) scale(0.1 -0.1)\">\n     <use xlink:href=\"#DejaVuSans-31\"/>\n    </g>\n   </g>\n   <g id=\"text_61\">\n    <!-- 1 -->\n    <g style=\"fill: #fde725\" transform=\"translate(257.254575 103.098575) scale(0.1 -0.1)\">\n     <use xlink:href=\"#DejaVuSans-31\"/>\n    </g>\n   </g>\n   <g id=\"text_62\">\n    <!-- 0 -->\n    <g style=\"fill: #fde725\" transform=\"translate(283.865775 103.098575) scale(0.1 -0.1)\">\n     <use xlink:href=\"#DejaVuSans-30\"/>\n    </g>\n   </g>\n   <g id=\"text_63\">\n    <!-- 0 -->\n    <g style=\"fill: #fde725\" transform=\"translate(44.364975 129.709775) scale(0.1 -0.1)\">\n     <use xlink:href=\"#DejaVuSans-30\"/>\n    </g>\n   </g>\n   <g id=\"text_64\">\n    <!-- 0 -->\n    <g style=\"fill: #fde725\" transform=\"translate(70.976175 129.709775) scale(0.1 -0.1)\">\n     <use xlink:href=\"#DejaVuSans-30\"/>\n    </g>\n   </g>\n   <g id=\"text_65\">\n    <!-- 0 -->\n    <g style=\"fill: #fde725\" transform=\"translate(97.587375 129.709775) scale(0.1 -0.1)\">\n     <use xlink:href=\"#DejaVuSans-30\"/>\n    </g>\n   </g>\n   <g id=\"text_66\">\n    <!-- 0 -->\n    <g style=\"fill: #fde725\" transform=\"translate(124.198575 129.709775) scale(0.1 -0.1)\">\n     <use xlink:href=\"#DejaVuSans-30\"/>\n    </g>\n   </g>\n   <g id=\"text_67\">\n    <!-- 978 -->\n    <g style=\"fill: #440154\" transform=\"translate(144.447275 129.709775) scale(0.1 -0.1)\">\n     <use xlink:href=\"#DejaVuSans-39\"/>\n     <use xlink:href=\"#DejaVuSans-37\" x=\"63.623047\"/>\n     <use xlink:href=\"#DejaVuSans-38\" x=\"127.246094\"/>\n    </g>\n   </g>\n   <g id=\"text_68\">\n    <!-- 0 -->\n    <g style=\"fill: #fde725\" transform=\"translate(177.420975 129.709775) scale(0.1 -0.1)\">\n     <use xlink:href=\"#DejaVuSans-30\"/>\n    </g>\n   </g>\n   <g id=\"text_69\">\n    <!-- 0 -->\n    <g style=\"fill: #fde725\" transform=\"translate(204.032175 129.709775) scale(0.1 -0.1)\">\n     <use xlink:href=\"#DejaVuSans-30\"/>\n    </g>\n   </g>\n   <g id=\"text_70\">\n    <!-- 1 -->\n    <g style=\"fill: #fde725\" transform=\"translate(230.643375 129.709775) scale(0.1 -0.1)\">\n     <use xlink:href=\"#DejaVuSans-31\"/>\n    </g>\n   </g>\n   <g id=\"text_71\">\n    <!-- 0 -->\n    <g style=\"fill: #fde725\" transform=\"translate(257.254575 129.709775) scale(0.1 -0.1)\">\n     <use xlink:href=\"#DejaVuSans-30\"/>\n    </g>\n   </g>\n   <g id=\"text_72\">\n    <!-- 3 -->\n    <g style=\"fill: #fde725\" transform=\"translate(283.865775 129.709775) scale(0.1 -0.1)\">\n     <use xlink:href=\"#DejaVuSans-33\"/>\n    </g>\n   </g>\n   <g id=\"text_73\">\n    <!-- 0 -->\n    <g style=\"fill: #fde725\" transform=\"translate(44.364975 156.320975) scale(0.1 -0.1)\">\n     <use xlink:href=\"#DejaVuSans-30\"/>\n    </g>\n   </g>\n   <g id=\"text_74\">\n    <!-- 0 -->\n    <g style=\"fill: #fde725\" transform=\"translate(70.976175 156.320975) scale(0.1 -0.1)\">\n     <use xlink:href=\"#DejaVuSans-30\"/>\n    </g>\n   </g>\n   <g id=\"text_75\">\n    <!-- 1 -->\n    <g style=\"fill: #fde725\" transform=\"translate(97.587375 156.320975) scale(0.1 -0.1)\">\n     <use xlink:href=\"#DejaVuSans-31\"/>\n    </g>\n   </g>\n   <g id=\"text_76\">\n    <!-- 7 -->\n    <g style=\"fill: #fde725\" transform=\"translate(124.198575 156.320975) scale(0.1 -0.1)\">\n     <use xlink:href=\"#DejaVuSans-37\"/>\n    </g>\n   </g>\n   <g id=\"text_77\">\n    <!-- 0 -->\n    <g style=\"fill: #fde725\" transform=\"translate(150.809775 156.320975) scale(0.1 -0.1)\">\n     <use xlink:href=\"#DejaVuSans-30\"/>\n    </g>\n   </g>\n   <g id=\"text_78\">\n    <!-- 881 -->\n    <g style=\"fill: #440154\" transform=\"translate(171.058475 156.320975) scale(0.1 -0.1)\">\n     <use xlink:href=\"#DejaVuSans-38\"/>\n     <use xlink:href=\"#DejaVuSans-38\" x=\"63.623047\"/>\n     <use xlink:href=\"#DejaVuSans-31\" x=\"127.246094\"/>\n    </g>\n   </g>\n   <g id=\"text_79\">\n    <!-- 1 -->\n    <g style=\"fill: #fde725\" transform=\"translate(204.032175 156.320975) scale(0.1 -0.1)\">\n     <use xlink:href=\"#DejaVuSans-31\"/>\n    </g>\n   </g>\n   <g id=\"text_80\">\n    <!-- 0 -->\n    <g style=\"fill: #fde725\" transform=\"translate(230.643375 156.320975) scale(0.1 -0.1)\">\n     <use xlink:href=\"#DejaVuSans-30\"/>\n    </g>\n   </g>\n   <g id=\"text_81\">\n    <!-- 2 -->\n    <g style=\"fill: #fde725\" transform=\"translate(257.254575 156.320975) scale(0.1 -0.1)\">\n     <use xlink:href=\"#DejaVuSans-32\"/>\n    </g>\n   </g>\n   <g id=\"text_82\">\n    <!-- 0 -->\n    <g style=\"fill: #fde725\" transform=\"translate(283.865775 156.320975) scale(0.1 -0.1)\">\n     <use xlink:href=\"#DejaVuSans-30\"/>\n    </g>\n   </g>\n   <g id=\"text_83\">\n    <!-- 5 -->\n    <g style=\"fill: #fde725\" transform=\"translate(44.364975 182.932175) scale(0.1 -0.1)\">\n     <use xlink:href=\"#DejaVuSans-35\"/>\n    </g>\n   </g>\n   <g id=\"text_84\">\n    <!-- 3 -->\n    <g style=\"fill: #fde725\" transform=\"translate(70.976175 182.932175) scale(0.1 -0.1)\">\n     <use xlink:href=\"#DejaVuSans-33\"/>\n    </g>\n   </g>\n   <g id=\"text_85\">\n    <!-- 0 -->\n    <g style=\"fill: #fde725\" transform=\"translate(97.587375 182.932175) scale(0.1 -0.1)\">\n     <use xlink:href=\"#DejaVuSans-30\"/>\n    </g>\n   </g>\n   <g id=\"text_86\">\n    <!-- 0 -->\n    <g style=\"fill: #fde725\" transform=\"translate(124.198575 182.932175) scale(0.1 -0.1)\">\n     <use xlink:href=\"#DejaVuSans-30\"/>\n    </g>\n   </g>\n   <g id=\"text_87\">\n    <!-- 1 -->\n    <g style=\"fill: #fde725\" transform=\"translate(150.809775 182.932175) scale(0.1 -0.1)\">\n     <use xlink:href=\"#DejaVuSans-31\"/>\n    </g>\n   </g>\n   <g id=\"text_88\">\n    <!-- 2 -->\n    <g style=\"fill: #fde725\" transform=\"translate(177.420975 182.932175) scale(0.1 -0.1)\">\n     <use xlink:href=\"#DejaVuSans-32\"/>\n    </g>\n   </g>\n   <g id=\"text_89\">\n    <!-- 945 -->\n    <g style=\"fill: #440154\" transform=\"translate(197.669675 182.932175) scale(0.1 -0.1)\">\n     <use xlink:href=\"#DejaVuSans-39\"/>\n     <use xlink:href=\"#DejaVuSans-34\" x=\"63.623047\"/>\n     <use xlink:href=\"#DejaVuSans-35\" x=\"127.246094\"/>\n    </g>\n   </g>\n   <g id=\"text_90\">\n    <!-- 0 -->\n    <g style=\"fill: #fde725\" transform=\"translate(230.643375 182.932175) scale(0.1 -0.1)\">\n     <use xlink:href=\"#DejaVuSans-30\"/>\n    </g>\n   </g>\n   <g id=\"text_91\">\n    <!-- 2 -->\n    <g style=\"fill: #fde725\" transform=\"translate(257.254575 182.932175) scale(0.1 -0.1)\">\n     <use xlink:href=\"#DejaVuSans-32\"/>\n    </g>\n   </g>\n   <g id=\"text_92\">\n    <!-- 0 -->\n    <g style=\"fill: #fde725\" transform=\"translate(283.865775 182.932175) scale(0.1 -0.1)\">\n     <use xlink:href=\"#DejaVuSans-30\"/>\n    </g>\n   </g>\n   <g id=\"text_93\">\n    <!-- 1 -->\n    <g style=\"fill: #fde725\" transform=\"translate(44.364975 209.543375) scale(0.1 -0.1)\">\n     <use xlink:href=\"#DejaVuSans-31\"/>\n    </g>\n   </g>\n   <g id=\"text_94\">\n    <!-- 1 -->\n    <g style=\"fill: #fde725\" transform=\"translate(70.976175 209.543375) scale(0.1 -0.1)\">\n     <use xlink:href=\"#DejaVuSans-31\"/>\n    </g>\n   </g>\n   <g id=\"text_95\">\n    <!-- 6 -->\n    <g style=\"fill: #fde725\" transform=\"translate(97.587375 209.543375) scale(0.1 -0.1)\">\n     <use xlink:href=\"#DejaVuSans-36\"/>\n    </g>\n   </g>\n   <g id=\"text_96\">\n    <!-- 0 -->\n    <g style=\"fill: #fde725\" transform=\"translate(124.198575 209.543375) scale(0.1 -0.1)\">\n     <use xlink:href=\"#DejaVuSans-30\"/>\n    </g>\n   </g>\n   <g id=\"text_97\">\n    <!-- 0 -->\n    <g style=\"fill: #fde725\" transform=\"translate(150.809775 209.543375) scale(0.1 -0.1)\">\n     <use xlink:href=\"#DejaVuSans-30\"/>\n    </g>\n   </g>\n   <g id=\"text_98\">\n    <!-- 0 -->\n    <g style=\"fill: #fde725\" transform=\"translate(177.420975 209.543375) scale(0.1 -0.1)\">\n     <use xlink:href=\"#DejaVuSans-30\"/>\n    </g>\n   </g>\n   <g id=\"text_99\">\n    <!-- 0 -->\n    <g style=\"fill: #fde725\" transform=\"translate(204.032175 209.543375) scale(0.1 -0.1)\">\n     <use xlink:href=\"#DejaVuSans-30\"/>\n    </g>\n   </g>\n   <g id=\"text_100\">\n    <!-- 1016 -->\n    <g style=\"fill: #440154\" transform=\"translate(221.099625 209.543375) scale(0.1 -0.1)\">\n     <use xlink:href=\"#DejaVuSans-31\"/>\n     <use xlink:href=\"#DejaVuSans-30\" x=\"63.623047\"/>\n     <use xlink:href=\"#DejaVuSans-31\" x=\"127.246094\"/>\n     <use xlink:href=\"#DejaVuSans-36\" x=\"190.869141\"/>\n    </g>\n   </g>\n   <g id=\"text_101\">\n    <!-- 2 -->\n    <g style=\"fill: #fde725\" transform=\"translate(257.254575 209.543375) scale(0.1 -0.1)\">\n     <use xlink:href=\"#DejaVuSans-32\"/>\n    </g>\n   </g>\n   <g id=\"text_102\">\n    <!-- 2 -->\n    <g style=\"fill: #fde725\" transform=\"translate(283.865775 209.543375) scale(0.1 -0.1)\">\n     <use xlink:href=\"#DejaVuSans-32\"/>\n    </g>\n   </g>\n   <g id=\"text_103\">\n    <!-- 4 -->\n    <g style=\"fill: #fde725\" transform=\"translate(44.364975 236.154575) scale(0.1 -0.1)\">\n     <use xlink:href=\"#DejaVuSans-34\"/>\n    </g>\n   </g>\n   <g id=\"text_104\">\n    <!-- 0 -->\n    <g style=\"fill: #fde725\" transform=\"translate(70.976175 236.154575) scale(0.1 -0.1)\">\n     <use xlink:href=\"#DejaVuSans-30\"/>\n    </g>\n   </g>\n   <g id=\"text_105\">\n    <!-- 1 -->\n    <g style=\"fill: #fde725\" transform=\"translate(97.587375 236.154575) scale(0.1 -0.1)\">\n     <use xlink:href=\"#DejaVuSans-31\"/>\n    </g>\n   </g>\n   <g id=\"text_106\">\n    <!-- 2 -->\n    <g style=\"fill: #fde725\" transform=\"translate(124.198575 236.154575) scale(0.1 -0.1)\">\n     <use xlink:href=\"#DejaVuSans-32\"/>\n    </g>\n   </g>\n   <g id=\"text_107\">\n    <!-- 0 -->\n    <g style=\"fill: #fde725\" transform=\"translate(150.809775 236.154575) scale(0.1 -0.1)\">\n     <use xlink:href=\"#DejaVuSans-30\"/>\n    </g>\n   </g>\n   <g id=\"text_108\">\n    <!-- 2 -->\n    <g style=\"fill: #fde725\" transform=\"translate(177.420975 236.154575) scale(0.1 -0.1)\">\n     <use xlink:href=\"#DejaVuSans-32\"/>\n    </g>\n   </g>\n   <g id=\"text_109\">\n    <!-- 1 -->\n    <g style=\"fill: #fde725\" transform=\"translate(204.032175 236.154575) scale(0.1 -0.1)\">\n     <use xlink:href=\"#DejaVuSans-31\"/>\n    </g>\n   </g>\n   <g id=\"text_110\">\n    <!-- 1 -->\n    <g style=\"fill: #fde725\" transform=\"translate(230.643375 236.154575) scale(0.1 -0.1)\">\n     <use xlink:href=\"#DejaVuSans-31\"/>\n    </g>\n   </g>\n   <g id=\"text_111\">\n    <!-- 960 -->\n    <g style=\"fill: #440154\" transform=\"translate(250.892075 236.154575) scale(0.1 -0.1)\">\n     <use xlink:href=\"#DejaVuSans-39\"/>\n     <use xlink:href=\"#DejaVuSans-36\" x=\"63.623047\"/>\n     <use xlink:href=\"#DejaVuSans-30\" x=\"127.246094\"/>\n    </g>\n   </g>\n   <g id=\"text_112\">\n    <!-- 3 -->\n    <g style=\"fill: #fde725\" transform=\"translate(283.865775 236.154575) scale(0.1 -0.1)\">\n     <use xlink:href=\"#DejaVuSans-33\"/>\n    </g>\n   </g>\n   <g id=\"text_113\">\n    <!-- 1 -->\n    <g style=\"fill: #fde725\" transform=\"translate(44.364975 262.765775) scale(0.1 -0.1)\">\n     <use xlink:href=\"#DejaVuSans-31\"/>\n    </g>\n   </g>\n   <g id=\"text_114\">\n    <!-- 2 -->\n    <g style=\"fill: #fde725\" transform=\"translate(70.976175 262.765775) scale(0.1 -0.1)\">\n     <use xlink:href=\"#DejaVuSans-32\"/>\n    </g>\n   </g>\n   <g id=\"text_115\">\n    <!-- 0 -->\n    <g style=\"fill: #fde725\" transform=\"translate(97.587375 262.765775) scale(0.1 -0.1)\">\n     <use xlink:href=\"#DejaVuSans-30\"/>\n    </g>\n   </g>\n   <g id=\"text_116\">\n    <!-- 1 -->\n    <g style=\"fill: #fde725\" transform=\"translate(124.198575 262.765775) scale(0.1 -0.1)\">\n     <use xlink:href=\"#DejaVuSans-31\"/>\n    </g>\n   </g>\n   <g id=\"text_117\">\n    <!-- 9 -->\n    <g style=\"fill: #fde725\" transform=\"translate(150.809775 262.765775) scale(0.1 -0.1)\">\n     <use xlink:href=\"#DejaVuSans-39\"/>\n    </g>\n   </g>\n   <g id=\"text_118\">\n    <!-- 4 -->\n    <g style=\"fill: #fde725\" transform=\"translate(177.420975 262.765775) scale(0.1 -0.1)\">\n     <use xlink:href=\"#DejaVuSans-34\"/>\n    </g>\n   </g>\n   <g id=\"text_119\">\n    <!-- 0 -->\n    <g style=\"fill: #fde725\" transform=\"translate(204.032175 262.765775) scale(0.1 -0.1)\">\n     <use xlink:href=\"#DejaVuSans-30\"/>\n    </g>\n   </g>\n   <g id=\"text_120\">\n    <!-- 2 -->\n    <g style=\"fill: #fde725\" transform=\"translate(230.643375 262.765775) scale(0.1 -0.1)\">\n     <use xlink:href=\"#DejaVuSans-32\"/>\n    </g>\n   </g>\n   <g id=\"text_121\">\n    <!-- 1 -->\n    <g style=\"fill: #fde725\" transform=\"translate(257.254575 262.765775) scale(0.1 -0.1)\">\n     <use xlink:href=\"#DejaVuSans-31\"/>\n    </g>\n   </g>\n   <g id=\"text_122\">\n    <!-- 989 -->\n    <g style=\"fill: #440154\" transform=\"translate(277.503275 262.765775) scale(0.1 -0.1)\">\n     <use xlink:href=\"#DejaVuSans-39\"/>\n     <use xlink:href=\"#DejaVuSans-38\" x=\"63.623047\"/>\n     <use xlink:href=\"#DejaVuSans-39\" x=\"127.246094\"/>\n    </g>\n   </g>\n  </g>\n  <g id=\"axes_2\">\n   <g id=\"patch_7\">\n    <path d=\"M 318.208625 273.312 \nL 331.514225 273.312 \nL 331.514225 7.2 \nL 318.208625 7.2 \nz\n\" style=\"fill: #ffffff\"/>\n   </g>\n   <image xlink:href=\"data:image/png;base64,\niVBORw0KGgoAAAANSUhEUgAAABIAAAFyCAYAAAD4TYq5AAAB8UlEQVR4nO2d2w0CMQwEnUtKowT6L4VQgvkYodHKLmCVfdhJjtOxXut9C6iHAKmqOrUYrLOexQBRK+I0CqZWHDUGiHQNSraPWtmoYTkC7acGm48a59oku6tg17KTPTttU0rXdNRsrp0r1IgC8lHLTTaVI8z+YNemafsyJpvBMSb75jbthVwTJpsKZPI8ElLjXGOAspuWARJeIYz2Q0BGauNaBxS80wbPI+roZ6Q2gWyBdN0fPNiGWl/Rlxqba8KZrdNoqPU11P4JFKwR8jZcKan5Rm3wLqKjNhr1JWza5FGbS200agtb0cyjviaQPwBF28+ca5Pt97kWHUgMKDXZPrGVyWbs94ktdM3XtD6NJtk9EPSziPF85Ask17QVq9HKtT+aGgSEdT8ltlAjHzVwO7JRg5gpqXG9huDUeZI18lGDgIJde6CDVrBrwmQPtR+AhMmmqAW7ZgMCNaLutEJqwa7lziPQtQ8FpNMouWkh17aPGucao5Gwafdo1AIZkx07ancwNWyDpJqWWpFxOxIetIZaB0R1v3EXoQabsGmD5xHnmq1pwZ3W5hrYa9i9X6dR8MzOnUfcfU3nGhjI2Kc13GATniFljzSMTat7IwqcR0ydLdQI+o4WtSRyZmPUbB8uAV3TUeNcg/6qwKgRRk32Gf4vtfqN5qlVmUMAAAAASUVORK5CYII=\" id=\"image9788699823\" transform=\"scale(1 -1) translate(0 -266.4)\" x=\"318.24\" y=\"-6.48\" width=\"12.96\" height=\"266.4\"/>\n   <g id=\"matplotlib.axis_3\"/>\n   <g id=\"matplotlib.axis_4\">\n    <g id=\"ytick_11\">\n     <g id=\"line2d_21\">\n      <defs>\n       <path id=\"mc9db8441ac\" d=\"M 0 0 \nL 3.5 0 \n\" style=\"stroke: #000000; stroke-width: 0.8\"/>\n      </defs>\n      <g>\n       <use xlink:href=\"#mc9db8441ac\" x=\"331.514225\" y=\"273.312\" style=\"stroke: #000000; stroke-width: 0.8\"/>\n      </g>\n     </g>\n     <g id=\"text_123\">\n      <!-- 0 -->\n      <g transform=\"translate(338.514225 277.111219) scale(0.1 -0.1)\">\n       <use xlink:href=\"#DejaVuSans-30\"/>\n      </g>\n     </g>\n    </g>\n    <g id=\"ytick_12\">\n     <g id=\"line2d_22\">\n      <g>\n       <use xlink:href=\"#mc9db8441ac\" x=\"331.514225\" y=\"226.087155\" style=\"stroke: #000000; stroke-width: 0.8\"/>\n      </g>\n     </g>\n     <g id=\"text_124\">\n      <!-- 200 -->\n      <g transform=\"translate(338.514225 229.886374) scale(0.1 -0.1)\">\n       <use xlink:href=\"#DejaVuSans-32\"/>\n       <use xlink:href=\"#DejaVuSans-30\" x=\"63.623047\"/>\n       <use xlink:href=\"#DejaVuSans-30\" x=\"127.246094\"/>\n      </g>\n     </g>\n    </g>\n    <g id=\"ytick_13\">\n     <g id=\"line2d_23\">\n      <g>\n       <use xlink:href=\"#mc9db8441ac\" x=\"331.514225\" y=\"178.862311\" style=\"stroke: #000000; stroke-width: 0.8\"/>\n      </g>\n     </g>\n     <g id=\"text_125\">\n      <!-- 400 -->\n      <g transform=\"translate(338.514225 182.661529) scale(0.1 -0.1)\">\n       <use xlink:href=\"#DejaVuSans-34\"/>\n       <use xlink:href=\"#DejaVuSans-30\" x=\"63.623047\"/>\n       <use xlink:href=\"#DejaVuSans-30\" x=\"127.246094\"/>\n      </g>\n     </g>\n    </g>\n    <g id=\"ytick_14\">\n     <g id=\"line2d_24\">\n      <g>\n       <use xlink:href=\"#mc9db8441ac\" x=\"331.514225\" y=\"131.637466\" style=\"stroke: #000000; stroke-width: 0.8\"/>\n      </g>\n     </g>\n     <g id=\"text_126\">\n      <!-- 600 -->\n      <g transform=\"translate(338.514225 135.436685) scale(0.1 -0.1)\">\n       <use xlink:href=\"#DejaVuSans-36\"/>\n       <use xlink:href=\"#DejaVuSans-30\" x=\"63.623047\"/>\n       <use xlink:href=\"#DejaVuSans-30\" x=\"127.246094\"/>\n      </g>\n     </g>\n    </g>\n    <g id=\"ytick_15\">\n     <g id=\"line2d_25\">\n      <g>\n       <use xlink:href=\"#mc9db8441ac\" x=\"331.514225\" y=\"84.412621\" style=\"stroke: #000000; stroke-width: 0.8\"/>\n      </g>\n     </g>\n     <g id=\"text_127\">\n      <!-- 800 -->\n      <g transform=\"translate(338.514225 88.21184) scale(0.1 -0.1)\">\n       <use xlink:href=\"#DejaVuSans-38\"/>\n       <use xlink:href=\"#DejaVuSans-30\" x=\"63.623047\"/>\n       <use xlink:href=\"#DejaVuSans-30\" x=\"127.246094\"/>\n      </g>\n     </g>\n    </g>\n    <g id=\"ytick_16\">\n     <g id=\"line2d_26\">\n      <g>\n       <use xlink:href=\"#mc9db8441ac\" x=\"331.514225\" y=\"37.187776\" style=\"stroke: #000000; stroke-width: 0.8\"/>\n      </g>\n     </g>\n     <g id=\"text_128\">\n      <!-- 1000 -->\n      <g transform=\"translate(338.514225 40.986995) scale(0.1 -0.1)\">\n       <use xlink:href=\"#DejaVuSans-31\"/>\n       <use xlink:href=\"#DejaVuSans-30\" x=\"63.623047\"/>\n       <use xlink:href=\"#DejaVuSans-30\" x=\"127.246094\"/>\n       <use xlink:href=\"#DejaVuSans-30\" x=\"190.869141\"/>\n      </g>\n     </g>\n    </g>\n   </g>\n   <g id=\"LineCollection_1\"/>\n   <g id=\"patch_8\">\n    <path d=\"M 318.208625 273.312 \nL 324.861425 273.312 \nL 331.514225 273.312 \nL 331.514225 7.2 \nL 324.861425 7.2 \nL 318.208625 7.2 \nL 318.208625 273.312 \nz\n\" style=\"fill: none; stroke: #000000; stroke-width: 0.8; stroke-linejoin: miter; stroke-linecap: square\"/>\n   </g>\n  </g>\n </g>\n <defs>\n  <clipPath id=\"p4323b277d2\">\n   <rect x=\"34.240625\" y=\"7.2\" width=\"266.112\" height=\"266.112\"/>\n  </clipPath>\n </defs>\n</svg>\n"
          },
          "metadata": {}
        }
      ],
      "source": [
        "ConfusionMatrixDisplay(confusion_matrix(test_targets.numpy(),predictions)).plot()"
      ]
    },
    {
      "cell_type": "markdown",
      "metadata": {
        "id": "5R-p-EOD7mWg"
      },
      "source": [
        "## Predicting a given image"
      ]
    },
    {
      "cell_type": "code",
      "execution_count": null,
      "metadata": {
        "colab": {
          "base_uri": "https://localhost:8080/",
          "height": 435
        },
        "id": "ZwScVOYh7eDQ",
        "outputId": "5d35a502-247e-4564-fcc4-24c20fcdd91f"
      },
      "outputs": [
        {
          "output_type": "execute_result",
          "data": {
            "text/plain": [
              "<matplotlib.image.AxesImage at 0x7fbd12ccc640>"
            ]
          },
          "metadata": {},
          "execution_count": 66
        },
        {
          "output_type": "display_data",
          "data": {
            "text/plain": [
              "<Figure size 640x480 with 1 Axes>"
            ],
            "image/svg+xml": "<?xml version=\"1.0\" encoding=\"utf-8\" standalone=\"no\"?>\n<!DOCTYPE svg PUBLIC \"-//W3C//DTD SVG 1.1//EN\"\n  \"http://www.w3.org/Graphics/SVG/1.1/DTD/svg11.dtd\">\n<svg xmlns:xlink=\"http://www.w3.org/1999/xlink\" width=\"300.237pt\" height=\"297.190125pt\" viewBox=\"0 0 300.237 297.190125\" xmlns=\"http://www.w3.org/2000/svg\" version=\"1.1\">\n <metadata>\n  <rdf:RDF xmlns:dc=\"http://purl.org/dc/elements/1.1/\" xmlns:cc=\"http://creativecommons.org/ns#\" xmlns:rdf=\"http://www.w3.org/1999/02/22-rdf-syntax-ns#\">\n   <cc:Work>\n    <dc:type rdf:resource=\"http://purl.org/dc/dcmitype/StillImage\"/>\n    <dc:date>2024-06-12T16:09:04.484456</dc:date>\n    <dc:format>image/svg+xml</dc:format>\n    <dc:creator>\n     <cc:Agent>\n      <dc:title>Matplotlib v3.7.1, https://matplotlib.org/</dc:title>\n     </cc:Agent>\n    </dc:creator>\n   </cc:Work>\n  </rdf:RDF>\n </metadata>\n <defs>\n  <style type=\"text/css\">*{stroke-linejoin: round; stroke-linecap: butt}</style>\n </defs>\n <g id=\"figure_1\">\n  <g id=\"patch_1\">\n   <path d=\"M -0 297.190125 \nL 300.237 297.190125 \nL 300.237 0 \nL -0 0 \nz\n\" style=\"fill: #ffffff\"/>\n  </g>\n  <g id=\"axes_1\">\n   <g id=\"patch_2\">\n    <path d=\"M 26.925 273.312 \nL 293.037 273.312 \nL 293.037 7.2 \nL 26.925 7.2 \nz\n\" style=\"fill: #ffffff\"/>\n   </g>\n   <g clip-path=\"url(#pa6c4e4c245)\">\n    <image xlink:href=\"data:image/png;base64,\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\" id=\"image071bc84334\" transform=\"scale(1 -1) translate(0 -266.4)\" x=\"26.925\" y=\"-6.912\" width=\"266.4\" height=\"266.4\"/>\n   </g>\n   <g id=\"matplotlib.axis_1\">\n    <g id=\"xtick_1\">\n     <g id=\"line2d_1\">\n      <defs>\n       <path id=\"m7af9426903\" d=\"M 0 0 \nL 0 3.5 \n\" style=\"stroke: #000000; stroke-width: 0.8\"/>\n      </defs>\n      <g>\n       <use xlink:href=\"#m7af9426903\" x=\"31.677\" y=\"273.312\" style=\"stroke: #000000; stroke-width: 0.8\"/>\n      </g>\n     </g>\n     <g id=\"text_1\">\n      <!-- 0 -->\n      <g transform=\"translate(28.49575 287.910437) scale(0.1 -0.1)\">\n       <defs>\n        <path id=\"DejaVuSans-30\" d=\"M 2034 4250 \nQ 1547 4250 1301 3770 \nQ 1056 3291 1056 2328 \nQ 1056 1369 1301 889 \nQ 1547 409 2034 409 \nQ 2525 409 2770 889 \nQ 3016 1369 3016 2328 \nQ 3016 3291 2770 3770 \nQ 2525 4250 2034 4250 \nz\nM 2034 4750 \nQ 2819 4750 3233 4129 \nQ 3647 3509 3647 2328 \nQ 3647 1150 3233 529 \nQ 2819 -91 2034 -91 \nQ 1250 -91 836 529 \nQ 422 1150 422 2328 \nQ 422 3509 836 4129 \nQ 1250 4750 2034 4750 \nz\n\" transform=\"scale(0.015625)\"/>\n       </defs>\n       <use xlink:href=\"#DejaVuSans-30\"/>\n      </g>\n     </g>\n    </g>\n    <g id=\"xtick_2\">\n     <g id=\"line2d_2\">\n      <g>\n       <use xlink:href=\"#m7af9426903\" x=\"79.197\" y=\"273.312\" style=\"stroke: #000000; stroke-width: 0.8\"/>\n      </g>\n     </g>\n     <g id=\"text_2\">\n      <!-- 5 -->\n      <g transform=\"translate(76.01575 287.910437) scale(0.1 -0.1)\">\n       <defs>\n        <path id=\"DejaVuSans-35\" d=\"M 691 4666 \nL 3169 4666 \nL 3169 4134 \nL 1269 4134 \nL 1269 2991 \nQ 1406 3038 1543 3061 \nQ 1681 3084 1819 3084 \nQ 2600 3084 3056 2656 \nQ 3513 2228 3513 1497 \nQ 3513 744 3044 326 \nQ 2575 -91 1722 -91 \nQ 1428 -91 1123 -41 \nQ 819 9 494 109 \nL 494 744 \nQ 775 591 1075 516 \nQ 1375 441 1709 441 \nQ 2250 441 2565 725 \nQ 2881 1009 2881 1497 \nQ 2881 1984 2565 2268 \nQ 2250 2553 1709 2553 \nQ 1456 2553 1204 2497 \nQ 953 2441 691 2322 \nL 691 4666 \nz\n\" transform=\"scale(0.015625)\"/>\n       </defs>\n       <use xlink:href=\"#DejaVuSans-35\"/>\n      </g>\n     </g>\n    </g>\n    <g id=\"xtick_3\">\n     <g id=\"line2d_3\">\n      <g>\n       <use xlink:href=\"#m7af9426903\" x=\"126.717\" y=\"273.312\" style=\"stroke: #000000; stroke-width: 0.8\"/>\n      </g>\n     </g>\n     <g id=\"text_3\">\n      <!-- 10 -->\n      <g transform=\"translate(120.3545 287.910437) scale(0.1 -0.1)\">\n       <defs>\n        <path id=\"DejaVuSans-31\" d=\"M 794 531 \nL 1825 531 \nL 1825 4091 \nL 703 3866 \nL 703 4441 \nL 1819 4666 \nL 2450 4666 \nL 2450 531 \nL 3481 531 \nL 3481 0 \nL 794 0 \nL 794 531 \nz\n\" transform=\"scale(0.015625)\"/>\n       </defs>\n       <use xlink:href=\"#DejaVuSans-31\"/>\n       <use xlink:href=\"#DejaVuSans-30\" x=\"63.623047\"/>\n      </g>\n     </g>\n    </g>\n    <g id=\"xtick_4\">\n     <g id=\"line2d_4\">\n      <g>\n       <use xlink:href=\"#m7af9426903\" x=\"174.237\" y=\"273.312\" style=\"stroke: #000000; stroke-width: 0.8\"/>\n      </g>\n     </g>\n     <g id=\"text_4\">\n      <!-- 15 -->\n      <g transform=\"translate(167.8745 287.910437) scale(0.1 -0.1)\">\n       <use xlink:href=\"#DejaVuSans-31\"/>\n       <use xlink:href=\"#DejaVuSans-35\" x=\"63.623047\"/>\n      </g>\n     </g>\n    </g>\n    <g id=\"xtick_5\">\n     <g id=\"line2d_5\">\n      <g>\n       <use xlink:href=\"#m7af9426903\" x=\"221.757\" y=\"273.312\" style=\"stroke: #000000; stroke-width: 0.8\"/>\n      </g>\n     </g>\n     <g id=\"text_5\">\n      <!-- 20 -->\n      <g transform=\"translate(215.3945 287.910437) scale(0.1 -0.1)\">\n       <defs>\n        <path id=\"DejaVuSans-32\" d=\"M 1228 531 \nL 3431 531 \nL 3431 0 \nL 469 0 \nL 469 531 \nQ 828 903 1448 1529 \nQ 2069 2156 2228 2338 \nQ 2531 2678 2651 2914 \nQ 2772 3150 2772 3378 \nQ 2772 3750 2511 3984 \nQ 2250 4219 1831 4219 \nQ 1534 4219 1204 4116 \nQ 875 4013 500 3803 \nL 500 4441 \nQ 881 4594 1212 4672 \nQ 1544 4750 1819 4750 \nQ 2544 4750 2975 4387 \nQ 3406 4025 3406 3419 \nQ 3406 3131 3298 2873 \nQ 3191 2616 2906 2266 \nQ 2828 2175 2409 1742 \nQ 1991 1309 1228 531 \nz\n\" transform=\"scale(0.015625)\"/>\n       </defs>\n       <use xlink:href=\"#DejaVuSans-32\"/>\n       <use xlink:href=\"#DejaVuSans-30\" x=\"63.623047\"/>\n      </g>\n     </g>\n    </g>\n    <g id=\"xtick_6\">\n     <g id=\"line2d_6\">\n      <g>\n       <use xlink:href=\"#m7af9426903\" x=\"269.277\" y=\"273.312\" style=\"stroke: #000000; stroke-width: 0.8\"/>\n      </g>\n     </g>\n     <g id=\"text_6\">\n      <!-- 25 -->\n      <g transform=\"translate(262.9145 287.910437) scale(0.1 -0.1)\">\n       <use xlink:href=\"#DejaVuSans-32\"/>\n       <use xlink:href=\"#DejaVuSans-35\" x=\"63.623047\"/>\n      </g>\n     </g>\n    </g>\n   </g>\n   <g id=\"matplotlib.axis_2\">\n    <g id=\"ytick_1\">\n     <g id=\"line2d_7\">\n      <defs>\n       <path id=\"m04087bdb7d\" d=\"M 0 0 \nL -3.5 0 \n\" style=\"stroke: #000000; stroke-width: 0.8\"/>\n      </defs>\n      <g>\n       <use xlink:href=\"#m04087bdb7d\" x=\"26.925\" y=\"11.952\" style=\"stroke: #000000; stroke-width: 0.8\"/>\n      </g>\n     </g>\n     <g id=\"text_7\">\n      <!-- 0 -->\n      <g transform=\"translate(13.5625 15.751219) scale(0.1 -0.1)\">\n       <use xlink:href=\"#DejaVuSans-30\"/>\n      </g>\n     </g>\n    </g>\n    <g id=\"ytick_2\">\n     <g id=\"line2d_8\">\n      <g>\n       <use xlink:href=\"#m04087bdb7d\" x=\"26.925\" y=\"59.472\" style=\"stroke: #000000; stroke-width: 0.8\"/>\n      </g>\n     </g>\n     <g id=\"text_8\">\n      <!-- 5 -->\n      <g transform=\"translate(13.5625 63.271219) scale(0.1 -0.1)\">\n       <use xlink:href=\"#DejaVuSans-35\"/>\n      </g>\n     </g>\n    </g>\n    <g id=\"ytick_3\">\n     <g id=\"line2d_9\">\n      <g>\n       <use xlink:href=\"#m04087bdb7d\" x=\"26.925\" y=\"106.992\" style=\"stroke: #000000; stroke-width: 0.8\"/>\n      </g>\n     </g>\n     <g id=\"text_9\">\n      <!-- 10 -->\n      <g transform=\"translate(7.2 110.791219) scale(0.1 -0.1)\">\n       <use xlink:href=\"#DejaVuSans-31\"/>\n       <use xlink:href=\"#DejaVuSans-30\" x=\"63.623047\"/>\n      </g>\n     </g>\n    </g>\n    <g id=\"ytick_4\">\n     <g id=\"line2d_10\">\n      <g>\n       <use xlink:href=\"#m04087bdb7d\" x=\"26.925\" y=\"154.512\" style=\"stroke: #000000; stroke-width: 0.8\"/>\n      </g>\n     </g>\n     <g id=\"text_10\">\n      <!-- 15 -->\n      <g transform=\"translate(7.2 158.311219) scale(0.1 -0.1)\">\n       <use xlink:href=\"#DejaVuSans-31\"/>\n       <use xlink:href=\"#DejaVuSans-35\" x=\"63.623047\"/>\n      </g>\n     </g>\n    </g>\n    <g id=\"ytick_5\">\n     <g id=\"line2d_11\">\n      <g>\n       <use xlink:href=\"#m04087bdb7d\" x=\"26.925\" y=\"202.032\" style=\"stroke: #000000; stroke-width: 0.8\"/>\n      </g>\n     </g>\n     <g id=\"text_11\">\n      <!-- 20 -->\n      <g transform=\"translate(7.2 205.831219) scale(0.1 -0.1)\">\n       <use xlink:href=\"#DejaVuSans-32\"/>\n       <use xlink:href=\"#DejaVuSans-30\" x=\"63.623047\"/>\n      </g>\n     </g>\n    </g>\n    <g id=\"ytick_6\">\n     <g id=\"line2d_12\">\n      <g>\n       <use xlink:href=\"#m04087bdb7d\" x=\"26.925\" y=\"249.552\" style=\"stroke: #000000; stroke-width: 0.8\"/>\n      </g>\n     </g>\n     <g id=\"text_12\">\n      <!-- 25 -->\n      <g transform=\"translate(7.2 253.351219) scale(0.1 -0.1)\">\n       <use xlink:href=\"#DejaVuSans-32\"/>\n       <use xlink:href=\"#DejaVuSans-35\" x=\"63.623047\"/>\n      </g>\n     </g>\n    </g>\n   </g>\n   <g id=\"patch_3\">\n    <path d=\"M 26.925 273.312 \nL 26.925 7.2 \n\" style=\"fill: none; stroke: #000000; stroke-width: 0.8; stroke-linejoin: miter; stroke-linecap: square\"/>\n   </g>\n   <g id=\"patch_4\">\n    <path d=\"M 293.037 273.312 \nL 293.037 7.2 \n\" style=\"fill: none; stroke: #000000; stroke-width: 0.8; stroke-linejoin: miter; stroke-linecap: square\"/>\n   </g>\n   <g id=\"patch_5\">\n    <path d=\"M 26.925 273.312 \nL 293.037 273.312 \n\" style=\"fill: none; stroke: #000000; stroke-width: 0.8; stroke-linejoin: miter; stroke-linecap: square\"/>\n   </g>\n   <g id=\"patch_6\">\n    <path d=\"M 26.925 7.2 \nL 293.037 7.2 \n\" style=\"fill: none; stroke: #000000; stroke-width: 0.8; stroke-linejoin: miter; stroke-linecap: square\"/>\n   </g>\n  </g>\n </g>\n <defs>\n  <clipPath id=\"pa6c4e4c245\">\n   <rect x=\"26.925\" y=\"7.2\" width=\"266.112\" height=\"266.112\"/>\n  </clipPath>\n </defs>\n</svg>\n"
          },
          "metadata": {}
        }
      ],
      "source": [
        "my_number = test_inputs[0]\n",
        "plt.imshow(np.reshape(my_number,(28,28)))"
      ]
    },
    {
      "cell_type": "code",
      "execution_count": null,
      "metadata": {
        "colab": {
          "base_uri": "https://localhost:8080/"
        },
        "id": "fDUyq2LQ79yp",
        "outputId": "11c30f66-cb39-4958-a568-3605d714a774"
      },
      "outputs": [
        {
          "output_type": "execute_result",
          "data": {
            "text/plain": [
              "2"
            ]
          },
          "metadata": {},
          "execution_count": 67
        }
      ],
      "source": [
        "predictions[0]"
      ]
    },
    {
      "cell_type": "code",
      "execution_count": null,
      "metadata": {
        "colab": {
          "base_uri": "https://localhost:8080/",
          "height": 490
        },
        "id": "rHwA0vDkPGle",
        "outputId": "bda02331-97e7-48df-b48a-8d2d65592e9c"
      },
      "outputs": [
        {
          "output_type": "display_data",
          "data": {
            "text/plain": [
              "<Figure size 1300x600 with 21 Axes>"
            ],
            "image/svg+xml": "<?xml version=\"1.0\" encoding=\"utf-8\" standalone=\"no\"?>\n<!DOCTYPE svg PUBLIC \"-//W3C//DTD SVG 1.1//EN\"\n  \"http://www.w3.org/Graphics/SVG/1.1/DTD/svg11.dtd\">\n<svg xmlns:xlink=\"http://www.w3.org/1999/xlink\" width=\"745.442835pt\" height=\"351.266558pt\" viewBox=\"0 0 745.442835 351.266558\" xmlns=\"http://www.w3.org/2000/svg\" version=\"1.1\">\n <metadata>\n  <rdf:RDF xmlns:dc=\"http://purl.org/dc/elements/1.1/\" xmlns:cc=\"http://creativecommons.org/ns#\" xmlns:rdf=\"http://www.w3.org/1999/02/22-rdf-syntax-ns#\">\n   <cc:Work>\n    <dc:type rdf:resource=\"http://purl.org/dc/dcmitype/StillImage\"/>\n    <dc:date>2024-06-12T16:09:09.571210</dc:date>\n    <dc:format>image/svg+xml</dc:format>\n    <dc:creator>\n     <cc:Agent>\n      <dc:title>Matplotlib v3.7.1, https://matplotlib.org/</dc:title>\n     </cc:Agent>\n    </dc:creator>\n   </cc:Work>\n  </rdf:RDF>\n </metadata>\n <defs>\n  <style type=\"text/css\">*{stroke-linejoin: round; stroke-linecap: butt}</style>\n </defs>\n <g id=\"figure_1\">\n  <g id=\"patch_1\">\n   <path d=\"M 0 351.266558 \nL 745.442835 351.266558 \nL 745.442835 0 \nL 0 0 \nz\n\" style=\"fill: #ffffff\"/>\n  </g>\n  <g id=\"axes_1\">\n   <g id=\"patch_2\">\n    <path d=\"M 10.021418 109.261852 \nL 98.484832 109.261852 \nL 98.484832 20.798437 \nL 10.021418 20.798437 \nz\n\" style=\"fill: #ffffff\"/>\n   </g>\n   <g clip-path=\"url(#pf77d0c34bd)\">\n    <image xlink:href=\"data:image/png;base64,\niVBORw0KGgoAAAANSUhEUgAAAHsAAAB7CAYAAABUx/9/AAAC3ElEQVR4nO3cP05qQRhA8YFoIp2JiZVRCmqglhiX4A400dZNoB2LIGwBdwAFtaUhMWpjZWdDha941TDkQZ7A/XPOr/vIJZnkZDI3ermVEMJPEEI16wVod4wNYmwQY4MYG8TYIMYGMTaIsUGMDWJsEGOD7GW9gF3odDrRfH19nVxze3sbzY+Pj8k1Dw8Pm13YjrmzQYwNYmwQY4NUAuBJlX6/H803NzfJNZ+fn9F8cXGRXPP+/r7Rde2aOxvE2CDGBinlH1Xq9Xo0N5vNld85ODiI5rOzs+Qaz2wVhrFBjA2COLNbrdbK7xweHkbz5eVlcs1oNPrNsjLnzgYxNoixQYwNUsobtEXVavWfcwghfH19RfPT09NW15QFdzaIsUGMDVLKM3vxadL5fL7yO9/f39H8/Py8ySXlgjsbxNggxgYxNkgpb9AWf8qzjl6vt4WV5Is7G8TYIMYGKeWZ/T9eXl6yXsLWubNBjA1ibJDCn9mLT5KGkP66Q3+5s0GMDWJsEGODFP4GbfFnOyGEsL+/H83rPF16d3cXzePx+PeLyxl3NoixQYwNUspXY72+vkbz6elpNC87s9/e3qK50WhsfmEZc2eDGBvE2CDGBjE2iLFBjA1ibJDC/yNkmcVXZNzf32e0knxxZ4MYG8TYIKU8s8/Pz7NeQi65s0GMDWJsEGODlPIG7fj4OJrXebq0UqlsdU154M4GMTaIsUEKf2a32+3ks1qtFs3rvLv056d0D9km3NkgxgYxNkjhz+yrq6vks6OjowxWkn/ubBBjgxgbxNgghb9B25ThcJj1ErbOnQ1ibBBjgxT+zP74+Eg+m81m0bzOu0w9s1UqxgYxNoixQQp/gzYYDJLPTk5Oornb7UbzZDJJvjOdTje6rjxyZ4MYG8TYIKV8d6mWc2eDGBvE2CDGBjE2iLFBjA1ibBBjgxgbxNggxgYxNoixQYwNYmwQY4MYG8TYIMYGMTbIHyWGWAarTKrIAAAAAElFTkSuQmCC\" id=\"imagece99c20aca\" transform=\"scale(1 -1) translate(0 -88.56)\" x=\"10.021418\" y=\"-20.701852\" width=\"88.56\" height=\"88.56\"/>\n   </g>\n   <g id=\"matplotlib.axis_1\"/>\n   <g id=\"matplotlib.axis_2\"/>\n   <g id=\"patch_3\">\n    <path d=\"M 10.021418 109.261852 \nL 10.021418 20.798437 \n\" style=\"fill: none; stroke: #000000; stroke-width: 0.8; stroke-linejoin: miter; stroke-linecap: square\"/>\n   </g>\n   <g id=\"patch_4\">\n    <path d=\"M 98.484832 109.261852 \nL 98.484832 20.798437 \n\" style=\"fill: none; stroke: #000000; stroke-width: 0.8; stroke-linejoin: miter; stroke-linecap: square\"/>\n   </g>\n   <g id=\"patch_5\">\n    <path d=\"M 10.021418 109.261852 \nL 98.484832 109.261852 \n\" style=\"fill: none; stroke: #000000; stroke-width: 0.8; stroke-linejoin: miter; stroke-linecap: square\"/>\n   </g>\n   <g id=\"patch_6\">\n    <path d=\"M 10.021418 20.798437 \nL 98.484832 20.798437 \n\" style=\"fill: none; stroke: #000000; stroke-width: 0.8; stroke-linejoin: miter; stroke-linecap: square\"/>\n   </g>\n   <g id=\"text_1\">\n    <!-- True 1, predicted 1 -->\n    <g transform=\"translate(7.2 14.798437) scale(0.1 -0.1)\">\n     <defs>\n      <path id=\"DejaVuSans-54\" d=\"M -19 4666 \nL 3928 4666 \nL 3928 4134 \nL 2272 4134 \nL 2272 0 \nL 1638 0 \nL 1638 4134 \nL -19 4134 \nL -19 4666 \nz\n\" transform=\"scale(0.015625)\"/>\n      <path id=\"DejaVuSans-72\" d=\"M 2631 2963 \nQ 2534 3019 2420 3045 \nQ 2306 3072 2169 3072 \nQ 1681 3072 1420 2755 \nQ 1159 2438 1159 1844 \nL 1159 0 \nL 581 0 \nL 581 3500 \nL 1159 3500 \nL 1159 2956 \nQ 1341 3275 1631 3429 \nQ 1922 3584 2338 3584 \nQ 2397 3584 2469 3576 \nQ 2541 3569 2628 3553 \nL 2631 2963 \nz\n\" transform=\"scale(0.015625)\"/>\n      <path id=\"DejaVuSans-75\" d=\"M 544 1381 \nL 544 3500 \nL 1119 3500 \nL 1119 1403 \nQ 1119 906 1312 657 \nQ 1506 409 1894 409 \nQ 2359 409 2629 706 \nQ 2900 1003 2900 1516 \nL 2900 3500 \nL 3475 3500 \nL 3475 0 \nL 2900 0 \nL 2900 538 \nQ 2691 219 2414 64 \nQ 2138 -91 1772 -91 \nQ 1169 -91 856 284 \nQ 544 659 544 1381 \nz\nM 1991 3584 \nL 1991 3584 \nz\n\" transform=\"scale(0.015625)\"/>\n      <path id=\"DejaVuSans-65\" d=\"M 3597 1894 \nL 3597 1613 \nL 953 1613 \nQ 991 1019 1311 708 \nQ 1631 397 2203 397 \nQ 2534 397 2845 478 \nQ 3156 559 3463 722 \nL 3463 178 \nQ 3153 47 2828 -22 \nQ 2503 -91 2169 -91 \nQ 1331 -91 842 396 \nQ 353 884 353 1716 \nQ 353 2575 817 3079 \nQ 1281 3584 2069 3584 \nQ 2775 3584 3186 3129 \nQ 3597 2675 3597 1894 \nz\nM 3022 2063 \nQ 3016 2534 2758 2815 \nQ 2500 3097 2075 3097 \nQ 1594 3097 1305 2825 \nQ 1016 2553 972 2059 \nL 3022 2063 \nz\n\" transform=\"scale(0.015625)\"/>\n      <path id=\"DejaVuSans-20\" transform=\"scale(0.015625)\"/>\n      <path id=\"DejaVuSans-31\" d=\"M 794 531 \nL 1825 531 \nL 1825 4091 \nL 703 3866 \nL 703 4441 \nL 1819 4666 \nL 2450 4666 \nL 2450 531 \nL 3481 531 \nL 3481 0 \nL 794 0 \nL 794 531 \nz\n\" transform=\"scale(0.015625)\"/>\n      <path id=\"DejaVuSans-2c\" d=\"M 750 794 \nL 1409 794 \nL 1409 256 \nL 897 -744 \nL 494 -744 \nL 750 256 \nL 750 794 \nz\n\" transform=\"scale(0.015625)\"/>\n      <path id=\"DejaVuSans-70\" d=\"M 1159 525 \nL 1159 -1331 \nL 581 -1331 \nL 581 3500 \nL 1159 3500 \nL 1159 2969 \nQ 1341 3281 1617 3432 \nQ 1894 3584 2278 3584 \nQ 2916 3584 3314 3078 \nQ 3713 2572 3713 1747 \nQ 3713 922 3314 415 \nQ 2916 -91 2278 -91 \nQ 1894 -91 1617 61 \nQ 1341 213 1159 525 \nz\nM 3116 1747 \nQ 3116 2381 2855 2742 \nQ 2594 3103 2138 3103 \nQ 1681 3103 1420 2742 \nQ 1159 2381 1159 1747 \nQ 1159 1113 1420 752 \nQ 1681 391 2138 391 \nQ 2594 391 2855 752 \nQ 3116 1113 3116 1747 \nz\n\" transform=\"scale(0.015625)\"/>\n      <path id=\"DejaVuSans-64\" d=\"M 2906 2969 \nL 2906 4863 \nL 3481 4863 \nL 3481 0 \nL 2906 0 \nL 2906 525 \nQ 2725 213 2448 61 \nQ 2172 -91 1784 -91 \nQ 1150 -91 751 415 \nQ 353 922 353 1747 \nQ 353 2572 751 3078 \nQ 1150 3584 1784 3584 \nQ 2172 3584 2448 3432 \nQ 2725 3281 2906 2969 \nz\nM 947 1747 \nQ 947 1113 1208 752 \nQ 1469 391 1925 391 \nQ 2381 391 2643 752 \nQ 2906 1113 2906 1747 \nQ 2906 2381 2643 2742 \nQ 2381 3103 1925 3103 \nQ 1469 3103 1208 2742 \nQ 947 2381 947 1747 \nz\n\" transform=\"scale(0.015625)\"/>\n      <path id=\"DejaVuSans-69\" d=\"M 603 3500 \nL 1178 3500 \nL 1178 0 \nL 603 0 \nL 603 3500 \nz\nM 603 4863 \nL 1178 4863 \nL 1178 4134 \nL 603 4134 \nL 603 4863 \nz\n\" transform=\"scale(0.015625)\"/>\n      <path id=\"DejaVuSans-63\" d=\"M 3122 3366 \nL 3122 2828 \nQ 2878 2963 2633 3030 \nQ 2388 3097 2138 3097 \nQ 1578 3097 1268 2742 \nQ 959 2388 959 1747 \nQ 959 1106 1268 751 \nQ 1578 397 2138 397 \nQ 2388 397 2633 464 \nQ 2878 531 3122 666 \nL 3122 134 \nQ 2881 22 2623 -34 \nQ 2366 -91 2075 -91 \nQ 1284 -91 818 406 \nQ 353 903 353 1747 \nQ 353 2603 823 3093 \nQ 1294 3584 2113 3584 \nQ 2378 3584 2631 3529 \nQ 2884 3475 3122 3366 \nz\n\" transform=\"scale(0.015625)\"/>\n      <path id=\"DejaVuSans-74\" d=\"M 1172 4494 \nL 1172 3500 \nL 2356 3500 \nL 2356 3053 \nL 1172 3053 \nL 1172 1153 \nQ 1172 725 1289 603 \nQ 1406 481 1766 481 \nL 2356 481 \nL 2356 0 \nL 1766 0 \nQ 1100 0 847 248 \nQ 594 497 594 1153 \nL 594 3053 \nL 172 3053 \nL 172 3500 \nL 594 3500 \nL 594 4494 \nL 1172 4494 \nz\n\" transform=\"scale(0.015625)\"/>\n     </defs>\n     <use xlink:href=\"#DejaVuSans-54\"/>\n     <use xlink:href=\"#DejaVuSans-72\" x=\"46.333984\"/>\n     <use xlink:href=\"#DejaVuSans-75\" x=\"87.447266\"/>\n     <use xlink:href=\"#DejaVuSans-65\" x=\"150.826172\"/>\n     <use xlink:href=\"#DejaVuSans-20\" x=\"212.349609\"/>\n     <use xlink:href=\"#DejaVuSans-31\" x=\"244.136719\"/>\n     <use xlink:href=\"#DejaVuSans-2c\" x=\"307.759766\"/>\n     <use xlink:href=\"#DejaVuSans-20\" x=\"339.546875\"/>\n     <use xlink:href=\"#DejaVuSans-70\" x=\"371.333984\"/>\n     <use xlink:href=\"#DejaVuSans-72\" x=\"434.810547\"/>\n     <use xlink:href=\"#DejaVuSans-65\" x=\"473.673828\"/>\n     <use xlink:href=\"#DejaVuSans-64\" x=\"535.197266\"/>\n     <use xlink:href=\"#DejaVuSans-69\" x=\"598.673828\"/>\n     <use xlink:href=\"#DejaVuSans-63\" x=\"626.457031\"/>\n     <use xlink:href=\"#DejaVuSans-74\" x=\"681.4375\"/>\n     <use xlink:href=\"#DejaVuSans-65\" x=\"720.646484\"/>\n     <use xlink:href=\"#DejaVuSans-64\" x=\"782.169922\"/>\n     <use xlink:href=\"#DejaVuSans-20\" x=\"845.646484\"/>\n     <use xlink:href=\"#DejaVuSans-31\" x=\"877.433594\"/>\n    </g>\n   </g>\n  </g>\n  <g id=\"axes_2\">\n   <g id=\"patch_7\">\n    <path d=\"M 116.177515 109.261852 \nL 204.64093 109.261852 \nL 204.64093 20.798437 \nL 116.177515 20.798437 \nz\n\" style=\"fill: #ffffff\"/>\n   </g>\n   <g clip-path=\"url(#pce11429310)\">\n    <image xlink:href=\"data:image/png;base64,\niVBORw0KGgoAAAANSUhEUgAAAHsAAAB7CAYAAABUx/9/AAAEZ0lEQVR4nO2dzSt1QRzHB4+U97CgJKxEUeIPIGIjKzssKEuxtEGyomwU5X+43awkNiglJIoNNl6KhZWXsnA9m2fx/GbGPWfuc+45p+f7/ey+Y2bO1KdpjjNn7slRSn0rAkFu1AMg4UHZQFA2EJQNBGUDQdlAUDYQlA0EZQNB2UBQNhCUDQRlA0HZQFA2EJQNBGUDQdlAUDYQlA0EZQPxK8qLFxUViTw5OWnUWVxcdO43lUqJvLCwIPLS0pLR5vPz0/k6QZGfny9yQUGByG9vb4FchzMbCMoGgrKByFERngjZ2NgQeXx8PJTr7u3tGWXz8/Mi7+/vO/ebm2vOnYaGBpEHBgaMOt3d3SI3NzeLvLu7a7TZ3t4WOZlMeo/Pswb5b6BsICgbCMoGIrQbtOLiYqPs/Pxc5Pr6es9+rq6uPPutq6tzG5xS6uXlReSJiQmjzsPDg8idnZ0i9/b2Gm0GBwedx+IH/cHQzMyMZxvObCAoGwjKBiK0jZCRkRGjzM8afXx8LHJPT4/I5eXlRpuxsTGR5+bmPK9TWVkpciKR8GyTLY6OjkReXl426lxcXDj3y5kNBGUDQdlAUDYQod2g9ff3Z9ROf2ujtbVV5MPDQ6PN5uamyH5u0MLCNt6VlRWR9R2tj4+PQK7NmQ0EZQNB2UCEtmY/Pj5m1E5fo/X1TN/AUEqp0tLSjK71r6yurhpl+npsG+/7+3vWxvQ3nNlAUDYQlA1EaGu2bXNd3/xvb2/37KewsDBt9sPX15dnnby8POd+n5+fjbK7uzvnfrIFZzYQlA0EZQNB2UBEevxHf8vEdhM3Ojqato/19XWj7PX1NW0b/cGMUkqVlJSIbDsipB+t1bEdrS0rK0vbJkw4s4GgbCAoG4hI1+w4Y7t/8PrJD67ZJDZQNhCUDQRlA8EbtB+orq42yvRjObW1tSLbdtP0I7tbW1sBjC4zOLOBoGwgKBuISH+7NM48PT0ZZV6/IWp7u8XPseSw4MwGgrKBoGwg+H+2A5eXlyI3NTV5tjk7OxO5o6Mj0DG5wJkNBGUDQdlAUDYQfKjiwMnJich+btCqqqqyNRxnOLOBoGwgKBsIrtkOHBwciDw8POzcJko4s4GgbCAoGwiu2Q5MT0+n/fv3t7mntLOzk63hOMOZDQRlA0HZQFA2EHxT5QdsR21PT09F1r+gyyO7JDZQNhCUDURoD1W6uroC6Uf/qJvXKQ0btpcOampqRJ6amjLq6Gu0Tpx+p9QGZzYQlA0EZQNB2UCE9lDFtiOUSqWc+9GP4GTygbPGxkajTP/Krh9ubm5E1r8ArJRS9/f3zv1mC85sICgbCMoGIrSHKrY1OxNaWloC6ScTrq+vRZ6dnRU5TuuzDc5sICgbCMoGIrT/sysqKoyyvr4+kdva2ow6+ubD0NBQsAP7QyKREPn29taos7a2JnLcNz50OLOBoGwgKBsIygaCb5cCwZkNBGUDQdlAUDYQlA0EZQNB2UBQNhCUDQRlA0HZQFA2EL8BwF/up2yiaJIAAAAASUVORK5CYII=\" id=\"imagef3b3fc5cb1\" transform=\"scale(1 -1) translate(0 -88.56)\" x=\"116.177515\" y=\"-20.701852\" width=\"88.56\" height=\"88.56\"/>\n   </g>\n   <g id=\"matplotlib.axis_3\"/>\n   <g id=\"matplotlib.axis_4\"/>\n   <g id=\"patch_8\">\n    <path d=\"M 116.177515 109.261852 \nL 116.177515 20.798437 \n\" style=\"fill: none; stroke: #000000; stroke-width: 0.8; stroke-linejoin: miter; stroke-linecap: square\"/>\n   </g>\n   <g id=\"patch_9\">\n    <path d=\"M 204.64093 109.261852 \nL 204.64093 20.798437 \n\" style=\"fill: none; stroke: #000000; stroke-width: 0.8; stroke-linejoin: miter; stroke-linecap: square\"/>\n   </g>\n   <g id=\"patch_10\">\n    <path d=\"M 116.177515 109.261852 \nL 204.64093 109.261852 \n\" style=\"fill: none; stroke: #000000; stroke-width: 0.8; stroke-linejoin: miter; stroke-linecap: square\"/>\n   </g>\n   <g id=\"patch_11\">\n    <path d=\"M 116.177515 20.798437 \nL 204.64093 20.798437 \n\" style=\"fill: none; stroke: #000000; stroke-width: 0.8; stroke-linejoin: miter; stroke-linecap: square\"/>\n   </g>\n   <g id=\"text_2\">\n    <!-- True 2, predicted 2 -->\n    <g transform=\"translate(113.356098 14.798437) scale(0.1 -0.1)\">\n     <defs>\n      <path id=\"DejaVuSans-32\" d=\"M 1228 531 \nL 3431 531 \nL 3431 0 \nL 469 0 \nL 469 531 \nQ 828 903 1448 1529 \nQ 2069 2156 2228 2338 \nQ 2531 2678 2651 2914 \nQ 2772 3150 2772 3378 \nQ 2772 3750 2511 3984 \nQ 2250 4219 1831 4219 \nQ 1534 4219 1204 4116 \nQ 875 4013 500 3803 \nL 500 4441 \nQ 881 4594 1212 4672 \nQ 1544 4750 1819 4750 \nQ 2544 4750 2975 4387 \nQ 3406 4025 3406 3419 \nQ 3406 3131 3298 2873 \nQ 3191 2616 2906 2266 \nQ 2828 2175 2409 1742 \nQ 1991 1309 1228 531 \nz\n\" transform=\"scale(0.015625)\"/>\n     </defs>\n     <use xlink:href=\"#DejaVuSans-54\"/>\n     <use xlink:href=\"#DejaVuSans-72\" x=\"46.333984\"/>\n     <use xlink:href=\"#DejaVuSans-75\" x=\"87.447266\"/>\n     <use xlink:href=\"#DejaVuSans-65\" x=\"150.826172\"/>\n     <use xlink:href=\"#DejaVuSans-20\" x=\"212.349609\"/>\n     <use xlink:href=\"#DejaVuSans-32\" x=\"244.136719\"/>\n     <use xlink:href=\"#DejaVuSans-2c\" x=\"307.759766\"/>\n     <use xlink:href=\"#DejaVuSans-20\" x=\"339.546875\"/>\n     <use xlink:href=\"#DejaVuSans-70\" x=\"371.333984\"/>\n     <use xlink:href=\"#DejaVuSans-72\" x=\"434.810547\"/>\n     <use xlink:href=\"#DejaVuSans-65\" x=\"473.673828\"/>\n     <use xlink:href=\"#DejaVuSans-64\" x=\"535.197266\"/>\n     <use xlink:href=\"#DejaVuSans-69\" x=\"598.673828\"/>\n     <use xlink:href=\"#DejaVuSans-63\" x=\"626.457031\"/>\n     <use xlink:href=\"#DejaVuSans-74\" x=\"681.4375\"/>\n     <use xlink:href=\"#DejaVuSans-65\" x=\"720.646484\"/>\n     <use xlink:href=\"#DejaVuSans-64\" x=\"782.169922\"/>\n     <use xlink:href=\"#DejaVuSans-20\" x=\"845.646484\"/>\n     <use xlink:href=\"#DejaVuSans-32\" x=\"877.433594\"/>\n    </g>\n   </g>\n  </g>\n  <g id=\"axes_3\">\n   <g id=\"patch_12\">\n    <path d=\"M 222.333613 109.261852 \nL 310.797027 109.261852 \nL 310.797027 20.798437 \nL 222.333613 20.798437 \nz\n\" style=\"fill: #ffffff\"/>\n   </g>\n   <g clip-path=\"url(#p57d89541d2)\">\n    <image xlink:href=\"data:image/png;base64,\niVBORw0KGgoAAAANSUhEUgAAAHsAAAB7CAYAAABUx/9/AAADt0lEQVR4nO2dTSutURiG1z7tlAyMiBgRSUISRhIDyYQyNzD2H/wDJcUfUIbKwMBYFKXsMvIRBj5iQiIfOZNzBs963s7Rae+19+m6r9m9Wm8eXT2ttd/PXAjhK8BYWFhwY7e3tyavrKwkqiYdP8pdgEiHZIOQbBC5AFyzC4WCG7u7uzN5bGwsVTnJUGeDkGwQkg1CskHky11ACiYmJkzu7Ox0c9rb201uaGhwc25ubopbWGLU2SAkG4Rkg0CcVKmurjZ5amrKzVlbWzN5cnLSzdna2ipqXalRZ4OQbBCSDUKyQSBOqry8vJh8eXnp5nx+fprc0dHh5miDJv4bJBuEZINArNkxOzs7bmxvb68MlaRFnQ1CskFINgjkmj00NOTG2traylBJWtTZICQbhGSDkGwQyA3a4+OjG6utrTV5dHTUzVlcXCxZTSlQZ4OQbBCSDQK5Zh8fH7uxo6Mjk+vr61OVkwx1NgjJBiHZICQbBHKDlsXy8rLJ8/PzZaqkdKizQUg2CMkGgXhk9zs8PDyYfH9/7+b09fWZ/Pz8XNKaio06G4Rkg5BsEMjf2Y2NjW6sqqrK5Ky7TXt7e03OerKkklFng5BsEJINQrJBIDdo19fXbmx9fd3kubk5N2dmZsZkbdBExSLZICQbhC6E/GJ8fNzkrNdgnZ6emtzd3W1y/AquSkOdDUKyQUg2CMkGgTypksV3Nletra0mz87Omry6ulrUmoqNOhuEZIOQbBBlPakyMjJick9Pj5uzsbFh8sXFRUlqqampMfns7MzNqaurM/nk5MTk+ENwlYY6G4Rkg5BsEMnW7OnpaTe2tLRkclNTk5vz9vZm8v7+vsmHh4fumPijqbu7u9+u8zdZr8aKP+z2+vpqcn9/vzsm65Ue5UKdDUKyQUg2CMkGkWyDlrV52d7eNjl+f2ixyOVyJn99leZfHhgYcGMHBwcl+Vv/gjobhGSDkGwQyW5eOD8/d2OFQsHk+Av2IYTw/v5u8uDgoMkfHx/umKurK5NbWlpMjk+GhBBCPp//Y84ifrIkvjBSaaizQUg2CMkGkWzNjl89FUIIw8PDfz0uXsfjGx6yLjTENxk0NzebvLm56Y7p6uoyOevCTfw7+unpyeT493yloc4GIdkgJBuEZIPQI7sg1NkgJBuEZIOQbBCSDUKyQUg2CMkGIdkgJBuEZIOQbBCSDUKyQUg2CMkGIdkgJBuEZIOQbBCSDUKyQUg2CMkGIdkgJBuEZIOQbBCSDUKyQUg2CMkGIdkgJBvET1aps+nkwy5LAAAAAElFTkSuQmCC\" id=\"image9c41c9ecc9\" transform=\"scale(1 -1) translate(0 -88.56)\" x=\"222.333613\" y=\"-20.701852\" width=\"88.56\" height=\"88.56\"/>\n   </g>\n   <g id=\"matplotlib.axis_5\"/>\n   <g id=\"matplotlib.axis_6\"/>\n   <g id=\"patch_13\">\n    <path d=\"M 222.333613 109.261852 \nL 222.333613 20.798437 \n\" style=\"fill: none; stroke: #000000; stroke-width: 0.8; stroke-linejoin: miter; stroke-linecap: square\"/>\n   </g>\n   <g id=\"patch_14\">\n    <path d=\"M 310.797027 109.261852 \nL 310.797027 20.798437 \n\" style=\"fill: none; stroke: #000000; stroke-width: 0.8; stroke-linejoin: miter; stroke-linecap: square\"/>\n   </g>\n   <g id=\"patch_15\">\n    <path d=\"M 222.333613 109.261852 \nL 310.797027 109.261852 \n\" style=\"fill: none; stroke: #000000; stroke-width: 0.8; stroke-linejoin: miter; stroke-linecap: square\"/>\n   </g>\n   <g id=\"patch_16\">\n    <path d=\"M 222.333613 20.798437 \nL 310.797027 20.798437 \n\" style=\"fill: none; stroke: #000000; stroke-width: 0.8; stroke-linejoin: miter; stroke-linecap: square\"/>\n   </g>\n   <g id=\"text_3\">\n    <!-- True 7, predicted 7 -->\n    <g transform=\"translate(219.512195 14.798437) scale(0.1 -0.1)\">\n     <defs>\n      <path id=\"DejaVuSans-37\" d=\"M 525 4666 \nL 3525 4666 \nL 3525 4397 \nL 1831 0 \nL 1172 0 \nL 2766 4134 \nL 525 4134 \nL 525 4666 \nz\n\" transform=\"scale(0.015625)\"/>\n     </defs>\n     <use xlink:href=\"#DejaVuSans-54\"/>\n     <use xlink:href=\"#DejaVuSans-72\" x=\"46.333984\"/>\n     <use xlink:href=\"#DejaVuSans-75\" x=\"87.447266\"/>\n     <use xlink:href=\"#DejaVuSans-65\" x=\"150.826172\"/>\n     <use xlink:href=\"#DejaVuSans-20\" x=\"212.349609\"/>\n     <use xlink:href=\"#DejaVuSans-37\" x=\"244.136719\"/>\n     <use xlink:href=\"#DejaVuSans-2c\" x=\"307.759766\"/>\n     <use xlink:href=\"#DejaVuSans-20\" x=\"339.546875\"/>\n     <use xlink:href=\"#DejaVuSans-70\" x=\"371.333984\"/>\n     <use xlink:href=\"#DejaVuSans-72\" x=\"434.810547\"/>\n     <use xlink:href=\"#DejaVuSans-65\" x=\"473.673828\"/>\n     <use xlink:href=\"#DejaVuSans-64\" x=\"535.197266\"/>\n     <use xlink:href=\"#DejaVuSans-69\" x=\"598.673828\"/>\n     <use xlink:href=\"#DejaVuSans-63\" x=\"626.457031\"/>\n     <use xlink:href=\"#DejaVuSans-74\" x=\"681.4375\"/>\n     <use xlink:href=\"#DejaVuSans-65\" x=\"720.646484\"/>\n     <use xlink:href=\"#DejaVuSans-64\" x=\"782.169922\"/>\n     <use xlink:href=\"#DejaVuSans-20\" x=\"845.646484\"/>\n     <use xlink:href=\"#DejaVuSans-37\" x=\"877.433594\"/>\n    </g>\n   </g>\n  </g>\n  <g id=\"axes_4\">\n   <g id=\"patch_17\">\n    <path d=\"M 328.48971 109.261852 \nL 416.953125 109.261852 \nL 416.953125 20.798437 \nL 328.48971 20.798437 \nz\n\" style=\"fill: #ffffff\"/>\n   </g>\n   <g clip-path=\"url(#p4ec7ba2158)\">\n    <image xlink:href=\"data:image/png;base64,\niVBORw0KGgoAAAANSUhEUgAAAHsAAAB7CAYAAABUx/9/AAADxUlEQVR4nO2dPWgUURSF94k2jsWCaCcJqChiIeKG2IigYDoFUdAqhcEQo6JgoeIPCmmNlYkY1FKNAUHBqIWdmmhhowvxr1DRCCLCgvi3tr7z7mY32ZndmZzzdefmvZm3fHuZyc7srJufy5VzgoI5zV6AaBySTYRkEyHZREg2EZJNhGQTIdlEzG32ArJEHvKHFigMGJM63kLhUzDkhlvv5c7pLatm1NlESDYRkk2E04UQm0VG7d1pKJw6BIVRY9YKyNeNMUNeilz3VEubMepsIiSbCMkmQrKJ0AlaBfJGDU+1vkKeMOb0Q+4q/zJG3fFS5LZVXlgdqLOJkGwiJJsIXQipwDej9iSxvfUktuX/UWcTIdlESDYRmT9mH62hdg3yA2MOjomLros1DCp8TGjvPupsIiSbCMkmQrKJyNyFkNIFKHQ/Mkatq7KVwbC0pteLPc/DId8h90Ju327sahgvfFwNhmx0e7w8bmwmDtTZREg2EZJNROqP2Vcg7yjjLQKtxqydkPdB3mTM+Q25WMOY1ZCtz6ieeumZKwQjNhizkkCdTYRkEyHZREg2Eak/QStthsJ9/JDiTDCn1Z318lr4+8hlY0ed+6Gw0Bh0EPJJyMYJ2vJzXoxeGZttEOpsIiSbCMkmIvXH7IeQC8E3Kg4EcyKHV0umj/WVXfyC7rG699JY1NlESDYRkk1E6u8urf5uTOYlfDFqWTtGI+psIiSbCMkmQrKJSP0J2t+qI5YGlVWQX8S0lqyjziZCsomQbCJmwYWQkEE3z8uH41tOplFnEyHZREg2EZJNhGQTIdlESDYRkk1E6i+E4FM9x3OPodLeqKVkHnU2EZJNhGQTkfpjdnjjQakJq5gdqLOJkGwiJJsIySYi9XeqIKXybahsCQf1+XeqRMeTW0+WUGcTIdlESDYRkk2EZBMh2URINhGx/Z+9BHIRf1m82BZO2j1WfcPDkH++hMIyY5K/8xH3xsvWj7ghr43aKL4mfPT5LmMSfg21xRjzw49R/xQLqwN1NhGSTYRkEyHZRMR2goaPthjH86YJ6331GXI+jqXExC2jthXye8gLjDnwTPK94XNVz8Mv8Sb1vDV1NhGSTYRkE9HUmxcGIK80xhTuQeEP5I7F4aSxST+3nYABQ8ae4Afa7k6GQy75se+mn/PGVo8YtWahziZCsomQbCIkm4jM3V0qZo46mwjJJkKyiZBsIiSbCMkmQrKJkGwiJJsIySZCsomQbCIkmwjJJkKyiZBsIiSbCMkmQrKJkGwiJJsIySZCsomQbCIkm4h/Ytd4NgPXPiAAAAAASUVORK5CYII=\" id=\"image3bb9215a66\" transform=\"scale(1 -1) translate(0 -88.56)\" x=\"328.48971\" y=\"-20.701852\" width=\"88.56\" height=\"88.56\"/>\n   </g>\n   <g id=\"matplotlib.axis_7\"/>\n   <g id=\"matplotlib.axis_8\"/>\n   <g id=\"patch_18\">\n    <path d=\"M 328.48971 109.261852 \nL 328.48971 20.798437 \n\" style=\"fill: none; stroke: #000000; stroke-width: 0.8; stroke-linejoin: miter; stroke-linecap: square\"/>\n   </g>\n   <g id=\"patch_19\">\n    <path d=\"M 416.953125 109.261852 \nL 416.953125 20.798437 \n\" style=\"fill: none; stroke: #000000; stroke-width: 0.8; stroke-linejoin: miter; stroke-linecap: square\"/>\n   </g>\n   <g id=\"patch_20\">\n    <path d=\"M 328.48971 109.261852 \nL 416.953125 109.261852 \n\" style=\"fill: none; stroke: #000000; stroke-width: 0.8; stroke-linejoin: miter; stroke-linecap: square\"/>\n   </g>\n   <g id=\"patch_21\">\n    <path d=\"M 328.48971 20.798437 \nL 416.953125 20.798437 \n\" style=\"fill: none; stroke: #000000; stroke-width: 0.8; stroke-linejoin: miter; stroke-linecap: square\"/>\n   </g>\n   <g id=\"text_4\">\n    <!-- True 5, predicted 2 -->\n    <g transform=\"translate(325.668293 14.798437) scale(0.1 -0.1)\">\n     <defs>\n      <path id=\"DejaVuSans-35\" d=\"M 691 4666 \nL 3169 4666 \nL 3169 4134 \nL 1269 4134 \nL 1269 2991 \nQ 1406 3038 1543 3061 \nQ 1681 3084 1819 3084 \nQ 2600 3084 3056 2656 \nQ 3513 2228 3513 1497 \nQ 3513 744 3044 326 \nQ 2575 -91 1722 -91 \nQ 1428 -91 1123 -41 \nQ 819 9 494 109 \nL 494 744 \nQ 775 591 1075 516 \nQ 1375 441 1709 441 \nQ 2250 441 2565 725 \nQ 2881 1009 2881 1497 \nQ 2881 1984 2565 2268 \nQ 2250 2553 1709 2553 \nQ 1456 2553 1204 2497 \nQ 953 2441 691 2322 \nL 691 4666 \nz\n\" transform=\"scale(0.015625)\"/>\n     </defs>\n     <use xlink:href=\"#DejaVuSans-54\"/>\n     <use xlink:href=\"#DejaVuSans-72\" x=\"46.333984\"/>\n     <use xlink:href=\"#DejaVuSans-75\" x=\"87.447266\"/>\n     <use xlink:href=\"#DejaVuSans-65\" x=\"150.826172\"/>\n     <use xlink:href=\"#DejaVuSans-20\" x=\"212.349609\"/>\n     <use xlink:href=\"#DejaVuSans-35\" x=\"244.136719\"/>\n     <use xlink:href=\"#DejaVuSans-2c\" x=\"307.759766\"/>\n     <use xlink:href=\"#DejaVuSans-20\" x=\"339.546875\"/>\n     <use xlink:href=\"#DejaVuSans-70\" x=\"371.333984\"/>\n     <use xlink:href=\"#DejaVuSans-72\" x=\"434.810547\"/>\n     <use xlink:href=\"#DejaVuSans-65\" x=\"473.673828\"/>\n     <use xlink:href=\"#DejaVuSans-64\" x=\"535.197266\"/>\n     <use xlink:href=\"#DejaVuSans-69\" x=\"598.673828\"/>\n     <use xlink:href=\"#DejaVuSans-63\" x=\"626.457031\"/>\n     <use xlink:href=\"#DejaVuSans-74\" x=\"681.4375\"/>\n     <use xlink:href=\"#DejaVuSans-65\" x=\"720.646484\"/>\n     <use xlink:href=\"#DejaVuSans-64\" x=\"782.169922\"/>\n     <use xlink:href=\"#DejaVuSans-20\" x=\"845.646484\"/>\n     <use xlink:href=\"#DejaVuSans-32\" x=\"877.433594\"/>\n    </g>\n   </g>\n  </g>\n  <g id=\"axes_5\">\n   <g id=\"patch_22\">\n    <path d=\"M 434.645808 109.261852 \nL 523.109223 109.261852 \nL 523.109223 20.798437 \nL 434.645808 20.798437 \nz\n\" style=\"fill: #ffffff\"/>\n   </g>\n   <g clip-path=\"url(#p64bd5fee48)\">\n    <image xlink:href=\"data:image/png;base64,\niVBORw0KGgoAAAANSUhEUgAAAHsAAAB7CAYAAABUx/9/AAAEQ0lEQVR4nO2dSyh1XxjG38OXlEwYGZCMpKNcZqZyKzNn4lYmSjIjM7epMGFgRihRZoqijAwRykhRxECSAULxH7/r3Z0bx1n7/zy/2bOsdfaq3/e29tl7nfVFRORbCAQ52Z4A+TsoGwjKBoKygaBsICgbCMoGgrKBoGwgKBsIygaCsoGgbCAoGwjKBoKygaBsIP5lewI/JRaLmbbNzU2Vv7/1Zpzt7W0zZmtrS+WVlZVfmJ1fsLKBoGwgKBuIiIR8d+nu7q5pa25uVvnl5UXlnBz7bzw/P1/l2dlZ02d+fl7lm5ubpOfpA6xsICgbCMoGIvTfs5OhqalJ5be3N9NnbGxM5ZGREdOntbVV5cbGRpUfHh7SneKfwMoGgrKBoGwgKBuI0N+gHRwcmLaWlpa4Y05PT02b+0LFfXkiIhKNRlUuKSlRmTdoxBsoGwjKBiL0L0IqKipM2+Xlpcp7e3sqX11dmTH9/f0qRyIR08ddx2tra1U+OzuLP9ksw8oGgrKBoGwgKBuI0N+gBeHuLu3o6Ej5M25vb03bwMCAyvv7+yp/fn6mfJ2/hJUNBGUDQdlAhP5FSF1dnWlzd5Akg/srkb6+PtPn6ekp5c/1CVY2EJQNBGUDEbrv2fX19SoH/SKkuLhY5WTW2tfXV5VLS0vTmJ3fsLKBoGwgKBsIygYidA9VOjs7VS4qKjJ9Hh8fVXZ3m+bl5Zkxh4eHKm9sbJg+vb29Kn98fMSfrGewsoGgbCAoGwjv1+yqqiqVe3p6Eo6ZmZlR+fj4WOXc3FwzZnJyUuWpqSnTZ3l5WeWdnZ2Ec/EJVjYQlA0EZQNB2UB4/9Zrenpa5eHhYZUvLi7MmOrq6h9f9/z83LS5P//hmSrEWygbCMoGwvuHKu5PZ93sPjD5LdwHMyIiS0tLKvOYDeItlA0EZQPh/Zrtfrd189raWkau6x7NISLy/PysckNDg8o8ZoN4A2UDQdlAUDYQ3t+gZYu7uzvT5h5K7x7fsbi4mNE5/RRWNhCUDQRlA+H9mt3e3h737+7uU5HgByKpUl5ebtoKCgpUDjoD1WdY2UBQNhCUDYT3a/bR0ZHKlZWVKgcdjfUbuEdXiogUFhaqfHJykpFrZwpWNhCUDQRlA0HZQHh/g+buHu3q6lLZ3S0iYnd93t/fp3zd0dFR0+buknGP5vAdVjYQlA0EZQPh/Zq9sLCgck1NjcpBx26srq6qPDg4qHLQC4yhoaGEc3E3NKRzL5BNWNlAUDYQlA0EZQPh/TEbLmVlZSrPzc2ZPm1tbSp/fX2pfH19bca4O16C/pfd7u5uldfX1+PO1TdY2UBQNhCUDUTo1uxkiEajKo+Pj6sci8USfoZ7JJeIyMTEhMrv7+9pzC57sLKBoGwgKBuI/+WaTYJhZQNB2UBQNhCUDQRlA0HZQFA2EJQNBGUDQdlAUDYQlA0EZQNB2UBQNhCUDQRlA/Ef2J/wRUYL14wAAAAASUVORK5CYII=\" id=\"imagefb4ab26571\" transform=\"scale(1 -1) translate(0 -88.56)\" x=\"434.645808\" y=\"-20.701852\" width=\"88.56\" height=\"88.56\"/>\n   </g>\n   <g id=\"matplotlib.axis_9\"/>\n   <g id=\"matplotlib.axis_10\"/>\n   <g id=\"patch_23\">\n    <path d=\"M 434.645808 109.261852 \nL 434.645808 20.798437 \n\" style=\"fill: none; stroke: #000000; stroke-width: 0.8; stroke-linejoin: miter; stroke-linecap: square\"/>\n   </g>\n   <g id=\"patch_24\">\n    <path d=\"M 523.109223 109.261852 \nL 523.109223 20.798437 \n\" style=\"fill: none; stroke: #000000; stroke-width: 0.8; stroke-linejoin: miter; stroke-linecap: square\"/>\n   </g>\n   <g id=\"patch_25\">\n    <path d=\"M 434.645808 109.261852 \nL 523.109223 109.261852 \n\" style=\"fill: none; stroke: #000000; stroke-width: 0.8; stroke-linejoin: miter; stroke-linecap: square\"/>\n   </g>\n   <g id=\"patch_26\">\n    <path d=\"M 434.645808 20.798437 \nL 523.109223 20.798437 \n\" style=\"fill: none; stroke: #000000; stroke-width: 0.8; stroke-linejoin: miter; stroke-linecap: square\"/>\n   </g>\n   <g id=\"text_5\">\n    <!-- True 8, predicted 8 -->\n    <g transform=\"translate(431.82439 14.798437) scale(0.1 -0.1)\">\n     <defs>\n      <path id=\"DejaVuSans-38\" d=\"M 2034 2216 \nQ 1584 2216 1326 1975 \nQ 1069 1734 1069 1313 \nQ 1069 891 1326 650 \nQ 1584 409 2034 409 \nQ 2484 409 2743 651 \nQ 3003 894 3003 1313 \nQ 3003 1734 2745 1975 \nQ 2488 2216 2034 2216 \nz\nM 1403 2484 \nQ 997 2584 770 2862 \nQ 544 3141 544 3541 \nQ 544 4100 942 4425 \nQ 1341 4750 2034 4750 \nQ 2731 4750 3128 4425 \nQ 3525 4100 3525 3541 \nQ 3525 3141 3298 2862 \nQ 3072 2584 2669 2484 \nQ 3125 2378 3379 2068 \nQ 3634 1759 3634 1313 \nQ 3634 634 3220 271 \nQ 2806 -91 2034 -91 \nQ 1263 -91 848 271 \nQ 434 634 434 1313 \nQ 434 1759 690 2068 \nQ 947 2378 1403 2484 \nz\nM 1172 3481 \nQ 1172 3119 1398 2916 \nQ 1625 2713 2034 2713 \nQ 2441 2713 2670 2916 \nQ 2900 3119 2900 3481 \nQ 2900 3844 2670 4047 \nQ 2441 4250 2034 4250 \nQ 1625 4250 1398 4047 \nQ 1172 3844 1172 3481 \nz\n\" transform=\"scale(0.015625)\"/>\n     </defs>\n     <use xlink:href=\"#DejaVuSans-54\"/>\n     <use xlink:href=\"#DejaVuSans-72\" x=\"46.333984\"/>\n     <use xlink:href=\"#DejaVuSans-75\" x=\"87.447266\"/>\n     <use xlink:href=\"#DejaVuSans-65\" x=\"150.826172\"/>\n     <use xlink:href=\"#DejaVuSans-20\" x=\"212.349609\"/>\n     <use xlink:href=\"#DejaVuSans-38\" x=\"244.136719\"/>\n     <use xlink:href=\"#DejaVuSans-2c\" x=\"307.759766\"/>\n     <use xlink:href=\"#DejaVuSans-20\" x=\"339.546875\"/>\n     <use xlink:href=\"#DejaVuSans-70\" x=\"371.333984\"/>\n     <use xlink:href=\"#DejaVuSans-72\" x=\"434.810547\"/>\n     <use xlink:href=\"#DejaVuSans-65\" x=\"473.673828\"/>\n     <use xlink:href=\"#DejaVuSans-64\" x=\"535.197266\"/>\n     <use xlink:href=\"#DejaVuSans-69\" x=\"598.673828\"/>\n     <use xlink:href=\"#DejaVuSans-63\" x=\"626.457031\"/>\n     <use xlink:href=\"#DejaVuSans-74\" x=\"681.4375\"/>\n     <use xlink:href=\"#DejaVuSans-65\" x=\"720.646484\"/>\n     <use xlink:href=\"#DejaVuSans-64\" x=\"782.169922\"/>\n     <use xlink:href=\"#DejaVuSans-20\" x=\"845.646484\"/>\n     <use xlink:href=\"#DejaVuSans-38\" x=\"877.433594\"/>\n    </g>\n   </g>\n  </g>\n  <g id=\"axes_6\">\n   <g id=\"patch_27\">\n    <path d=\"M 540.801905 109.261852 \nL 629.26532 109.261852 \nL 629.26532 20.798437 \nL 540.801905 20.798437 \nz\n\" style=\"fill: #ffffff\"/>\n   </g>\n   <g clip-path=\"url(#pdc9149a1f8)\">\n    <image xlink:href=\"data:image/png;base64,\niVBORw0KGgoAAAANSUhEUgAAAHsAAAB7CAYAAABUx/9/AAAEKklEQVR4nO2dO0srQRiGZ4+n8II2YqNpVBAUtFGwU0GDlShiIRZa+wssLLURa0vBShFvIEgQC00jKnhBBBG8NlpoFRDxgjn1N9+STXKy2Wze9+neYSY7+PAx42R34xhjkoZA8CfoCZD8QdlAUDYQlA0EZQNB2UBQNhCUDQRlA0HZQFA2EJQNxF+/Pri8vFzk8fFx1aezs1Pk0dFR1Wd3d1fki4sLkePxuBrz9PQk8v39fcq5osDKBoKygaBsICgbCMf4dKdKR0eHyCcnJ35cxpVEIiHy2dmZyPPz82rM3t6eyD8/P7mfWMCwsoGgbCAoGwjfDlVaWlpEdlsDFxcXRV5dXVV9otGoyCMjIyLX19erMVVVVSL39PSkzMYYs7+/L/Ls7Kxnn7DBygaCsoGgbCB8+z+7srJS5L6+PtVna2vrv6/T3t6u2qanp0UeGhoS2XEcNSaZlH8Gtz3G2NiYyOvr6+lOsyBgZQNB2UBQNhCUDYRvG7QgKSkpEdnexM3MzKgx9uGNG19fXyJPTEyI7HYoVEiwsoGgbCAoG4iiXLO9sA98jDGmu7tb5JWVFdWnoqJC5I+PD5Htu2WNMebq6iqbKfoCKxsIygaCsoGgbCAgN2jp0NjYqNrsO1UikYjI19fXaoz9bd/Ly0sOZpcdrGwgKBsIygaCa3YG2He8bG5ueo4ZGBgQeWdnJ5dTyghWNhCUDQRlA+HbEyHFSDZPdtrrPNdskhcoGwjKBoKygSjKDVpbW5vI9iO8d3d3akxNTY3Il5eXqo/blyNevL6+ZjzGL1jZQFA2EJQNROjXbLfHfgcHBwOYiTHf39+qbXt7O4CZuMPKBoKygaBsICgbiNDfqfL+/q7aysrK8nJt+8BkampK9VlaWsrLXNKBlQ0EZQNB2UCE/lAlFouptuHh4ZRjfn9/Vdvn56fINzc3qs/x8bHIc3NzIj8+Pqa8btCwsoGgbCAoG4jQr9kbGxuqzWvNPjg4UG1u71YtNljZQFA2EJQNBGUDEfoN2sPDQ8Zjurq6VFttba3Iz8/PWc+pUGFlA0HZQFA2EKFfs/v7+zMec35+rtre3t5yMZ2ChpUNBGUDQdlAhH7NdrvJwIuGhgbV1traKvLp6ann59jvKI/H4xnPJZ+wsoGgbCAoGwjKBiL0GzR7k5QO1dXVqu3w8FBk+wfb3CgtLRU5kUioPvYPux0dHak+a2trIts/NJMrWNlAUDYQlA1E6J/inJycVG0LCwsBzCR7mpqaRL69vfXlOqxsICgbCMoGgrKBCP2hyvLysmprbm4W2X53qeM4akwy6c8+tbe3V+S6ujpfrpMOrGwgKBsIygYi9IcqJH1Y2UBQNhCUDQRlA0HZQFA2EJQNBGUDQdlAUDYQlA0EZQNB2UBQNhCUDQRlA0HZQFA2EJQNBGUDQdlA/APceNa/Sxl5LQAAAABJRU5ErkJggg==\" id=\"image4a9f1c35f6\" transform=\"scale(1 -1) translate(0 -88.56)\" x=\"540.801905\" y=\"-20.701852\" width=\"88.56\" height=\"88.56\"/>\n   </g>\n   <g id=\"matplotlib.axis_11\"/>\n   <g id=\"matplotlib.axis_12\"/>\n   <g id=\"patch_28\">\n    <path d=\"M 540.801905 109.261852 \nL 540.801905 20.798437 \n\" style=\"fill: none; stroke: #000000; stroke-width: 0.8; stroke-linejoin: miter; stroke-linecap: square\"/>\n   </g>\n   <g id=\"patch_29\">\n    <path d=\"M 629.26532 109.261852 \nL 629.26532 20.798437 \n\" style=\"fill: none; stroke: #000000; stroke-width: 0.8; stroke-linejoin: miter; stroke-linecap: square\"/>\n   </g>\n   <g id=\"patch_30\">\n    <path d=\"M 540.801905 109.261852 \nL 629.26532 109.261852 \n\" style=\"fill: none; stroke: #000000; stroke-width: 0.8; stroke-linejoin: miter; stroke-linecap: square\"/>\n   </g>\n   <g id=\"patch_31\">\n    <path d=\"M 540.801905 20.798437 \nL 629.26532 20.798437 \n\" style=\"fill: none; stroke: #000000; stroke-width: 0.8; stroke-linejoin: miter; stroke-linecap: square\"/>\n   </g>\n   <g id=\"text_6\">\n    <!-- True 5, predicted 5 -->\n    <g transform=\"translate(537.980488 14.798437) scale(0.1 -0.1)\">\n     <use xlink:href=\"#DejaVuSans-54\"/>\n     <use xlink:href=\"#DejaVuSans-72\" x=\"46.333984\"/>\n     <use xlink:href=\"#DejaVuSans-75\" x=\"87.447266\"/>\n     <use xlink:href=\"#DejaVuSans-65\" x=\"150.826172\"/>\n     <use xlink:href=\"#DejaVuSans-20\" x=\"212.349609\"/>\n     <use xlink:href=\"#DejaVuSans-35\" x=\"244.136719\"/>\n     <use xlink:href=\"#DejaVuSans-2c\" x=\"307.759766\"/>\n     <use xlink:href=\"#DejaVuSans-20\" x=\"339.546875\"/>\n     <use xlink:href=\"#DejaVuSans-70\" x=\"371.333984\"/>\n     <use xlink:href=\"#DejaVuSans-72\" x=\"434.810547\"/>\n     <use xlink:href=\"#DejaVuSans-65\" x=\"473.673828\"/>\n     <use xlink:href=\"#DejaVuSans-64\" x=\"535.197266\"/>\n     <use xlink:href=\"#DejaVuSans-69\" x=\"598.673828\"/>\n     <use xlink:href=\"#DejaVuSans-63\" x=\"626.457031\"/>\n     <use xlink:href=\"#DejaVuSans-74\" x=\"681.4375\"/>\n     <use xlink:href=\"#DejaVuSans-65\" x=\"720.646484\"/>\n     <use xlink:href=\"#DejaVuSans-64\" x=\"782.169922\"/>\n     <use xlink:href=\"#DejaVuSans-20\" x=\"845.646484\"/>\n     <use xlink:href=\"#DejaVuSans-35\" x=\"877.433594\"/>\n    </g>\n   </g>\n  </g>\n  <g id=\"axes_7\">\n   <g id=\"patch_32\">\n    <path d=\"M 646.958003 109.261852 \nL 735.421418 109.261852 \nL 735.421418 20.798437 \nL 646.958003 20.798437 \nz\n\" style=\"fill: #ffffff\"/>\n   </g>\n   <g clip-path=\"url(#p93e9b11ebc)\">\n    <image xlink:href=\"data:image/png;base64,\niVBORw0KGgoAAAANSUhEUgAAAHsAAAB7CAYAAABUx/9/AAAEtklEQVR4nO2dSyh9axjGP5ykFAbkrygDIim3kUuiMDBxmyhGGFDMlIGB+wilRBlIKNoDRVKKJFHIJcpEKQkDzES7FGdyzum837v7c9hrX87z/GbP6v1469fbWvvba60dYoz5MASCUH83QHwHZQNB2UBQNhCUDQRlA0HZQFA2EJQNBGUDQdlAUDYQf/i7AV8QHh4ustvtVjWDg4Mi9/T0qJqPj+D+zoiTDQRlA0HZQFA2ECEG4E6Vr1yghYSEiJyZmalqLi4uvNuYj+FkA0HZQFA2EBCbKm9vbyI3NzermsnJSZFrampUDc/ZJGigbCAoGwiIz9lfweVyiZyfn69qcnNzRX56enK0J2/DyQaCsoGgbCAoGwheoP1Fdna2yEdHR6qmq6tL5NHRUSdb8jqcbCAoGwjKBiKgztm/fv1Sx3JyckTOyMgQ+ezsTK3Z3Nz8cS9XV1fq2M3NjcgVFRUi21+4BBqcbCAoGwjKBoKygfDrnSrJyckiHxwcqJq4uLjf/g1Pj+Ts7++L3NDQIPL19fWnva2tralj7e3tIhcWFoq8vb396d/1J5xsICgbCMoGwq+bKm1tbSJPTEyoGvv8a29cJCUlqTX2tYB9Xm9sbFRrFhcXRa6qqlI1y8vLItubN+Xl5WpNIMHJBoKygaBsIPz6Ofv4+PjTmurqapEfHh5Ejo2NVWs6Ozt/m6enp9Wa9PR0kUdGRlTN4eGhyKmpqSKHhurZeX9/V8f8BScbCMoGgrKBoGwg/LqpkpKSIvLl5aWq2draErmsrOw//x/7lRkzMzOqxr5A83TXyfj4uMjd3d0iNzU1qTVzc3Nf7tNpONlAUDYQlA2EX8/ZERERIk9NTama+vp6ke0vG3Z2drzSS11dncj9/f2qJj4+XuSYmBiRz8/P1ZqioiKRX19fv9nhz+FkA0HZQFA2EJQNREA9/mNvshhjzOnpqcj2HZ6zs7OO9BIWFqaO1dbWijw2NiZyQkKCWpOYmCjy/f39z5v7JpxsICgbCMoGIqDO2Z54fHwU+fb2VmR708IYY15eXhzt6W8KCgpE3t3dVTUlJSUie2sT6DtwsoGgbCAoG4iAP2fbT2YsLCyIPDw8rNb09vY62dI/REdHi+zpKdTIyEiRPT3B4is42UBQNhCUDQRlAxHwF2g2KysrItuP5xpjTFZWlo+6kXR0dKhjAwMDItvvcTPGd1+OcLKBoGwgKBuIoPsRN/u1G5WVlaqmr69PZE+/cu8EGxsb6tjQ0JDInn5oZmlpybGe/g0nGwjKBoKygQi6z9k2e3t76pj95YP92klf3dxgjDF3d3cir66uqprW1laf9MLJBoKygaBsICgbiKDbVLGxH/s1Rr+jPCoqSmSnLtBKS0s/7eXk5MSR//0VONlAUDYQlA1E0G+q5OXlqWPr6+si23ebenqvuVPMz8+LnJaWpmqKi4tFdrvdjvTCyQaCsoGgbCAoG4igv0DzREtLi8jPz88iu1wun/VivxPV090s9kWm/QJ9b8HJBoKygaBsIP6X52ziGU42EJQNBGUDQdlAUDYQlA0EZQNB2UBQNhCUDQRlA0HZQFA2EJQNBGUDQdlAUDYQlA0EZQNB2UBQNhB/AnKSA9GBfXeAAAAAAElFTkSuQmCC\" id=\"image02ab66e0f1\" transform=\"scale(1 -1) translate(0 -88.56)\" x=\"646.958003\" y=\"-20.701852\" width=\"88.56\" height=\"88.56\"/>\n   </g>\n   <g id=\"matplotlib.axis_13\"/>\n   <g id=\"matplotlib.axis_14\"/>\n   <g id=\"patch_33\">\n    <path d=\"M 646.958003 109.261852 \nL 646.958003 20.798437 \n\" style=\"fill: none; stroke: #000000; stroke-width: 0.8; stroke-linejoin: miter; stroke-linecap: square\"/>\n   </g>\n   <g id=\"patch_34\">\n    <path d=\"M 735.421418 109.261852 \nL 735.421418 20.798437 \n\" style=\"fill: none; stroke: #000000; stroke-width: 0.8; stroke-linejoin: miter; stroke-linecap: square\"/>\n   </g>\n   <g id=\"patch_35\">\n    <path d=\"M 646.958003 109.261852 \nL 735.421418 109.261852 \n\" style=\"fill: none; stroke: #000000; stroke-width: 0.8; stroke-linejoin: miter; stroke-linecap: square\"/>\n   </g>\n   <g id=\"patch_36\">\n    <path d=\"M 646.958003 20.798437 \nL 735.421418 20.798437 \n\" style=\"fill: none; stroke: #000000; stroke-width: 0.8; stroke-linejoin: miter; stroke-linecap: square\"/>\n   </g>\n   <g id=\"text_7\">\n    <!-- True 4, predicted 4 -->\n    <g transform=\"translate(644.136585 14.798437) scale(0.1 -0.1)\">\n     <defs>\n      <path id=\"DejaVuSans-34\" d=\"M 2419 4116 \nL 825 1625 \nL 2419 1625 \nL 2419 4116 \nz\nM 2253 4666 \nL 3047 4666 \nL 3047 1625 \nL 3713 1625 \nL 3713 1100 \nL 3047 1100 \nL 3047 0 \nL 2419 0 \nL 2419 1100 \nL 313 1100 \nL 313 1709 \nL 2253 4666 \nz\n\" transform=\"scale(0.015625)\"/>\n     </defs>\n     <use xlink:href=\"#DejaVuSans-54\"/>\n     <use xlink:href=\"#DejaVuSans-72\" x=\"46.333984\"/>\n     <use xlink:href=\"#DejaVuSans-75\" x=\"87.447266\"/>\n     <use xlink:href=\"#DejaVuSans-65\" x=\"150.826172\"/>\n     <use xlink:href=\"#DejaVuSans-20\" x=\"212.349609\"/>\n     <use xlink:href=\"#DejaVuSans-34\" x=\"244.136719\"/>\n     <use xlink:href=\"#DejaVuSans-2c\" x=\"307.759766\"/>\n     <use xlink:href=\"#DejaVuSans-20\" x=\"339.546875\"/>\n     <use xlink:href=\"#DejaVuSans-70\" x=\"371.333984\"/>\n     <use xlink:href=\"#DejaVuSans-72\" x=\"434.810547\"/>\n     <use xlink:href=\"#DejaVuSans-65\" x=\"473.673828\"/>\n     <use xlink:href=\"#DejaVuSans-64\" x=\"535.197266\"/>\n     <use xlink:href=\"#DejaVuSans-69\" x=\"598.673828\"/>\n     <use xlink:href=\"#DejaVuSans-63\" x=\"626.457031\"/>\n     <use xlink:href=\"#DejaVuSans-74\" x=\"681.4375\"/>\n     <use xlink:href=\"#DejaVuSans-65\" x=\"720.646484\"/>\n     <use xlink:href=\"#DejaVuSans-64\" x=\"782.169922\"/>\n     <use xlink:href=\"#DejaVuSans-20\" x=\"845.646484\"/>\n     <use xlink:href=\"#DejaVuSans-34\" x=\"877.433594\"/>\n    </g>\n   </g>\n  </g>\n  <g id=\"axes_8\">\n   <g id=\"patch_37\">\n    <path d=\"M 10.021418 226.664205 \nL 98.484832 226.664205 \nL 98.484832 138.20079 \nL 10.021418 138.20079 \nz\n\" style=\"fill: #ffffff\"/>\n   </g>\n   <g clip-path=\"url(#pc1ed68ccd6)\">\n    <image xlink:href=\"data:image/png;base64,\niVBORw0KGgoAAAANSUhEUgAAAHsAAAB7CAYAAABUx/9/AAAEaElEQVR4nO2dPSh2YRjHb6+XlBSFlIHBKMpHDA+7ZJBQFpEMymAUKaRsWJCFwSSDksliEZHBIJEB5aM85GugfLyL5bqv0/MhnnPu9///bf/jus+58+vqnOc593NOkjHm0xAI/vg9AZI4KBsIygaCsoGgbCAoGwjKBoKygaBsICgbCMoGgrKB+Ov3BOKloqJC5OrqalXT2toq8unpadT9Dg8Pi3xychL/5AIOOxsIygaCsoGgbCCSTIBWqtgXX8YYMzs7K3JxcbHIycnJaozXtmicn5+LXFlZqWpubm7i3m+QYGcDQdlAUDYQvp6zQ6GQyEtLS6omLy9P5JeXF5Gnp6fVmOXlZZHD4bDI7e3taszAwIDICwsLqqazs1Ntcwl2NhCUDQRlA+HrObugoEDk1dVVVZOfny9yfX29yNvb23EfNzMzU22zb5akpqaqGvuz98HBQdzH9hN2NhCUDQRlA0HZQPi6UuXs7EzkkpKShBz3/v5ebXt/fxc5LS1N1aSnp//WlBICOxsIygaCsoFwbnXpb7G4uChyb2+vqmlraxN5Z2fnV+f007CzgaBsICgbCMoGIlCrS/2ktrZW5I2NDVVzdXUlsn1HLuiws4GgbCAoGwh+qfLF5eWlyE9PT6rGa/WKS7CzgaBsICgbCJ6zv7i+vhb54eFB1WRlZYlsr461F2MEDXY2EJQNBGUDQdlA8ALti+fnZ5FfX19VTUpKisj2z4h4gUYCA2UDQdlAOH/O7u/vV9vGxsYijrm4uFDb7MUKubm5qsa+ObK/vx/DDIMDOxsIygaCsoGgbCCcW11aXl4ustczVexnpc3NzYnc19f3rWPf3t6KnJOT8639+AU7GwjKBoKygXDuS5WysjKRvZ4tPjQ0JPLExITIMzMzaszU1JTIdXV1qsa+8WE/k21tbU1POECws4GgbCAoGwjnztn2O0K82NzcjPh3rxe0jYyMiOx1zravD+bn50WuqalRY46OjiLOJZGws4GgbCAoGwjKBsK5CzR7RYnX88o6OjpEjuV5ZfZNDnu1qTHGZGRkiGzfCGlpaVFjRkdHox47UbCzgaBsICgbCOcWL1RVVYm8tbWlauxVoEVFRSLH8gLV4+Njtc3eTyxkZ2eLfHd3F/c+fgp2NhCUDQRlA+Hc5+y9vT2Rd3d3VY39srX19XWRm5qa1Jif+AWm14tjvd5H4hfsbCAoGwjKBoKygXDuAu3t7U3kw8NDVWNfoNkvh5ucnFRjurq6RA6Hw6om2pcq3d3datvHx0fEMYmEnQ0EZQNB2UA4d862GRwcVNvsRQaNjY0ih0IhNWZlZUXk0tJSVWPfQBkfHxf58fEx4lz9hp0NBGUDQdlAUDYQzq1UiYXCwkKRe3p6RG5ublZjPj/lv8HrWWkNDQ0iB+mOViyws4GgbCAoG4j/8pxNvGFnA0HZQFA2EJQNBGUDQdlAUDYQlA0EZQNB2UBQNhCUDQRlA0HZQFA2EJQNBGUDQdlAUDYQlA0EZQPxD+uM8QVc7l13AAAAAElFTkSuQmCC\" id=\"imagedface00497\" transform=\"scale(1 -1) translate(0 -88.56)\" x=\"10.021418\" y=\"-138.104205\" width=\"88.56\" height=\"88.56\"/>\n   </g>\n   <g id=\"matplotlib.axis_15\"/>\n   <g id=\"matplotlib.axis_16\"/>\n   <g id=\"patch_38\">\n    <path d=\"M 10.021418 226.664205 \nL 10.021418 138.20079 \n\" style=\"fill: none; stroke: #000000; stroke-width: 0.8; stroke-linejoin: miter; stroke-linecap: square\"/>\n   </g>\n   <g id=\"patch_39\">\n    <path d=\"M 98.484832 226.664205 \nL 98.484832 138.20079 \n\" style=\"fill: none; stroke: #000000; stroke-width: 0.8; stroke-linejoin: miter; stroke-linecap: square\"/>\n   </g>\n   <g id=\"patch_40\">\n    <path d=\"M 10.021418 226.664205 \nL 98.484832 226.664205 \n\" style=\"fill: none; stroke: #000000; stroke-width: 0.8; stroke-linejoin: miter; stroke-linecap: square\"/>\n   </g>\n   <g id=\"patch_41\">\n    <path d=\"M 10.021418 138.20079 \nL 98.484832 138.20079 \n\" style=\"fill: none; stroke: #000000; stroke-width: 0.8; stroke-linejoin: miter; stroke-linecap: square\"/>\n   </g>\n   <g id=\"text_8\">\n    <!-- True 9, predicted 9 -->\n    <g transform=\"translate(7.2 132.20079) scale(0.1 -0.1)\">\n     <defs>\n      <path id=\"DejaVuSans-39\" d=\"M 703 97 \nL 703 672 \nQ 941 559 1184 500 \nQ 1428 441 1663 441 \nQ 2288 441 2617 861 \nQ 2947 1281 2994 2138 \nQ 2813 1869 2534 1725 \nQ 2256 1581 1919 1581 \nQ 1219 1581 811 2004 \nQ 403 2428 403 3163 \nQ 403 3881 828 4315 \nQ 1253 4750 1959 4750 \nQ 2769 4750 3195 4129 \nQ 3622 3509 3622 2328 \nQ 3622 1225 3098 567 \nQ 2575 -91 1691 -91 \nQ 1453 -91 1209 -44 \nQ 966 3 703 97 \nz\nM 1959 2075 \nQ 2384 2075 2632 2365 \nQ 2881 2656 2881 3163 \nQ 2881 3666 2632 3958 \nQ 2384 4250 1959 4250 \nQ 1534 4250 1286 3958 \nQ 1038 3666 1038 3163 \nQ 1038 2656 1286 2365 \nQ 1534 2075 1959 2075 \nz\n\" transform=\"scale(0.015625)\"/>\n     </defs>\n     <use xlink:href=\"#DejaVuSans-54\"/>\n     <use xlink:href=\"#DejaVuSans-72\" x=\"46.333984\"/>\n     <use xlink:href=\"#DejaVuSans-75\" x=\"87.447266\"/>\n     <use xlink:href=\"#DejaVuSans-65\" x=\"150.826172\"/>\n     <use xlink:href=\"#DejaVuSans-20\" x=\"212.349609\"/>\n     <use xlink:href=\"#DejaVuSans-39\" x=\"244.136719\"/>\n     <use xlink:href=\"#DejaVuSans-2c\" x=\"307.759766\"/>\n     <use xlink:href=\"#DejaVuSans-20\" x=\"339.546875\"/>\n     <use xlink:href=\"#DejaVuSans-70\" x=\"371.333984\"/>\n     <use xlink:href=\"#DejaVuSans-72\" x=\"434.810547\"/>\n     <use xlink:href=\"#DejaVuSans-65\" x=\"473.673828\"/>\n     <use xlink:href=\"#DejaVuSans-64\" x=\"535.197266\"/>\n     <use xlink:href=\"#DejaVuSans-69\" x=\"598.673828\"/>\n     <use xlink:href=\"#DejaVuSans-63\" x=\"626.457031\"/>\n     <use xlink:href=\"#DejaVuSans-74\" x=\"681.4375\"/>\n     <use xlink:href=\"#DejaVuSans-65\" x=\"720.646484\"/>\n     <use xlink:href=\"#DejaVuSans-64\" x=\"782.169922\"/>\n     <use xlink:href=\"#DejaVuSans-20\" x=\"845.646484\"/>\n     <use xlink:href=\"#DejaVuSans-39\" x=\"877.433594\"/>\n    </g>\n   </g>\n  </g>\n  <g id=\"axes_9\">\n   <g id=\"patch_42\">\n    <path d=\"M 116.177515 226.664205 \nL 204.64093 226.664205 \nL 204.64093 138.20079 \nL 116.177515 138.20079 \nz\n\" style=\"fill: #ffffff\"/>\n   </g>\n   <g clip-path=\"url(#p20582bacb6)\">\n    <image xlink:href=\"data:image/png;base64,\niVBORw0KGgoAAAANSUhEUgAAAHsAAAB7CAYAAABUx/9/AAACm0lEQVR4nO3dsa4hURyA8bHZhIKERkV0Sk9B7RXoVJ5BqZJ4BPEGSgoanV6jkHgAUSgkxDbbzB0h2ezM4Pt+3RkjOcmXf87kxiUTBME9EMKvtDeg5BgbxNggxgYxNoixQYwNYmwQY4MYG8TYIMYGMTaIsUGMDWJsEGOD/E57A++iUCiE1qfTKXLPbrcLrev1eqx7+t+cbBBjgxgbxDP7r2az+fKe8/mcwE7i42SDGBvE2CDIM7tUKkWuDQaDl+8bj8cx7CY5TjaIsUGMDWJsEOQDWq/Xi1xrNBqh9fF4jNyzWq3i2lIinGwQY4MYGwR5Zler1Zf3TCaTyLX9fh/DbpLjZIMYG8TYIMYGQTyg1Wq10LrT6UTuud1uofVyuYxzS6lwskGMDWJsEMSZ3W63Q+tcLhe55+cnR2ezWax7SoOTDWJsEGODIM7sRx9WIHKyQYwNYmwQY4MgHtAe/bsPkZMNYmwQY4MgzuxMJvN0HQRBMBqNktpOapxsEGODGBvE2CBf+YDW7XZD63K5HFrf79EfFp7P57Hu6R042SDGBjE2yFee2fl8/unri8Uicm29Xse1nbfhZIMYG8TYIF95Zvf7/aevbzabhHbyXpxsEGODGBvE2CAf/4BWLBYj17LZbPIb+QBONoixQYwN8vFndqvVilyrVCpP33M4HOLazltzskGMDWJskI8/s//FdDpNewupcLJBjA1ibBBjgxgbxNggxgYxNgjijyrb7Ta0vl6vKe0kXU42iLFBjA1ibBDEA9pwOAytL5dLSjtJl5MNYmwQY4N8/Jn96HtIf1579LUaRE42iLFBjA2SCYIg+t2O+kpONoixQYwNYmwQY4MYG8TYIMYGMTaIsUGMDWJsEGODGBvE2CDGBjE2yB8mg0yo0NZ3bQAAAABJRU5ErkJggg==\" id=\"image0e4492fc40\" transform=\"scale(1 -1) translate(0 -88.56)\" x=\"116.177515\" y=\"-138.104205\" width=\"88.56\" height=\"88.56\"/>\n   </g>\n   <g id=\"matplotlib.axis_17\"/>\n   <g id=\"matplotlib.axis_18\"/>\n   <g id=\"patch_43\">\n    <path d=\"M 116.177515 226.664205 \nL 116.177515 138.20079 \n\" style=\"fill: none; stroke: #000000; stroke-width: 0.8; stroke-linejoin: miter; stroke-linecap: square\"/>\n   </g>\n   <g id=\"patch_44\">\n    <path d=\"M 204.64093 226.664205 \nL 204.64093 138.20079 \n\" style=\"fill: none; stroke: #000000; stroke-width: 0.8; stroke-linejoin: miter; stroke-linecap: square\"/>\n   </g>\n   <g id=\"patch_45\">\n    <path d=\"M 116.177515 226.664205 \nL 204.64093 226.664205 \n\" style=\"fill: none; stroke: #000000; stroke-width: 0.8; stroke-linejoin: miter; stroke-linecap: square\"/>\n   </g>\n   <g id=\"patch_46\">\n    <path d=\"M 116.177515 138.20079 \nL 204.64093 138.20079 \n\" style=\"fill: none; stroke: #000000; stroke-width: 0.8; stroke-linejoin: miter; stroke-linecap: square\"/>\n   </g>\n   <g id=\"text_9\">\n    <!-- True 1, predicted 1 -->\n    <g transform=\"translate(113.356098 132.20079) scale(0.1 -0.1)\">\n     <use xlink:href=\"#DejaVuSans-54\"/>\n     <use xlink:href=\"#DejaVuSans-72\" x=\"46.333984\"/>\n     <use xlink:href=\"#DejaVuSans-75\" x=\"87.447266\"/>\n     <use xlink:href=\"#DejaVuSans-65\" x=\"150.826172\"/>\n     <use xlink:href=\"#DejaVuSans-20\" x=\"212.349609\"/>\n     <use xlink:href=\"#DejaVuSans-31\" x=\"244.136719\"/>\n     <use xlink:href=\"#DejaVuSans-2c\" x=\"307.759766\"/>\n     <use xlink:href=\"#DejaVuSans-20\" x=\"339.546875\"/>\n     <use xlink:href=\"#DejaVuSans-70\" x=\"371.333984\"/>\n     <use xlink:href=\"#DejaVuSans-72\" x=\"434.810547\"/>\n     <use xlink:href=\"#DejaVuSans-65\" x=\"473.673828\"/>\n     <use xlink:href=\"#DejaVuSans-64\" x=\"535.197266\"/>\n     <use xlink:href=\"#DejaVuSans-69\" x=\"598.673828\"/>\n     <use xlink:href=\"#DejaVuSans-63\" x=\"626.457031\"/>\n     <use xlink:href=\"#DejaVuSans-74\" x=\"681.4375\"/>\n     <use xlink:href=\"#DejaVuSans-65\" x=\"720.646484\"/>\n     <use xlink:href=\"#DejaVuSans-64\" x=\"782.169922\"/>\n     <use xlink:href=\"#DejaVuSans-20\" x=\"845.646484\"/>\n     <use xlink:href=\"#DejaVuSans-31\" x=\"877.433594\"/>\n    </g>\n   </g>\n  </g>\n  <g id=\"axes_10\">\n   <g id=\"patch_47\">\n    <path d=\"M 222.333613 226.664205 \nL 310.797027 226.664205 \nL 310.797027 138.20079 \nL 222.333613 138.20079 \nz\n\" style=\"fill: #ffffff\"/>\n   </g>\n   <g clip-path=\"url(#p2cd943fe8e)\">\n    <image xlink:href=\"data:image/png;base64,\niVBORw0KGgoAAAANSUhEUgAAAHsAAAB7CAYAAABUx/9/AAAEpklEQVR4nO2dTShtXxjG9/mTr4GSJCkfIxn4KpmIJBQjIQMDKWFgpJRkZqCUlE5SmAgZkIEMDJQIZSJJRkRMyEdJKeS44/d9999xnePY7vP8Zs+y1tmr++tt77v32mv7HMd5dwgE//30BEjkoGwgKBsIygaCsoGgbCAoGwjKBoKygaBsICgbCMoGgrKBoGwgKBsIygaCsoGgbCAoGwjKBoKygYiO1IGSkpJM2+DgoMhxcXGmj9/vF/nw8DC8EwOClQ0EZQNB2UD4nAi9ETI7O2vaWlpago57enoSeWFhQeSBgQEz5ubm5i9nhwErGwjKBoKygaBsICJ2UyUxMfFL4xISEkRub28XOTMz04zp7u4W+eLiQuTCwkIzpqioSOTW1lbTJxAIfDjXcHF7eyvy2tqa6XN6eiry+vp60N9lZQNB2UBQNhARu6lSUFBg2nZ3d0V2exCyuLgocnFxscjZ2dlBj31+fi5yVlZW0DE+n8+0vb97d0eSqKiooH1Y2UBQNhCUDQRlAxGxCzQ3NjY2RC4vLzd9jo+PRW5sbBQ5IyPDjNEXdZ+5oXN/fy/y0NCQ6bO0tCSyfiIXLmpqakSem5sLOoYXaERA2UBQNhA/es6OjY0VeWtry/TRN1GOjo5E7u3tNWP0Q4Kuri6Rn5+fzZjp6WmR9cOTSNLU1CRyfn6+6bO8vCzywcFB0N9lZQNB2UBQNhA/es7WuC1E0KtSS0tLRX55eTFjpqamRO7p6RH57e3tq1P81bCygaBsICgbCMoGwlMXaG7oGy+jo6Miu60C1StS9Q2StrY2M2Zzc/OLM/w9sLKBoGwgKBsIz5+zg1FfX2/aJicnRU5OThb59fXVjOnr6xN5bGws9Ml5DFY2EJQNBGUDQdlA/PoLNDdKSkpEnpmZETknJyfob+jXfh3HcSYmJkKb2A/DygaCsoGgbCD+yXO2JiUlReTx8XHTR79pcnV1ZfpUV1eLrN9W8TqsbCAoGwjKBgLinK1JS0szbaurqyLrrbIcxy6CKCsrE/ny8jIMs/s+WNlAUDYQlA0EZQMBeYHmhr7xcn19bfrofdD0tiA7Ozvhn1gYYWUDQdlAUDYQPGf/D27bbKSnp4usH4Tk5eV965xChZUNBGUDQdlAeP6crbei1G9u7O3tmTErKyshH7e2tta06Ycl+v/dDQ0N3zKXcMHKBoKygaBsICgbiIh9xO2rDA8Pi9zZ2Smy20rRcFwUbW9vmzb9cCQ1NVXkmJiYkI/7nbCygaBsICgbCM+fsx8fHz/8e0dHh2nT+5brb3t8hvj4eNMWHe35f64PYWUDQdlAUDYQlA2E5684+vv7Rc7NzRW5rq7OjJmfnxdZP40aGRkxY/b390Vubm42ffR+aoFAQOS7uzszxkuwsoGgbCAoGwjPr1TR6Dc3KisrTR+/3y/yZ/YuPTs7E9lt+yy9MkV/OLaqqsplxt6BlQ0EZQNB2UD8unP2Z9CLCioqKkTW22A5jv3Yqc/nM30eHh5E1h+FPTk5+ZtpRhxWNhCUDQRlA0HZQPyTF2jEHVY2EJQNBGUDQdlAUDYQlA0EZQNB2UBQNhCUDQRlA0HZQPwB+RMCvVnGxvEAAAAASUVORK5CYII=\" id=\"image3c2c4b5314\" transform=\"scale(1 -1) translate(0 -88.56)\" x=\"222.333613\" y=\"-138.104205\" width=\"88.56\" height=\"88.56\"/>\n   </g>\n   <g id=\"matplotlib.axis_19\"/>\n   <g id=\"matplotlib.axis_20\"/>\n   <g id=\"patch_48\">\n    <path d=\"M 222.333613 226.664205 \nL 222.333613 138.20079 \n\" style=\"fill: none; stroke: #000000; stroke-width: 0.8; stroke-linejoin: miter; stroke-linecap: square\"/>\n   </g>\n   <g id=\"patch_49\">\n    <path d=\"M 310.797027 226.664205 \nL 310.797027 138.20079 \n\" style=\"fill: none; stroke: #000000; stroke-width: 0.8; stroke-linejoin: miter; stroke-linecap: square\"/>\n   </g>\n   <g id=\"patch_50\">\n    <path d=\"M 222.333613 226.664205 \nL 310.797027 226.664205 \n\" style=\"fill: none; stroke: #000000; stroke-width: 0.8; stroke-linejoin: miter; stroke-linecap: square\"/>\n   </g>\n   <g id=\"patch_51\">\n    <path d=\"M 222.333613 138.20079 \nL 310.797027 138.20079 \n\" style=\"fill: none; stroke: #000000; stroke-width: 0.8; stroke-linejoin: miter; stroke-linecap: square\"/>\n   </g>\n   <g id=\"text_10\">\n    <!-- True 2, predicted 2 -->\n    <g transform=\"translate(219.512195 132.20079) scale(0.1 -0.1)\">\n     <use xlink:href=\"#DejaVuSans-54\"/>\n     <use xlink:href=\"#DejaVuSans-72\" x=\"46.333984\"/>\n     <use xlink:href=\"#DejaVuSans-75\" x=\"87.447266\"/>\n     <use xlink:href=\"#DejaVuSans-65\" x=\"150.826172\"/>\n     <use xlink:href=\"#DejaVuSans-20\" x=\"212.349609\"/>\n     <use xlink:href=\"#DejaVuSans-32\" x=\"244.136719\"/>\n     <use xlink:href=\"#DejaVuSans-2c\" x=\"307.759766\"/>\n     <use xlink:href=\"#DejaVuSans-20\" x=\"339.546875\"/>\n     <use xlink:href=\"#DejaVuSans-70\" x=\"371.333984\"/>\n     <use xlink:href=\"#DejaVuSans-72\" x=\"434.810547\"/>\n     <use xlink:href=\"#DejaVuSans-65\" x=\"473.673828\"/>\n     <use xlink:href=\"#DejaVuSans-64\" x=\"535.197266\"/>\n     <use xlink:href=\"#DejaVuSans-69\" x=\"598.673828\"/>\n     <use xlink:href=\"#DejaVuSans-63\" x=\"626.457031\"/>\n     <use xlink:href=\"#DejaVuSans-74\" x=\"681.4375\"/>\n     <use xlink:href=\"#DejaVuSans-65\" x=\"720.646484\"/>\n     <use xlink:href=\"#DejaVuSans-64\" x=\"782.169922\"/>\n     <use xlink:href=\"#DejaVuSans-20\" x=\"845.646484\"/>\n     <use xlink:href=\"#DejaVuSans-32\" x=\"877.433594\"/>\n    </g>\n   </g>\n  </g>\n  <g id=\"axes_11\">\n   <g id=\"patch_52\">\n    <path d=\"M 328.48971 226.664205 \nL 416.953125 226.664205 \nL 416.953125 138.20079 \nL 328.48971 138.20079 \nz\n\" style=\"fill: #ffffff\"/>\n   </g>\n   <g clip-path=\"url(#p1feaeb3f51)\">\n    <image xlink:href=\"data:image/png;base64,\niVBORw0KGgoAAAANSUhEUgAAAHsAAAB7CAYAAABUx/9/AAADoklEQVR4nO2dLUgsURiGz4oGFQQVbbZVxGTQZhCDmDRokxUMFrMbNsgWbYoIBoM/GExWMSmCySQmYWGDCIbFoqCg4M8tt3zn7GW8OLM78rxPew/frB88fpxxZ8bJOOe+nEDQUO8GRO2QbBCSDUKyQUg2CMkGIdkgJBuEZIOQbBCSDUKyQUg2CMkGIdkgJBuEZIOQbBCSDUKyQUg2iMZ6NxDF3NycyRsbGyavrKwEx1xcXJh8dXVl8tcX84ZaTTYIyQYh2SBSv2f7tLe3m7y+vh55zO3trcnb29tBzdramsmfn5//31zK0WSDkGwQkg1CskFkXMof2fW/VDk4OIg8xv/SJJPJRB5zfX1tcj6fD2pOT08jPyfNaLJBSDYIyQaR+j27paXF5Gw2a3JPT09wzMDAgMkzMzMmDw8PR/7cl5eXYG1yctLk8/PzyM9JE5psEJINQrJBSDaI1J+gxUFzc7PJ4+PjQU2xWDR5cHAwqDk8PDQ5l8v9vLkaoskGIdkgJBsEYs/+DkNDQyYfHx8HNZ2dnSZPTEyYfHZ2Fn9jMaLJBiHZICQbhPbsfzA9PR2sHR0dmdzX12dyuVxOtKefoskGIdkgJBuEZIPQCdpf/MeK/Md+nXOuVCqZPDs7a/Lb21v8jcWIJhuEZIOQbBC/7pHdOOjv7w/W9vf3Te7u7g5qFhYWTE77Hu2jyQYh2SAkG4Rkg0CcoM3Pz5u8s7MT1Nzf35tc7arX5eVlvI3VGE02CMkGIdkgEBdCnp6eTL67uwtqxsbGTH54eEi0p3qgyQYh2SAkGwRiz35/fze5oSH8HV9dXTV5eXk50Z7qgSYbhGSDkGwQkg0CcYJWKBRMrvYSmY+PD5P9u1Kc+97/TU0zmmwQkg1CskEg9myfpaWlYM3/EqWpqSmo8e84fX5+jrexhNFkg5BsEJINAnHDoY//wjbnnGttbTXZ/9u8Wo32bJFaJBuEZIOQbBDIE7SOjo5gzX9Z3N7eXlBTqVQS66kWaLJBSDYIyQaB2LPb2tpM3tzcDGr8l8VtbW0l2lM90GSDkGwQkg1CskEgTtB2d3dNHh0dDWoWFxdNvrm5SbKluqDJBiHZICQbxK/fs7u6uoK1k5MTk/0LH729vcExj4+PsfaVRjTZICQbhGSD+PV79sjISLD2+vpq8tTUlMmE/bkammwQkg1CskFINgjkI7tUNNkgJBuEZIOQbBCSDUKyQUg2CMkGIdkgJBuEZIOQbBB/AOYhpMpzRbPuAAAAAElFTkSuQmCC\" id=\"image3a5d5a183b\" transform=\"scale(1 -1) translate(0 -88.56)\" x=\"328.48971\" y=\"-138.104205\" width=\"88.56\" height=\"88.56\"/>\n   </g>\n   <g id=\"matplotlib.axis_21\"/>\n   <g id=\"matplotlib.axis_22\"/>\n   <g id=\"patch_53\">\n    <path d=\"M 328.48971 226.664205 \nL 328.48971 138.20079 \n\" style=\"fill: none; stroke: #000000; stroke-width: 0.8; stroke-linejoin: miter; stroke-linecap: square\"/>\n   </g>\n   <g id=\"patch_54\">\n    <path d=\"M 416.953125 226.664205 \nL 416.953125 138.20079 \n\" style=\"fill: none; stroke: #000000; stroke-width: 0.8; stroke-linejoin: miter; stroke-linecap: square\"/>\n   </g>\n   <g id=\"patch_55\">\n    <path d=\"M 328.48971 226.664205 \nL 416.953125 226.664205 \n\" style=\"fill: none; stroke: #000000; stroke-width: 0.8; stroke-linejoin: miter; stroke-linecap: square\"/>\n   </g>\n   <g id=\"patch_56\">\n    <path d=\"M 328.48971 138.20079 \nL 416.953125 138.20079 \n\" style=\"fill: none; stroke: #000000; stroke-width: 0.8; stroke-linejoin: miter; stroke-linecap: square\"/>\n   </g>\n   <g id=\"text_11\">\n    <!-- True 3, predicted 3 -->\n    <g transform=\"translate(325.668293 132.20079) scale(0.1 -0.1)\">\n     <defs>\n      <path id=\"DejaVuSans-33\" d=\"M 2597 2516 \nQ 3050 2419 3304 2112 \nQ 3559 1806 3559 1356 \nQ 3559 666 3084 287 \nQ 2609 -91 1734 -91 \nQ 1441 -91 1130 -33 \nQ 819 25 488 141 \nL 488 750 \nQ 750 597 1062 519 \nQ 1375 441 1716 441 \nQ 2309 441 2620 675 \nQ 2931 909 2931 1356 \nQ 2931 1769 2642 2001 \nQ 2353 2234 1838 2234 \nL 1294 2234 \nL 1294 2753 \nL 1863 2753 \nQ 2328 2753 2575 2939 \nQ 2822 3125 2822 3475 \nQ 2822 3834 2567 4026 \nQ 2313 4219 1838 4219 \nQ 1578 4219 1281 4162 \nQ 984 4106 628 3988 \nL 628 4550 \nQ 988 4650 1302 4700 \nQ 1616 4750 1894 4750 \nQ 2613 4750 3031 4423 \nQ 3450 4097 3450 3541 \nQ 3450 3153 3228 2886 \nQ 3006 2619 2597 2516 \nz\n\" transform=\"scale(0.015625)\"/>\n     </defs>\n     <use xlink:href=\"#DejaVuSans-54\"/>\n     <use xlink:href=\"#DejaVuSans-72\" x=\"46.333984\"/>\n     <use xlink:href=\"#DejaVuSans-75\" x=\"87.447266\"/>\n     <use xlink:href=\"#DejaVuSans-65\" x=\"150.826172\"/>\n     <use xlink:href=\"#DejaVuSans-20\" x=\"212.349609\"/>\n     <use xlink:href=\"#DejaVuSans-33\" x=\"244.136719\"/>\n     <use xlink:href=\"#DejaVuSans-2c\" x=\"307.759766\"/>\n     <use xlink:href=\"#DejaVuSans-20\" x=\"339.546875\"/>\n     <use xlink:href=\"#DejaVuSans-70\" x=\"371.333984\"/>\n     <use xlink:href=\"#DejaVuSans-72\" x=\"434.810547\"/>\n     <use xlink:href=\"#DejaVuSans-65\" x=\"473.673828\"/>\n     <use xlink:href=\"#DejaVuSans-64\" x=\"535.197266\"/>\n     <use xlink:href=\"#DejaVuSans-69\" x=\"598.673828\"/>\n     <use xlink:href=\"#DejaVuSans-63\" x=\"626.457031\"/>\n     <use xlink:href=\"#DejaVuSans-74\" x=\"681.4375\"/>\n     <use xlink:href=\"#DejaVuSans-65\" x=\"720.646484\"/>\n     <use xlink:href=\"#DejaVuSans-64\" x=\"782.169922\"/>\n     <use xlink:href=\"#DejaVuSans-20\" x=\"845.646484\"/>\n     <use xlink:href=\"#DejaVuSans-33\" x=\"877.433594\"/>\n    </g>\n   </g>\n  </g>\n  <g id=\"axes_12\">\n   <g id=\"patch_57\">\n    <path d=\"M 434.645808 226.664205 \nL 523.109223 226.664205 \nL 523.109223 138.20079 \nL 434.645808 138.20079 \nz\n\" style=\"fill: #ffffff\"/>\n   </g>\n   <g clip-path=\"url(#pb6f989649e)\">\n    <image xlink:href=\"data:image/png;base64,\niVBORw0KGgoAAAANSUhEUgAAAHsAAAB7CAYAAABUx/9/AAAEt0lEQVR4nO2dPSi9URzHz+UfKQaDl7xGkslgkLwkWVxRJqWQKCRFFjJYFBYLgwwyGDAyKSmFRQzKQhKLIm9h8BL+8+/8ntz7XH/3uf7f72f7ns55nPr4dc59Xn3GmE9DIIjyegIkfFA2EJQNBGUDQdlAUDYQlA0EZQPxJ1x/qLKyUrVtbm6K/PT0pPr4/X6Rt7e3/+m8kGBlA0HZQFA2EGFbs4MhPj5etS0uLoqcmZkZrun8d7CygaBsICgbCMoGwmfCdKdKbGysapufnxe5qalJ9fn4+BDZPhFTXV39/cmBwMoGgrKBoGwgwrZmO5GWliby7Oys6lNXVyfy56ec7tzcnBrT2dn55RhUWNlAUDYQlA2Ep2u2TVJSkmrb29sTOSsrK+BxpqamRB4cHBT5+fk5hNn9fljZQFA2EJQNBGUDEVEbNCfy8/NF3tjYEDkjIyPgMewLLMvLy6oPwokXVjYQlA0EZQMR8Wu2jb2GHx0duT5GRUWFakN40oSVDQRlA0HZQFA2EL9ug+bz+UTOzc1VfY6Pj0WOipL/0/Ydq8YYU1NTI/L6+nqoU4xYWNlAUDYQlA1ERK3ZcXFxqq2kpETkhoYGkZ0uamRnZ4u8sLAgcnR0tBpzc3MjcnFxsepzenqq2n4TrGwgKBsIygYiop4IsW9MMMaYgoIC18e119/ExESR7d/dTpycnKi2oqIikR8fH13PzUtY2UBQNhCUDQRlA+Hpe9Da29tFDmYzZr/f9Pb2VvWxT84EsyGzycvLU239/f0ij46Ouj6ul7CygaBsICgbCE9PqhwcHIhcWFio+tzd3YlsX6BwOvlhn0RpbW0VeWhoSI1JTU39erJGPzVSW1sr8traWsBjeAkrGwjKBoKygaBsIDzdoNl3kDQ3N6s+Dw8PItubop2dHdd/NyEhQbWNjY2J3NjYqPokJyeLfHV1JXJbW5saY2/avHw0mJUNBGUDQdlAeLpm209z2CdZjNEfiXl9fRU5JydHjbm4uPj23Orr61Xb6uqq6+P09fWJbL+jLZywsoGgbCAoG4iIeiKkqqpKta2srIhs/0a213BjjCktLRV5f3/f9Vy2trZUW1lZmcjX19ciO717NZj3ow8MDIj8U3etsrKBoGwgKBsIygYiojZoTtibtkAbNmP0pm1iYkJk+6KHMca8vLyIPD09rfr09vaKPDk5KbLThZyUlBTVZjMzMyNyT09PwDGhwMoGgrKBoGwgIn7NtrE/CDMyMqL6dHR0fHmM8/Nz1WbvBWJiYlSf7u5uke2nU5aWltSYlpYWkZ0+QPv+/i6yfVJod3dXjQkFVjYQlA0EZQPx69bsYPD7/SLbH3ErLy9XY5xel/UTHB4eqrazszOR7W+a2HuDUGFlA0HZQFA2EJQNxH+5QQtEV1eXarMvYtgnNowJ7XUdNsPDw6ptfHz828cNBlY2EJQNBGUDAblmB4PTna722vr29iZyenq6GnN/fy+yfcLHGGMuLy9DmKF7WNlAUDYQlA0EZQPBDRoQrGwgKBsIygaCsoGgbCAoGwjKBoKygaBsICgbCMoGgrKBoGwgKBsIygaCsoGgbCAoGwjKBoKygaBsICgbCMoGgrKBoGwg/gIc4g4AdRWYGQAAAABJRU5ErkJggg==\" id=\"imageee233fcdc9\" transform=\"scale(1 -1) translate(0 -88.56)\" x=\"434.645808\" y=\"-138.104205\" width=\"88.56\" height=\"88.56\"/>\n   </g>\n   <g id=\"matplotlib.axis_23\"/>\n   <g id=\"matplotlib.axis_24\"/>\n   <g id=\"patch_58\">\n    <path d=\"M 434.645808 226.664205 \nL 434.645808 138.20079 \n\" style=\"fill: none; stroke: #000000; stroke-width: 0.8; stroke-linejoin: miter; stroke-linecap: square\"/>\n   </g>\n   <g id=\"patch_59\">\n    <path d=\"M 523.109223 226.664205 \nL 523.109223 138.20079 \n\" style=\"fill: none; stroke: #000000; stroke-width: 0.8; stroke-linejoin: miter; stroke-linecap: square\"/>\n   </g>\n   <g id=\"patch_60\">\n    <path d=\"M 434.645808 226.664205 \nL 523.109223 226.664205 \n\" style=\"fill: none; stroke: #000000; stroke-width: 0.8; stroke-linejoin: miter; stroke-linecap: square\"/>\n   </g>\n   <g id=\"patch_61\">\n    <path d=\"M 434.645808 138.20079 \nL 523.109223 138.20079 \n\" style=\"fill: none; stroke: #000000; stroke-width: 0.8; stroke-linejoin: miter; stroke-linecap: square\"/>\n   </g>\n   <g id=\"text_12\">\n    <!-- True 9, predicted 9 -->\n    <g transform=\"translate(431.82439 132.20079) scale(0.1 -0.1)\">\n     <use xlink:href=\"#DejaVuSans-54\"/>\n     <use xlink:href=\"#DejaVuSans-72\" x=\"46.333984\"/>\n     <use xlink:href=\"#DejaVuSans-75\" x=\"87.447266\"/>\n     <use xlink:href=\"#DejaVuSans-65\" x=\"150.826172\"/>\n     <use xlink:href=\"#DejaVuSans-20\" x=\"212.349609\"/>\n     <use xlink:href=\"#DejaVuSans-39\" x=\"244.136719\"/>\n     <use xlink:href=\"#DejaVuSans-2c\" x=\"307.759766\"/>\n     <use xlink:href=\"#DejaVuSans-20\" x=\"339.546875\"/>\n     <use xlink:href=\"#DejaVuSans-70\" x=\"371.333984\"/>\n     <use xlink:href=\"#DejaVuSans-72\" x=\"434.810547\"/>\n     <use xlink:href=\"#DejaVuSans-65\" x=\"473.673828\"/>\n     <use xlink:href=\"#DejaVuSans-64\" x=\"535.197266\"/>\n     <use xlink:href=\"#DejaVuSans-69\" x=\"598.673828\"/>\n     <use xlink:href=\"#DejaVuSans-63\" x=\"626.457031\"/>\n     <use xlink:href=\"#DejaVuSans-74\" x=\"681.4375\"/>\n     <use xlink:href=\"#DejaVuSans-65\" x=\"720.646484\"/>\n     <use xlink:href=\"#DejaVuSans-64\" x=\"782.169922\"/>\n     <use xlink:href=\"#DejaVuSans-20\" x=\"845.646484\"/>\n     <use xlink:href=\"#DejaVuSans-39\" x=\"877.433594\"/>\n    </g>\n   </g>\n  </g>\n  <g id=\"axes_13\">\n   <g id=\"patch_62\">\n    <path d=\"M 540.801905 226.664205 \nL 629.26532 226.664205 \nL 629.26532 138.20079 \nL 540.801905 138.20079 \nz\n\" style=\"fill: #ffffff\"/>\n   </g>\n   <g clip-path=\"url(#pd28840eb8b)\">\n    <image xlink:href=\"data:image/png;base64,\niVBORw0KGgoAAAANSUhEUgAAAHsAAAB7CAYAAABUx/9/AAAEZklEQVR4nO2dOy9tQRiGZ3NcKhFBtkgEoXIpCO0WJCIaREEnEgoKnQrRKxDZFBR+gJLEtRUK4lJpFEJIVG6F+2nPN7POXhezL7zv072TWWsmnvNl5qysNTuklPpSBIK0ZE+AJA7KBoKygaBsICgbCMoGgrKBoGwgKBsIygaCsoGgbCAoGwjKBoKygaBsICgbCMoGgrKBoGwgKBuIP8kcfHBwUOS8vDzf93h6ejLaotFo4Dn9ZljZQFA2EJQNREjF6YuQ6upqkdfX140+RUVFIqel+f+39/n5abQ5reP/MjExYbQtLS2J/Pr66nsuqQ4rGwjKBoKygaBsIKxt0PQN2dbWlsiFhYU2hrFCKBQy2q6vr0UeGhoy+mxsbMRtTomAlQ0EZQNB2UBYW7Nvb29Fzs/Pd71md3dXZLeHIU5kZ2cbbW1tbTGvcVqzv77kn+H+/t7os7OzI/Lc3JzIe3t7McdNNqxsICgbCMoGgrKBsLZB+/j4EFnf8DhRVVUl8vn5ue9xMzMzjbbGxkaRJycnRW5paTGu8TJfnYeHB5H1DZxSSo2MjIh8d3fnexxbsLKBoGwgKBuIH79mB6G1tdVom5+fF7mystLKWKenpyIvLi4afQ4PD0U+OjqyMrYOKxsIygaCsoGwtmbPzs6KPDw8LLLTm6P6/0unp6eNPvv7+yI/Pz+7ziU9PV3kiooK12tWVlZEbmhocL3GFu/v7yKvra2J3NPTY2UcVjYQlA0EZQNB2UDE7fOf5eVlkfv7+wPdZ3t7W+SbmxvXazIyMkTu6+sT2cubKolE/4RJf+unpKTEyjisbCAoGwjKBiJua3Ztba3I+oMCpZQKh8MiB/lkNwiptmavrq6K3NvbG5dxWNlAUDYQlA0EZQMRtw2aF/TPYsfHx40+xcXF1sd12ghOTU2JHIlEjD76Ax6dgYEBo628vNx1Po+PjyLn5ua6XhMEVjYQlA0EZQOR1DX7t6EfLaKUUs3Nza7X6V+WBDnD1QusbCAoGwjKBiKp543/Ng4ODow2L2t2omBlA0HZQFA2EJQNBB+qWEQ/3kMpb2ej8aEKsQ5lA0HZQPChikVGR0eTPYWYsLKBoGwgKBsIrtnfQP9yo729PdB9Li4ubEzHFVY2EJQNBGUDQdlAcIP2H5x+0Kajo0PkmZkZkXNyclzve3JyYrR1dnb6m1xAWNlAUDYQlA0ExJpdUFAgstPLAfrviDidd1pfX+977OPjY5G7u7uNPldXV77vGwRWNhCUDQRlA0HZQKTU26VZWVlG29jYmMhlZWW+71tXVydyTU2N0cfGOWhOD0y6urpEvry8/PY4QWFlA0HZQFA2ECm1Zjc1NRltm5ubIus/9hIEL2eXvr29GX1eXl5EXlhYiJmVStwDEy+wsoGgbCAoG4iUWrOd0H/fo7S0NCHjnp2dGW1OZ6b/JFjZQFA2EJQNBGUDkfIbNGIPVjYQlA0EZQNB2UBQNhCUDQRlA0HZQFA2EJQNBGUDQdlA/AXpOPUrLm9pOgAAAABJRU5ErkJggg==\" id=\"imagedad1bb318c\" transform=\"scale(1 -1) translate(0 -88.56)\" x=\"540.801905\" y=\"-138.104205\" width=\"88.56\" height=\"88.56\"/>\n   </g>\n   <g id=\"matplotlib.axis_25\"/>\n   <g id=\"matplotlib.axis_26\"/>\n   <g id=\"patch_63\">\n    <path d=\"M 540.801905 226.664205 \nL 540.801905 138.20079 \n\" style=\"fill: none; stroke: #000000; stroke-width: 0.8; stroke-linejoin: miter; stroke-linecap: square\"/>\n   </g>\n   <g id=\"patch_64\">\n    <path d=\"M 629.26532 226.664205 \nL 629.26532 138.20079 \n\" style=\"fill: none; stroke: #000000; stroke-width: 0.8; stroke-linejoin: miter; stroke-linecap: square\"/>\n   </g>\n   <g id=\"patch_65\">\n    <path d=\"M 540.801905 226.664205 \nL 629.26532 226.664205 \n\" style=\"fill: none; stroke: #000000; stroke-width: 0.8; stroke-linejoin: miter; stroke-linecap: square\"/>\n   </g>\n   <g id=\"patch_66\">\n    <path d=\"M 540.801905 138.20079 \nL 629.26532 138.20079 \n\" style=\"fill: none; stroke: #000000; stroke-width: 0.8; stroke-linejoin: miter; stroke-linecap: square\"/>\n   </g>\n   <g id=\"text_13\">\n    <!-- True 2, predicted 2 -->\n    <g transform=\"translate(537.980488 132.20079) scale(0.1 -0.1)\">\n     <use xlink:href=\"#DejaVuSans-54\"/>\n     <use xlink:href=\"#DejaVuSans-72\" x=\"46.333984\"/>\n     <use xlink:href=\"#DejaVuSans-75\" x=\"87.447266\"/>\n     <use xlink:href=\"#DejaVuSans-65\" x=\"150.826172\"/>\n     <use xlink:href=\"#DejaVuSans-20\" x=\"212.349609\"/>\n     <use xlink:href=\"#DejaVuSans-32\" x=\"244.136719\"/>\n     <use xlink:href=\"#DejaVuSans-2c\" x=\"307.759766\"/>\n     <use xlink:href=\"#DejaVuSans-20\" x=\"339.546875\"/>\n     <use xlink:href=\"#DejaVuSans-70\" x=\"371.333984\"/>\n     <use xlink:href=\"#DejaVuSans-72\" x=\"434.810547\"/>\n     <use xlink:href=\"#DejaVuSans-65\" x=\"473.673828\"/>\n     <use xlink:href=\"#DejaVuSans-64\" x=\"535.197266\"/>\n     <use xlink:href=\"#DejaVuSans-69\" x=\"598.673828\"/>\n     <use xlink:href=\"#DejaVuSans-63\" x=\"626.457031\"/>\n     <use xlink:href=\"#DejaVuSans-74\" x=\"681.4375\"/>\n     <use xlink:href=\"#DejaVuSans-65\" x=\"720.646484\"/>\n     <use xlink:href=\"#DejaVuSans-64\" x=\"782.169922\"/>\n     <use xlink:href=\"#DejaVuSans-20\" x=\"845.646484\"/>\n     <use xlink:href=\"#DejaVuSans-32\" x=\"877.433594\"/>\n    </g>\n   </g>\n  </g>\n  <g id=\"axes_14\">\n   <g id=\"patch_67\">\n    <path d=\"M 646.958003 226.664205 \nL 735.421418 226.664205 \nL 735.421418 138.20079 \nL 646.958003 138.20079 \nz\n\" style=\"fill: #ffffff\"/>\n   </g>\n   <g clip-path=\"url(#pc28ddb004c)\">\n    <image xlink:href=\"data:image/png;base64,\niVBORw0KGgoAAAANSUhEUgAAAHsAAAB7CAYAAABUx/9/AAAEvElEQVR4nO2dSyhFXRiG10GEhKIMZGAixcBAhhK5piiUDKSUgSJjJaFcRiIxkkKRXEsuA8UAAwMDyYAiRlJIKNd/8E/+b337d1yOs4/e95m9q7VO6/T0tW9rr+0xxrwbAkGQ2xMg/oOygaBsICgbCMoGgrKBoGwgKBsIygaCsoGgbCAoG4gQtycQqNTW1qq2sbGxD8fU1dV9eYw/YWUDQdlAUDYQlA2Ex3CliiMxMTGq7fr6+sMxCwsLqq28vNxHM/o5rGwgKBsIygaCsoGgbCAoGwjKBoIPQv6Hu7s71ba6uipyYWGhv6bjE1jZQFA2EJQNBGUD8edP0AoKClRbSIj8WysrKyK/vb15/d3X11fVNj8/LzJP0EjAQtlAUDYQAXXMDg8PV20VFRUi9/b2ipyQkKDGeDwekQ8ODkSem5tTY/r6+kS+v79Xfc7OzlTbf0lNTVVtERERIj88PHz4G78JKxsIygaCsoGgbCBcXV0aFhYm8tTUlOpTVlb24W8sLi6qtufnZ5FjY2NFzs3NVWPsk7jGxkbVxz6BtJ+COREfHy/y1dWV1zG/BSsbCMoGgrKBcPWmyvj4uMhOx2f7RkZJSYnIh4eHasz7uzwNCQ4OFjkzM1ON6erqEnl5eVn1WVtbU21/CVY2EJQNBGUD4ep19snJicjJycmqT3V1tchO1+K+IDo6WuTZ2VnVx+n63Bu8ziauQNlAUDYQlA2E307Q7BUnxhgzMzMjsv0wwhhjsrKyRPbXSg+nVTNLS0si5+Xlef0dnqARV6BsICgbCL89CPnMFlGnp6eqza3VmI+Pj6qtublZ5N3dXZGjoqLUGHulq5uwsoGgbCAoGwjKBsJvN1VycnJU28bGhsgXFxeqT3p6usg3Nzc+nddPaGhoEHlkZET16e/vF7mlpeU3p/QhrGwgKBsIygbCb8fsyMhI1XZ0dCRyYmKi6tPU1CTy4OCgbyf2A+zXhc/Pz1Wf29tbkTMyMlQfp3G/ASsbCMoGgrKB8NuDEKdtK56enryOc/pWh1vExcWJbF/zr6+vqzHFxcUiZ2dnqz4TExM/n9wnYGUDQdlAUDYQlA2Eq6//tLa2imy/NmuMfjhSVFQkstOKVF8QFKTrYHJyUuT29naRnVaqbG1tiWzvf2qMMTU1Nd+Y4ddhZQNB2UBQNhCuHrNDQ0NFto9vxug3Qra3t0V2+oL98fHxj+dWVVWl2qanp0Xu7OwUua2tTY3Jz88X+fLyUvXZ39//xgy/DisbCMoGgrKBcHVrLPtBSH19veozMDAgsr1wcXNzU42prKwUeWdnR2R76ywnkpKSVJv9loj9u044PRxxC1Y2EJQNBGUDQdlAuHpT5TPYe6N1d3eL7HTzw8be06ynp0f12dvbE3l4eNjrXJw+IBfIsLKBoGwgKBuIgD9m29gfVS0tLVV9Ojo6RE5LSxP55eVFjbFv8NgPaYwxZnR0VGT7Lc5Ah5UNBGUDQdlAUDYQf+4E7TvYH5Fx2pMtJSVFZKdN7IeGhnw7MT/DygaCsoGgbCAgjtnkX1jZQFA2EJQNBGUDQdlAUDYQlA0EZQNB2UBQNhCUDQRlA0HZQFA2EJQNBGUDQdlAUDYQlA0EZQNB2UD8A/95Evnr+1EHAAAAAElFTkSuQmCC\" id=\"image3958211563\" transform=\"scale(1 -1) translate(0 -88.56)\" x=\"646.958003\" y=\"-138.104205\" width=\"88.56\" height=\"88.56\"/>\n   </g>\n   <g id=\"matplotlib.axis_27\"/>\n   <g id=\"matplotlib.axis_28\"/>\n   <g id=\"patch_68\">\n    <path d=\"M 646.958003 226.664205 \nL 646.958003 138.20079 \n\" style=\"fill: none; stroke: #000000; stroke-width: 0.8; stroke-linejoin: miter; stroke-linecap: square\"/>\n   </g>\n   <g id=\"patch_69\">\n    <path d=\"M 735.421418 226.664205 \nL 735.421418 138.20079 \n\" style=\"fill: none; stroke: #000000; stroke-width: 0.8; stroke-linejoin: miter; stroke-linecap: square\"/>\n   </g>\n   <g id=\"patch_70\">\n    <path d=\"M 646.958003 226.664205 \nL 735.421418 226.664205 \n\" style=\"fill: none; stroke: #000000; stroke-width: 0.8; stroke-linejoin: miter; stroke-linecap: square\"/>\n   </g>\n   <g id=\"patch_71\">\n    <path d=\"M 646.958003 138.20079 \nL 735.421418 138.20079 \n\" style=\"fill: none; stroke: #000000; stroke-width: 0.8; stroke-linejoin: miter; stroke-linecap: square\"/>\n   </g>\n   <g id=\"text_14\">\n    <!-- True 9, predicted 9 -->\n    <g transform=\"translate(644.136585 132.20079) scale(0.1 -0.1)\">\n     <use xlink:href=\"#DejaVuSans-54\"/>\n     <use xlink:href=\"#DejaVuSans-72\" x=\"46.333984\"/>\n     <use xlink:href=\"#DejaVuSans-75\" x=\"87.447266\"/>\n     <use xlink:href=\"#DejaVuSans-65\" x=\"150.826172\"/>\n     <use xlink:href=\"#DejaVuSans-20\" x=\"212.349609\"/>\n     <use xlink:href=\"#DejaVuSans-39\" x=\"244.136719\"/>\n     <use xlink:href=\"#DejaVuSans-2c\" x=\"307.759766\"/>\n     <use xlink:href=\"#DejaVuSans-20\" x=\"339.546875\"/>\n     <use xlink:href=\"#DejaVuSans-70\" x=\"371.333984\"/>\n     <use xlink:href=\"#DejaVuSans-72\" x=\"434.810547\"/>\n     <use xlink:href=\"#DejaVuSans-65\" x=\"473.673828\"/>\n     <use xlink:href=\"#DejaVuSans-64\" x=\"535.197266\"/>\n     <use xlink:href=\"#DejaVuSans-69\" x=\"598.673828\"/>\n     <use xlink:href=\"#DejaVuSans-63\" x=\"626.457031\"/>\n     <use xlink:href=\"#DejaVuSans-74\" x=\"681.4375\"/>\n     <use xlink:href=\"#DejaVuSans-65\" x=\"720.646484\"/>\n     <use xlink:href=\"#DejaVuSans-64\" x=\"782.169922\"/>\n     <use xlink:href=\"#DejaVuSans-20\" x=\"845.646484\"/>\n     <use xlink:href=\"#DejaVuSans-39\" x=\"877.433594\"/>\n    </g>\n   </g>\n  </g>\n  <g id=\"axes_15\">\n   <g id=\"patch_72\">\n    <path d=\"M 10.021418 344.066558 \nL 98.484832 344.066558 \nL 98.484832 255.603143 \nL 10.021418 255.603143 \nz\n\" style=\"fill: #ffffff\"/>\n   </g>\n   <g clip-path=\"url(#pa208a41c51)\">\n    <image xlink:href=\"data:image/png;base64,\niVBORw0KGgoAAAANSUhEUgAAAHsAAAB7CAYAAABUx/9/AAAEcklEQVR4nO2dTShtURiG17lJiUKkZIKZDBlJ/goZGBlgRIkQI1EGkpTCxICklL8pxYCJAQM/iRFDmRgoRUhJDNzJnXzft6/Nvefsve9932f2rtZeZ9XT19rttfc6MefchyMQ/Ah7AiQ4KBsIygaCsoGgbCAoGwjKBoKygUgKewJBUFpaKvLJyYnp8/Ehny01NTWZPltbW/GdWMCwsoGgbCAoG4iYA9wIub29NW1ZWVki7+7umj4NDQ0Jm1MQsLKBoGwgKBsIygYC8gatr6/PtM3MzIh8f39v+jQ3N4u8v78fz2klHFY2EJQNBGUDAblmp6enm7azszORCwoKTJ/Dw0OR6+vrRX59fY3D7BIHKxsIygaCsoGAeHlB8/T0ZNqOj49FLiwsNH3Ky8tF1ms/12wSGSgbCMoGgrKBgHyo4kVxcbHIp6enpk9ycrLIHR0dIq+srMR/YnGElQ0EZQNB2UBwzf4Na2trpq21tfXTa5KSov2MipUNBGUDQdlAUDYQod6g5ebmitze3m76VFZWiqw/rfVidXVV5I2NDZHf3t58x6irqzNtOzs7n17T0tJi2tbX131/KyhY2UBQNhCUDUSoTwH0xkFNTY3pE4vFRP7Kml1bWyvy8PCwyFNTU+aag4MD33H9yM/P/+sxEgkrGwjKBoKygQh1zc7JyRFZr8/OOffy8iLy/Py877htbW0i6xcTvDY5Li8vRV5aWjJ99Jed2dnZvnOJEqxsICgbCMoGgrKBCPUGTT8g8Xpg8vz8LPLQ0JDvuLqPPrt0dHTUXFNVVSXy+Pi47+985QFPlGBlA0HZQFA2EKGu2Xd3d7599GexZWVlIh8dHfmOoY/QaGxsNH30Gt3f32/6pKWl+f5WlGFlA0HZQFA2EJQNRKg3aHp36vz83PTJzMwUeWxsTGSvNzq9zh31Y2RkROTr62vT5ys7blGGlQ0EZQNB2UCEumbf3NyIvLi4aPoMDg6KXF1dLfLAwIC5Znp6WuSHh4dvz02fi+acc4+PjyJnZGSIXFRU9O3fCRJWNhCUDQRlAxGpYzZSU1NN297ensglJSW+4ywsLIjc29v7dxP7RUVFhcjb29sie/1niNemS1iwsoGgbCAoGwjKBiJSN2he6E+Erq6uRE5JSfEdI1FnjPb09Ijsdd6pfksmTFjZQFA2EJQNROTXbI3+U5a5uTnTR3+iq+ns7DRtm5ubInttnugXKfLy8kTWmzTO2XsO/ZJEkLCygaBsICgbiH9uzdZ4bYxMTk6KrL/Q9DrO4+LiQuTZ2VnTR7/cqMd9f3831+jjOuK1KfMnsLKBoGwgKBsIygbin79B80I//JiYmBC5q6vLXBOPIzP0hotz0fpjN1Y2EJQNBGUD8V+u2X54bZ50d3d/exy9Ri8vL//plAKBlQ0EZQNB2UBQNhCQN2iosLKBoGwgKBsIygaCsoGgbCAoGwjKBoKygaBsICgbCMoGgrKBoGwgKBsIygaCsoGgbCAoGwjKBoKygaBsICgbCMoGgrKB+AlEPfKybYrEgQAAAABJRU5ErkJggg==\" id=\"image8beed363a8\" transform=\"scale(1 -1) translate(0 -88.56)\" x=\"10.021418\" y=\"-255.506558\" width=\"88.56\" height=\"88.56\"/>\n   </g>\n   <g id=\"matplotlib.axis_29\"/>\n   <g id=\"matplotlib.axis_30\"/>\n   <g id=\"patch_73\">\n    <path d=\"M 10.021418 344.066558 \nL 10.021418 255.603143 \n\" style=\"fill: none; stroke: #000000; stroke-width: 0.8; stroke-linejoin: miter; stroke-linecap: square\"/>\n   </g>\n   <g id=\"patch_74\">\n    <path d=\"M 98.484832 344.066558 \nL 98.484832 255.603143 \n\" style=\"fill: none; stroke: #000000; stroke-width: 0.8; stroke-linejoin: miter; stroke-linecap: square\"/>\n   </g>\n   <g id=\"patch_75\">\n    <path d=\"M 10.021418 344.066558 \nL 98.484832 344.066558 \n\" style=\"fill: none; stroke: #000000; stroke-width: 0.8; stroke-linejoin: miter; stroke-linecap: square\"/>\n   </g>\n   <g id=\"patch_76\">\n    <path d=\"M 10.021418 255.603143 \nL 98.484832 255.603143 \n\" style=\"fill: none; stroke: #000000; stroke-width: 0.8; stroke-linejoin: miter; stroke-linecap: square\"/>\n   </g>\n   <g id=\"text_15\">\n    <!-- True 9, predicted 9 -->\n    <g transform=\"translate(7.2 249.603143) scale(0.1 -0.1)\">\n     <use xlink:href=\"#DejaVuSans-54\"/>\n     <use xlink:href=\"#DejaVuSans-72\" x=\"46.333984\"/>\n     <use xlink:href=\"#DejaVuSans-75\" x=\"87.447266\"/>\n     <use xlink:href=\"#DejaVuSans-65\" x=\"150.826172\"/>\n     <use xlink:href=\"#DejaVuSans-20\" x=\"212.349609\"/>\n     <use xlink:href=\"#DejaVuSans-39\" x=\"244.136719\"/>\n     <use xlink:href=\"#DejaVuSans-2c\" x=\"307.759766\"/>\n     <use xlink:href=\"#DejaVuSans-20\" x=\"339.546875\"/>\n     <use xlink:href=\"#DejaVuSans-70\" x=\"371.333984\"/>\n     <use xlink:href=\"#DejaVuSans-72\" x=\"434.810547\"/>\n     <use xlink:href=\"#DejaVuSans-65\" x=\"473.673828\"/>\n     <use xlink:href=\"#DejaVuSans-64\" x=\"535.197266\"/>\n     <use xlink:href=\"#DejaVuSans-69\" x=\"598.673828\"/>\n     <use xlink:href=\"#DejaVuSans-63\" x=\"626.457031\"/>\n     <use xlink:href=\"#DejaVuSans-74\" x=\"681.4375\"/>\n     <use xlink:href=\"#DejaVuSans-65\" x=\"720.646484\"/>\n     <use xlink:href=\"#DejaVuSans-64\" x=\"782.169922\"/>\n     <use xlink:href=\"#DejaVuSans-20\" x=\"845.646484\"/>\n     <use xlink:href=\"#DejaVuSans-39\" x=\"877.433594\"/>\n    </g>\n   </g>\n  </g>\n  <g id=\"axes_16\">\n   <g id=\"patch_77\">\n    <path d=\"M 116.177515 344.066558 \nL 204.64093 344.066558 \nL 204.64093 255.603143 \nL 116.177515 255.603143 \nz\n\" style=\"fill: #ffffff\"/>\n   </g>\n   <g clip-path=\"url(#pa1aa7e6076)\">\n    <image xlink:href=\"data:image/png;base64,\niVBORw0KGgoAAAANSUhEUgAAAHsAAAB7CAYAAABUx/9/AAAEXklEQVR4nO2dzSttURjGF24y8JXyMZGUDCgZIDKVERFJGYghRoj8B4qZMvMRIwYkGRClDA18pGTgoxQTkq+iJHd63/Xu7j5733P23uc+z2/2LGud83Z/d7XWOXvtfVKMMT+GQJAadgEkOCgbCMoGgrKBoGwgKBsIygaCsoGgbCAoGwjKBoKygaBsICgbCMoGgrKBoGwgfoVdwJ+Mj4+rtsbGRpFbW1sDqWVhYUG1TU5Oinx1dRVILfGCMxsIygaCsoFIMSGeLq2rqxP54OBA9UlPTw+qHFe+vr5E/vmR/3QrKytqzNTUlMjn5+fxLyxGOLOBoGwgKBuIUNfs19dXkTMzM0OqJHF8fn6KvLi4qPoMDQ0FUgtnNhCUDQRlA0HZQAS2QRsdHVVt09PTCXmv6+trkXd3d0Xu6OhQY/Lz8xNSi83d3Z1qKy4uDuS9ObOBoGwgKBuIwNbsrKws1WavpfaFEWOMubi4EHl2dlbkjY0NNebj40Pkp6cnkZ3W51guuPT29ops19vW1ub6GlyzSSBQNhCUDQRlAxHqVa+WlhaR19fXVZ+5uTmRBwcHE1qTF6qqqkQ+OTlxHcMNGgkEygaCsoEI9Y6Qra0tkVdXV1Wfo6OjoMrxTGVlpecxPF1KAoGygaBsIEL9nJ1sdHZ2ijw/Py9ydna2GmPvOSYmJlSfvb29OFTnDmc2EJQNBGUDQdlAQG7QysrKVFttba3Iw8PDqk95ebnI9obs9PRUjRkZGRF5f38/5jrjDWc2EJQNBGUDEalHY/mhvr5etdXU1Ijc3d0tcklJiRqTk5MjstNpWBv7y5Cenh7V5/Hx0fV1goIzGwjKBoKygaBsIJLuS5XCwkKRj4+PVZ+ioiLPr/vy8iKy04mSpaUlke3TsFHajDnBmQ0EZQNB2UBE/kuVgoICke11Mpb1+fn5WeSxsTHV5+zsTOTDw8MYK0weOLOBoGwgKBuIyK/Z9onOhoYG1zH2Z+a+vj6RNzc3/7muZIQzGwjKBoKygaBsICK/QWtqavI85u3tTWT7OWgZGRlqjP0Q+P8RzmwgKBsIygYi8ocXBgYGRLafXeqH5uZm1RbUbbNhwpkNBGUDQdlARP5zdix3ZnjF6YfQu7q6RL69vVV97B9ejfoBQxvObCAoGwjKBoKygYj8lyr2JigvLy+kSox5eHgQeW1t7a9/N8aYmZkZkd/f31Ufe+OXm5srsn0hxy+c2UBQNhCUDUTk1+z7+3uR/dyhGSXsH64zxpibmxuR7dOw7e3tasz29rbn9+bMBoKygaBsICgbiMhv0Kqrq0W2T5Q4XRVLTZX/h9PS0uJeVyL5/v4W2enkq5+rgZzZQFA2EJQNROTXbD9UVFSIbN/260RpaanI/f39qs/y8rLIl5eXPqpzZ2dnR+R4PfKDMxsIygaCsoH4L9ds4gxnNhCUDQRlA0HZQFA2EJQNBGUDQdlAUDYQlA0EZQNB2UBQNhCUDQRlA0HZQFA2EL8BMNH1fGeqjNcAAAAASUVORK5CYII=\" id=\"image7dbfc8ec15\" transform=\"scale(1 -1) translate(0 -88.56)\" x=\"116.177515\" y=\"-255.506558\" width=\"88.56\" height=\"88.56\"/>\n   </g>\n   <g id=\"matplotlib.axis_31\"/>\n   <g id=\"matplotlib.axis_32\"/>\n   <g id=\"patch_78\">\n    <path d=\"M 116.177515 344.066558 \nL 116.177515 255.603143 \n\" style=\"fill: none; stroke: #000000; stroke-width: 0.8; stroke-linejoin: miter; stroke-linecap: square\"/>\n   </g>\n   <g id=\"patch_79\">\n    <path d=\"M 204.64093 344.066558 \nL 204.64093 255.603143 \n\" style=\"fill: none; stroke: #000000; stroke-width: 0.8; stroke-linejoin: miter; stroke-linecap: square\"/>\n   </g>\n   <g id=\"patch_80\">\n    <path d=\"M 116.177515 344.066558 \nL 204.64093 344.066558 \n\" style=\"fill: none; stroke: #000000; stroke-width: 0.8; stroke-linejoin: miter; stroke-linecap: square\"/>\n   </g>\n   <g id=\"patch_81\">\n    <path d=\"M 116.177515 255.603143 \nL 204.64093 255.603143 \n\" style=\"fill: none; stroke: #000000; stroke-width: 0.8; stroke-linejoin: miter; stroke-linecap: square\"/>\n   </g>\n   <g id=\"text_16\">\n    <!-- True 5, predicted 5 -->\n    <g transform=\"translate(113.356098 249.603143) scale(0.1 -0.1)\">\n     <use xlink:href=\"#DejaVuSans-54\"/>\n     <use xlink:href=\"#DejaVuSans-72\" x=\"46.333984\"/>\n     <use xlink:href=\"#DejaVuSans-75\" x=\"87.447266\"/>\n     <use xlink:href=\"#DejaVuSans-65\" x=\"150.826172\"/>\n     <use xlink:href=\"#DejaVuSans-20\" x=\"212.349609\"/>\n     <use xlink:href=\"#DejaVuSans-35\" x=\"244.136719\"/>\n     <use xlink:href=\"#DejaVuSans-2c\" x=\"307.759766\"/>\n     <use xlink:href=\"#DejaVuSans-20\" x=\"339.546875\"/>\n     <use xlink:href=\"#DejaVuSans-70\" x=\"371.333984\"/>\n     <use xlink:href=\"#DejaVuSans-72\" x=\"434.810547\"/>\n     <use xlink:href=\"#DejaVuSans-65\" x=\"473.673828\"/>\n     <use xlink:href=\"#DejaVuSans-64\" x=\"535.197266\"/>\n     <use xlink:href=\"#DejaVuSans-69\" x=\"598.673828\"/>\n     <use xlink:href=\"#DejaVuSans-63\" x=\"626.457031\"/>\n     <use xlink:href=\"#DejaVuSans-74\" x=\"681.4375\"/>\n     <use xlink:href=\"#DejaVuSans-65\" x=\"720.646484\"/>\n     <use xlink:href=\"#DejaVuSans-64\" x=\"782.169922\"/>\n     <use xlink:href=\"#DejaVuSans-20\" x=\"845.646484\"/>\n     <use xlink:href=\"#DejaVuSans-35\" x=\"877.433594\"/>\n    </g>\n   </g>\n  </g>\n  <g id=\"axes_17\">\n   <g id=\"patch_82\">\n    <path d=\"M 222.333613 344.066558 \nL 310.797027 344.066558 \nL 310.797027 255.603143 \nL 222.333613 255.603143 \nz\n\" style=\"fill: #ffffff\"/>\n   </g>\n   <g clip-path=\"url(#p33f0864819)\">\n    <image xlink:href=\"data:image/png;base64,\niVBORw0KGgoAAAANSUhEUgAAAHsAAAB7CAYAAABUx/9/AAADqklEQVR4nO2dTSs9YRiHxz9EiRUlKcpCiYUkiSRLW/IJkBXZsLBSSskX4ANIdhayUMpWUogNG6xIKfKSt//6nnuac3AyZ87vuna/p+eeeerq7pnOmZeiIAi+ApDgX9ILgL8D2UIgWwhkC4FsIZAtBLKFQLYQyBYC2UIgWwhkC4FsIZAtBLKFQLYQyBYC2UIgWwhkC4FsIYqTXsBvKSkpcWMtLS2xNQ8PD27s4uIiZ2vKV+hsIZAtBLKFyKs9u7y83I3V1dWZPDs7a3JfX5+raWpqij3P4+OjGxsbGzN5bW0t9hhphM4WAtlCIFsIZAuR6AXaxMREbA6CIGhtbc35eSsqKtxY1A8thQadLQSyhUC2EInu2d3d3SZH7c+vr68mHx8fm7yxseFqamtrTZ6amjL5+vra1ZydncWutRCgs4VAthDIFgLZQhQFCb4HLXwh1dXV5eZsb2+b/Pz8bHJbW5ur2dnZMbm6utrk1dVVVxP+16sQobOFQLYQyBYi0T37J0xOTprc09Pj5gwNDZl8eXlp8sDAgKs5Pz/PweryGzpbCGQLgWwhUrdnHx0dmZzNzQ2Hh4cmd3R0uDmfn5+/W1gKoLOFQLYQyBYC2ULk1eM/2VBaWppxzsrKislzc3MmK1yMRUFnC4FsIZAtROr27Gz4+rK/E93e3ia0kvyCzhYC2UIgWwhkC5G6C7TNzU2Tp6en3ZzR0VGTq6qqTF5aWnI1p6enJr+8vPx0iXkLnS0EsoVAthCpu1MlzOLiohubmZn59nH29vZMXl5ednO2trZMfn9///Z5koTOFgLZQiBbiNTv2VHMz8+bHH7Ss7293dXU19dnPG74D5Xwk59XV1eu5uDgIONx/wo6WwhkC4FsIZAtREFeoGUi6g7VwcFBk8MvsQ+CIOjs7Iw97sfHhxt7e3szeX193c0Jv8ttd3fX5Kenp9jzZgudLQSyhUC2EJJ7djYUF/v7Onp7e00O7+Hj4+OuprGx8dvnvru7M/nk5MTN2d/fN3lhYcHNub+/N5nOFgLZQiBbCPbsHFJZWenGampqTB4ZGXFzhoeHTS4rKzO5oaHB1dzc3Jgc9eHY/v5+k+lsIZAtBLKFQLYQXKClgObmZjcW/qhN1JeDw9DZQiBbCGQLwZ4tBJ0tBLKFQLYQyBYC2UIgWwhkC4FsIZAtBLKFQLYQyBYC2UIgWwhkC4FsIZAtBLKFQLYQyBYC2UIgWwhkC4FsIZAtBLKFQLYQyBYC2UIgW4j/DuKuLqu9QC8AAAAASUVORK5CYII=\" id=\"imagec98db8ef19\" transform=\"scale(1 -1) translate(0 -88.56)\" x=\"222.333613\" y=\"-255.506558\" width=\"88.56\" height=\"88.56\"/>\n   </g>\n   <g id=\"matplotlib.axis_33\"/>\n   <g id=\"matplotlib.axis_34\"/>\n   <g id=\"patch_83\">\n    <path d=\"M 222.333613 344.066558 \nL 222.333613 255.603143 \n\" style=\"fill: none; stroke: #000000; stroke-width: 0.8; stroke-linejoin: miter; stroke-linecap: square\"/>\n   </g>\n   <g id=\"patch_84\">\n    <path d=\"M 310.797027 344.066558 \nL 310.797027 255.603143 \n\" style=\"fill: none; stroke: #000000; stroke-width: 0.8; stroke-linejoin: miter; stroke-linecap: square\"/>\n   </g>\n   <g id=\"patch_85\">\n    <path d=\"M 222.333613 344.066558 \nL 310.797027 344.066558 \n\" style=\"fill: none; stroke: #000000; stroke-width: 0.8; stroke-linejoin: miter; stroke-linecap: square\"/>\n   </g>\n   <g id=\"patch_86\">\n    <path d=\"M 222.333613 255.603143 \nL 310.797027 255.603143 \n\" style=\"fill: none; stroke: #000000; stroke-width: 0.8; stroke-linejoin: miter; stroke-linecap: square\"/>\n   </g>\n   <g id=\"text_17\">\n    <!-- True 5, predicted 5 -->\n    <g transform=\"translate(219.512195 249.603143) scale(0.1 -0.1)\">\n     <use xlink:href=\"#DejaVuSans-54\"/>\n     <use xlink:href=\"#DejaVuSans-72\" x=\"46.333984\"/>\n     <use xlink:href=\"#DejaVuSans-75\" x=\"87.447266\"/>\n     <use xlink:href=\"#DejaVuSans-65\" x=\"150.826172\"/>\n     <use xlink:href=\"#DejaVuSans-20\" x=\"212.349609\"/>\n     <use xlink:href=\"#DejaVuSans-35\" x=\"244.136719\"/>\n     <use xlink:href=\"#DejaVuSans-2c\" x=\"307.759766\"/>\n     <use xlink:href=\"#DejaVuSans-20\" x=\"339.546875\"/>\n     <use xlink:href=\"#DejaVuSans-70\" x=\"371.333984\"/>\n     <use xlink:href=\"#DejaVuSans-72\" x=\"434.810547\"/>\n     <use xlink:href=\"#DejaVuSans-65\" x=\"473.673828\"/>\n     <use xlink:href=\"#DejaVuSans-64\" x=\"535.197266\"/>\n     <use xlink:href=\"#DejaVuSans-69\" x=\"598.673828\"/>\n     <use xlink:href=\"#DejaVuSans-63\" x=\"626.457031\"/>\n     <use xlink:href=\"#DejaVuSans-74\" x=\"681.4375\"/>\n     <use xlink:href=\"#DejaVuSans-65\" x=\"720.646484\"/>\n     <use xlink:href=\"#DejaVuSans-64\" x=\"782.169922\"/>\n     <use xlink:href=\"#DejaVuSans-20\" x=\"845.646484\"/>\n     <use xlink:href=\"#DejaVuSans-35\" x=\"877.433594\"/>\n    </g>\n   </g>\n  </g>\n  <g id=\"axes_18\">\n   <g id=\"patch_87\">\n    <path d=\"M 328.48971 344.066558 \nL 416.953125 344.066558 \nL 416.953125 255.603143 \nL 328.48971 255.603143 \nz\n\" style=\"fill: #ffffff\"/>\n   </g>\n   <g clip-path=\"url(#p90dc32f0c0)\">\n    <image xlink:href=\"data:image/png;base64,\niVBORw0KGgoAAAANSUhEUgAAAHsAAAB7CAYAAABUx/9/AAAEnklEQVR4nO2dTyhtQRzH56JbbimxsrBko5QVkkQpYWFDNor8W1AWkhUpRZcFKUlZ2NuyokSKncgKCwuycRcWssLbvd7vN9O755x7zr3nve/3s/tOc+aM+zHNdOb8SRhjfgyBoKjQHSD5g7KBoGwgKBsIygaCsoGgbCAoGwjKBoKygaBsICgbCMoGgrKBoGwgKBsIygaipNAdyJWqqiqrbHZ2VuSfH/8343x8fFhle3t7In9+foqcyWR8nyefcGQDQdlAUDYQCROju0ubmpqssu7ubpFra2tF7unpsY5JpVIiB5mzE4mEVabbeX5+FnlsbMw65uTkxPe5o4IjGwjKBoKygcjbnN3e3m6Vzc/Pi9zZ2WnVCWO+jWrO9oKes9PptFXn9PTUd7tB4MgGgrKBoGwgKBuIyBZo4+PjIm9tbVl1ksmk7IyHRdHDw4PIR0dHvvtWU1NjlemLM2Et0HQ7T09PVp2WlhaRX19ffZ/HCxzZQFA2EJQNRGhz9uTkpMjb29u+27i/v7fK+vr6staJgsXFRatsbm5O5NLS0qzteLnAo/+m5uZmkd/f37Oexwsc2UBQNhCUDQRlAxHaAu3r60vkIBcgSkrifbOrvpNmdXVV5NbWVuuYIDtwU1NTIu/u7nrt4l/hyAaCsoGgbCA4Z+dAZWWlyGtra1ad4eFhkb38LnojpLq62n/nHHBkA0HZQFA2EKHN2d/f3yIHmbOLi4vD6EqsiNPvwpENBGUDQdlAUDYQoV3F0AuPIAuR/5GNjQ2RZ2ZmCtQTjmwoKBsIygaCGyERox9VPj4+9t1GWL8LRzYQlA0EZQNB2UDEakWk33FmTP4e94mKx8fHQnfhNxzZQFA2EJQNRGhz9vX1tcgNDQ2+21hYWLDKhoaGAvcpjrhe35EvOLKBoGwgKBuI0DZCysrKRD47OxO5vr4+e2cc89no6KjI+/v7/jtXQPQTmPrv8QI3QohvKBsIygaCsoGI7N2lm5ubIk9PT2fvjGOB9vb2JnJ/f7/I5+fn/juXR4LcwcNHdknOUDYQlA1EZHO2vshycXFh1amrq5Od8fCO78vLS5Fda4GbmxvP/QwT10bO0tKSyK45W38Mrre3V+S7u7vcO2c4sqGgbCAoG4i8fcRtZGTEKtMfHy8qsv/39GsqNHrDxRhjOjo6fPYuGPoGyaurK6tOeXm5yK45++DgQOTBwcHcO+eAIxsIygaCsoGgbCDytkBzsbOzI/LExIRVJ8ijv3pzZHl5WWT9IThj3F+11xweHoqsL6LoD8EZY18ocl0g6erqEpkfcSM5Q9lAUDYQBZ2zNQMDA1aZfpVUY2Nj1naCfJcjWxtB21lfXxfZ9XE7vRESFRzZQFA2EJQNBGUDEasFmou2tjaRV1ZWRK6oqLCO0btRUS3Q9MJKXyQyxph0Ou373FHBkQ0EZQNB2UDEfs7WpFIpkZPJpFXHdZfnn7g2QvTmg7471hhjXl5eRL69vRU5k8n89byFhiMbCMoGgrKB+OfmbBIcjmwgKBsIygaCsoGgbCAoGwjKBoKygaBsICgbCMoGgrKBoGwgKBsIygaCsoGgbCB+AXvCPgMX0aRaAAAAAElFTkSuQmCC\" id=\"image220d7bbd25\" transform=\"scale(1 -1) translate(0 -88.56)\" x=\"328.48971\" y=\"-255.506558\" width=\"88.56\" height=\"88.56\"/>\n   </g>\n   <g id=\"matplotlib.axis_35\"/>\n   <g id=\"matplotlib.axis_36\"/>\n   <g id=\"patch_88\">\n    <path d=\"M 328.48971 344.066558 \nL 328.48971 255.603143 \n\" style=\"fill: none; stroke: #000000; stroke-width: 0.8; stroke-linejoin: miter; stroke-linecap: square\"/>\n   </g>\n   <g id=\"patch_89\">\n    <path d=\"M 416.953125 344.066558 \nL 416.953125 255.603143 \n\" style=\"fill: none; stroke: #000000; stroke-width: 0.8; stroke-linejoin: miter; stroke-linecap: square\"/>\n   </g>\n   <g id=\"patch_90\">\n    <path d=\"M 328.48971 344.066558 \nL 416.953125 344.066558 \n\" style=\"fill: none; stroke: #000000; stroke-width: 0.8; stroke-linejoin: miter; stroke-linecap: square\"/>\n   </g>\n   <g id=\"patch_91\">\n    <path d=\"M 328.48971 255.603143 \nL 416.953125 255.603143 \n\" style=\"fill: none; stroke: #000000; stroke-width: 0.8; stroke-linejoin: miter; stroke-linecap: square\"/>\n   </g>\n   <g id=\"text_18\">\n    <!-- True 0, predicted 0 -->\n    <g transform=\"translate(325.668293 249.603143) scale(0.1 -0.1)\">\n     <defs>\n      <path id=\"DejaVuSans-30\" d=\"M 2034 4250 \nQ 1547 4250 1301 3770 \nQ 1056 3291 1056 2328 \nQ 1056 1369 1301 889 \nQ 1547 409 2034 409 \nQ 2525 409 2770 889 \nQ 3016 1369 3016 2328 \nQ 3016 3291 2770 3770 \nQ 2525 4250 2034 4250 \nz\nM 2034 4750 \nQ 2819 4750 3233 4129 \nQ 3647 3509 3647 2328 \nQ 3647 1150 3233 529 \nQ 2819 -91 2034 -91 \nQ 1250 -91 836 529 \nQ 422 1150 422 2328 \nQ 422 3509 836 4129 \nQ 1250 4750 2034 4750 \nz\n\" transform=\"scale(0.015625)\"/>\n     </defs>\n     <use xlink:href=\"#DejaVuSans-54\"/>\n     <use xlink:href=\"#DejaVuSans-72\" x=\"46.333984\"/>\n     <use xlink:href=\"#DejaVuSans-75\" x=\"87.447266\"/>\n     <use xlink:href=\"#DejaVuSans-65\" x=\"150.826172\"/>\n     <use xlink:href=\"#DejaVuSans-20\" x=\"212.349609\"/>\n     <use xlink:href=\"#DejaVuSans-30\" x=\"244.136719\"/>\n     <use xlink:href=\"#DejaVuSans-2c\" x=\"307.759766\"/>\n     <use xlink:href=\"#DejaVuSans-20\" x=\"339.546875\"/>\n     <use xlink:href=\"#DejaVuSans-70\" x=\"371.333984\"/>\n     <use xlink:href=\"#DejaVuSans-72\" x=\"434.810547\"/>\n     <use xlink:href=\"#DejaVuSans-65\" x=\"473.673828\"/>\n     <use xlink:href=\"#DejaVuSans-64\" x=\"535.197266\"/>\n     <use xlink:href=\"#DejaVuSans-69\" x=\"598.673828\"/>\n     <use xlink:href=\"#DejaVuSans-63\" x=\"626.457031\"/>\n     <use xlink:href=\"#DejaVuSans-74\" x=\"681.4375\"/>\n     <use xlink:href=\"#DejaVuSans-65\" x=\"720.646484\"/>\n     <use xlink:href=\"#DejaVuSans-64\" x=\"782.169922\"/>\n     <use xlink:href=\"#DejaVuSans-20\" x=\"845.646484\"/>\n     <use xlink:href=\"#DejaVuSans-30\" x=\"877.433594\"/>\n    </g>\n   </g>\n  </g>\n  <g id=\"axes_19\">\n   <g id=\"patch_92\">\n    <path d=\"M 434.645808 344.066558 \nL 523.109223 344.066558 \nL 523.109223 255.603143 \nL 434.645808 255.603143 \nz\n\" style=\"fill: #ffffff\"/>\n   </g>\n   <g clip-path=\"url(#p508e9300ca)\">\n    <image xlink:href=\"data:image/png;base64,\niVBORw0KGgoAAAANSUhEUgAAAHsAAAB7CAYAAABUx/9/AAADk0lEQVR4nO2dMS9sQRiGZ69b7HYaiZVssc0WSjoVWaGSiEqh1GwkElolv0ClFRKNRCcKSiUSQbWRaEQiKOlo7zcz11qXM+O+z9O9Y3bPJE++fLPO7NmSc+7VgQS/Ui8AigPZQiBbCGQLgWwhkC0EsoVAthDIFgLZQiBbCGQLgWwhkC0EsoVAthDIFuJ36gX8JBYWFkxeX183uaenp8jldA2VLQSyhUC2ECXH6dIolUolGDs9PTW50WiYTM+GbEC2EMgWgs/Zf8Hvx7Gxl5eXopbzJVDZQiBbCGQLgWwh2KB1QalUMnl3dzfRSj4HlS0EsoVAthBZ9ezp6ekPjf2J30edc+7x8dHk/f19k/0bGs459/DwYPLIyEgw5/XV3jPa3t5+d225QWULgWwhkC0EsoVIukHb2toyeXZ2NpjTbrdN9u80xTZo5XLZ5MXFRZOfnp6C19zc3Jhcq9UiK/7ZUNlCIFsIZAtR2OnSwcHBYOzi4sLknZ2dYM78/LzJz8/PHa81MDBg8uHhoclXV1fBa8bGxkzu7e3teB3/fScnJzu+JiVUthDIFgLZQhT2OXt4eDgY8z8jLy8vB3M+0qN9bm9vTR4fH3/37845NzExYfLBwUHH68Q+4+cMlS0EsoVAthDIFqKwDdrx8XEw5p/8iJ0O2dvb++drxzZkPv4/eFZWVoI5a2trXb9vTlDZQiBbCGQLUVjPvr6+7jhnZmYmGPuKnv0R/P7rn0h1LuzZPw0qWwhkC4FsIZAtRNLTpZeXlyaPjo4Gc/r6+ky+v7//ziX911DZQiBbCGQLkbRnn52dmTw3NxfMqVarJqfs2f7JFE6qQLYgWwhkC5G0Z/s3H/zDDLnhr6+/vz/RSj4HlS0EsoVAthDIFiLpBm1jY8PkVqsVzBkaGjL5/Pz8W9fUDf7XinKHyhYC2UIgW4isfsQt9g2Lk5MTk6empgpZS+xH3FZXV01eWloymR9xg2xAthDIFiKr540fHR0FY81mM8FK4o/3uLu7M5nDC5AtyBYC2UIgW4isNmibm5vBWM7P/fZPrsRujPjPN00JlS0EsoVAthBZ9exYf4s9UitXcurPMahsIZAtBLKFQLYQWW3QYnzm4fIQh8oWAtlCIFuI7Ht2TtTrdZM5qQLZgmwhkC1EVt8Ige+FyhYC2UIgWwhkC4FsIZAtBLKFQLYQyBYC2UIgWwhkC4FsIZAtBLKFQLYQyBbiDaNgsnHZBXGjAAAAAElFTkSuQmCC\" id=\"imagebe4bb643d2\" transform=\"scale(1 -1) translate(0 -88.56)\" x=\"434.645808\" y=\"-255.506558\" width=\"88.56\" height=\"88.56\"/>\n   </g>\n   <g id=\"matplotlib.axis_37\"/>\n   <g id=\"matplotlib.axis_38\"/>\n   <g id=\"patch_93\">\n    <path d=\"M 434.645808 344.066558 \nL 434.645808 255.603143 \n\" style=\"fill: none; stroke: #000000; stroke-width: 0.8; stroke-linejoin: miter; stroke-linecap: square\"/>\n   </g>\n   <g id=\"patch_94\">\n    <path d=\"M 523.109223 344.066558 \nL 523.109223 255.603143 \n\" style=\"fill: none; stroke: #000000; stroke-width: 0.8; stroke-linejoin: miter; stroke-linecap: square\"/>\n   </g>\n   <g id=\"patch_95\">\n    <path d=\"M 434.645808 344.066558 \nL 523.109223 344.066558 \n\" style=\"fill: none; stroke: #000000; stroke-width: 0.8; stroke-linejoin: miter; stroke-linecap: square\"/>\n   </g>\n   <g id=\"patch_96\">\n    <path d=\"M 434.645808 255.603143 \nL 523.109223 255.603143 \n\" style=\"fill: none; stroke: #000000; stroke-width: 0.8; stroke-linejoin: miter; stroke-linecap: square\"/>\n   </g>\n   <g id=\"text_19\">\n    <!-- True 4, predicted 4 -->\n    <g transform=\"translate(431.82439 249.603143) scale(0.1 -0.1)\">\n     <use xlink:href=\"#DejaVuSans-54\"/>\n     <use xlink:href=\"#DejaVuSans-72\" x=\"46.333984\"/>\n     <use xlink:href=\"#DejaVuSans-75\" x=\"87.447266\"/>\n     <use xlink:href=\"#DejaVuSans-65\" x=\"150.826172\"/>\n     <use xlink:href=\"#DejaVuSans-20\" x=\"212.349609\"/>\n     <use xlink:href=\"#DejaVuSans-34\" x=\"244.136719\"/>\n     <use xlink:href=\"#DejaVuSans-2c\" x=\"307.759766\"/>\n     <use xlink:href=\"#DejaVuSans-20\" x=\"339.546875\"/>\n     <use xlink:href=\"#DejaVuSans-70\" x=\"371.333984\"/>\n     <use xlink:href=\"#DejaVuSans-72\" x=\"434.810547\"/>\n     <use xlink:href=\"#DejaVuSans-65\" x=\"473.673828\"/>\n     <use xlink:href=\"#DejaVuSans-64\" x=\"535.197266\"/>\n     <use xlink:href=\"#DejaVuSans-69\" x=\"598.673828\"/>\n     <use xlink:href=\"#DejaVuSans-63\" x=\"626.457031\"/>\n     <use xlink:href=\"#DejaVuSans-74\" x=\"681.4375\"/>\n     <use xlink:href=\"#DejaVuSans-65\" x=\"720.646484\"/>\n     <use xlink:href=\"#DejaVuSans-64\" x=\"782.169922\"/>\n     <use xlink:href=\"#DejaVuSans-20\" x=\"845.646484\"/>\n     <use xlink:href=\"#DejaVuSans-34\" x=\"877.433594\"/>\n    </g>\n   </g>\n  </g>\n  <g id=\"axes_20\">\n   <g id=\"patch_97\">\n    <path d=\"M 540.801905 344.066558 \nL 629.26532 344.066558 \nL 629.26532 255.603143 \nL 540.801905 255.603143 \nz\n\" style=\"fill: #ffffff\"/>\n   </g>\n   <g clip-path=\"url(#p0f24ac62a1)\">\n    <image xlink:href=\"data:image/png;base64,\niVBORw0KGgoAAAANSUhEUgAAAHsAAAB7CAYAAABUx/9/AAAEN0lEQVR4nO2dPyw8QRTH3wkRxTVUqFU0NBTiotUqVBIJIpFINBKliFwjInJCQ0OjkFBpNQq16iI6iT8FibiGxJ/m17w3Y2937e2u3/f76d5mZ3bi4+WN3ZlREJEvIRA0ZT0Akh6UDQRlA0HZQFA2EJQNBGUDQdlAUDYQlA0EZQNB2UA0Zz2Av8zc3JyKp6ennXuGh4dV/P7+3tAxBcHMBoKygaBsICgbCE7QIrCzs6NiO0G7vr522hSLRRU/PT0lP7CQMLOBoGwgKBsI1uwfGB0dda5NTU0FtrE1XSTbGm1hZgNB2UBQNhCs2T+wvLzsXGttbVVxoVBQ8f39fUPH9FuY2UBQNhCUDQRlA8EJ2j/s5Ku9vd255+tL725+eXlR8dXVVfIDSxBmNhCUDQRlA5FpzbYf9ldXV517Ojs7I/drFxGcnZ3VbdPX16fi/v7+yM/xLV7IE8xsICgbCMoGgrKBKEhK56DZbTAiItvb2yq2kyQf9kuTfdERBttH3H4ODw9VfHBw4Nxzfn4eud9GwcwGgrKBoGwgUqvZGxsbzrXFxcXI/TQ16d/Pz8/PyH0kVbNtP29vb849FxcXKn54eHDumZycjPzsODCzgaBsICgbiEw/hISpk/Zv72q1quKuri6nzcTERGCf9gOMiMjS0pKK29ra6o7N0tLS4lzz7SyxdHd3q/jk5ETFlUol8lh8MLOBoGwgKBsIygYi96tL7dlidiJ1d3fntNnc3Iz8nN7eXhWPj4/XbWO36I6MjNTt10epVAps45ss7u/vqzjM1mBmNhCUDQRlA5H7mn1zc5P1EH5kYWFBxb6XNbb+zs7OOvfY4zs6OjpUXC6XnTYfHx8q9n1osjCzgaBsICgbCMoGItMJmm/FiCXO9p96+L6UjY2NqTjM2Cyvr6/OtcvLy8BYRGR9fV3Fp6enKu7p6XHaxPm5MLOBoGwgKBuI1Gq2r56FWalia+nKysqvx+JbPWI/NvjGtra29utn+7Crb+xLFrtCVSTealhmNhCUDQRlA5Fazd7d3XWuzc/Pq9h3HNXAwEDiY4nb597eXsIj8VOr1QJjEZHHx8fI/TKzgaBsICgbCMoGIrUJWpyXAKg8Pz8HxiIiR0dHkftlZgNB2UBQNhCp1Wx7nreIu4oyS8IsVpiZmVFxEh9lfNhdLltbW849vhct9WBmA0HZQFA2EKnV7NvbW+fa8fGxisPsnGwUeX4P4KvZcWBmA0HZQFA2EJQNRKY7QrL6r7T2nHAR9wWPbxeGPVbjr8HMBoKygaBsIFI7b9zH0NCQin07HyzNzbk/GSS3MLOBoGwgKBsIygYiV7Md32qRwcHBDEbyf8LMBoKygaBsIDJ9qULShZkNBGUDQdlAUDYQlA0EZQNB2UBQNhCUDQRlA0HZQFA2EJQNBGUDQdlAUDYQlA0EZQNB2UBQNhCUDcQ36wHeewcZmgcAAAAASUVORK5CYII=\" id=\"imagee58177d2f4\" transform=\"scale(1 -1) translate(0 -88.56)\" x=\"540.801905\" y=\"-255.506558\" width=\"88.56\" height=\"88.56\"/>\n   </g>\n   <g id=\"matplotlib.axis_39\"/>\n   <g id=\"matplotlib.axis_40\"/>\n   <g id=\"patch_98\">\n    <path d=\"M 540.801905 344.066558 \nL 540.801905 255.603143 \n\" style=\"fill: none; stroke: #000000; stroke-width: 0.8; stroke-linejoin: miter; stroke-linecap: square\"/>\n   </g>\n   <g id=\"patch_99\">\n    <path d=\"M 629.26532 344.066558 \nL 629.26532 255.603143 \n\" style=\"fill: none; stroke: #000000; stroke-width: 0.8; stroke-linejoin: miter; stroke-linecap: square\"/>\n   </g>\n   <g id=\"patch_100\">\n    <path d=\"M 540.801905 344.066558 \nL 629.26532 344.066558 \n\" style=\"fill: none; stroke: #000000; stroke-width: 0.8; stroke-linejoin: miter; stroke-linecap: square\"/>\n   </g>\n   <g id=\"patch_101\">\n    <path d=\"M 540.801905 255.603143 \nL 629.26532 255.603143 \n\" style=\"fill: none; stroke: #000000; stroke-width: 0.8; stroke-linejoin: miter; stroke-linecap: square\"/>\n   </g>\n   <g id=\"text_20\">\n    <!-- True 4, predicted 4 -->\n    <g transform=\"translate(537.980488 249.603143) scale(0.1 -0.1)\">\n     <use xlink:href=\"#DejaVuSans-54\"/>\n     <use xlink:href=\"#DejaVuSans-72\" x=\"46.333984\"/>\n     <use xlink:href=\"#DejaVuSans-75\" x=\"87.447266\"/>\n     <use xlink:href=\"#DejaVuSans-65\" x=\"150.826172\"/>\n     <use xlink:href=\"#DejaVuSans-20\" x=\"212.349609\"/>\n     <use xlink:href=\"#DejaVuSans-34\" x=\"244.136719\"/>\n     <use xlink:href=\"#DejaVuSans-2c\" x=\"307.759766\"/>\n     <use xlink:href=\"#DejaVuSans-20\" x=\"339.546875\"/>\n     <use xlink:href=\"#DejaVuSans-70\" x=\"371.333984\"/>\n     <use xlink:href=\"#DejaVuSans-72\" x=\"434.810547\"/>\n     <use xlink:href=\"#DejaVuSans-65\" x=\"473.673828\"/>\n     <use xlink:href=\"#DejaVuSans-64\" x=\"535.197266\"/>\n     <use xlink:href=\"#DejaVuSans-69\" x=\"598.673828\"/>\n     <use xlink:href=\"#DejaVuSans-63\" x=\"626.457031\"/>\n     <use xlink:href=\"#DejaVuSans-74\" x=\"681.4375\"/>\n     <use xlink:href=\"#DejaVuSans-65\" x=\"720.646484\"/>\n     <use xlink:href=\"#DejaVuSans-64\" x=\"782.169922\"/>\n     <use xlink:href=\"#DejaVuSans-20\" x=\"845.646484\"/>\n     <use xlink:href=\"#DejaVuSans-34\" x=\"877.433594\"/>\n    </g>\n   </g>\n  </g>\n  <g id=\"axes_21\">\n   <g id=\"patch_102\">\n    <path d=\"M 646.958003 344.066558 \nL 735.421418 344.066558 \nL 735.421418 255.603143 \nL 646.958003 255.603143 \nz\n\" style=\"fill: #ffffff\"/>\n   </g>\n   <g clip-path=\"url(#pe851731b40)\">\n    <image xlink:href=\"data:image/png;base64,\niVBORw0KGgoAAAANSUhEUgAAAHsAAAB7CAYAAABUx/9/AAAEiElEQVR4nO2dzSt1QRzH5/Kk7oIsvBQlysIKYSHWJKFY2BArW4XsLGyRjT+AjWLlLS/F1kYhXSUsSIqFt4UkeXu2z+83p3vvuXfccz3f72f3Pc3MmXxMM51zZm7IGPNtCAQZQXeApA7KBoKygaBsICgbCMoGgrKBoGwgKBsIygaCsoGgbCAoGwjKBoKygaBsICgbCMoGgrKBoGwgKBsIygaCsoGgbCAoG4g/rhoKh8Mi19fXu2o6JRwfH4t8f3/vpN3S0lKRy8rKrDIPDw8iRyIRJ/fWcGQDQdlAUDYQlA1EyDjasruwsCByd3e3yOfn51ad3d1d3/epqqoSuba21ncbGRn2//jMzIzI4+PjVpmnp6eo7Y6OjlrXhoaGRC4sLLTKPD8/i6z/dtvb21HvGy8c2UBQNhCUDYSzOfvr60vk72/ZrNfcenR05Ps+WVlZUbMxxnR1dYk8NjYmcnl5uVVH93d/f98qMzU1JXJLS4vI/f39Vp1QKCTy2dmZVWZ+fl7kz89PkScnJ606icCRDQRlA0HZQFA2EM4WaLe3tyIXFBSIrBc3xtgPMm5ublx0JSZzc3PWtb6+vqTb1W+vjLEXX8PDw0nfJ1E4soGgbCAoGwhnc3ZlZaXIGxsbIhcVFVl19MuRwcFBq8zOzk7SfWtvbxe5s7PTKuP1QMQv+mGOMcasrq4m3a4rOLKBoGwgKBsIZ3O2Jjc3V+Tp6WmrTG9vb8x2Hh8fk+5LXl6eyJmZmVYZ/fLh4+PDKuP10uVfZmdnrWsDAwPxdDElcGQDQdlAUDYQlA3Ejy3Q4qGurk5k/eWHMfaXlpri4mLrml4c6kXe4uKiVWdzc1Pky8tLq4x+mdPa2iryxcWFVaempkZk/SVpKuHIBoKygaBsIAKds11QUVFhXdPz+PX1tcheu1PiQa8x9vb2YtZpaGjwXeen4MgGgrKBoGwgKBsIZ2eqBMXp6Wlc11ygF3p6a48XbW1tInOBRlICZQNB2UD8+jk7SPQ233SHIxsIygaCsoHgnO0DvbPkt8GRDQRlA0HZQFA2EFyg+UC/1IiHk5OTH+hJYnBkA0HZQFA2EIHO2U1NTSJ7nRca64xvVzQ2Noq8vr5ulcnJyYnahteHCWtra8l1zCEc2UBQNhCUDUSgc/bS0pLIr6+vVhl9TIXebfn+/u6kL3d3dyJ7/YibnrNfXl5E9jpSQ5cJEo5sICgbCMoGgrKBCHTL7sHBgcjV1dUx6xweHoq8tbVllUnk5cPIyIjI+ngMY4x5e3sTuaenR+Tl5WXf900lHNlAUDYQlA1EoHN2c3OzyBMTE1YZfY65C7x2X+rdHV5nl+oz1L3OF09nOLKBoGwgKBsIygYirc5B0z/8ZowxHR0dIus3S+Fw2KqTnZ0tcklJicheC7SrqyuR9S/aG2PMysqKde03wZENBGUDQdlApNWc7Yr8/HyR43kwE4lERNZfrvwPcGQDQdlAUDYQ/+WcTbzhyAaCsoGgbCAoGwjKBoKygaBsICgbCMoGgrKBoGwgKBsIygaCsoGgbCAoGwjKBuIvgycFdGhIXH8AAAAASUVORK5CYII=\" id=\"image04d9ed7831\" transform=\"scale(1 -1) translate(0 -88.56)\" x=\"646.958003\" y=\"-255.506558\" width=\"88.56\" height=\"88.56\"/>\n   </g>\n   <g id=\"matplotlib.axis_41\"/>\n   <g id=\"matplotlib.axis_42\"/>\n   <g id=\"patch_103\">\n    <path d=\"M 646.958003 344.066558 \nL 646.958003 255.603143 \n\" style=\"fill: none; stroke: #000000; stroke-width: 0.8; stroke-linejoin: miter; stroke-linecap: square\"/>\n   </g>\n   <g id=\"patch_104\">\n    <path d=\"M 735.421418 344.066558 \nL 735.421418 255.603143 \n\" style=\"fill: none; stroke: #000000; stroke-width: 0.8; stroke-linejoin: miter; stroke-linecap: square\"/>\n   </g>\n   <g id=\"patch_105\">\n    <path d=\"M 646.958003 344.066558 \nL 735.421418 344.066558 \n\" style=\"fill: none; stroke: #000000; stroke-width: 0.8; stroke-linejoin: miter; stroke-linecap: square\"/>\n   </g>\n   <g id=\"patch_106\">\n    <path d=\"M 646.958003 255.603143 \nL 735.421418 255.603143 \n\" style=\"fill: none; stroke: #000000; stroke-width: 0.8; stroke-linejoin: miter; stroke-linecap: square\"/>\n   </g>\n   <g id=\"text_21\">\n    <!-- True 2, predicted 2 -->\n    <g transform=\"translate(644.136585 249.603143) scale(0.1 -0.1)\">\n     <use xlink:href=\"#DejaVuSans-54\"/>\n     <use xlink:href=\"#DejaVuSans-72\" x=\"46.333984\"/>\n     <use xlink:href=\"#DejaVuSans-75\" x=\"87.447266\"/>\n     <use xlink:href=\"#DejaVuSans-65\" x=\"150.826172\"/>\n     <use xlink:href=\"#DejaVuSans-20\" x=\"212.349609\"/>\n     <use xlink:href=\"#DejaVuSans-32\" x=\"244.136719\"/>\n     <use xlink:href=\"#DejaVuSans-2c\" x=\"307.759766\"/>\n     <use xlink:href=\"#DejaVuSans-20\" x=\"339.546875\"/>\n     <use xlink:href=\"#DejaVuSans-70\" x=\"371.333984\"/>\n     <use xlink:href=\"#DejaVuSans-72\" x=\"434.810547\"/>\n     <use xlink:href=\"#DejaVuSans-65\" x=\"473.673828\"/>\n     <use xlink:href=\"#DejaVuSans-64\" x=\"535.197266\"/>\n     <use xlink:href=\"#DejaVuSans-69\" x=\"598.673828\"/>\n     <use xlink:href=\"#DejaVuSans-63\" x=\"626.457031\"/>\n     <use xlink:href=\"#DejaVuSans-74\" x=\"681.4375\"/>\n     <use xlink:href=\"#DejaVuSans-65\" x=\"720.646484\"/>\n     <use xlink:href=\"#DejaVuSans-64\" x=\"782.169922\"/>\n     <use xlink:href=\"#DejaVuSans-20\" x=\"845.646484\"/>\n     <use xlink:href=\"#DejaVuSans-32\" x=\"877.433594\"/>\n    </g>\n   </g>\n  </g>\n </g>\n <defs>\n  <clipPath id=\"pf77d0c34bd\">\n   <rect x=\"10.021418\" y=\"20.798437\" width=\"88.463415\" height=\"88.463415\"/>\n  </clipPath>\n  <clipPath id=\"pce11429310\">\n   <rect x=\"116.177515\" y=\"20.798437\" width=\"88.463415\" height=\"88.463415\"/>\n  </clipPath>\n  <clipPath id=\"p57d89541d2\">\n   <rect x=\"222.333613\" y=\"20.798437\" width=\"88.463415\" height=\"88.463415\"/>\n  </clipPath>\n  <clipPath id=\"p4ec7ba2158\">\n   <rect x=\"328.48971\" y=\"20.798437\" width=\"88.463415\" height=\"88.463415\"/>\n  </clipPath>\n  <clipPath id=\"p64bd5fee48\">\n   <rect x=\"434.645808\" y=\"20.798437\" width=\"88.463415\" height=\"88.463415\"/>\n  </clipPath>\n  <clipPath id=\"pdc9149a1f8\">\n   <rect x=\"540.801905\" y=\"20.798437\" width=\"88.463415\" height=\"88.463415\"/>\n  </clipPath>\n  <clipPath id=\"p93e9b11ebc\">\n   <rect x=\"646.958003\" y=\"20.798437\" width=\"88.463415\" height=\"88.463415\"/>\n  </clipPath>\n  <clipPath id=\"pc1ed68ccd6\">\n   <rect x=\"10.021418\" y=\"138.20079\" width=\"88.463415\" height=\"88.463415\"/>\n  </clipPath>\n  <clipPath id=\"p20582bacb6\">\n   <rect x=\"116.177515\" y=\"138.20079\" width=\"88.463415\" height=\"88.463415\"/>\n  </clipPath>\n  <clipPath id=\"p2cd943fe8e\">\n   <rect x=\"222.333613\" y=\"138.20079\" width=\"88.463415\" height=\"88.463415\"/>\n  </clipPath>\n  <clipPath id=\"p1feaeb3f51\">\n   <rect x=\"328.48971\" y=\"138.20079\" width=\"88.463415\" height=\"88.463415\"/>\n  </clipPath>\n  <clipPath id=\"pb6f989649e\">\n   <rect x=\"434.645808\" y=\"138.20079\" width=\"88.463415\" height=\"88.463415\"/>\n  </clipPath>\n  <clipPath id=\"pd28840eb8b\">\n   <rect x=\"540.801905\" y=\"138.20079\" width=\"88.463415\" height=\"88.463415\"/>\n  </clipPath>\n  <clipPath id=\"pc28ddb004c\">\n   <rect x=\"646.958003\" y=\"138.20079\" width=\"88.463415\" height=\"88.463415\"/>\n  </clipPath>\n  <clipPath id=\"pa208a41c51\">\n   <rect x=\"10.021418\" y=\"255.603143\" width=\"88.463415\" height=\"88.463415\"/>\n  </clipPath>\n  <clipPath id=\"pa1aa7e6076\">\n   <rect x=\"116.177515\" y=\"255.603143\" width=\"88.463415\" height=\"88.463415\"/>\n  </clipPath>\n  <clipPath id=\"p33f0864819\">\n   <rect x=\"222.333613\" y=\"255.603143\" width=\"88.463415\" height=\"88.463415\"/>\n  </clipPath>\n  <clipPath id=\"p90dc32f0c0\">\n   <rect x=\"328.48971\" y=\"255.603143\" width=\"88.463415\" height=\"88.463415\"/>\n  </clipPath>\n  <clipPath id=\"p508e9300ca\">\n   <rect x=\"434.645808\" y=\"255.603143\" width=\"88.463415\" height=\"88.463415\"/>\n  </clipPath>\n  <clipPath id=\"p0f24ac62a1\">\n   <rect x=\"540.801905\" y=\"255.603143\" width=\"88.463415\" height=\"88.463415\"/>\n  </clipPath>\n  <clipPath id=\"pe851731b40\">\n   <rect x=\"646.958003\" y=\"255.603143\" width=\"88.463415\" height=\"88.463415\"/>\n  </clipPath>\n </defs>\n</svg>\n"
          },
          "metadata": {}
        }
      ],
      "source": [
        "fig,axs = plt.subplots(3,7,figsize=(13,6))\n",
        "\n",
        "for i,ax in enumerate(axs.flatten()):\n",
        "\n",
        "  # pick a random pic\n",
        "  whichpic = np.random.randint(num_test_samples)\n",
        "\n",
        "  # extract the image and its target letter\n",
        "  I = np.squeeze( test_inputs.numpy()[whichpic,:,:] )\n",
        "  trueLetter = test_targets.numpy()[whichpic]\n",
        "  predLetter = np.argmax(yHat[whichpic,:])\n",
        "\n",
        "  # color-code the accuracy (using ternary operator)\n",
        "  col = 'gray' if trueLetter==predLetter else 'hot'\n",
        "\n",
        "  # visualize\n",
        "  ax.imshow(I,cmap=col)\n",
        "  ax.set_title('True %s, predicted %s' %(trueLetter,predLetter),fontsize=10)\n",
        "  ax.set_xticks([])\n",
        "  ax.set_yticks([])\n",
        "\n",
        "plt.show()"
      ]
    }
  ],
  "metadata": {
    "colab": {
      "provenance": []
    },
    "kernelspec": {
      "display_name": "Python 3",
      "name": "python3"
    },
    "language_info": {
      "name": "python"
    },
    "widgets": {
      "application/vnd.jupyter.widget-state+json": {
        "0de357e37dac4edcaebd6eb0feda354e": {
          "model_module": "@jupyter-widgets/controls",
          "model_name": "HBoxModel",
          "model_module_version": "1.5.0",
          "state": {
            "_dom_classes": [],
            "_model_module": "@jupyter-widgets/controls",
            "_model_module_version": "1.5.0",
            "_model_name": "HBoxModel",
            "_view_count": null,
            "_view_module": "@jupyter-widgets/controls",
            "_view_module_version": "1.5.0",
            "_view_name": "HBoxView",
            "box_style": "",
            "children": [
              "IPY_MODEL_5ca9d32409c043e7b20c60e5c5411fea",
              "IPY_MODEL_a2edb30edce84dcd905d3230e3af3171",
              "IPY_MODEL_6d3335c9e0bd40ddb2775ad1d20ef8de"
            ],
            "layout": "IPY_MODEL_cac722b188034d25a98e56f8b052e1c0"
          }
        },
        "5ca9d32409c043e7b20c60e5c5411fea": {
          "model_module": "@jupyter-widgets/controls",
          "model_name": "HTMLModel",
          "model_module_version": "1.5.0",
          "state": {
            "_dom_classes": [],
            "_model_module": "@jupyter-widgets/controls",
            "_model_module_version": "1.5.0",
            "_model_name": "HTMLModel",
            "_view_count": null,
            "_view_module": "@jupyter-widgets/controls",
            "_view_module_version": "1.5.0",
            "_view_name": "HTMLView",
            "description": "",
            "description_tooltip": null,
            "layout": "IPY_MODEL_c24536014b4f4745a3fa40b068fcba23",
            "placeholder": "​",
            "style": "IPY_MODEL_db523fc7da7a46408d7933e6fa0d3fcc",
            "value": "Dl Completed...: 100%"
          }
        },
        "a2edb30edce84dcd905d3230e3af3171": {
          "model_module": "@jupyter-widgets/controls",
          "model_name": "FloatProgressModel",
          "model_module_version": "1.5.0",
          "state": {
            "_dom_classes": [],
            "_model_module": "@jupyter-widgets/controls",
            "_model_module_version": "1.5.0",
            "_model_name": "FloatProgressModel",
            "_view_count": null,
            "_view_module": "@jupyter-widgets/controls",
            "_view_module_version": "1.5.0",
            "_view_name": "ProgressView",
            "bar_style": "success",
            "description": "",
            "description_tooltip": null,
            "layout": "IPY_MODEL_41db21e0ef964fe1ad21c896ea754966",
            "max": 5,
            "min": 0,
            "orientation": "horizontal",
            "style": "IPY_MODEL_cc7d55ff9401482393693880336726bf",
            "value": 5
          }
        },
        "6d3335c9e0bd40ddb2775ad1d20ef8de": {
          "model_module": "@jupyter-widgets/controls",
          "model_name": "HTMLModel",
          "model_module_version": "1.5.0",
          "state": {
            "_dom_classes": [],
            "_model_module": "@jupyter-widgets/controls",
            "_model_module_version": "1.5.0",
            "_model_name": "HTMLModel",
            "_view_count": null,
            "_view_module": "@jupyter-widgets/controls",
            "_view_module_version": "1.5.0",
            "_view_name": "HTMLView",
            "description": "",
            "description_tooltip": null,
            "layout": "IPY_MODEL_ef5e613104924911bcd971b51ed58223",
            "placeholder": "​",
            "style": "IPY_MODEL_df11bff3046f45b0b21699eae879c5bf",
            "value": " 5/5 [00:00&lt;00:00,  8.03 file/s]"
          }
        },
        "cac722b188034d25a98e56f8b052e1c0": {
          "model_module": "@jupyter-widgets/base",
          "model_name": "LayoutModel",
          "model_module_version": "1.2.0",
          "state": {
            "_model_module": "@jupyter-widgets/base",
            "_model_module_version": "1.2.0",
            "_model_name": "LayoutModel",
            "_view_count": null,
            "_view_module": "@jupyter-widgets/base",
            "_view_module_version": "1.2.0",
            "_view_name": "LayoutView",
            "align_content": null,
            "align_items": null,
            "align_self": null,
            "border": null,
            "bottom": null,
            "display": null,
            "flex": null,
            "flex_flow": null,
            "grid_area": null,
            "grid_auto_columns": null,
            "grid_auto_flow": null,
            "grid_auto_rows": null,
            "grid_column": null,
            "grid_gap": null,
            "grid_row": null,
            "grid_template_areas": null,
            "grid_template_columns": null,
            "grid_template_rows": null,
            "height": null,
            "justify_content": null,
            "justify_items": null,
            "left": null,
            "margin": null,
            "max_height": null,
            "max_width": null,
            "min_height": null,
            "min_width": null,
            "object_fit": null,
            "object_position": null,
            "order": null,
            "overflow": null,
            "overflow_x": null,
            "overflow_y": null,
            "padding": null,
            "right": null,
            "top": null,
            "visibility": null,
            "width": null
          }
        },
        "c24536014b4f4745a3fa40b068fcba23": {
          "model_module": "@jupyter-widgets/base",
          "model_name": "LayoutModel",
          "model_module_version": "1.2.0",
          "state": {
            "_model_module": "@jupyter-widgets/base",
            "_model_module_version": "1.2.0",
            "_model_name": "LayoutModel",
            "_view_count": null,
            "_view_module": "@jupyter-widgets/base",
            "_view_module_version": "1.2.0",
            "_view_name": "LayoutView",
            "align_content": null,
            "align_items": null,
            "align_self": null,
            "border": null,
            "bottom": null,
            "display": null,
            "flex": null,
            "flex_flow": null,
            "grid_area": null,
            "grid_auto_columns": null,
            "grid_auto_flow": null,
            "grid_auto_rows": null,
            "grid_column": null,
            "grid_gap": null,
            "grid_row": null,
            "grid_template_areas": null,
            "grid_template_columns": null,
            "grid_template_rows": null,
            "height": null,
            "justify_content": null,
            "justify_items": null,
            "left": null,
            "margin": null,
            "max_height": null,
            "max_width": null,
            "min_height": null,
            "min_width": null,
            "object_fit": null,
            "object_position": null,
            "order": null,
            "overflow": null,
            "overflow_x": null,
            "overflow_y": null,
            "padding": null,
            "right": null,
            "top": null,
            "visibility": null,
            "width": null
          }
        },
        "db523fc7da7a46408d7933e6fa0d3fcc": {
          "model_module": "@jupyter-widgets/controls",
          "model_name": "DescriptionStyleModel",
          "model_module_version": "1.5.0",
          "state": {
            "_model_module": "@jupyter-widgets/controls",
            "_model_module_version": "1.5.0",
            "_model_name": "DescriptionStyleModel",
            "_view_count": null,
            "_view_module": "@jupyter-widgets/base",
            "_view_module_version": "1.2.0",
            "_view_name": "StyleView",
            "description_width": ""
          }
        },
        "41db21e0ef964fe1ad21c896ea754966": {
          "model_module": "@jupyter-widgets/base",
          "model_name": "LayoutModel",
          "model_module_version": "1.2.0",
          "state": {
            "_model_module": "@jupyter-widgets/base",
            "_model_module_version": "1.2.0",
            "_model_name": "LayoutModel",
            "_view_count": null,
            "_view_module": "@jupyter-widgets/base",
            "_view_module_version": "1.2.0",
            "_view_name": "LayoutView",
            "align_content": null,
            "align_items": null,
            "align_self": null,
            "border": null,
            "bottom": null,
            "display": null,
            "flex": null,
            "flex_flow": null,
            "grid_area": null,
            "grid_auto_columns": null,
            "grid_auto_flow": null,
            "grid_auto_rows": null,
            "grid_column": null,
            "grid_gap": null,
            "grid_row": null,
            "grid_template_areas": null,
            "grid_template_columns": null,
            "grid_template_rows": null,
            "height": null,
            "justify_content": null,
            "justify_items": null,
            "left": null,
            "margin": null,
            "max_height": null,
            "max_width": null,
            "min_height": null,
            "min_width": null,
            "object_fit": null,
            "object_position": null,
            "order": null,
            "overflow": null,
            "overflow_x": null,
            "overflow_y": null,
            "padding": null,
            "right": null,
            "top": null,
            "visibility": null,
            "width": null
          }
        },
        "cc7d55ff9401482393693880336726bf": {
          "model_module": "@jupyter-widgets/controls",
          "model_name": "ProgressStyleModel",
          "model_module_version": "1.5.0",
          "state": {
            "_model_module": "@jupyter-widgets/controls",
            "_model_module_version": "1.5.0",
            "_model_name": "ProgressStyleModel",
            "_view_count": null,
            "_view_module": "@jupyter-widgets/base",
            "_view_module_version": "1.2.0",
            "_view_name": "StyleView",
            "bar_color": null,
            "description_width": ""
          }
        },
        "ef5e613104924911bcd971b51ed58223": {
          "model_module": "@jupyter-widgets/base",
          "model_name": "LayoutModel",
          "model_module_version": "1.2.0",
          "state": {
            "_model_module": "@jupyter-widgets/base",
            "_model_module_version": "1.2.0",
            "_model_name": "LayoutModel",
            "_view_count": null,
            "_view_module": "@jupyter-widgets/base",
            "_view_module_version": "1.2.0",
            "_view_name": "LayoutView",
            "align_content": null,
            "align_items": null,
            "align_self": null,
            "border": null,
            "bottom": null,
            "display": null,
            "flex": null,
            "flex_flow": null,
            "grid_area": null,
            "grid_auto_columns": null,
            "grid_auto_flow": null,
            "grid_auto_rows": null,
            "grid_column": null,
            "grid_gap": null,
            "grid_row": null,
            "grid_template_areas": null,
            "grid_template_columns": null,
            "grid_template_rows": null,
            "height": null,
            "justify_content": null,
            "justify_items": null,
            "left": null,
            "margin": null,
            "max_height": null,
            "max_width": null,
            "min_height": null,
            "min_width": null,
            "object_fit": null,
            "object_position": null,
            "order": null,
            "overflow": null,
            "overflow_x": null,
            "overflow_y": null,
            "padding": null,
            "right": null,
            "top": null,
            "visibility": null,
            "width": null
          }
        },
        "df11bff3046f45b0b21699eae879c5bf": {
          "model_module": "@jupyter-widgets/controls",
          "model_name": "DescriptionStyleModel",
          "model_module_version": "1.5.0",
          "state": {
            "_model_module": "@jupyter-widgets/controls",
            "_model_module_version": "1.5.0",
            "_model_name": "DescriptionStyleModel",
            "_view_count": null,
            "_view_module": "@jupyter-widgets/base",
            "_view_module_version": "1.2.0",
            "_view_name": "StyleView",
            "description_width": ""
          }
        }
      }
    }
  },
  "nbformat": 4,
  "nbformat_minor": 0
}